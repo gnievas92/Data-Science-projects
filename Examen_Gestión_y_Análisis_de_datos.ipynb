{
  "nbformat": 4,
  "nbformat_minor": 0,
  "metadata": {
    "colab": {
      "name": "Examen Diplomatura de Ciencias de Datos (Gestión y Análisis de datos) - OPCIÓN 1. GRUPO 6.ipynb",
      "provenance": [],
      "collapsed_sections": [
        "2WbNWZN_JVNc",
        "uuT8u8x_0g_A",
        "VyZ8M50Y0lXX",
        "WVzYMvtUMO41",
        "v1j9kYNmFcnM",
        "An6Wg44cIIKk",
        "FUU_FXHUXT7b",
        "36mjhWpCcEKI",
        "VFKMy5tZlJ-J",
        "vLqHpCWBpWuN",
        "LTqd14y8sCk1",
        "roZiNpnZF7Rf",
        "QuIq4Ro8MRk9",
        "L-8tMb0TNtpz",
        "_fFhKvYCIx2X",
        "ZiCPsU17SKcL",
        "tQZomdRwYx2U",
        "1xlwrUiwdE7v",
        "irbqaDCkdNy2",
        "ya4fEeH1gxgc",
        "e58Ab4CpI4Qg",
        "oZ36qsBF0nrR",
        "s7X4HTc15bjb",
        "fRw9rh58RoQw",
        "7P_PqFRKauZL",
        "G_piCB_Q4GMy",
        "RX8CYbs9qMmC",
        "z9C0cLCP9_eR",
        "BWN2hnj5NLtT",
        "3Gt8wvQn3Fdc",
        "X8d8MNCKZiE3",
        "SSwyaDGta6Me",
        "3flvQ3-7dKz9",
        "_lMbCDbGdODl",
        "JjMSizSqjF0C",
        "IYhq_Kbifjb9",
        "VyvXPGY3fzZI",
        "-TM6DMa3dRHB",
        "XVQiQbm5dgjW",
        "UxV6Ue-yn5-c",
        "rFYw7lQMdjIe",
        "BFIxqDoSdmC5"
      ]
    },
    "kernelspec": {
      "name": "python3",
      "display_name": "Python 3"
    },
    "language_info": {
      "name": "python"
    }
  },
  "cells": [
    {
      "cell_type": "markdown",
      "metadata": {
        "id": "t1-lqp33zePD"
      },
      "source": [
        "# **Examen Diplomatura de Ciencias de Datos (Gestión y Análisis de datos) - OPCIÓN 1. GRUPO 6**\n",
        "\n",
        "**Contenido:** \n",
        "\n",
        "* Presentación\n",
        "* Carga de datos \n",
        "* Limpieza de datos: \n",
        "  * Interpretación\n",
        "  * Limpieza\n",
        "* Transformación de datos\n",
        "* Análisis y visualizaciones\n",
        "* Conclusiones \n",
        "* Carga de datos\n"
      ]
    },
    {
      "cell_type": "markdown",
      "metadata": {
        "id": "3gnKa7ounavz"
      },
      "source": [
        "## Datos del Grupo (Ingrese los datos de los miembros del grupo)\n",
        "\n",
        "Nombre y Apellido | LU\n",
        "------------------|---\n",
        "Guillermo Manuel Nievas | 1141134\n",
        "Augusto Saporiti | 1113746\n",
        "Julian Bautista Gonzalez | 1127115\n",
        "Santiago Zaratiegui | 1139917\n"
      ]
    },
    {
      "cell_type": "markdown",
      "metadata": {
        "id": "2WbNWZN_JVNc"
      },
      "source": [
        "## **PRESENTACIÓN**\n",
        "\n",
        "Presentamos el proyecto, la metodología, el contexto y los objetivos. "
      ]
    },
    {
      "cell_type": "markdown",
      "metadata": {
        "id": "2blZ-3DXAgMr"
      },
      "source": [
        "* **Análisis Exploratorio de Datos**\n",
        "\n",
        "A continuación, se realizarán las tareas de carga, limpieza, transformación, análisis y visualización de dos datasets: **listado y reviews**.\n",
        "\n",
        "* **Fuente de los datos**\n",
        "\n",
        "Los datasets fueron proporcionados por el equipo docente de la Diplomatura en Ciencia de Datos de UADE y se extraerán directamente del repositorio de Github de la cursada. \n",
        "\n",
        "* **Contenido**\n",
        "\n",
        "Ambos datasets, extraídos en formato csv, contienen datos del sitio web de Airbnb. Ambos cubren toda la información de listados y reseñas para las publicaciones en las Islas Baleares, España.  \n",
        "\n",
        "\n",
        "* **Qué es Airbnb?** \n",
        "\n",
        "Airbnb es un mercado comunitario que sirve para publicar, dar publicidad y reservar alojamiento de forma económica en más de 190 países a través de internet. Es uno de los sistemas mas exitosos de intercambio de servicios de alojamiento entre particulares a través de plataformas digitales. \n",
        "\n",
        "\n",
        "* **Objetivo**\n",
        "El objetivo del siguiente trabajo será realizar el análisis exploratorio de los datos de ambos datasets, a la vez que se plasma el desarrollo, segmento por segmento y de la forma más clara y concisa posible.\n",
        "Esto lo haremos: \n",
        "  * **Desde el punto de vista técnico y práctico:** Utilizando todas las herramientas, conocimientos y librerías de explotación adquiridos hasta el momento en la diplomatura.\n",
        "\n",
        "  * **Desde el punto de vista expositivo:** Complementando las celdas de código con celdas de texto y comentarios a lo largo  todo el proceso, además de realizar la adecuada división en segmentos del notebook, para mejor seguimiento. \n",
        "\n",
        "\n",
        "* **Notas**\n",
        "\n",
        "1. **Sobre la utilización del método .unique():**  Durante la instancia de limpieza y transformación, se utilizó el método .unique() para adentrarnos en detalle en el contenido de cada columna y tener en cuenta **cómo afecta el data input** **manual** **de los usuarios en la calidad de los datos y su posible agrupación.** El output de dicha función no fue incluído en el desarrollo de las instancias mencionadas, en cambio, el método .head() representa ese paso. Esto es así por dos principales motivos: \n",
        "\n",
        "  1. El DataFrame listado contiene, inicialmente, 98 columnas.  \n",
        "  2. El método .head() muestra el DataFrame de forma muchísimo más prolija que si intentásemos mostrar columna por columna el output del método .unique(), que puede llegar a devolver un array de hasta 3 mil valores, el cual obstruiría la fluidez en la explicación.\n",
        "\n",
        "  Con lo cual, cada vez que se utilice el método .head() y/o **se realice una afirmación sobre el contenido de una columna**, la misma está fundamentada sobre una revisión en detalle de la columna con el método unique(). "
      ]
    },
    {
      "cell_type": "markdown",
      "metadata": {
        "id": "uuT8u8x_0g_A"
      },
      "source": [
        "## **CARGA DE DATOS**\n",
        "\n",
        "Extraemos los datos e importamos las librerías a utilizar."
      ]
    },
    {
      "cell_type": "code",
      "metadata": {
        "colab": {
          "base_uri": "https://localhost:8080/",
          "height": 17
        },
        "id": "vK6ngQf7zYBy",
        "outputId": "a9cacda2-dabe-4377-f47c-2ab8f3e3d4c0"
      },
      "source": [
        "import pandas as pd\n",
        "import numpy as np\n",
        "from datetime import datetime\n",
        "%matplotlib inline\n",
        "from datetime import datetime\n",
        "from datetime import timedelta\n",
        "import matplotlib.pyplot as plt\n",
        "import plotly.express as px\n",
        "import cufflinks as cf\n",
        "import seaborn as sns\n",
        "import sys\n",
        "cf.go_offline()\n",
        "cf.set_config_file(offline=False, world_readable=True)"
      ],
      "execution_count": 1,
      "outputs": [
        {
          "output_type": "display_data",
          "data": {
            "text/html": [
              "        <script type=\"text/javascript\">\n",
              "        window.PlotlyConfig = {MathJaxConfig: 'local'};\n",
              "        if (window.MathJax) {MathJax.Hub.Config({SVG: {font: \"STIX-Web\"}});}\n",
              "        if (typeof require !== 'undefined') {\n",
              "        require.undef(\"plotly\");\n",
              "        requirejs.config({\n",
              "            paths: {\n",
              "                'plotly': ['https://cdn.plot.ly/plotly-2.2.0.min']\n",
              "            }\n",
              "        });\n",
              "        require(['plotly'], function(Plotly) {\n",
              "            window._Plotly = Plotly;\n",
              "        });\n",
              "        }\n",
              "        </script>\n",
              "        "
            ]
          },
          "metadata": {
            "tags": []
          }
        }
      ]
    },
    {
      "cell_type": "markdown",
      "metadata": {
        "id": "jtlwDXf-Lw3j"
      },
      "source": [
        "* listado: DataFrame que contiene la información detallada de los listados en Islas Baleares. \n",
        "* reviews: DataFrame que contiene la información detallada de las reseñas en Islas Baleares."
      ]
    },
    {
      "cell_type": "code",
      "metadata": {
        "colab": {
          "base_uri": "https://localhost:8080/"
        },
        "id": "sdO_xUS5DUfD",
        "outputId": "1688cdb5-c909-4d90-ec70-626afb2e8025"
      },
      "source": [
        "listado = pd.read_csv('https://raw.githubusercontent.com/al34n1x/DataScience/master/100.Examen/2021/examen_listado.csv', delimiter = ',')\n",
        "reviews = pd.read_csv('https://raw.githubusercontent.com/al34n1x/DataScience/master/100.Examen/2021/examen_reviews.csv', delimiter = ',')\n"
      ],
      "execution_count": 2,
      "outputs": [
        {
          "output_type": "stream",
          "text": [
            "/usr/local/lib/python3.7/dist-packages/IPython/core/interactiveshell.py:2718: DtypeWarning:\n",
            "\n",
            "Columns (0,13,21,24,25,32,35,40,53,54,59,70,71,72,74) have mixed types.Specify dtype option on import or set low_memory=False.\n",
            "\n"
          ],
          "name": "stderr"
        }
      ]
    },
    {
      "cell_type": "markdown",
      "metadata": {
        "id": "VyZ8M50Y0lXX"
      },
      "source": [
        "## **LIMPIEZA DE DATOS**\n",
        "\n",
        "Para el primer paso del proyecto, realizaremos la limpieza de los datos. Se trabajará en 2 segmentos:\n",
        "\n",
        "* **Interpretación y descarte.**  \n",
        "* **Limpieza.**"
      ]
    },
    {
      "cell_type": "markdown",
      "metadata": {
        "id": "WVzYMvtUMO41"
      },
      "source": [
        "### INTERPRETACIÓN\n",
        "\n",
        "Empezamos familiarizándonos con las columnas en los dataset, para entender qué representa cada valor. Esto nos ayudará a evitar caer en un análisis pobre de los datos una vez lleguemos a esa instancia. \n"
      ]
    },
    {
      "cell_type": "markdown",
      "metadata": {
        "id": "v1j9kYNmFcnM"
      },
      "source": [
        "#### **Explicación del paso**\n"
      ]
    },
    {
      "cell_type": "markdown",
      "metadata": {
        "id": "Xh1myTGsTnlZ"
      },
      "source": [
        "El dataframe listado contiene 98 columnas y 16774 entries. "
      ]
    },
    {
      "cell_type": "code",
      "metadata": {
        "colab": {
          "base_uri": "https://localhost:8080/"
        },
        "id": "dvLR11fiTXSQ",
        "outputId": "1eeb0992-4832-4c5f-fa03-9190ce33d083"
      },
      "source": [
        "listado.shape"
      ],
      "execution_count": 3,
      "outputs": [
        {
          "output_type": "execute_result",
          "data": {
            "text/plain": [
              "(16774, 98)"
            ]
          },
          "metadata": {
            "tags": []
          },
          "execution_count": 3
        }
      ]
    },
    {
      "cell_type": "markdown",
      "metadata": {
        "id": "LhjF7zceTzZ4"
      },
      "source": [
        "Si revisamos los nombres de las 98 columnas, podemos deducir ciertos subsets de columnas para poder hacer el desarrollo de este paso lo más claro y ameno posible. "
      ]
    },
    {
      "cell_type": "code",
      "metadata": {
        "colab": {
          "base_uri": "https://localhost:8080/"
        },
        "id": "IGRcOdN7T7Mr",
        "outputId": "e9c2a088-4b11-4820-ae48-8293d6060046"
      },
      "source": [
        "listado.columns"
      ],
      "execution_count": 4,
      "outputs": [
        {
          "output_type": "execute_result",
          "data": {
            "text/plain": [
              "Index(['id', 'name', 'summary', 'space', 'description', 'experiences_offered',\n",
              "       'neighborhood_overview', 'notes', 'transit', 'access', 'interaction',\n",
              "       'house_rules', 'thumbnail_url', 'medium_url', 'host_id', 'host_name',\n",
              "       'host_since', 'host_location', 'host_about', 'host_response_time',\n",
              "       'host_response_rate', 'host_acceptance_rate', 'host_is_superhost',\n",
              "       'host_neighbourhood', 'host_listings_count',\n",
              "       'host_total_listings_count', 'host_verifications',\n",
              "       'host_has_profile_pic', 'host_identity_verified', 'street',\n",
              "       'neighbourhood', 'neighbourhood_cleansed',\n",
              "       'neighbourhood_group_cleansed', 'city', 'state', 'zipcode', 'market',\n",
              "       'smart_location', 'country_code', 'country', 'latitude', 'longitude',\n",
              "       'is_location_exact', 'property_type', 'room_type', 'accommodates',\n",
              "       'bathrooms', 'bedrooms', 'beds', 'bed_type', 'amenities', 'square_feet',\n",
              "       'price', 'weekly_price', 'monthly_price', 'security_deposit',\n",
              "       'cleaning_fee', 'guests_included', 'extra_people', 'minimum_nights',\n",
              "       'maximum_nights', 'minimum_minimum_nights', 'maximum_minimum_nights',\n",
              "       'minimum_maximum_nights', 'maximum_maximum_nights',\n",
              "       'minimum_nights_avg_ntm', 'maximum_nights_avg_ntm', 'calendar_updated',\n",
              "       'has_availability', 'availability_30', 'availability_60',\n",
              "       'availability_90', 'availability_365', 'calendar_last_scraped',\n",
              "       'number_of_reviews', 'number_of_reviews_ltm', 'first_review',\n",
              "       'last_review', 'review_scores_rating', 'review_scores_accuracy',\n",
              "       'review_scores_cleanliness', 'review_scores_checkin',\n",
              "       'review_scores_communication', 'review_scores_location',\n",
              "       'review_scores_value', 'requires_license', 'license',\n",
              "       'jurisdiction_names', 'instant_bookable', 'is_business_travel_ready',\n",
              "       'cancellation_policy', 'require_guest_profile_picture',\n",
              "       'require_guest_phone_verification', 'calculated_host_listings_count',\n",
              "       'calculated_host_listings_count_entire_homes',\n",
              "       'calculated_host_listings_count_private_rooms',\n",
              "       'calculated_host_listings_count_shared_rooms', 'reviews_per_month'],\n",
              "      dtype='object')"
            ]
          },
          "metadata": {
            "tags": []
          },
          "execution_count": 4
        }
      ]
    },
    {
      "cell_type": "markdown",
      "metadata": {
        "id": "oHIrLsf3UTHz"
      },
      "source": [
        "Así, podemos dividir las columnas en: \n",
        "\n",
        "*NOTA: Las columnas resaltadas están a manera de representativas para que se entienda mejor en la exposición el contenido de cada subset.*\n",
        "\n",
        "* **Información básica de la publicación (14 columnas):** \n",
        "'id', **'name'**, 'summary', 'space', **'description'**, 'experiences_offered', 'neighborhood_overview', 'notes', 'transit', 'access', 'interaction', **'house_rules'**,   'thumbnail_url', 'medium_url'\n",
        "\n",
        "* **Información del host (15 columnas):** 'host_id', **'host_name'**, 'host_since', 'host_location', **'host_about'**, 'host_response_time', 'host_response_rate', 'host_acceptance_rate', **'host_is_superhost'**, 'host_neighbourhood', 'host_listings_count', 'host_total_listings_count', 'host_verifications', 'host_has_profile_pic', 'host_identity_verified'\n",
        "\n",
        "* **Información geográfica de la publicación (14 columnas):** 'street', 'neighbourhood', **'neighbourhood_cleansed'**, 'neighbourhood_group_cleansed', 'city', 'state', **'zipcode'**,  'market', 'smart_location', 'country_code', 'country', **'latitude'**, **'longitude'**, 'is_location_exact'\n",
        "\n",
        "* **Información de la propiedad y el alquiler (31 columnas):** 'property_type', 'room_type', 'accommodates', **'bathrooms'**, 'bedrooms', **'beds'**, 'bed_type', 'amenities', 'square_feet', 'price', 'weekly_price', 'monthly_price', 'security_deposit', 'cleaning_fee', **'guests_included'**, 'extra_people', **'minimum_nights'**, 'maximum_nights', 'minimum_minimum_nights', 'maximum_minimum_nights', 'minimum_maximum_nights', 'maximum_maximum_nights', 'minimum_nights_avg_ntm', 'maximum_nights_avg_ntm', 'calendar_updated', 'has_availability', 'availability_30', 'availability_60', 'availability_90', 'availability_365', 'calendar_last_scraped'\n",
        "\n",
        "* **Información Reviews (11 columnas):** **'number_of_reviews'**, 'number_of_reviews_ltm', 'first_review', 'last_review', 'review_scores_rating', 'review_scores_accuracy', 'review_scores_cleanliness', 'review_scores_checkin', **'review_scores_communication'**, **'review_scores_location'**, 'review_scores_value'\n",
        "\n",
        "* **Otros (13 columnas):** 'requires_license', **'license'**, 'jurisdiction_names', 'instant_bookable', 'is_business_travel_ready', 'cancellation_policy', **'require_guest_profile_picture'**, 'require_guest_phone_verification', 'calculated_host_listings_count', 'calculated_host_listings_count_entire_homes', 'calculated_host_listings_count_private_rooms', 'calculated_host_listings_count_shared_rooms', 'reviews_per_month'"
      ]
    },
    {
      "cell_type": "markdown",
      "metadata": {
        "id": "05SIKtDvCxrU"
      },
      "source": [
        "Para cada subset, realizaremos: \n",
        "\n",
        "* **Una revisión general del contenido de cada columna:** \n",
        "  * ¿Qué tipo de variables contienen? \n",
        "  * ¿Qué preguntas se podrían llegar a responder con la información de esa columna? \n",
        "  * ¿La información que aporta la columna es única dentro del subset o incluso del dataframe? ¿O está contenida en otras columnas?\n",
        "\n",
        "* **Un relevamiento de la presencia de NaN's en las columnas:**\n",
        "  * ¿Qué porcentaje de NaN's presenta la columna?\n",
        "  * Dado el porcentaje de NaN's reportado: ¿Hay que eliminar la columna?"
      ]
    },
    {
      "cell_type": "markdown",
      "metadata": {
        "id": "An6Wg44cIIKk"
      },
      "source": [
        "#### **Implementación**"
      ]
    },
    {
      "cell_type": "markdown",
      "metadata": {
        "id": "FUU_FXHUXT7b"
      },
      "source": [
        "###### **Información básica de la publicación**\n",
        "\n",
        "* Revisión general.\n",
        "* Relevamiento de NaN's por columna. "
      ]
    },
    {
      "cell_type": "markdown",
      "metadata": {
        "id": "Umw-4MqDE2v0"
      },
      "source": [
        "Creamos el subset para la revisión general. "
      ]
    },
    {
      "cell_type": "code",
      "metadata": {
        "colab": {
          "base_uri": "https://localhost:8080/",
          "height": 0
        },
        "id": "2O2Q-wgXXYTJ",
        "outputId": "6bf5f599-4d8d-4afa-e398-2f63f4f2d51a"
      },
      "source": [
        "listado_info_basica = pd.DataFrame(listado[['id', 'name', 'summary', 'space', 'description', 'experiences_offered',\n",
        "                                            'neighborhood_overview', 'notes', 'transit', 'access', 'interaction',\n",
        "                                            'house_rules', 'thumbnail_url', 'medium_url']])\n",
        "listado_info_basica.head()"
      ],
      "execution_count": 5,
      "outputs": [
        {
          "output_type": "execute_result",
          "data": {
            "text/html": [
              "<div>\n",
              "<style scoped>\n",
              "    .dataframe tbody tr th:only-of-type {\n",
              "        vertical-align: middle;\n",
              "    }\n",
              "\n",
              "    .dataframe tbody tr th {\n",
              "        vertical-align: top;\n",
              "    }\n",
              "\n",
              "    .dataframe thead th {\n",
              "        text-align: right;\n",
              "    }\n",
              "</style>\n",
              "<table border=\"1\" class=\"dataframe\">\n",
              "  <thead>\n",
              "    <tr style=\"text-align: right;\">\n",
              "      <th></th>\n",
              "      <th>id</th>\n",
              "      <th>name</th>\n",
              "      <th>summary</th>\n",
              "      <th>space</th>\n",
              "      <th>description</th>\n",
              "      <th>experiences_offered</th>\n",
              "      <th>neighborhood_overview</th>\n",
              "      <th>notes</th>\n",
              "      <th>transit</th>\n",
              "      <th>access</th>\n",
              "      <th>interaction</th>\n",
              "      <th>house_rules</th>\n",
              "      <th>thumbnail_url</th>\n",
              "      <th>medium_url</th>\n",
              "    </tr>\n",
              "  </thead>\n",
              "  <tbody>\n",
              "    <tr>\n",
              "      <th>0</th>\n",
              "      <td>100831</td>\n",
              "      <td>HOUSE IN MALLORCA - WiFi(ET-3045)</td>\n",
              "      <td>NaN</td>\n",
              "      <td>House situated in a quiet area of Ca'n Picafor...</td>\n",
              "      <td>House situated in a quiet area of Ca'n Picafor...</td>\n",
              "      <td>none</td>\n",
              "      <td>NaN</td>\n",
              "      <td>NaN</td>\n",
              "      <td>NaN</td>\n",
              "      <td>NaN</td>\n",
              "      <td>NaN</td>\n",
              "      <td>Que disfruten su estancia en nuestra casa.</td>\n",
              "      <td>NaN</td>\n",
              "      <td>NaN</td>\n",
              "    </tr>\n",
              "    <tr>\n",
              "      <th>1</th>\n",
              "      <td>105891</td>\n",
              "      <td>VILLAGE HOUSE WITH POOL: IDEAL FOR FAMILIES</td>\n",
              "      <td>The house is a street on the outskirts of the ...</td>\n",
              "      <td>House, ground floor, situated in a small town ...</td>\n",
              "      <td>The house is a street on the outskirts of the ...</td>\n",
              "      <td>none</td>\n",
              "      <td>The village's population does not reach two th...</td>\n",
              "      <td>On arrival at the house, the owner will inform...</td>\n",
              "      <td>It is advisable to rent a car when you arrive ...</td>\n",
              "      <td>It is a ground floor house with porch, terrace...</td>\n",
              "      <td>I usually go once every four days for the main...</td>\n",
              "      <td>I hope to correct behavior of my guests with n...</td>\n",
              "      <td>NaN</td>\n",
              "      <td>NaN</td>\n",
              "    </tr>\n",
              "    <tr>\n",
              "      <th>2</th>\n",
              "      <td>106833</td>\n",
              "      <td>Villa with a big pool in Mallorca</td>\n",
              "      <td>NaN</td>\n",
              "      <td>This is a restored old building situated in th...</td>\n",
              "      <td>This is a restored old building situated in th...</td>\n",
              "      <td>none</td>\n",
              "      <td>NaN</td>\n",
              "      <td>NaN</td>\n",
              "      <td>NaN</td>\n",
              "      <td>NaN</td>\n",
              "      <td>NaN</td>\n",
              "      <td>NaN</td>\n",
              "      <td>NaN</td>\n",
              "      <td>NaN</td>\n",
              "    </tr>\n",
              "    <tr>\n",
              "      <th>3</th>\n",
              "      <td>130669</td>\n",
              "      <td>Room great apartment</td>\n",
              "      <td>Located in a residential neighbourhood and 10m...</td>\n",
              "      <td>Located in a beautiful area of palma, (Bonanov...</td>\n",
              "      <td>Located in a residential neighbourhood and 10m...</td>\n",
              "      <td>none</td>\n",
              "      <td>Located in the center of the city, within minu...</td>\n",
              "      <td>Summer is here, fun, fun and more fun, what el...</td>\n",
              "      <td>Bus stop out the building, free parking on street</td>\n",
              "      <td>NaN</td>\n",
              "      <td>Great place near plaza Espana, bars, cafes</td>\n",
              "      <td>Respect on property and neighbours</td>\n",
              "      <td>NaN</td>\n",
              "      <td>NaN</td>\n",
              "    </tr>\n",
              "    <tr>\n",
              "      <th>4</th>\n",
              "      <td>158925</td>\n",
              "      <td>Casa M, a must in Majorca south</td>\n",
              "      <td>Pouvez-vous lire le résumé publié avec la prem...</td>\n",
              "      <td>Two independant bedrooms with bathrooms en sui...</td>\n",
              "      <td>Pouvez-vous lire le résumé publié avec la prem...</td>\n",
              "      <td>none</td>\n",
              "      <td>Tout. L'isolement de la maison d'abord, un oas...</td>\n",
              "      <td>Sans doute mais au fil de la demande. He suis ...</td>\n",
              "      <td>Il faut louer une voiture à Son Sant Juan ( aé...</td>\n",
              "      <td>À leur chambre indépendante avec salle-de-bain...</td>\n",
              "      <td>Bien entendu! J 'essaie toujours de leur faire...</td>\n",
              "      <td>Cada uno puede llevar su vida de forma indepen...</td>\n",
              "      <td>NaN</td>\n",
              "      <td>NaN</td>\n",
              "    </tr>\n",
              "  </tbody>\n",
              "</table>\n",
              "</div>"
            ],
            "text/plain": [
              "       id  ... medium_url\n",
              "0  100831  ...        NaN\n",
              "1  105891  ...        NaN\n",
              "2  106833  ...        NaN\n",
              "3  130669  ...        NaN\n",
              "4  158925  ...        NaN\n",
              "\n",
              "[5 rows x 14 columns]"
            ]
          },
          "metadata": {
            "tags": []
          },
          "execution_count": 5
        }
      ]
    },
    {
      "cell_type": "markdown",
      "metadata": {
        "id": "e4TvGtz5E9EO"
      },
      "source": [
        "Generamos la tabla de porcentaje de NaN. "
      ]
    },
    {
      "cell_type": "code",
      "metadata": {
        "colab": {
          "base_uri": "https://localhost:8080/",
          "height": 0
        },
        "id": "Q_CnSFcf5yrx",
        "outputId": "28f0bccb-efcf-4942-aeb3-1b30df43c647"
      },
      "source": [
        "missings_info_basica = listado_info_basica.isnull().sum() * 100 / len(listado_info_basica)\n",
        "listado_missing_info_basica = pd.DataFrame({'column_name': listado_info_basica.columns,\n",
        "                                 'missings_info_basica': missings_info_basica})\n",
        "\n",
        "listado_missing_info_basica.sort_values('missings_info_basica', ascending = False, inplace=True)\n",
        "\n",
        "listado_missing_info_basica.head(14)"
      ],
      "execution_count": 6,
      "outputs": [
        {
          "output_type": "execute_result",
          "data": {
            "text/html": [
              "<div>\n",
              "<style scoped>\n",
              "    .dataframe tbody tr th:only-of-type {\n",
              "        vertical-align: middle;\n",
              "    }\n",
              "\n",
              "    .dataframe tbody tr th {\n",
              "        vertical-align: top;\n",
              "    }\n",
              "\n",
              "    .dataframe thead th {\n",
              "        text-align: right;\n",
              "    }\n",
              "</style>\n",
              "<table border=\"1\" class=\"dataframe\">\n",
              "  <thead>\n",
              "    <tr style=\"text-align: right;\">\n",
              "      <th></th>\n",
              "      <th>column_name</th>\n",
              "      <th>missings_info_basica</th>\n",
              "    </tr>\n",
              "  </thead>\n",
              "  <tbody>\n",
              "    <tr>\n",
              "      <th>thumbnail_url</th>\n",
              "      <td>thumbnail_url</td>\n",
              "      <td>100.000000</td>\n",
              "    </tr>\n",
              "    <tr>\n",
              "      <th>medium_url</th>\n",
              "      <td>medium_url</td>\n",
              "      <td>99.994038</td>\n",
              "    </tr>\n",
              "    <tr>\n",
              "      <th>access</th>\n",
              "      <td>access</td>\n",
              "      <td>63.497079</td>\n",
              "    </tr>\n",
              "    <tr>\n",
              "      <th>transit</th>\n",
              "      <td>transit</td>\n",
              "      <td>60.444736</td>\n",
              "    </tr>\n",
              "    <tr>\n",
              "      <th>interaction</th>\n",
              "      <td>interaction</td>\n",
              "      <td>60.063193</td>\n",
              "    </tr>\n",
              "    <tr>\n",
              "      <th>neighborhood_overview</th>\n",
              "      <td>neighborhood_overview</td>\n",
              "      <td>52.366758</td>\n",
              "    </tr>\n",
              "    <tr>\n",
              "      <th>notes</th>\n",
              "      <td>notes</td>\n",
              "      <td>48.074401</td>\n",
              "    </tr>\n",
              "    <tr>\n",
              "      <th>house_rules</th>\n",
              "      <td>house_rules</td>\n",
              "      <td>36.592345</td>\n",
              "    </tr>\n",
              "    <tr>\n",
              "      <th>space</th>\n",
              "      <td>space</td>\n",
              "      <td>22.713724</td>\n",
              "    </tr>\n",
              "    <tr>\n",
              "      <th>summary</th>\n",
              "      <td>summary</td>\n",
              "      <td>2.605222</td>\n",
              "    </tr>\n",
              "    <tr>\n",
              "      <th>description</th>\n",
              "      <td>description</td>\n",
              "      <td>0.852510</td>\n",
              "    </tr>\n",
              "    <tr>\n",
              "      <th>name</th>\n",
              "      <td>name</td>\n",
              "      <td>0.017885</td>\n",
              "    </tr>\n",
              "    <tr>\n",
              "      <th>experiences_offered</th>\n",
              "      <td>experiences_offered</td>\n",
              "      <td>0.005962</td>\n",
              "    </tr>\n",
              "    <tr>\n",
              "      <th>id</th>\n",
              "      <td>id</td>\n",
              "      <td>0.000000</td>\n",
              "    </tr>\n",
              "  </tbody>\n",
              "</table>\n",
              "</div>"
            ],
            "text/plain": [
              "                                 column_name  missings_info_basica\n",
              "thumbnail_url                  thumbnail_url            100.000000\n",
              "medium_url                        medium_url             99.994038\n",
              "access                                access             63.497079\n",
              "transit                              transit             60.444736\n",
              "interaction                      interaction             60.063193\n",
              "neighborhood_overview  neighborhood_overview             52.366758\n",
              "notes                                  notes             48.074401\n",
              "house_rules                      house_rules             36.592345\n",
              "space                                  space             22.713724\n",
              "summary                              summary              2.605222\n",
              "description                      description              0.852510\n",
              "name                                    name              0.017885\n",
              "experiences_offered      experiences_offered              0.005962\n",
              "id                                        id              0.000000"
            ]
          },
          "metadata": {
            "tags": []
          },
          "execution_count": 6
        }
      ]
    },
    {
      "cell_type": "markdown",
      "metadata": {
        "id": "_6T0hOqpFCZe"
      },
      "source": [
        "Para mejorar la toma de decisiones, graficamos la tabla de NaN's. "
      ]
    },
    {
      "cell_type": "code",
      "metadata": {
        "colab": {
          "base_uri": "https://localhost:8080/",
          "height": 0
        },
        "id": "48deyxgE4jvG",
        "outputId": "30a4c553-1dda-4631-f1ef-ff1294872f0a"
      },
      "source": [
        "prod_count_basica = pd.DataFrame(listado_missing_info_basica.sort_index().head(20))\n",
        "plt.figure()\n",
        "sns.set_theme(style=\"darkgrid\")\n",
        "sns.barplot(listado_missing_info_basica[:12].index, \n",
        "            listado_missing_info_basica[:12]['missings_info_basica'].values, alpha=1, color = 'Salmon')\n",
        "plt.title('NaN en Info. Básica')\n",
        "plt.ylabel('% De NaN', fontsize=12)\n",
        "plt.xlabel('Columnas', fontsize=12)\n",
        "plt.xticks(rotation=90)\n",
        "plt.show()"
      ],
      "execution_count": 7,
      "outputs": [
        {
          "output_type": "stream",
          "text": [
            "/usr/local/lib/python3.7/dist-packages/seaborn/_decorators.py:43: FutureWarning:\n",
            "\n",
            "Pass the following variables as keyword args: x, y. From version 0.12, the only valid positional argument will be `data`, and passing other arguments without an explicit keyword will result in an error or misinterpretation.\n",
            "\n"
          ],
          "name": "stderr"
        },
        {
          "output_type": "display_data",
          "data": {
            "image/png": "[encoded data removed]",
            "text/plain": [
              "<Figure size 432x288 with 1 Axes>"
            ]
          },
          "metadata": {
            "tags": [],
            "needs_background": "light"
          }
        }
      ]
    },
    {
      "cell_type": "markdown",
      "metadata": {
        "id": "oOe9XW3DX2yD"
      },
      "source": [
        "De las 14 columnas del subset nos quedamos con la(s) siguiente(s): \n",
        "\n",
        "* 'id': identificador del listado, puede ser usado para JOIN's. \n",
        "\n",
        "Y descartamos: \n",
        "\n",
        "* 'name': Una descripción textual de la publicación, especialmente del alojamiento en cuestión, no es necesaria. La información que pueda contener esta columna estará presente en columnas específicas como pueden ser habitaciones, ubicación, ammenities, etc. \n",
        "* 'summary': Mismo que 'name'.\n",
        "* 'space': Mismo que 'name'.\n",
        "* 'description': Mismo que 'name'.\n",
        "* 'experiences_offered': Mismo que 'name'. \n",
        "* 'neighborhood_overview': La explotación de esta columna en un dato utilizable llevaría mucho tiempo. \n",
        "* 'notes': Mismo que 'neighborhood_overview'.\n",
        "* 'transit': Mismo que 'neighborhood_overview'.\n",
        "* 'access': Mismo que 'neighborhood_overview'.\n",
        "* 'interaction': Mismo que 'neighborhood_overview'.\n",
        "* 'house_rules': Mismo que 'neighborhood_overview'.\n",
        "* 'thumbnail_url': NaN. \n",
        "* 'medium_url': Nan."
      ]
    },
    {
      "cell_type": "markdown",
      "metadata": {
        "id": "36mjhWpCcEKI"
      },
      "source": [
        "##### **Información del host**\n",
        "\n",
        "* Revisión general.\n",
        "* Relevamiento de NaN's por columna. "
      ]
    },
    {
      "cell_type": "code",
      "metadata": {
        "colab": {
          "base_uri": "https://localhost:8080/",
          "height": 530
        },
        "id": "xFUDrA0ib9QX",
        "outputId": "2add0608-4274-4d54-fcb2-32c01de379a4"
      },
      "source": [
        "listado_info_host = pd.DataFrame(listado[['host_id', 'host_name', 'host_since', 'host_location',\n",
        "                                            'host_about', 'host_response_time', 'host_response_rate',\n",
        "                                            'host_acceptance_rate', 'host_is_superhost', \n",
        "                                            'host_neighbourhood', 'host_listings_count', 'host_total_listings_count',\n",
        "                                            'host_verifications', 'host_has_profile_pic', 'host_identity_verified']])\n",
        "listado_info_host.head()"
      ],
      "execution_count": 8,
      "outputs": [
        {
          "output_type": "execute_result",
          "data": {
            "text/html": [
              "<div>\n",
              "<style scoped>\n",
              "    .dataframe tbody tr th:only-of-type {\n",
              "        vertical-align: middle;\n",
              "    }\n",
              "\n",
              "    .dataframe tbody tr th {\n",
              "        vertical-align: top;\n",
              "    }\n",
              "\n",
              "    .dataframe thead th {\n",
              "        text-align: right;\n",
              "    }\n",
              "</style>\n",
              "<table border=\"1\" class=\"dataframe\">\n",
              "  <thead>\n",
              "    <tr style=\"text-align: right;\">\n",
              "      <th></th>\n",
              "      <th>host_id</th>\n",
              "      <th>host_name</th>\n",
              "      <th>host_since</th>\n",
              "      <th>host_location</th>\n",
              "      <th>host_about</th>\n",
              "      <th>host_response_time</th>\n",
              "      <th>host_response_rate</th>\n",
              "      <th>host_acceptance_rate</th>\n",
              "      <th>host_is_superhost</th>\n",
              "      <th>host_neighbourhood</th>\n",
              "      <th>host_listings_count</th>\n",
              "      <th>host_total_listings_count</th>\n",
              "      <th>host_verifications</th>\n",
              "      <th>host_has_profile_pic</th>\n",
              "      <th>host_identity_verified</th>\n",
              "    </tr>\n",
              "  </thead>\n",
              "  <tbody>\n",
              "    <tr>\n",
              "      <th>0</th>\n",
              "      <td>529151.0</td>\n",
              "      <td>Miguel</td>\n",
              "      <td>2011-04-23</td>\n",
              "      <td>Mallorca</td>\n",
              "      <td>Somos una pareja con los mismos gustos e inter...</td>\n",
              "      <td>within a few hours</td>\n",
              "      <td>100%</td>\n",
              "      <td>NaN</td>\n",
              "      <td>f</td>\n",
              "      <td>NaN</td>\n",
              "      <td>1.0</td>\n",
              "      <td>1.0</td>\n",
              "      <td>['email', 'phone', 'facebook', 'reviews', 'jum...</td>\n",
              "      <td>t</td>\n",
              "      <td>t</td>\n",
              "    </tr>\n",
              "    <tr>\n",
              "      <th>1</th>\n",
              "      <td>549192.0</td>\n",
              "      <td>Bartomeu</td>\n",
              "      <td>2011-05-01</td>\n",
              "      <td>Ariany, Balearic Islands, Spain</td>\n",
              "      <td>Hola!. Resido en una casa de campo de un puebl...</td>\n",
              "      <td>within an hour</td>\n",
              "      <td>100%</td>\n",
              "      <td>NaN</td>\n",
              "      <td>t</td>\n",
              "      <td>NaN</td>\n",
              "      <td>2.0</td>\n",
              "      <td>2.0</td>\n",
              "      <td>['email', 'phone', 'facebook', 'reviews', 'jum...</td>\n",
              "      <td>t</td>\n",
              "      <td>t</td>\n",
              "    </tr>\n",
              "    <tr>\n",
              "      <th>2</th>\n",
              "      <td>551974.0</td>\n",
              "      <td>Xisco</td>\n",
              "      <td>2011-05-02</td>\n",
              "      <td>Palma de Mallorca, Balearic Islands, Spain</td>\n",
              "      <td>I'm Xisco. I love Mallorcan way of life.</td>\n",
              "      <td>within a day</td>\n",
              "      <td>100%</td>\n",
              "      <td>NaN</td>\n",
              "      <td>f</td>\n",
              "      <td>NaN</td>\n",
              "      <td>1.0</td>\n",
              "      <td>1.0</td>\n",
              "      <td>['email', 'phone', 'reviews', 'jumio', 'offlin...</td>\n",
              "      <td>t</td>\n",
              "      <td>f</td>\n",
              "    </tr>\n",
              "    <tr>\n",
              "      <th>3</th>\n",
              "      <td>643065.0</td>\n",
              "      <td>Nick</td>\n",
              "      <td>2011-05-30</td>\n",
              "      <td>Palma de Mallorca, Balearic Islands, Spain</td>\n",
              "      <td>NaN</td>\n",
              "      <td>within a day</td>\n",
              "      <td>57%</td>\n",
              "      <td>NaN</td>\n",
              "      <td>f</td>\n",
              "      <td>NaN</td>\n",
              "      <td>3.0</td>\n",
              "      <td>3.0</td>\n",
              "      <td>['email', 'phone', 'reviews']</td>\n",
              "      <td>t</td>\n",
              "      <td>f</td>\n",
              "    </tr>\n",
              "    <tr>\n",
              "      <th>4</th>\n",
              "      <td>673756.0</td>\n",
              "      <td>Marie</td>\n",
              "      <td>2011-06-07</td>\n",
              "      <td>Palma, Balearic Islands, Spain</td>\n",
              "      <td>Hola, me llamo Marie.  Despues de haber viajad...</td>\n",
              "      <td>within an hour</td>\n",
              "      <td>100%</td>\n",
              "      <td>NaN</td>\n",
              "      <td>f</td>\n",
              "      <td>NaN</td>\n",
              "      <td>3.0</td>\n",
              "      <td>3.0</td>\n",
              "      <td>['email', 'phone', 'facebook', 'reviews', 'off...</td>\n",
              "      <td>t</td>\n",
              "      <td>f</td>\n",
              "    </tr>\n",
              "  </tbody>\n",
              "</table>\n",
              "</div>"
            ],
            "text/plain": [
              "    host_id host_name  ... host_has_profile_pic host_identity_verified\n",
              "0  529151.0    Miguel  ...                    t                      t\n",
              "1  549192.0  Bartomeu  ...                    t                      t\n",
              "2  551974.0     Xisco  ...                    t                      f\n",
              "3  643065.0      Nick  ...                    t                      f\n",
              "4  673756.0     Marie  ...                    t                      f\n",
              "\n",
              "[5 rows x 15 columns]"
            ]
          },
          "metadata": {
            "tags": []
          },
          "execution_count": 8
        }
      ]
    },
    {
      "cell_type": "code",
      "metadata": {
        "colab": {
          "base_uri": "https://localhost:8080/",
          "height": 483
        },
        "id": "h9gRBG1l7sH6",
        "outputId": "8893e86d-e5ae-453a-e37d-57018706281f"
      },
      "source": [
        "missings_info_host = listado_info_host.isnull().sum() * 100 / len(listado_info_host)\n",
        "listado_missing_info_host = pd.DataFrame({'column_name': listado_info_host.columns,\n",
        "                                 'missings_info_host': missings_info_host})\n",
        "\n",
        "listado_missing_info_host.sort_values('missings_info_host', ascending = False, inplace=True)\n",
        "\n",
        "listado_missing_info_host.head(14)"
      ],
      "execution_count": 9,
      "outputs": [
        {
          "output_type": "execute_result",
          "data": {
            "text/html": [
              "<div>\n",
              "<style scoped>\n",
              "    .dataframe tbody tr th:only-of-type {\n",
              "        vertical-align: middle;\n",
              "    }\n",
              "\n",
              "    .dataframe tbody tr th {\n",
              "        vertical-align: top;\n",
              "    }\n",
              "\n",
              "    .dataframe thead th {\n",
              "        text-align: right;\n",
              "    }\n",
              "</style>\n",
              "<table border=\"1\" class=\"dataframe\">\n",
              "  <thead>\n",
              "    <tr style=\"text-align: right;\">\n",
              "      <th></th>\n",
              "      <th>column_name</th>\n",
              "      <th>missings_info_host</th>\n",
              "    </tr>\n",
              "  </thead>\n",
              "  <tbody>\n",
              "    <tr>\n",
              "      <th>host_acceptance_rate</th>\n",
              "      <td>host_acceptance_rate</td>\n",
              "      <td>99.994038</td>\n",
              "    </tr>\n",
              "    <tr>\n",
              "      <th>host_neighbourhood</th>\n",
              "      <td>host_neighbourhood</td>\n",
              "      <td>98.444021</td>\n",
              "    </tr>\n",
              "    <tr>\n",
              "      <th>host_about</th>\n",
              "      <td>host_about</td>\n",
              "      <td>34.517706</td>\n",
              "    </tr>\n",
              "    <tr>\n",
              "      <th>host_response_time</th>\n",
              "      <td>host_response_time</td>\n",
              "      <td>6.885656</td>\n",
              "    </tr>\n",
              "    <tr>\n",
              "      <th>host_response_rate</th>\n",
              "      <td>host_response_rate</td>\n",
              "      <td>6.885656</td>\n",
              "    </tr>\n",
              "    <tr>\n",
              "      <th>host_location</th>\n",
              "      <td>host_location</td>\n",
              "      <td>0.220579</td>\n",
              "    </tr>\n",
              "    <tr>\n",
              "      <th>host_is_superhost</th>\n",
              "      <td>host_is_superhost</td>\n",
              "      <td>0.041731</td>\n",
              "    </tr>\n",
              "    <tr>\n",
              "      <th>host_listings_count</th>\n",
              "      <td>host_listings_count</td>\n",
              "      <td>0.041731</td>\n",
              "    </tr>\n",
              "    <tr>\n",
              "      <th>host_total_listings_count</th>\n",
              "      <td>host_total_listings_count</td>\n",
              "      <td>0.041731</td>\n",
              "    </tr>\n",
              "    <tr>\n",
              "      <th>host_has_profile_pic</th>\n",
              "      <td>host_has_profile_pic</td>\n",
              "      <td>0.041731</td>\n",
              "    </tr>\n",
              "    <tr>\n",
              "      <th>host_identity_verified</th>\n",
              "      <td>host_identity_verified</td>\n",
              "      <td>0.041731</td>\n",
              "    </tr>\n",
              "    <tr>\n",
              "      <th>host_name</th>\n",
              "      <td>host_name</td>\n",
              "      <td>0.035770</td>\n",
              "    </tr>\n",
              "    <tr>\n",
              "      <th>host_since</th>\n",
              "      <td>host_since</td>\n",
              "      <td>0.035770</td>\n",
              "    </tr>\n",
              "    <tr>\n",
              "      <th>host_id</th>\n",
              "      <td>host_id</td>\n",
              "      <td>0.005962</td>\n",
              "    </tr>\n",
              "  </tbody>\n",
              "</table>\n",
              "</div>"
            ],
            "text/plain": [
              "                                         column_name  missings_info_host\n",
              "host_acceptance_rate            host_acceptance_rate           99.994038\n",
              "host_neighbourhood                host_neighbourhood           98.444021\n",
              "host_about                                host_about           34.517706\n",
              "host_response_time                host_response_time            6.885656\n",
              "host_response_rate                host_response_rate            6.885656\n",
              "host_location                          host_location            0.220579\n",
              "host_is_superhost                  host_is_superhost            0.041731\n",
              "host_listings_count              host_listings_count            0.041731\n",
              "host_total_listings_count  host_total_listings_count            0.041731\n",
              "host_has_profile_pic            host_has_profile_pic            0.041731\n",
              "host_identity_verified        host_identity_verified            0.041731\n",
              "host_name                                  host_name            0.035770\n",
              "host_since                                host_since            0.035770\n",
              "host_id                                      host_id            0.005962"
            ]
          },
          "metadata": {
            "tags": []
          },
          "execution_count": 9
        }
      ]
    },
    {
      "cell_type": "code",
      "metadata": {
        "colab": {
          "base_uri": "https://localhost:8080/",
          "height": 480
        },
        "id": "hef4ZOJn8BUY",
        "outputId": "c59f968b-9522-4068-b8a6-3a3b2094912d"
      },
      "source": [
        "prod_count_host = pd.DataFrame(listado_missing_info_host.sort_index().head(20))\n",
        "plt.figure()\n",
        "sns.set_theme(style=\"darkgrid\")\n",
        "sns.barplot(listado_missing_info_host[:7].index, \n",
        "            listado_missing_info_host[:7]['missings_info_host'].values, alpha=1, color = 'Salmon')\n",
        "plt.title('NaN en Info. Host')\n",
        "plt.ylabel('% De NaN', fontsize=12)\n",
        "plt.xlabel('Columnas', fontsize=12)\n",
        "plt.xticks(rotation=90)\n",
        "plt.show()"
      ],
      "execution_count": 10,
      "outputs": [
        {
          "output_type": "stream",
          "text": [
            "/usr/local/lib/python3.7/dist-packages/seaborn/_decorators.py:43: FutureWarning:\n",
            "\n",
            "Pass the following variables as keyword args: x, y. From version 0.12, the only valid positional argument will be `data`, and passing other arguments without an explicit keyword will result in an error or misinterpretation.\n",
            "\n"
          ],
          "name": "stderr"
        },
        {
          "output_type": "display_data",
          "data": {
            "image/png": "[encoded data removed]",
            "text/plain": [
              "<Figure size 432x288 with 1 Axes>"
            ]
          },
          "metadata": {
            "tags": []
          }
        }
      ]
    },
    {
      "cell_type": "markdown",
      "metadata": {
        "id": "aqCHbzBycX7v"
      },
      "source": [
        "De las 15 columnas del subset nos quedamos con la(s) siguiente(s): \n",
        "\n",
        "* 'host_name': Podemos usar el nombre del host para filtrar reviews de sus publicaciones. \n",
        "* 'host_since': Variable de serie temporal a la que se le puede dar uso. \n",
        "* 'host_location': Variable de ubicación a la que se le puede dar uso. \n",
        "* 'host_about': Variable de la cual se pueden extraer palabras clave. \n",
        "* 'host_is_superhost': Booleano que puede ser muy útil en la etapa de análisis. [Qué es un 'SuperHost'?](https://www.airbnb.es/help/article/828/qu%C3%A9-es-un-superhost)\n",
        "* 'host_has_profile_pic': Mismo que 'host_is_superhost'\n",
        "* 'host_identity_verified': Mismo que 'host_is_superhost'\n",
        "\n",
        "Y descartamos: \n",
        "\n",
        "* 'host_id': No sirve como identificador. \n",
        "* 'host_response_time': La calidad de comunicación con el host está comprendido en la columna score_communication.\n",
        "* 'host_response_rate': Mismo que 'host_response_time'.\n",
        "* 'host_acceptance_rate':  NaN.\n",
        "* 'host_neighbourhood': Utilizaremos la columna 'host_location', NaN.\n",
        "* 'host_listings_count': Podemos calcularlo nosotros mismos. \n",
        "* 'host_total_listings_count': Mismo que 'host_listings_count'\n",
        "* 'host_verifications': Comprende el booleano 'host_identity_verified'\n",
        "\n"
      ]
    },
    {
      "cell_type": "markdown",
      "metadata": {
        "id": "RAo0a96Agwgh"
      },
      "source": [
        "##### **Información geográfica de la publicación**\n",
        "\n",
        "* Revisión general.\n",
        "* Relevamiento de NaN's por columna. "
      ]
    },
    {
      "cell_type": "code",
      "metadata": {
        "colab": {
          "base_uri": "https://localhost:8080/",
          "height": 289
        },
        "id": "zIP0McpUg40h",
        "outputId": "0c5d7104-4dbd-4466-e004-87d33bb43331"
      },
      "source": [
        "listado_info_geo = pd.DataFrame(listado[['street', 'neighbourhood', 'neighbourhood_cleansed', \n",
        "                                         'neighbourhood_group_cleansed', 'city', 'state', 'zipcode',\n",
        "                                         'market', 'smart_location', 'country_code', 'country',\n",
        "                                         'latitude', 'longitude', 'is_location_exact']])\n",
        "listado_info_geo.head()"
      ],
      "execution_count": 11,
      "outputs": [
        {
          "output_type": "execute_result",
          "data": {
            "text/html": [
              "<div>\n",
              "<style scoped>\n",
              "    .dataframe tbody tr th:only-of-type {\n",
              "        vertical-align: middle;\n",
              "    }\n",
              "\n",
              "    .dataframe tbody tr th {\n",
              "        vertical-align: top;\n",
              "    }\n",
              "\n",
              "    .dataframe thead th {\n",
              "        text-align: right;\n",
              "    }\n",
              "</style>\n",
              "<table border=\"1\" class=\"dataframe\">\n",
              "  <thead>\n",
              "    <tr style=\"text-align: right;\">\n",
              "      <th></th>\n",
              "      <th>street</th>\n",
              "      <th>neighbourhood</th>\n",
              "      <th>neighbourhood_cleansed</th>\n",
              "      <th>neighbourhood_group_cleansed</th>\n",
              "      <th>city</th>\n",
              "      <th>state</th>\n",
              "      <th>zipcode</th>\n",
              "      <th>market</th>\n",
              "      <th>smart_location</th>\n",
              "      <th>country_code</th>\n",
              "      <th>country</th>\n",
              "      <th>latitude</th>\n",
              "      <th>longitude</th>\n",
              "      <th>is_location_exact</th>\n",
              "    </tr>\n",
              "  </thead>\n",
              "  <tbody>\n",
              "    <tr>\n",
              "      <th>0</th>\n",
              "      <td>Can Picafort, Illes Balears, Spain</td>\n",
              "      <td>NaN</td>\n",
              "      <td>Santa Margalida</td>\n",
              "      <td>NaN</td>\n",
              "      <td>Can Picafort</td>\n",
              "      <td>Illes Balears</td>\n",
              "      <td>07458</td>\n",
              "      <td>Mallorca Island</td>\n",
              "      <td>Can Picafort, Spain</td>\n",
              "      <td>ES</td>\n",
              "      <td>Spain</td>\n",
              "      <td>39.76347</td>\n",
              "      <td>3.16255</td>\n",
              "      <td>f</td>\n",
              "    </tr>\n",
              "    <tr>\n",
              "      <th>1</th>\n",
              "      <td>Maria de la Salut, Balearic Islands, Spain</td>\n",
              "      <td>NaN</td>\n",
              "      <td>Maria de la Salut</td>\n",
              "      <td>NaN</td>\n",
              "      <td>Maria de la Salut</td>\n",
              "      <td>Balearic Islands</td>\n",
              "      <td>07519</td>\n",
              "      <td>Mallorca Island</td>\n",
              "      <td>Maria de la Salut, Spain</td>\n",
              "      <td>ES</td>\n",
              "      <td>Spain</td>\n",
              "      <td>39.66044</td>\n",
              "      <td>3.07165</td>\n",
              "      <td>t</td>\n",
              "    </tr>\n",
              "    <tr>\n",
              "      <th>2</th>\n",
              "      <td>Sant Llorenç des Cardassar, Spain</td>\n",
              "      <td>NaN</td>\n",
              "      <td>Sant Llorenç des Cardassar</td>\n",
              "      <td>NaN</td>\n",
              "      <td>Sant Llorenç des Cardassar</td>\n",
              "      <td>NaN</td>\n",
              "      <td>07530</td>\n",
              "      <td>Mallorca Island</td>\n",
              "      <td>Sant Llorenç des Cardassar, Spain</td>\n",
              "      <td>ES</td>\n",
              "      <td>Spain</td>\n",
              "      <td>39.616</td>\n",
              "      <td>3.30121</td>\n",
              "      <td>f</td>\n",
              "    </tr>\n",
              "    <tr>\n",
              "      <th>3</th>\n",
              "      <td>Palma de Mallorca, PM, Spain</td>\n",
              "      <td>NaN</td>\n",
              "      <td>Palma de Mallorca</td>\n",
              "      <td>NaN</td>\n",
              "      <td>Palma de Mallorca</td>\n",
              "      <td>PM</td>\n",
              "      <td>07015</td>\n",
              "      <td>Mallorca Island</td>\n",
              "      <td>Palma de Mallorca, Spain</td>\n",
              "      <td>ES</td>\n",
              "      <td>Spain</td>\n",
              "      <td>39.56478</td>\n",
              "      <td>2.60333</td>\n",
              "      <td>f</td>\n",
              "    </tr>\n",
              "    <tr>\n",
              "      <th>4</th>\n",
              "      <td>Campos, Balearic Islands, Spain</td>\n",
              "      <td>NaN</td>\n",
              "      <td>Campos</td>\n",
              "      <td>NaN</td>\n",
              "      <td>Campos</td>\n",
              "      <td>Balearic Islands</td>\n",
              "      <td>07630</td>\n",
              "      <td>Mallorca Island</td>\n",
              "      <td>Campos, Spain</td>\n",
              "      <td>ES</td>\n",
              "      <td>Spain</td>\n",
              "      <td>39.396609999999995</td>\n",
              "      <td>3.08728</td>\n",
              "      <td>t</td>\n",
              "    </tr>\n",
              "  </tbody>\n",
              "</table>\n",
              "</div>"
            ],
            "text/plain": [
              "                                       street  ...  is_location_exact\n",
              "0          Can Picafort, Illes Balears, Spain  ...                  f\n",
              "1  Maria de la Salut, Balearic Islands, Spain  ...                  t\n",
              "2           Sant Llorenç des Cardassar, Spain  ...                  f\n",
              "3                Palma de Mallorca, PM, Spain  ...                  f\n",
              "4             Campos, Balearic Islands, Spain  ...                  t\n",
              "\n",
              "[5 rows x 14 columns]"
            ]
          },
          "metadata": {
            "tags": []
          },
          "execution_count": 11
        }
      ]
    },
    {
      "cell_type": "code",
      "metadata": {
        "colab": {
          "base_uri": "https://localhost:8080/",
          "height": 483
        },
        "id": "mITp84Yf8xj9",
        "outputId": "a7b4a3ed-11df-4833-886c-bf0270f3a5d5"
      },
      "source": [
        "missings_info_geo = listado_info_geo.isnull().sum() * 100 / len(listado_info_geo)\n",
        "listado_missing_info_geo = pd.DataFrame({'column_name': listado_info_geo.columns,\n",
        "                                 'missings_info_geo': missings_info_geo})\n",
        "\n",
        "listado_missing_info_geo.sort_values('missings_info_geo', ascending = False, inplace=True)\n",
        "\n",
        "listado_missing_info_geo.head(14)"
      ],
      "execution_count": 12,
      "outputs": [
        {
          "output_type": "execute_result",
          "data": {
            "text/html": [
              "<div>\n",
              "<style scoped>\n",
              "    .dataframe tbody tr th:only-of-type {\n",
              "        vertical-align: middle;\n",
              "    }\n",
              "\n",
              "    .dataframe tbody tr th {\n",
              "        vertical-align: top;\n",
              "    }\n",
              "\n",
              "    .dataframe thead th {\n",
              "        text-align: right;\n",
              "    }\n",
              "</style>\n",
              "<table border=\"1\" class=\"dataframe\">\n",
              "  <thead>\n",
              "    <tr style=\"text-align: right;\">\n",
              "      <th></th>\n",
              "      <th>column_name</th>\n",
              "      <th>missings_info_geo</th>\n",
              "    </tr>\n",
              "  </thead>\n",
              "  <tbody>\n",
              "    <tr>\n",
              "      <th>neighbourhood</th>\n",
              "      <td>neighbourhood</td>\n",
              "      <td>99.994038</td>\n",
              "    </tr>\n",
              "    <tr>\n",
              "      <th>neighbourhood_group_cleansed</th>\n",
              "      <td>neighbourhood_group_cleansed</td>\n",
              "      <td>99.994038</td>\n",
              "    </tr>\n",
              "    <tr>\n",
              "      <th>state</th>\n",
              "      <td>state</td>\n",
              "      <td>17.211160</td>\n",
              "    </tr>\n",
              "    <tr>\n",
              "      <th>zipcode</th>\n",
              "      <td>zipcode</td>\n",
              "      <td>2.557530</td>\n",
              "    </tr>\n",
              "    <tr>\n",
              "      <th>city</th>\n",
              "      <td>city</td>\n",
              "      <td>0.166925</td>\n",
              "    </tr>\n",
              "    <tr>\n",
              "      <th>market</th>\n",
              "      <td>market</td>\n",
              "      <td>0.017885</td>\n",
              "    </tr>\n",
              "    <tr>\n",
              "      <th>street</th>\n",
              "      <td>street</td>\n",
              "      <td>0.005962</td>\n",
              "    </tr>\n",
              "    <tr>\n",
              "      <th>neighbourhood_cleansed</th>\n",
              "      <td>neighbourhood_cleansed</td>\n",
              "      <td>0.005962</td>\n",
              "    </tr>\n",
              "    <tr>\n",
              "      <th>smart_location</th>\n",
              "      <td>smart_location</td>\n",
              "      <td>0.005962</td>\n",
              "    </tr>\n",
              "    <tr>\n",
              "      <th>country_code</th>\n",
              "      <td>country_code</td>\n",
              "      <td>0.005962</td>\n",
              "    </tr>\n",
              "    <tr>\n",
              "      <th>country</th>\n",
              "      <td>country</td>\n",
              "      <td>0.005962</td>\n",
              "    </tr>\n",
              "    <tr>\n",
              "      <th>latitude</th>\n",
              "      <td>latitude</td>\n",
              "      <td>0.005962</td>\n",
              "    </tr>\n",
              "    <tr>\n",
              "      <th>longitude</th>\n",
              "      <td>longitude</td>\n",
              "      <td>0.005962</td>\n",
              "    </tr>\n",
              "    <tr>\n",
              "      <th>is_location_exact</th>\n",
              "      <td>is_location_exact</td>\n",
              "      <td>0.005962</td>\n",
              "    </tr>\n",
              "  </tbody>\n",
              "</table>\n",
              "</div>"
            ],
            "text/plain": [
              "                                               column_name  missings_info_geo\n",
              "neighbourhood                                neighbourhood          99.994038\n",
              "neighbourhood_group_cleansed  neighbourhood_group_cleansed          99.994038\n",
              "state                                                state          17.211160\n",
              "zipcode                                            zipcode           2.557530\n",
              "city                                                  city           0.166925\n",
              "market                                              market           0.017885\n",
              "street                                              street           0.005962\n",
              "neighbourhood_cleansed              neighbourhood_cleansed           0.005962\n",
              "smart_location                              smart_location           0.005962\n",
              "country_code                                  country_code           0.005962\n",
              "country                                            country           0.005962\n",
              "latitude                                          latitude           0.005962\n",
              "longitude                                        longitude           0.005962\n",
              "is_location_exact                        is_location_exact           0.005962"
            ]
          },
          "metadata": {
            "tags": []
          },
          "execution_count": 12
        }
      ]
    },
    {
      "cell_type": "code",
      "metadata": {
        "colab": {
          "base_uri": "https://localhost:8080/",
          "height": 535
        },
        "id": "AFr9bX0z9D75",
        "outputId": "846a16ee-24bc-41f7-80e0-d3bb4435b92b"
      },
      "source": [
        "prod_count_geo = pd.DataFrame(listado_missing_info_geo.sort_index().head(20))\n",
        "plt.figure()\n",
        "sns.set_theme(style=\"darkgrid\")\n",
        "sns.barplot(listado_missing_info_geo[:5].index, \n",
        "            listado_missing_info_geo[:5]['missings_info_geo'].values, alpha=1, color = 'Salmon')\n",
        "plt.title('NaN en Info. Geográfica')\n",
        "plt.ylabel('% De NaN', fontsize=12)\n",
        "plt.xlabel('Columnas', fontsize=12)\n",
        "plt.xticks(rotation=90)\n",
        "plt.show()"
      ],
      "execution_count": 13,
      "outputs": [
        {
          "output_type": "stream",
          "text": [
            "/usr/local/lib/python3.7/dist-packages/seaborn/_decorators.py:43: FutureWarning:\n",
            "\n",
            "Pass the following variables as keyword args: x, y. From version 0.12, the only valid positional argument will be `data`, and passing other arguments without an explicit keyword will result in an error or misinterpretation.\n",
            "\n"
          ],
          "name": "stderr"
        },
        {
          "output_type": "display_data",
          "data": {
            "image/png": "[encoded data removed]",
            "text/plain": [
              "<Figure size 432x288 with 1 Axes>"
            ]
          },
          "metadata": {
            "tags": []
          }
        }
      ]
    },
    {
      "cell_type": "markdown",
      "metadata": {
        "id": "rhDWXDBahEUC"
      },
      "source": [
        "De las 14 columnas del subset nos quedamos con la(s) siguiente(s): \n",
        "\n",
        "\n",
        "* 'neighbourhood_cleansed': Variable procesada que nos permitirá ubicar las publicaciones geográficamente. \n",
        "* 'latitude': Mismo que 'neighbourhood_cleansed'.\n",
        "* 'longitude': Mismo que 'neighbourhood_cleansed'.\n",
        "\n",
        "Y descartamos: \n",
        "\n",
        "* 'neighbourhood': NaN\n",
        "* 'neighbourhood_group_cleansed': NaN\n",
        "* 'city': Vamos a usar 'neighbourhood_cleansed'.\n",
        "* 'street': Mismo que 'city'.\n",
        "* 'zipcode': Mismo que 'city'.\n",
        "* 'smart_location': Mismo que 'city'. \n",
        "* 'state': Islas Baleares, Illes Balears.\n",
        "* 'market' Mallorca Island.\n",
        "* 'country_code': ES.\n",
        "* 'country': Spain, España.\n",
        "* 'is_location_exact': No sirve ya que contiene un margen de error de hasta 150 metros. [Airbnb Disclaimers](http://insideairbnb.com/about.html#disclaimers)\n",
        "\n",
        "\n",
        "\n"
      ]
    },
    {
      "cell_type": "markdown",
      "metadata": {
        "id": "VFKMy5tZlJ-J"
      },
      "source": [
        "##### **Información de la propiedad y el alquiler**\n",
        "\n",
        "* Revisión general.\n",
        "* Relevamiento de NaN's por columna. "
      ]
    },
    {
      "cell_type": "code",
      "metadata": {
        "colab": {
          "base_uri": "https://localhost:8080/",
          "height": 309
        },
        "id": "SGuEat4llYO0",
        "outputId": "07e67390-e46c-404a-e4fe-6daffe7e09f1"
      },
      "source": [
        "listado_info_alquiler = pd.DataFrame(listado[['property_type', 'room_type', 'accommodates', 'bathrooms', \n",
        "                                         'bedrooms', 'beds', 'bed_type', 'amenities', 'square_feet',\n",
        "                                         'price', 'weekly_price', 'monthly_price', 'security_deposit',\n",
        "                                         'cleaning_fee', 'guests_included', 'extra_people', 'minimum_nights',\n",
        "                                         'maximum_nights', 'minimum_minimum_nights', 'maximum_minimum_nights',\n",
        "                                         'minimum_maximum_nights', 'maximum_maximum_nights', 'minimum_nights_avg_ntm',\n",
        "                                         'maximum_nights_avg_ntm', 'calendar_updated', 'has_availability', 'availability_30', \n",
        "                                         'availability_60', 'availability_90', 'availability_365', 'calendar_last_scraped']])\n",
        "listado_info_alquiler.head()"
      ],
      "execution_count": 14,
      "outputs": [
        {
          "output_type": "execute_result",
          "data": {
            "text/html": [
              "<div>\n",
              "<style scoped>\n",
              "    .dataframe tbody tr th:only-of-type {\n",
              "        vertical-align: middle;\n",
              "    }\n",
              "\n",
              "    .dataframe tbody tr th {\n",
              "        vertical-align: top;\n",
              "    }\n",
              "\n",
              "    .dataframe thead th {\n",
              "        text-align: right;\n",
              "    }\n",
              "</style>\n",
              "<table border=\"1\" class=\"dataframe\">\n",
              "  <thead>\n",
              "    <tr style=\"text-align: right;\">\n",
              "      <th></th>\n",
              "      <th>property_type</th>\n",
              "      <th>room_type</th>\n",
              "      <th>accommodates</th>\n",
              "      <th>bathrooms</th>\n",
              "      <th>bedrooms</th>\n",
              "      <th>beds</th>\n",
              "      <th>bed_type</th>\n",
              "      <th>amenities</th>\n",
              "      <th>square_feet</th>\n",
              "      <th>price</th>\n",
              "      <th>weekly_price</th>\n",
              "      <th>monthly_price</th>\n",
              "      <th>security_deposit</th>\n",
              "      <th>cleaning_fee</th>\n",
              "      <th>guests_included</th>\n",
              "      <th>extra_people</th>\n",
              "      <th>minimum_nights</th>\n",
              "      <th>maximum_nights</th>\n",
              "      <th>minimum_minimum_nights</th>\n",
              "      <th>maximum_minimum_nights</th>\n",
              "      <th>minimum_maximum_nights</th>\n",
              "      <th>maximum_maximum_nights</th>\n",
              "      <th>minimum_nights_avg_ntm</th>\n",
              "      <th>maximum_nights_avg_ntm</th>\n",
              "      <th>calendar_updated</th>\n",
              "      <th>has_availability</th>\n",
              "      <th>availability_30</th>\n",
              "      <th>availability_60</th>\n",
              "      <th>availability_90</th>\n",
              "      <th>availability_365</th>\n",
              "      <th>calendar_last_scraped</th>\n",
              "    </tr>\n",
              "  </thead>\n",
              "  <tbody>\n",
              "    <tr>\n",
              "      <th>0</th>\n",
              "      <td>House</td>\n",
              "      <td>Entire home/apt</td>\n",
              "      <td>8.0</td>\n",
              "      <td>3.0</td>\n",
              "      <td>4.0</td>\n",
              "      <td>7.0</td>\n",
              "      <td>Real Bed</td>\n",
              "      <td>{TV,\"Cable TV\",Internet,Wifi,\"Air conditioning...</td>\n",
              "      <td>NaN</td>\n",
              "      <td>$155.00</td>\n",
              "      <td>NaN</td>\n",
              "      <td>NaN</td>\n",
              "      <td>$0.00</td>\n",
              "      <td>$100.00</td>\n",
              "      <td>1.0</td>\n",
              "      <td>$0.00</td>\n",
              "      <td>4</td>\n",
              "      <td>365.0</td>\n",
              "      <td>4.0</td>\n",
              "      <td>4.0</td>\n",
              "      <td>365.0</td>\n",
              "      <td>365.0</td>\n",
              "      <td>4.0</td>\n",
              "      <td>365.0</td>\n",
              "      <td>today</td>\n",
              "      <td>t</td>\n",
              "      <td>0.0</td>\n",
              "      <td>0</td>\n",
              "      <td>0</td>\n",
              "      <td>0</td>\n",
              "      <td>2019-06-27</td>\n",
              "    </tr>\n",
              "    <tr>\n",
              "      <th>1</th>\n",
              "      <td>Townhouse</td>\n",
              "      <td>Entire home/apt</td>\n",
              "      <td>6.0</td>\n",
              "      <td>2.0</td>\n",
              "      <td>3.0</td>\n",
              "      <td>4.0</td>\n",
              "      <td>Real Bed</td>\n",
              "      <td>{TV,\"Cable TV\",Wifi,\"Air conditioning\",Pool,Ki...</td>\n",
              "      <td>NaN</td>\n",
              "      <td>$90.00</td>\n",
              "      <td>NaN</td>\n",
              "      <td>NaN</td>\n",
              "      <td>NaN</td>\n",
              "      <td>NaN</td>\n",
              "      <td>4.0</td>\n",
              "      <td>$10.00</td>\n",
              "      <td>7</td>\n",
              "      <td>365.0</td>\n",
              "      <td>7.0</td>\n",
              "      <td>7.0</td>\n",
              "      <td>365.0</td>\n",
              "      <td>365.0</td>\n",
              "      <td>7.0</td>\n",
              "      <td>365.0</td>\n",
              "      <td>today</td>\n",
              "      <td>t</td>\n",
              "      <td>0.0</td>\n",
              "      <td>4</td>\n",
              "      <td>10</td>\n",
              "      <td>248</td>\n",
              "      <td>2019-06-27</td>\n",
              "    </tr>\n",
              "    <tr>\n",
              "      <th>2</th>\n",
              "      <td>Villa</td>\n",
              "      <td>Entire home/apt</td>\n",
              "      <td>5.0</td>\n",
              "      <td>NaN</td>\n",
              "      <td>2.0</td>\n",
              "      <td>4.0</td>\n",
              "      <td>Real Bed</td>\n",
              "      <td>{TV,\"Cable TV\",Internet,Wifi,\"Air conditioning...</td>\n",
              "      <td>NaN</td>\n",
              "      <td>$84.00</td>\n",
              "      <td>NaN</td>\n",
              "      <td>NaN</td>\n",
              "      <td>NaN</td>\n",
              "      <td>$100.00</td>\n",
              "      <td>1.0</td>\n",
              "      <td>$0.00</td>\n",
              "      <td>5</td>\n",
              "      <td>365.0</td>\n",
              "      <td>5.0</td>\n",
              "      <td>5.0</td>\n",
              "      <td>365.0</td>\n",
              "      <td>365.0</td>\n",
              "      <td>5.0</td>\n",
              "      <td>365.0</td>\n",
              "      <td>today</td>\n",
              "      <td>t</td>\n",
              "      <td>0.0</td>\n",
              "      <td>6</td>\n",
              "      <td>19</td>\n",
              "      <td>294</td>\n",
              "      <td>2019-06-27</td>\n",
              "    </tr>\n",
              "    <tr>\n",
              "      <th>3</th>\n",
              "      <td>Apartment</td>\n",
              "      <td>Private room</td>\n",
              "      <td>2.0</td>\n",
              "      <td>1.0</td>\n",
              "      <td>1.0</td>\n",
              "      <td>2.0</td>\n",
              "      <td>Real Bed</td>\n",
              "      <td>{TV,Wifi,\"Air conditioning\",Pool,Kitchen,Eleva...</td>\n",
              "      <td>NaN</td>\n",
              "      <td>$110.00</td>\n",
              "      <td>$426.00</td>\n",
              "      <td>$1,600.00</td>\n",
              "      <td>$0.00</td>\n",
              "      <td>$25.00</td>\n",
              "      <td>1.0</td>\n",
              "      <td>$0.00</td>\n",
              "      <td>2</td>\n",
              "      <td>365.0</td>\n",
              "      <td>2.0</td>\n",
              "      <td>2.0</td>\n",
              "      <td>365.0</td>\n",
              "      <td>365.0</td>\n",
              "      <td>2.0</td>\n",
              "      <td>365.0</td>\n",
              "      <td>2 weeks ago</td>\n",
              "      <td>t</td>\n",
              "      <td>7.0</td>\n",
              "      <td>31</td>\n",
              "      <td>31</td>\n",
              "      <td>300</td>\n",
              "      <td>2019-06-27</td>\n",
              "    </tr>\n",
              "    <tr>\n",
              "      <th>4</th>\n",
              "      <td>Villa</td>\n",
              "      <td>Private room</td>\n",
              "      <td>3.0</td>\n",
              "      <td>1.0</td>\n",
              "      <td>1.0</td>\n",
              "      <td>3.0</td>\n",
              "      <td>Real Bed</td>\n",
              "      <td>{TV,Wifi,Pool,Kitchen,\"Free parking on premise...</td>\n",
              "      <td>NaN</td>\n",
              "      <td>$120.00</td>\n",
              "      <td>$780.00</td>\n",
              "      <td>NaN</td>\n",
              "      <td>$200.00</td>\n",
              "      <td>$40.00</td>\n",
              "      <td>2.0</td>\n",
              "      <td>$10.00</td>\n",
              "      <td>3</td>\n",
              "      <td>30.0</td>\n",
              "      <td>3.0</td>\n",
              "      <td>3.0</td>\n",
              "      <td>30.0</td>\n",
              "      <td>30.0</td>\n",
              "      <td>3.0</td>\n",
              "      <td>30.0</td>\n",
              "      <td>3 months ago</td>\n",
              "      <td>t</td>\n",
              "      <td>19.0</td>\n",
              "      <td>37</td>\n",
              "      <td>60</td>\n",
              "      <td>240</td>\n",
              "      <td>2019-06-27</td>\n",
              "    </tr>\n",
              "  </tbody>\n",
              "</table>\n",
              "</div>"
            ],
            "text/plain": [
              "  property_type        room_type  ...  availability_365  calendar_last_scraped\n",
              "0         House  Entire home/apt  ...                 0             2019-06-27\n",
              "1     Townhouse  Entire home/apt  ...               248             2019-06-27\n",
              "2         Villa  Entire home/apt  ...               294             2019-06-27\n",
              "3     Apartment     Private room  ...               300             2019-06-27\n",
              "4         Villa     Private room  ...               240             2019-06-27\n",
              "\n",
              "[5 rows x 31 columns]"
            ]
          },
          "metadata": {
            "tags": []
          },
          "execution_count": 14
        }
      ]
    },
    {
      "cell_type": "code",
      "metadata": {
        "colab": {
          "base_uri": "https://localhost:8080/",
          "height": 483
        },
        "id": "ult8iUZM9Wg3",
        "outputId": "f7c60979-718e-4f92-bcea-992e27be9e52"
      },
      "source": [
        "missings_info_alquiler = listado_info_alquiler.isnull().sum() * 100 / len(listado_info_alquiler)\n",
        "listado_missing_info_alquiler = pd.DataFrame({'column_name': listado_info_alquiler.columns,\n",
        "                                 'missings_info_alquiler': missings_info_alquiler})\n",
        "\n",
        "listado_missing_info_alquiler.sort_values('missings_info_alquiler', ascending = False, inplace=True)\n",
        "\n",
        "listado_missing_info_alquiler.head(14)"
      ],
      "execution_count": 15,
      "outputs": [
        {
          "output_type": "execute_result",
          "data": {
            "text/html": [
              "<div>\n",
              "<style scoped>\n",
              "    .dataframe tbody tr th:only-of-type {\n",
              "        vertical-align: middle;\n",
              "    }\n",
              "\n",
              "    .dataframe tbody tr th {\n",
              "        vertical-align: top;\n",
              "    }\n",
              "\n",
              "    .dataframe thead th {\n",
              "        text-align: right;\n",
              "    }\n",
              "</style>\n",
              "<table border=\"1\" class=\"dataframe\">\n",
              "  <thead>\n",
              "    <tr style=\"text-align: right;\">\n",
              "      <th></th>\n",
              "      <th>column_name</th>\n",
              "      <th>missings_info_alquiler</th>\n",
              "    </tr>\n",
              "  </thead>\n",
              "  <tbody>\n",
              "    <tr>\n",
              "      <th>square_feet</th>\n",
              "      <td>square_feet</td>\n",
              "      <td>98.640754</td>\n",
              "    </tr>\n",
              "    <tr>\n",
              "      <th>monthly_price</th>\n",
              "      <td>monthly_price</td>\n",
              "      <td>97.955169</td>\n",
              "    </tr>\n",
              "    <tr>\n",
              "      <th>weekly_price</th>\n",
              "      <td>weekly_price</td>\n",
              "      <td>96.804579</td>\n",
              "    </tr>\n",
              "    <tr>\n",
              "      <th>security_deposit</th>\n",
              "      <td>security_deposit</td>\n",
              "      <td>25.283176</td>\n",
              "    </tr>\n",
              "    <tr>\n",
              "      <th>cleaning_fee</th>\n",
              "      <td>cleaning_fee</td>\n",
              "      <td>24.818171</td>\n",
              "    </tr>\n",
              "    <tr>\n",
              "      <th>beds</th>\n",
              "      <td>beds</td>\n",
              "      <td>0.506737</td>\n",
              "    </tr>\n",
              "    <tr>\n",
              "      <th>bedrooms</th>\n",
              "      <td>bedrooms</td>\n",
              "      <td>0.059616</td>\n",
              "    </tr>\n",
              "    <tr>\n",
              "      <th>bathrooms</th>\n",
              "      <td>bathrooms</td>\n",
              "      <td>0.047693</td>\n",
              "    </tr>\n",
              "    <tr>\n",
              "      <th>availability_30</th>\n",
              "      <td>availability_30</td>\n",
              "      <td>0.011923</td>\n",
              "    </tr>\n",
              "    <tr>\n",
              "      <th>has_availability</th>\n",
              "      <td>has_availability</td>\n",
              "      <td>0.011923</td>\n",
              "    </tr>\n",
              "    <tr>\n",
              "      <th>minimum_nights_avg_ntm</th>\n",
              "      <td>minimum_nights_avg_ntm</td>\n",
              "      <td>0.005962</td>\n",
              "    </tr>\n",
              "    <tr>\n",
              "      <th>maximum_nights_avg_ntm</th>\n",
              "      <td>maximum_nights_avg_ntm</td>\n",
              "      <td>0.005962</td>\n",
              "    </tr>\n",
              "    <tr>\n",
              "      <th>calendar_updated</th>\n",
              "      <td>calendar_updated</td>\n",
              "      <td>0.005962</td>\n",
              "    </tr>\n",
              "    <tr>\n",
              "      <th>property_type</th>\n",
              "      <td>property_type</td>\n",
              "      <td>0.005962</td>\n",
              "    </tr>\n",
              "  </tbody>\n",
              "</table>\n",
              "</div>"
            ],
            "text/plain": [
              "                                   column_name  missings_info_alquiler\n",
              "square_feet                        square_feet               98.640754\n",
              "monthly_price                    monthly_price               97.955169\n",
              "weekly_price                      weekly_price               96.804579\n",
              "security_deposit              security_deposit               25.283176\n",
              "cleaning_fee                      cleaning_fee               24.818171\n",
              "beds                                      beds                0.506737\n",
              "bedrooms                              bedrooms                0.059616\n",
              "bathrooms                            bathrooms                0.047693\n",
              "availability_30                availability_30                0.011923\n",
              "has_availability              has_availability                0.011923\n",
              "minimum_nights_avg_ntm  minimum_nights_avg_ntm                0.005962\n",
              "maximum_nights_avg_ntm  maximum_nights_avg_ntm                0.005962\n",
              "calendar_updated              calendar_updated                0.005962\n",
              "property_type                    property_type                0.005962"
            ]
          },
          "metadata": {
            "tags": []
          },
          "execution_count": 15
        }
      ]
    },
    {
      "cell_type": "code",
      "metadata": {
        "colab": {
          "base_uri": "https://localhost:8080/",
          "height": 449
        },
        "id": "hsx_yXrq9WeQ",
        "outputId": "b6451213-0086-45e0-a7c5-cbbd8c83fe0f"
      },
      "source": [
        "prod_count_alquiler = pd.DataFrame(listado_missing_info_alquiler.sort_index().head(20))\n",
        "plt.figure()\n",
        "sns.set_theme(style=\"darkgrid\")\n",
        "sns.barplot(listado_missing_info_alquiler[:6].index, \n",
        "            listado_missing_info_alquiler[:6]['missings_info_alquiler'].values, alpha=1, color = 'Salmon')\n",
        "plt.title('NaN en Info. Alquiler')\n",
        "plt.ylabel('% De NaN', fontsize=12)\n",
        "plt.xlabel('Columnas', fontsize=12)\n",
        "plt.xticks(rotation=90)\n",
        "plt.show()"
      ],
      "execution_count": 16,
      "outputs": [
        {
          "output_type": "stream",
          "text": [
            "/usr/local/lib/python3.7/dist-packages/seaborn/_decorators.py:43: FutureWarning:\n",
            "\n",
            "Pass the following variables as keyword args: x, y. From version 0.12, the only valid positional argument will be `data`, and passing other arguments without an explicit keyword will result in an error or misinterpretation.\n",
            "\n"
          ],
          "name": "stderr"
        },
        {
          "output_type": "display_data",
          "data": {
            "image/png": "[encoded data removed]",
            "text/plain": [
              "<Figure size 432x288 with 1 Axes>"
            ]
          },
          "metadata": {
            "tags": []
          }
        }
      ]
    },
    {
      "cell_type": "markdown",
      "metadata": {
        "id": "eIxVQ1mGllez"
      },
      "source": [
        "De las 31 columnas del subset nos quedamos con la(s) siguiente(s): \n",
        "\n",
        "* 'property_type': Variable categórica. \n",
        "* 'room_type': Variable categórica. \n",
        "* 'accommodates': Variable numérica. \n",
        "* 'bathrooms': Variable numérica. \n",
        "* 'bedrooms': Variable numérica. \n",
        "* 'beds': Variable numérica. \n",
        "* 'bed_type': Variable categórica. \n",
        "* 'amenities': Se puede llegar a filtrar por ciertas amenities. \n",
        "* 'price': Costo por noche. \n",
        "* 'security_deposit': Costo relevante. \n",
        "* 'cleaning_fee': Mismo que 'security_deposit'. \n",
        "* 'guests_included': Variable numérica. \n",
        "* 'extra_people': Costo relevante. \n",
        "* 'minimum_nights': Variable numérica. \n",
        "\n",
        "Y descartamos: \n",
        "\n",
        "* 'square_feet': NaN\n",
        "* 'weekly_price': NaN. \n",
        "* 'monthly_price': NaN.  \n",
        "* 'maximum_nights': Valores altos, generlmente 365. \n",
        "* 'minimum_minimum_nights': Valor repetido. \n",
        "* 'maximum_minimum_nights': Valor repetido.\n",
        "* 'minimum_maximum_nights': Valor repetido.\n",
        "* 'maximum_maximum_nights': Valor repetido.\n",
        "* 'minimum_nights_avg_ntm': Valor repetido.\n",
        "* 'maximum_nights_avg_ntm': Valor repetido.\n",
        "* 'calendar_updated': Variable que se actualiza constantemente, no la podemos explotar. \n",
        "* 'has_availability': Mismo que 'calendar_updated'.\n",
        "* 'availability_30': Mismo que 'calendar_updated'.\n",
        "* 'availability_60': Mismo que 'calendar_updated'.\n",
        "* 'availability_90': Mismo que 'calendar_updated'.\n",
        "* 'availability_365': Mismo que 'calendar_updated'.\n",
        "* 'calendar_last_scraped': Mismo que 'calendar_updated'."
      ]
    },
    {
      "cell_type": "markdown",
      "metadata": {
        "id": "vLqHpCWBpWuN"
      },
      "source": [
        "##### **Información Reviews**\n",
        "\n",
        "* Revisión general.\n",
        "* Relevamiento de NaN's por columna. "
      ]
    },
    {
      "cell_type": "code",
      "metadata": {
        "colab": {
          "base_uri": "https://localhost:8080/",
          "height": 224
        },
        "id": "mPa5skpqp4OZ",
        "outputId": "50b1ce36-ef9b-4be0-ef0f-b82209fd1e27"
      },
      "source": [
        "listado_info_reviews = pd.DataFrame(listado[['number_of_reviews', 'number_of_reviews_ltm', 'first_review',\n",
        "                                              'last_review', 'review_scores_rating', 'review_scores_accuracy',\n",
        "                                              'review_scores_cleanliness', 'review_scores_checkin',\n",
        "                                              'review_scores_communication', 'review_scores_location', 'review_scores_value']])\n",
        "listado_info_reviews.head()"
      ],
      "execution_count": 17,
      "outputs": [
        {
          "output_type": "execute_result",
          "data": {
            "text/html": [
              "<div>\n",
              "<style scoped>\n",
              "    .dataframe tbody tr th:only-of-type {\n",
              "        vertical-align: middle;\n",
              "    }\n",
              "\n",
              "    .dataframe tbody tr th {\n",
              "        vertical-align: top;\n",
              "    }\n",
              "\n",
              "    .dataframe thead th {\n",
              "        text-align: right;\n",
              "    }\n",
              "</style>\n",
              "<table border=\"1\" class=\"dataframe\">\n",
              "  <thead>\n",
              "    <tr style=\"text-align: right;\">\n",
              "      <th></th>\n",
              "      <th>number_of_reviews</th>\n",
              "      <th>number_of_reviews_ltm</th>\n",
              "      <th>first_review</th>\n",
              "      <th>last_review</th>\n",
              "      <th>review_scores_rating</th>\n",
              "      <th>review_scores_accuracy</th>\n",
              "      <th>review_scores_cleanliness</th>\n",
              "      <th>review_scores_checkin</th>\n",
              "      <th>review_scores_communication</th>\n",
              "      <th>review_scores_location</th>\n",
              "      <th>review_scores_value</th>\n",
              "    </tr>\n",
              "  </thead>\n",
              "  <tbody>\n",
              "    <tr>\n",
              "      <th>0</th>\n",
              "      <td>20</td>\n",
              "      <td>20.0</td>\n",
              "      <td>2018-10-06</td>\n",
              "      <td>2019-04-27</td>\n",
              "      <td>99.0</td>\n",
              "      <td>10.0</td>\n",
              "      <td>10.0</td>\n",
              "      <td>10.0</td>\n",
              "      <td>10.0</td>\n",
              "      <td>9.0</td>\n",
              "      <td>10.0</td>\n",
              "    </tr>\n",
              "    <tr>\n",
              "      <th>1</th>\n",
              "      <td>13</td>\n",
              "      <td>4.0</td>\n",
              "      <td>2012-06-19</td>\n",
              "      <td>2019-05-09</td>\n",
              "      <td>97.0</td>\n",
              "      <td>10.0</td>\n",
              "      <td>10.0</td>\n",
              "      <td>10.0</td>\n",
              "      <td>10.0</td>\n",
              "      <td>9.0</td>\n",
              "      <td>10.0</td>\n",
              "    </tr>\n",
              "    <tr>\n",
              "      <th>2</th>\n",
              "      <td>9</td>\n",
              "      <td>2.0</td>\n",
              "      <td>2012-06-05</td>\n",
              "      <td>2018-08-13</td>\n",
              "      <td>98.0</td>\n",
              "      <td>10.0</td>\n",
              "      <td>10.0</td>\n",
              "      <td>10.0</td>\n",
              "      <td>10.0</td>\n",
              "      <td>9.0</td>\n",
              "      <td>9.0</td>\n",
              "    </tr>\n",
              "    <tr>\n",
              "      <th>3</th>\n",
              "      <td>0</td>\n",
              "      <td>0.0</td>\n",
              "      <td>NaN</td>\n",
              "      <td>NaN</td>\n",
              "      <td>NaN</td>\n",
              "      <td>NaN</td>\n",
              "      <td>NaN</td>\n",
              "      <td>NaN</td>\n",
              "      <td>NaN</td>\n",
              "      <td>NaN</td>\n",
              "      <td>NaN</td>\n",
              "    </tr>\n",
              "    <tr>\n",
              "      <th>4</th>\n",
              "      <td>37</td>\n",
              "      <td>9.0</td>\n",
              "      <td>2012-06-14</td>\n",
              "      <td>2018-10-07</td>\n",
              "      <td>94.0</td>\n",
              "      <td>10.0</td>\n",
              "      <td>9.0</td>\n",
              "      <td>10.0</td>\n",
              "      <td>10.0</td>\n",
              "      <td>9.0</td>\n",
              "      <td>9.0</td>\n",
              "    </tr>\n",
              "  </tbody>\n",
              "</table>\n",
              "</div>"
            ],
            "text/plain": [
              "  number_of_reviews  ...  review_scores_value\n",
              "0                20  ...                 10.0\n",
              "1                13  ...                 10.0\n",
              "2                 9  ...                  9.0\n",
              "3                 0  ...                  NaN\n",
              "4                37  ...                  9.0\n",
              "\n",
              "[5 rows x 11 columns]"
            ]
          },
          "metadata": {
            "tags": []
          },
          "execution_count": 17
        }
      ]
    },
    {
      "cell_type": "code",
      "metadata": {
        "colab": {
          "base_uri": "https://localhost:8080/",
          "height": 390
        },
        "id": "poP2fcde90Jo",
        "outputId": "a1498dd2-4c2a-40f5-ca13-ef044281e398"
      },
      "source": [
        "missings_info_reviews = listado_info_reviews.isnull().sum() * 100 / len(listado_info_reviews)\n",
        "listado_missing_info_reviews = pd.DataFrame({'column_name': listado_info_reviews.columns,\n",
        "                                 'missings_info_reviews': missings_info_reviews})\n",
        "\n",
        "listado_missing_info_reviews.sort_values('missings_info_reviews', ascending = False, inplace=True)\n",
        "\n",
        "listado_missing_info_reviews.head(14)"
      ],
      "execution_count": 18,
      "outputs": [
        {
          "output_type": "execute_result",
          "data": {
            "text/html": [
              "<div>\n",
              "<style scoped>\n",
              "    .dataframe tbody tr th:only-of-type {\n",
              "        vertical-align: middle;\n",
              "    }\n",
              "\n",
              "    .dataframe tbody tr th {\n",
              "        vertical-align: top;\n",
              "    }\n",
              "\n",
              "    .dataframe thead th {\n",
              "        text-align: right;\n",
              "    }\n",
              "</style>\n",
              "<table border=\"1\" class=\"dataframe\">\n",
              "  <thead>\n",
              "    <tr style=\"text-align: right;\">\n",
              "      <th></th>\n",
              "      <th>column_name</th>\n",
              "      <th>missings_info_reviews</th>\n",
              "    </tr>\n",
              "  </thead>\n",
              "  <tbody>\n",
              "    <tr>\n",
              "      <th>review_scores_value</th>\n",
              "      <td>review_scores_value</td>\n",
              "      <td>41.665673</td>\n",
              "    </tr>\n",
              "    <tr>\n",
              "      <th>review_scores_checkin</th>\n",
              "      <td>review_scores_checkin</td>\n",
              "      <td>41.653750</td>\n",
              "    </tr>\n",
              "    <tr>\n",
              "      <th>review_scores_location</th>\n",
              "      <td>review_scores_location</td>\n",
              "      <td>41.653750</td>\n",
              "    </tr>\n",
              "    <tr>\n",
              "      <th>review_scores_communication</th>\n",
              "      <td>review_scores_communication</td>\n",
              "      <td>41.647788</td>\n",
              "    </tr>\n",
              "    <tr>\n",
              "      <th>review_scores_accuracy</th>\n",
              "      <td>review_scores_accuracy</td>\n",
              "      <td>41.623942</td>\n",
              "    </tr>\n",
              "    <tr>\n",
              "      <th>review_scores_cleanliness</th>\n",
              "      <td>review_scores_cleanliness</td>\n",
              "      <td>41.617980</td>\n",
              "    </tr>\n",
              "    <tr>\n",
              "      <th>review_scores_rating</th>\n",
              "      <td>review_scores_rating</td>\n",
              "      <td>41.600095</td>\n",
              "    </tr>\n",
              "    <tr>\n",
              "      <th>first_review</th>\n",
              "      <td>first_review</td>\n",
              "      <td>40.199118</td>\n",
              "    </tr>\n",
              "    <tr>\n",
              "      <th>last_review</th>\n",
              "      <td>last_review</td>\n",
              "      <td>40.199118</td>\n",
              "    </tr>\n",
              "    <tr>\n",
              "      <th>number_of_reviews</th>\n",
              "      <td>number_of_reviews</td>\n",
              "      <td>0.005962</td>\n",
              "    </tr>\n",
              "    <tr>\n",
              "      <th>number_of_reviews_ltm</th>\n",
              "      <td>number_of_reviews_ltm</td>\n",
              "      <td>0.005962</td>\n",
              "    </tr>\n",
              "  </tbody>\n",
              "</table>\n",
              "</div>"
            ],
            "text/plain": [
              "                                             column_name  missings_info_reviews\n",
              "review_scores_value                  review_scores_value              41.665673\n",
              "review_scores_checkin              review_scores_checkin              41.653750\n",
              "review_scores_location            review_scores_location              41.653750\n",
              "review_scores_communication  review_scores_communication              41.647788\n",
              "review_scores_accuracy            review_scores_accuracy              41.623942\n",
              "review_scores_cleanliness      review_scores_cleanliness              41.617980\n",
              "review_scores_rating                review_scores_rating              41.600095\n",
              "first_review                                first_review              40.199118\n",
              "last_review                                  last_review              40.199118\n",
              "number_of_reviews                      number_of_reviews               0.005962\n",
              "number_of_reviews_ltm              number_of_reviews_ltm               0.005962"
            ]
          },
          "metadata": {
            "tags": []
          },
          "execution_count": 18
        }
      ]
    },
    {
      "cell_type": "code",
      "metadata": {
        "colab": {
          "base_uri": "https://localhost:8080/",
          "height": 528
        },
        "id": "qzPk4wE990HM",
        "outputId": "f4b957b3-fb8c-4a79-cbb1-0f1de663a210"
      },
      "source": [
        "prod_count_reviews = pd.DataFrame(listado_missing_info_reviews.sort_index().head(20))\n",
        "plt.figure()\n",
        "sns.set_theme(style=\"darkgrid\")\n",
        "sns.barplot(listado_missing_info_reviews[:10].index,\n",
        "            listado_missing_info_reviews[:10]['missings_info_reviews'].values, alpha=1, color = 'Salmon')\n",
        "plt.title('NaN en Info. Reviews')\n",
        "plt.ylabel('% De NaN', fontsize=12)\n",
        "plt.xlabel('Columnas', fontsize=12)\n",
        "plt.xticks(rotation=90)\n",
        "plt.show()"
      ],
      "execution_count": 19,
      "outputs": [
        {
          "output_type": "stream",
          "text": [
            "/usr/local/lib/python3.7/dist-packages/seaborn/_decorators.py:43: FutureWarning:\n",
            "\n",
            "Pass the following variables as keyword args: x, y. From version 0.12, the only valid positional argument will be `data`, and passing other arguments without an explicit keyword will result in an error or misinterpretation.\n",
            "\n"
          ],
          "name": "stderr"
        },
        {
          "output_type": "display_data",
          "data": {
            "image/png": "[encoded data removed]",
            "text/plain": [
              "<Figure size 432x288 with 1 Axes>"
            ]
          },
          "metadata": {
            "tags": []
          }
        }
      ]
    },
    {
      "cell_type": "markdown",
      "metadata": {
        "id": "USQ5tT4jqLHY"
      },
      "source": [
        "De las 11 columnas del subset nos quedamos con la(s) siguiente(s): \n",
        "\n",
        "* 'number_of_reviews': Cantidad de reviews de la publicación. \n",
        "* 'first_review': Variable de serie temporal a la que se le puede dar uso. \n",
        "* 'last_review': Mismo que 'first_review'. \n",
        "* 'review_scores_XXX': Vamos a intentar usar todas las variables de este tipo, aunque presenten un valor alto de NaN. \n",
        "\n",
        "Y descartamos: \n",
        "\n",
        "'number_of_reviews_ltm': Valor repetido. "
      ]
    },
    {
      "cell_type": "markdown",
      "metadata": {
        "id": "LTqd14y8sCk1"
      },
      "source": [
        "##### **Otros**\n",
        "\n",
        "* Revisión general.\n",
        "* Relevamiento de NaN's por columna. "
      ]
    },
    {
      "cell_type": "code",
      "metadata": {
        "colab": {
          "base_uri": "https://localhost:8080/",
          "height": 224
        },
        "id": "JJSo53pOsKgX",
        "outputId": "354aeee0-37a4-4231-fbeb-b0c09db0d218"
      },
      "source": [
        "listado_info_otros = pd.DataFrame(listado[['requires_license', 'license', 'jurisdiction_names',\n",
        "                                             'instant_bookable', 'is_business_travel_ready', 'cancellation_policy',\n",
        "                                             'require_guest_profile_picture', 'require_guest_phone_verification',\n",
        "                                             'calculated_host_listings_count', 'calculated_host_listings_count_entire_homes',\n",
        "                                             'calculated_host_listings_count_private_rooms', \n",
        "                                             'calculated_host_listings_count_shared_rooms', 'reviews_per_month']])\n",
        "listado_info_otros.head()"
      ],
      "execution_count": 20,
      "outputs": [
        {
          "output_type": "execute_result",
          "data": {
            "text/html": [
              "<div>\n",
              "<style scoped>\n",
              "    .dataframe tbody tr th:only-of-type {\n",
              "        vertical-align: middle;\n",
              "    }\n",
              "\n",
              "    .dataframe tbody tr th {\n",
              "        vertical-align: top;\n",
              "    }\n",
              "\n",
              "    .dataframe thead th {\n",
              "        text-align: right;\n",
              "    }\n",
              "</style>\n",
              "<table border=\"1\" class=\"dataframe\">\n",
              "  <thead>\n",
              "    <tr style=\"text-align: right;\">\n",
              "      <th></th>\n",
              "      <th>requires_license</th>\n",
              "      <th>license</th>\n",
              "      <th>jurisdiction_names</th>\n",
              "      <th>instant_bookable</th>\n",
              "      <th>is_business_travel_ready</th>\n",
              "      <th>cancellation_policy</th>\n",
              "      <th>require_guest_profile_picture</th>\n",
              "      <th>require_guest_phone_verification</th>\n",
              "      <th>calculated_host_listings_count</th>\n",
              "      <th>calculated_host_listings_count_entire_homes</th>\n",
              "      <th>calculated_host_listings_count_private_rooms</th>\n",
              "      <th>calculated_host_listings_count_shared_rooms</th>\n",
              "      <th>reviews_per_month</th>\n",
              "    </tr>\n",
              "  </thead>\n",
              "  <tbody>\n",
              "    <tr>\n",
              "      <th>0</th>\n",
              "      <td>t</td>\n",
              "      <td>ETV-3045</td>\n",
              "      <td>NaN</td>\n",
              "      <td>t</td>\n",
              "      <td>f</td>\n",
              "      <td>strict_14_with_grace_period</td>\n",
              "      <td>f</td>\n",
              "      <td>f</td>\n",
              "      <td>1.0</td>\n",
              "      <td>1.0</td>\n",
              "      <td>0.0</td>\n",
              "      <td>0.0</td>\n",
              "      <td>2.26</td>\n",
              "    </tr>\n",
              "    <tr>\n",
              "      <th>1</th>\n",
              "      <td>t</td>\n",
              "      <td>ETV/6127</td>\n",
              "      <td>NaN</td>\n",
              "      <td>t</td>\n",
              "      <td>f</td>\n",
              "      <td>strict_14_with_grace_period</td>\n",
              "      <td>f</td>\n",
              "      <td>t</td>\n",
              "      <td>2.0</td>\n",
              "      <td>2.0</td>\n",
              "      <td>0.0</td>\n",
              "      <td>0.0</td>\n",
              "      <td>0.15</td>\n",
              "    </tr>\n",
              "    <tr>\n",
              "      <th>2</th>\n",
              "      <td>t</td>\n",
              "      <td>ET/1961</td>\n",
              "      <td>NaN</td>\n",
              "      <td>f</td>\n",
              "      <td>f</td>\n",
              "      <td>strict_14_with_grace_period</td>\n",
              "      <td>f</td>\n",
              "      <td>f</td>\n",
              "      <td>1.0</td>\n",
              "      <td>1.0</td>\n",
              "      <td>0.0</td>\n",
              "      <td>0.0</td>\n",
              "      <td>0.10</td>\n",
              "    </tr>\n",
              "    <tr>\n",
              "      <th>3</th>\n",
              "      <td>t</td>\n",
              "      <td>NaN</td>\n",
              "      <td>NaN</td>\n",
              "      <td>t</td>\n",
              "      <td>f</td>\n",
              "      <td>flexible</td>\n",
              "      <td>f</td>\n",
              "      <td>f</td>\n",
              "      <td>3.0</td>\n",
              "      <td>0.0</td>\n",
              "      <td>3.0</td>\n",
              "      <td>0.0</td>\n",
              "      <td>NaN</td>\n",
              "    </tr>\n",
              "    <tr>\n",
              "      <th>4</th>\n",
              "      <td>t</td>\n",
              "      <td>ETV 6561</td>\n",
              "      <td>NaN</td>\n",
              "      <td>t</td>\n",
              "      <td>f</td>\n",
              "      <td>strict_14_with_grace_period</td>\n",
              "      <td>f</td>\n",
              "      <td>f</td>\n",
              "      <td>3.0</td>\n",
              "      <td>0.0</td>\n",
              "      <td>3.0</td>\n",
              "      <td>0.0</td>\n",
              "      <td>0.43</td>\n",
              "    </tr>\n",
              "  </tbody>\n",
              "</table>\n",
              "</div>"
            ],
            "text/plain": [
              "  requires_license  ... reviews_per_month\n",
              "0                t  ...              2.26\n",
              "1                t  ...              0.15\n",
              "2                t  ...              0.10\n",
              "3                t  ...               NaN\n",
              "4                t  ...              0.43\n",
              "\n",
              "[5 rows x 13 columns]"
            ]
          },
          "metadata": {
            "tags": []
          },
          "execution_count": 20
        }
      ]
    },
    {
      "cell_type": "code",
      "metadata": {
        "colab": {
          "base_uri": "https://localhost:8080/",
          "height": 452
        },
        "id": "t9W03IsC-XBI",
        "outputId": "a82f566c-d53a-429a-dba6-9a760f62d815"
      },
      "source": [
        "missings_info_otros = listado_info_otros.isnull().sum() * 100 / len(listado_info_otros)\n",
        "listado_missing_info_otros = pd.DataFrame({'column_name': listado_info_otros.columns,\n",
        "                                 'missings_info_otros': missings_info_otros})\n",
        "\n",
        "listado_missing_info_otros.sort_values('missings_info_otros', ascending = False, inplace=True)\n",
        "\n",
        "listado_missing_info_otros.head(14)"
      ],
      "execution_count": 21,
      "outputs": [
        {
          "output_type": "execute_result",
          "data": {
            "text/html": [
              "<div>\n",
              "<style scoped>\n",
              "    .dataframe tbody tr th:only-of-type {\n",
              "        vertical-align: middle;\n",
              "    }\n",
              "\n",
              "    .dataframe tbody tr th {\n",
              "        vertical-align: top;\n",
              "    }\n",
              "\n",
              "    .dataframe thead th {\n",
              "        text-align: right;\n",
              "    }\n",
              "</style>\n",
              "<table border=\"1\" class=\"dataframe\">\n",
              "  <thead>\n",
              "    <tr style=\"text-align: right;\">\n",
              "      <th></th>\n",
              "      <th>column_name</th>\n",
              "      <th>missings_info_otros</th>\n",
              "    </tr>\n",
              "  </thead>\n",
              "  <tbody>\n",
              "    <tr>\n",
              "      <th>jurisdiction_names</th>\n",
              "      <td>jurisdiction_names</td>\n",
              "      <td>100.000000</td>\n",
              "    </tr>\n",
              "    <tr>\n",
              "      <th>reviews_per_month</th>\n",
              "      <td>reviews_per_month</td>\n",
              "      <td>40.205079</td>\n",
              "    </tr>\n",
              "    <tr>\n",
              "      <th>license</th>\n",
              "      <td>license</td>\n",
              "      <td>37.152736</td>\n",
              "    </tr>\n",
              "    <tr>\n",
              "      <th>requires_license</th>\n",
              "      <td>requires_license</td>\n",
              "      <td>0.011923</td>\n",
              "    </tr>\n",
              "    <tr>\n",
              "      <th>instant_bookable</th>\n",
              "      <td>instant_bookable</td>\n",
              "      <td>0.011923</td>\n",
              "    </tr>\n",
              "    <tr>\n",
              "      <th>is_business_travel_ready</th>\n",
              "      <td>is_business_travel_ready</td>\n",
              "      <td>0.011923</td>\n",
              "    </tr>\n",
              "    <tr>\n",
              "      <th>cancellation_policy</th>\n",
              "      <td>cancellation_policy</td>\n",
              "      <td>0.011923</td>\n",
              "    </tr>\n",
              "    <tr>\n",
              "      <th>require_guest_profile_picture</th>\n",
              "      <td>require_guest_profile_picture</td>\n",
              "      <td>0.011923</td>\n",
              "    </tr>\n",
              "    <tr>\n",
              "      <th>require_guest_phone_verification</th>\n",
              "      <td>require_guest_phone_verification</td>\n",
              "      <td>0.011923</td>\n",
              "    </tr>\n",
              "    <tr>\n",
              "      <th>calculated_host_listings_count</th>\n",
              "      <td>calculated_host_listings_count</td>\n",
              "      <td>0.011923</td>\n",
              "    </tr>\n",
              "    <tr>\n",
              "      <th>calculated_host_listings_count_entire_homes</th>\n",
              "      <td>calculated_host_listings_count_entire_homes</td>\n",
              "      <td>0.011923</td>\n",
              "    </tr>\n",
              "    <tr>\n",
              "      <th>calculated_host_listings_count_private_rooms</th>\n",
              "      <td>calculated_host_listings_count_private_rooms</td>\n",
              "      <td>0.011923</td>\n",
              "    </tr>\n",
              "    <tr>\n",
              "      <th>calculated_host_listings_count_shared_rooms</th>\n",
              "      <td>calculated_host_listings_count_shared_rooms</td>\n",
              "      <td>0.011923</td>\n",
              "    </tr>\n",
              "  </tbody>\n",
              "</table>\n",
              "</div>"
            ],
            "text/plain": [
              "                                                                               column_name  missings_info_otros\n",
              "jurisdiction_names                                                      jurisdiction_names           100.000000\n",
              "reviews_per_month                                                        reviews_per_month            40.205079\n",
              "license                                                                            license            37.152736\n",
              "requires_license                                                          requires_license             0.011923\n",
              "instant_bookable                                                          instant_bookable             0.011923\n",
              "is_business_travel_ready                                          is_business_travel_ready             0.011923\n",
              "cancellation_policy                                                    cancellation_policy             0.011923\n",
              "require_guest_profile_picture                                require_guest_profile_picture             0.011923\n",
              "require_guest_phone_verification                          require_guest_phone_verification             0.011923\n",
              "calculated_host_listings_count                              calculated_host_listings_count             0.011923\n",
              "calculated_host_listings_count_entire_homes    calculated_host_listings_count_entire_homes             0.011923\n",
              "calculated_host_listings_count_private_rooms  calculated_host_listings_count_private_rooms             0.011923\n",
              "calculated_host_listings_count_shared_rooms    calculated_host_listings_count_shared_rooms             0.011923"
            ]
          },
          "metadata": {
            "tags": []
          },
          "execution_count": 21
        }
      ]
    },
    {
      "cell_type": "code",
      "metadata": {
        "colab": {
          "base_uri": "https://localhost:8080/",
          "height": 467
        },
        "id": "-evTXe2M-W7c",
        "outputId": "1aa0fd18-2317-42e6-9948-2adef25f204e"
      },
      "source": [
        "prod_count_otros = pd.DataFrame(listado_missing_info_otros.sort_index().head(20))\n",
        "plt.figure()\n",
        "sns.set_theme(style=\"darkgrid\")\n",
        "sns.barplot(listado_missing_info_otros[:4].index, \n",
        "            listado_missing_info_otros[:4]['missings_info_otros'].values, alpha=1, color = 'Salmon')\n",
        "plt.title('NaN en Otros')\n",
        "plt.ylabel('% De NaN', fontsize=12)\n",
        "plt.xlabel('Columnas', fontsize=12)\n",
        "plt.xticks(rotation=90)\n",
        "plt.show()"
      ],
      "execution_count": 22,
      "outputs": [
        {
          "output_type": "stream",
          "text": [
            "/usr/local/lib/python3.7/dist-packages/seaborn/_decorators.py:43: FutureWarning:\n",
            "\n",
            "Pass the following variables as keyword args: x, y. From version 0.12, the only valid positional argument will be `data`, and passing other arguments without an explicit keyword will result in an error or misinterpretation.\n",
            "\n"
          ],
          "name": "stderr"
        },
        {
          "output_type": "display_data",
          "data": {
            "image/png": "[encoded data removed]",
            "text/plain": [
              "<Figure size 432x288 with 1 Axes>"
            ]
          },
          "metadata": {
            "tags": []
          }
        }
      ]
    },
    {
      "cell_type": "markdown",
      "metadata": {
        "id": "I7kYesuKsaZZ"
      },
      "source": [
        "De las 13 columnas del subset nos quedamos con la(s) siguiente(s): \n",
        "\n",
        "\n",
        "* 'instant_bookable': Booleano que puede ser útil en la etapa de análisis. \n",
        "* 'is_business_travel_ready': Solo contiene 'f'.\n",
        "* 'cancellation_policy': Variable categórica. \n",
        "* 'require_guest_profile_picture': Booleano que puede ser útil en la etapa de análisis. \n",
        "* 'require_guest_phone_verification': Booleano que puede ser útil en la etapa de análisis. \n",
        "* 'calculated_host_listings_count': Variable numérica que puede ser útil en la etapa de análisis. \n",
        "\n",
        "\n",
        "Y descartamos: \n",
        "\n",
        "* 'requires_license': Todos los valores son t. \n",
        "* 'reviews_per_month': NaN\n",
        "* 'license': NaN\n",
        "* 'jurisdiction_names': NaN\n",
        "* 'calculated_host_listings_count_entire_homes': Comprendida en 'calculated_host_listings_count'\n",
        "* 'calculated_host_listings_count_private_rooms' : Comprendida en 'calculated_host_listings_count'\n",
        "* 'calculated_host_listings_count_shared_rooms': Comprendida en 'calculated_host_listings_count'\n",
        "\n",
        "\n",
        "\n"
      ]
    },
    {
      "cell_type": "markdown",
      "metadata": {
        "id": "roZiNpnZF7Rf"
      },
      "source": [
        "#### **Conclusión y creación del DataFrame**"
      ]
    },
    {
      "cell_type": "markdown",
      "metadata": {
        "id": "eqZVfIekJVx1"
      },
      "source": [
        "Terminada la interpretación de los datos y el primer filtro de columnas, creamos el dataframe del dataset listado, que está formado por las columnas ahora consideradas relevantes. "
      ]
    },
    {
      "cell_type": "code",
      "metadata": {
        "colab": {
          "base_uri": "https://localhost:8080/",
          "height": 0
        },
        "id": "-YoaUpTTJVHf",
        "outputId": "6501dfb4-1eea-421c-ff31-f9f0ae5fcf98"
      },
      "source": [
        "df_listado = pd.DataFrame(listado[['id' ,'host_name', 'host_since', 'host_location', \n",
        "                                    'host_about','host_is_superhost', 'host_has_profile_pic',\n",
        "                                    'host_identity_verified', 'neighbourhood_cleansed', 'latitude', \n",
        "                                    'longitude', 'property_type', 'room_type', 'accommodates', 'bathrooms', \n",
        "                                    'bedrooms', 'beds', 'bed_type', 'amenities', 'price', 'security_deposit', \n",
        "                                    'cleaning_fee', 'guests_included', 'extra_people', 'minimum_nights', 'number_of_reviews',\n",
        "                                    'first_review', 'last_review', 'review_scores_rating', 'review_scores_accuracy', 'review_scores_cleanliness',\n",
        "                                    'review_scores_checkin', 'review_scores_communication', 'review_scores_location',\n",
        "                                    'review_scores_value', 'instant_bookable' , 'is_business_travel_ready', 'cancellation_policy', \n",
        "                                    'require_guest_profile_picture', 'require_guest_phone_verification', 'calculated_host_listings_count']])\n",
        "\n",
        "df_listado.head(2)"
      ],
      "execution_count": 23,
      "outputs": [
        {
          "output_type": "execute_result",
          "data": {
            "text/html": [
              "<div>\n",
              "<style scoped>\n",
              "    .dataframe tbody tr th:only-of-type {\n",
              "        vertical-align: middle;\n",
              "    }\n",
              "\n",
              "    .dataframe tbody tr th {\n",
              "        vertical-align: top;\n",
              "    }\n",
              "\n",
              "    .dataframe thead th {\n",
              "        text-align: right;\n",
              "    }\n",
              "</style>\n",
              "<table border=\"1\" class=\"dataframe\">\n",
              "  <thead>\n",
              "    <tr style=\"text-align: right;\">\n",
              "      <th></th>\n",
              "      <th>id</th>\n",
              "      <th>host_name</th>\n",
              "      <th>host_since</th>\n",
              "      <th>host_location</th>\n",
              "      <th>host_about</th>\n",
              "      <th>host_is_superhost</th>\n",
              "      <th>host_has_profile_pic</th>\n",
              "      <th>host_identity_verified</th>\n",
              "      <th>neighbourhood_cleansed</th>\n",
              "      <th>latitude</th>\n",
              "      <th>longitude</th>\n",
              "      <th>property_type</th>\n",
              "      <th>room_type</th>\n",
              "      <th>accommodates</th>\n",
              "      <th>bathrooms</th>\n",
              "      <th>bedrooms</th>\n",
              "      <th>beds</th>\n",
              "      <th>bed_type</th>\n",
              "      <th>amenities</th>\n",
              "      <th>price</th>\n",
              "      <th>security_deposit</th>\n",
              "      <th>cleaning_fee</th>\n",
              "      <th>guests_included</th>\n",
              "      <th>extra_people</th>\n",
              "      <th>minimum_nights</th>\n",
              "      <th>number_of_reviews</th>\n",
              "      <th>first_review</th>\n",
              "      <th>last_review</th>\n",
              "      <th>review_scores_rating</th>\n",
              "      <th>review_scores_accuracy</th>\n",
              "      <th>review_scores_cleanliness</th>\n",
              "      <th>review_scores_checkin</th>\n",
              "      <th>review_scores_communication</th>\n",
              "      <th>review_scores_location</th>\n",
              "      <th>review_scores_value</th>\n",
              "      <th>instant_bookable</th>\n",
              "      <th>is_business_travel_ready</th>\n",
              "      <th>cancellation_policy</th>\n",
              "      <th>require_guest_profile_picture</th>\n",
              "      <th>require_guest_phone_verification</th>\n",
              "      <th>calculated_host_listings_count</th>\n",
              "    </tr>\n",
              "  </thead>\n",
              "  <tbody>\n",
              "    <tr>\n",
              "      <th>0</th>\n",
              "      <td>100831</td>\n",
              "      <td>Miguel</td>\n",
              "      <td>2011-04-23</td>\n",
              "      <td>Mallorca</td>\n",
              "      <td>Somos una pareja con los mismos gustos e inter...</td>\n",
              "      <td>f</td>\n",
              "      <td>t</td>\n",
              "      <td>t</td>\n",
              "      <td>Santa Margalida</td>\n",
              "      <td>39.76347</td>\n",
              "      <td>3.16255</td>\n",
              "      <td>House</td>\n",
              "      <td>Entire home/apt</td>\n",
              "      <td>8.0</td>\n",
              "      <td>3.0</td>\n",
              "      <td>4.0</td>\n",
              "      <td>7.0</td>\n",
              "      <td>Real Bed</td>\n",
              "      <td>{TV,\"Cable TV\",Internet,Wifi,\"Air conditioning...</td>\n",
              "      <td>$155.00</td>\n",
              "      <td>$0.00</td>\n",
              "      <td>$100.00</td>\n",
              "      <td>1.0</td>\n",
              "      <td>$0.00</td>\n",
              "      <td>4</td>\n",
              "      <td>20</td>\n",
              "      <td>2018-10-06</td>\n",
              "      <td>2019-04-27</td>\n",
              "      <td>99.0</td>\n",
              "      <td>10.0</td>\n",
              "      <td>10.0</td>\n",
              "      <td>10.0</td>\n",
              "      <td>10.0</td>\n",
              "      <td>9.0</td>\n",
              "      <td>10.0</td>\n",
              "      <td>t</td>\n",
              "      <td>f</td>\n",
              "      <td>strict_14_with_grace_period</td>\n",
              "      <td>f</td>\n",
              "      <td>f</td>\n",
              "      <td>1.0</td>\n",
              "    </tr>\n",
              "    <tr>\n",
              "      <th>1</th>\n",
              "      <td>105891</td>\n",
              "      <td>Bartomeu</td>\n",
              "      <td>2011-05-01</td>\n",
              "      <td>Ariany, Balearic Islands, Spain</td>\n",
              "      <td>Hola!. Resido en una casa de campo de un puebl...</td>\n",
              "      <td>t</td>\n",
              "      <td>t</td>\n",
              "      <td>t</td>\n",
              "      <td>Maria de la Salut</td>\n",
              "      <td>39.66044</td>\n",
              "      <td>3.07165</td>\n",
              "      <td>Townhouse</td>\n",
              "      <td>Entire home/apt</td>\n",
              "      <td>6.0</td>\n",
              "      <td>2.0</td>\n",
              "      <td>3.0</td>\n",
              "      <td>4.0</td>\n",
              "      <td>Real Bed</td>\n",
              "      <td>{TV,\"Cable TV\",Wifi,\"Air conditioning\",Pool,Ki...</td>\n",
              "      <td>$90.00</td>\n",
              "      <td>NaN</td>\n",
              "      <td>NaN</td>\n",
              "      <td>4.0</td>\n",
              "      <td>$10.00</td>\n",
              "      <td>7</td>\n",
              "      <td>13</td>\n",
              "      <td>2012-06-19</td>\n",
              "      <td>2019-05-09</td>\n",
              "      <td>97.0</td>\n",
              "      <td>10.0</td>\n",
              "      <td>10.0</td>\n",
              "      <td>10.0</td>\n",
              "      <td>10.0</td>\n",
              "      <td>9.0</td>\n",
              "      <td>10.0</td>\n",
              "      <td>t</td>\n",
              "      <td>f</td>\n",
              "      <td>strict_14_with_grace_period</td>\n",
              "      <td>f</td>\n",
              "      <td>t</td>\n",
              "      <td>2.0</td>\n",
              "    </tr>\n",
              "  </tbody>\n",
              "</table>\n",
              "</div>"
            ],
            "text/plain": [
              "       id  ... calculated_host_listings_count\n",
              "0  100831  ...                            1.0\n",
              "1  105891  ...                            2.0\n",
              "\n",
              "[2 rows x 41 columns]"
            ]
          },
          "metadata": {
            "tags": []
          },
          "execution_count": 23
        }
      ]
    },
    {
      "cell_type": "code",
      "metadata": {
        "colab": {
          "base_uri": "https://localhost:8080/"
        },
        "id": "kYeBj4cWMRiZ",
        "outputId": "91b88e19-1cff-4bc1-9fed-916407a14cf3"
      },
      "source": [
        "df_listado.shape"
      ],
      "execution_count": 24,
      "outputs": [
        {
          "output_type": "execute_result",
          "data": {
            "text/plain": [
              "(16774, 41)"
            ]
          },
          "metadata": {
            "tags": []
          },
          "execution_count": 24
        }
      ]
    },
    {
      "cell_type": "markdown",
      "metadata": {
        "id": "4vkdMpzQMa_u"
      },
      "source": [
        "Redujimos a 41 las columnas del dataframe original, y ahora podemos comenzar con la limpieza. "
      ]
    },
    {
      "cell_type": "markdown",
      "metadata": {
        "id": "QuIq4Ro8MRk9"
      },
      "source": [
        "### LIMPIEZA\n",
        "\n",
        "Una vez adentrados en el contexto del dataset, realizamos la limpieza necesaria para poder pasar a la transformación de los datos y luego explotar el dataframe. "
      ]
    },
    {
      "cell_type": "markdown",
      "metadata": {
        "id": "L-8tMb0TNtpz"
      },
      "source": [
        "#### **Explicación del paso**"
      ]
    },
    {
      "cell_type": "markdown",
      "metadata": {
        "id": "IFTSr8PCNfT9"
      },
      "source": [
        "El dataframe listado contiene 41 columnas y 16774 entries. Estas columnas pasaron por un primer paso de interpretación, sin embargo, aún hay varias preguntas que hacerse respecto a la calidad de los datos: \n",
        "\n",
        "* **¿Qué decisión hay que tomar respecto a las columnas que todavía presentan datos NaN?**\n",
        "* **¿Son convenientes los dtypes actuales de los datos en las columnas? ¿Qué columnas vale la pena llevar al paso siguiente de transformación?**"
      ]
    },
    {
      "cell_type": "markdown",
      "metadata": {
        "id": "_fFhKvYCIx2X"
      },
      "source": [
        "#### **Implementación**"
      ]
    },
    {
      "cell_type": "markdown",
      "metadata": {
        "id": "ZiCPsU17SKcL"
      },
      "source": [
        "##### **Análisis NaN**\n",
        "\n",
        "Repetimos el análisis de porcentaje de NaN's por columna, con su respectivo gráfico, para el df_listado. "
      ]
    },
    {
      "cell_type": "code",
      "metadata": {
        "colab": {
          "base_uri": "https://localhost:8080/",
          "height": 0
        },
        "id": "j0h2HCkgSZKP",
        "outputId": "5cb0160d-4e00-4d96-c68b-4232fda46cde"
      },
      "source": [
        "missings_info_df = df_listado.isnull().sum() * 100 / len(df_listado)\n",
        "listado_missing_info_df = pd.DataFrame({'column_name': df_listado.columns,\n",
        "                                 'missings_info_df': missings_info_df})\n",
        "\n",
        "listado_missing_info_df.sort_values('missings_info_df', ascending = False, inplace=True)\n",
        "\n",
        "listado_missing_info_df.head(13)"
      ],
      "execution_count": 25,
      "outputs": [
        {
          "output_type": "execute_result",
          "data": {
            "text/html": [
              "<div>\n",
              "<style scoped>\n",
              "    .dataframe tbody tr th:only-of-type {\n",
              "        vertical-align: middle;\n",
              "    }\n",
              "\n",
              "    .dataframe tbody tr th {\n",
              "        vertical-align: top;\n",
              "    }\n",
              "\n",
              "    .dataframe thead th {\n",
              "        text-align: right;\n",
              "    }\n",
              "</style>\n",
              "<table border=\"1\" class=\"dataframe\">\n",
              "  <thead>\n",
              "    <tr style=\"text-align: right;\">\n",
              "      <th></th>\n",
              "      <th>column_name</th>\n",
              "      <th>missings_info_df</th>\n",
              "    </tr>\n",
              "  </thead>\n",
              "  <tbody>\n",
              "    <tr>\n",
              "      <th>review_scores_value</th>\n",
              "      <td>review_scores_value</td>\n",
              "      <td>41.665673</td>\n",
              "    </tr>\n",
              "    <tr>\n",
              "      <th>review_scores_checkin</th>\n",
              "      <td>review_scores_checkin</td>\n",
              "      <td>41.653750</td>\n",
              "    </tr>\n",
              "    <tr>\n",
              "      <th>review_scores_location</th>\n",
              "      <td>review_scores_location</td>\n",
              "      <td>41.653750</td>\n",
              "    </tr>\n",
              "    <tr>\n",
              "      <th>review_scores_communication</th>\n",
              "      <td>review_scores_communication</td>\n",
              "      <td>41.647788</td>\n",
              "    </tr>\n",
              "    <tr>\n",
              "      <th>review_scores_accuracy</th>\n",
              "      <td>review_scores_accuracy</td>\n",
              "      <td>41.623942</td>\n",
              "    </tr>\n",
              "    <tr>\n",
              "      <th>review_scores_cleanliness</th>\n",
              "      <td>review_scores_cleanliness</td>\n",
              "      <td>41.617980</td>\n",
              "    </tr>\n",
              "    <tr>\n",
              "      <th>review_scores_rating</th>\n",
              "      <td>review_scores_rating</td>\n",
              "      <td>41.600095</td>\n",
              "    </tr>\n",
              "    <tr>\n",
              "      <th>first_review</th>\n",
              "      <td>first_review</td>\n",
              "      <td>40.199118</td>\n",
              "    </tr>\n",
              "    <tr>\n",
              "      <th>last_review</th>\n",
              "      <td>last_review</td>\n",
              "      <td>40.199118</td>\n",
              "    </tr>\n",
              "    <tr>\n",
              "      <th>host_about</th>\n",
              "      <td>host_about</td>\n",
              "      <td>34.517706</td>\n",
              "    </tr>\n",
              "    <tr>\n",
              "      <th>security_deposit</th>\n",
              "      <td>security_deposit</td>\n",
              "      <td>25.283176</td>\n",
              "    </tr>\n",
              "    <tr>\n",
              "      <th>cleaning_fee</th>\n",
              "      <td>cleaning_fee</td>\n",
              "      <td>24.818171</td>\n",
              "    </tr>\n",
              "    <tr>\n",
              "      <th>beds</th>\n",
              "      <td>beds</td>\n",
              "      <td>0.506737</td>\n",
              "    </tr>\n",
              "  </tbody>\n",
              "</table>\n",
              "</div>"
            ],
            "text/plain": [
              "                                             column_name  missings_info_df\n",
              "review_scores_value                  review_scores_value         41.665673\n",
              "review_scores_checkin              review_scores_checkin         41.653750\n",
              "review_scores_location            review_scores_location         41.653750\n",
              "review_scores_communication  review_scores_communication         41.647788\n",
              "review_scores_accuracy            review_scores_accuracy         41.623942\n",
              "review_scores_cleanliness      review_scores_cleanliness         41.617980\n",
              "review_scores_rating                review_scores_rating         41.600095\n",
              "first_review                                first_review         40.199118\n",
              "last_review                                  last_review         40.199118\n",
              "host_about                                    host_about         34.517706\n",
              "security_deposit                        security_deposit         25.283176\n",
              "cleaning_fee                                cleaning_fee         24.818171\n",
              "beds                                                beds          0.506737"
            ]
          },
          "metadata": {
            "tags": []
          },
          "execution_count": 25
        }
      ]
    },
    {
      "cell_type": "code",
      "metadata": {
        "colab": {
          "base_uri": "https://localhost:8080/",
          "height": 0
        },
        "id": "Jela0CtyTZ_y",
        "outputId": "eccd60d8-7318-4ea3-a656-78da1592b517"
      },
      "source": [
        "prod_count_df = pd.DataFrame(listado_missing_info_df.sort_index().head(20))\n",
        "plt.figure()\n",
        "sns.set_theme(style=\"darkgrid\")\n",
        "sns.barplot(listado_missing_info_df[:13].index, \n",
        "            listado_missing_info_df[:13]['missings_info_df'].values, alpha=1, color = 'Salmon')\n",
        "plt.title('Percent Missing')\n",
        "plt.ylabel('Missing', fontsize=12)\n",
        "plt.xlabel('Features', fontsize=12)\n",
        "plt.xticks(rotation=90)\n",
        "plt.show()"
      ],
      "execution_count": 26,
      "outputs": [
        {
          "output_type": "stream",
          "text": [
            "/usr/local/lib/python3.7/dist-packages/seaborn/_decorators.py:43: FutureWarning:\n",
            "\n",
            "Pass the following variables as keyword args: x, y. From version 0.12, the only valid positional argument will be `data`, and passing other arguments without an explicit keyword will result in an error or misinterpretation.\n",
            "\n"
          ],
          "name": "stderr"
        },
        {
          "output_type": "display_data",
          "data": {
            "image/png": "[encoded data removed]",
            "text/plain": [
              "<Figure size 432x288 with 1 Axes>"
            ]
          },
          "metadata": {
            "tags": []
          }
        }
      ]
    },
    {
      "cell_type": "markdown",
      "metadata": {
        "id": "tQZomdRwYx2U"
      },
      "source": [
        "##### **Solución 1: dropna()**\n",
        "\n",
        "Exploramos una primer solución del proceso de limpieza, donde usamos el método dropna()."
      ]
    },
    {
      "cell_type": "markdown",
      "metadata": {
        "id": "1xlwrUiwdE7v"
      },
      "source": [
        "##### Explicación"
      ]
    },
    {
      "cell_type": "markdown",
      "metadata": {
        "id": "cVAcpYQEc2WI"
      },
      "source": [
        "Una posible solución, pensando en vistas al proceso de explotación y análisis de los datos, sería eliminar todos los registros del dataframe que tengan un NaN. \n",
        "\n",
        "La lógica detrás de esta decisión sería que una vez nos encontremos en la instancia de análisis, las reviews de las publicaciones y sus diferentes puntajes serán claves para extraer insights y conclusiones relevantes y de alto impacto. \n",
        "\n",
        " * **¿Qué regiones tienen las publicaciones con los mejores puntajes y reviews en cada categoría?**\n",
        "\n",
        " * **¿Qué características en común tienen las publicaciones con las mejores reviews/ los mejores puntajes?**\n",
        "\n",
        " * **¿Qué puntajes tienen en promedio los SuperHosts?**\n",
        "\n",
        "Estas preguntas son simplemente para mostrar la importancia que pueden llegar a tener las columnas de puntajes en la instancia de explotación. "
      ]
    },
    {
      "cell_type": "markdown",
      "metadata": {
        "id": "irbqaDCkdNy2"
      },
      "source": [
        "##### Implementación"
      ]
    },
    {
      "cell_type": "markdown",
      "metadata": {
        "id": "8HbQA3o3eirP"
      },
      "source": [
        "Realizamos entonces la limpieza final, donde descartamos aquellas filas que presentan un NaN con el método dropna(). El gráfico de NaN's nos sugiere que haciendo esto, los registros con puntajes vacíos serán eliminados. \n",
        "\n",
        "Pero es importante considerar esto: Las publicaciones con registros nulos en las columnas 'security_deposit' y 'cleaning_fee' también serán eliminadas. ¿Es conveniente esta decisión? O lo mejor será reemplazar los NaN por un valor numérico como puede ser 0, un promedio, una media, etc. \n",
        "\n",
        "Como esta decisión es delicada y vamos a revisarla, la implementación del método dropna() se hará sobre un nuevo DataFrame, a llamar df_listado_prueba1. "
      ]
    },
    {
      "cell_type": "code",
      "metadata": {
        "id": "Tb2xDDy5ZT7-"
      },
      "source": [
        "df_listado_solucion1 = df_listado.drop(df_listado[df_listado['number_of_reviews'] == 0].index)"
      ],
      "execution_count": 27,
      "outputs": []
    },
    {
      "cell_type": "code",
      "metadata": {
        "colab": {
          "base_uri": "https://localhost:8080/"
        },
        "id": "w9IbdVD0X6D-",
        "outputId": "45556e72-7001-4fce-970c-2c016fc4320c"
      },
      "source": [
        "df_listado_solucion1 = df_listado.dropna()\n",
        "df_listado_solucion1.shape"
      ],
      "execution_count": 28,
      "outputs": [
        {
          "output_type": "execute_result",
          "data": {
            "text/plain": [
              "(4684, 41)"
            ]
          },
          "metadata": {
            "tags": []
          },
          "execution_count": 28
        }
      ]
    },
    {
      "cell_type": "markdown",
      "metadata": {
        "id": "23RMxjeffpXp"
      },
      "source": [
        "Una vez aplicado el método, vemos que nos quedamos con 4684 registros, cuando la cantidad inicial era de 16774. Quizás lo mejor sea explorar la opción de reemplazar los valores de 'security_deposit' y 'cleaning_fee', y ver con cuántos registros quedamos luego de implementar el método dropna() y por ende, eliminar los registros sin puntajes solamente. "
      ]
    },
    {
      "cell_type": "markdown",
      "metadata": {
        "id": "ya4fEeH1gxgc"
      },
      "source": [
        "#### **Conclusión y creación del DataFrame**"
      ]
    },
    {
      "cell_type": "markdown",
      "metadata": {
        "id": "Xtxfi132g4yA"
      },
      "source": [
        "Finalizada la limpieza, así se ve el dataframe de listados, el cual ahora vamos a llevar al proceso de transformación. \n",
        "\n",
        " * **Consiste de 4681 entries en 41 columnas.** \n",
        " * **No presenta NaN's.**\n",
        " * **Contiene información sobre el host, información completa y en detalle de la publicación, detalles del alquiler y los puntajes de las mismas en los diferentes apartados de reviews.**\n"
      ]
    },
    {
      "cell_type": "code",
      "metadata": {
        "colab": {
          "base_uri": "https://localhost:8080/",
          "height": 0
        },
        "id": "rxujq39sYQPE",
        "outputId": "598a2535-4e81-4668-914c-70cf95ac16e2"
      },
      "source": [
        "df_listado_solucion1.head()"
      ],
      "execution_count": 29,
      "outputs": [
        {
          "output_type": "execute_result",
          "data": {
            "text/html": [
              "<div>\n",
              "<style scoped>\n",
              "    .dataframe tbody tr th:only-of-type {\n",
              "        vertical-align: middle;\n",
              "    }\n",
              "\n",
              "    .dataframe tbody tr th {\n",
              "        vertical-align: top;\n",
              "    }\n",
              "\n",
              "    .dataframe thead th {\n",
              "        text-align: right;\n",
              "    }\n",
              "</style>\n",
              "<table border=\"1\" class=\"dataframe\">\n",
              "  <thead>\n",
              "    <tr style=\"text-align: right;\">\n",
              "      <th></th>\n",
              "      <th>id</th>\n",
              "      <th>host_name</th>\n",
              "      <th>host_since</th>\n",
              "      <th>host_location</th>\n",
              "      <th>host_about</th>\n",
              "      <th>host_is_superhost</th>\n",
              "      <th>host_has_profile_pic</th>\n",
              "      <th>host_identity_verified</th>\n",
              "      <th>neighbourhood_cleansed</th>\n",
              "      <th>latitude</th>\n",
              "      <th>longitude</th>\n",
              "      <th>property_type</th>\n",
              "      <th>room_type</th>\n",
              "      <th>accommodates</th>\n",
              "      <th>bathrooms</th>\n",
              "      <th>bedrooms</th>\n",
              "      <th>beds</th>\n",
              "      <th>bed_type</th>\n",
              "      <th>amenities</th>\n",
              "      <th>price</th>\n",
              "      <th>security_deposit</th>\n",
              "      <th>cleaning_fee</th>\n",
              "      <th>guests_included</th>\n",
              "      <th>extra_people</th>\n",
              "      <th>minimum_nights</th>\n",
              "      <th>number_of_reviews</th>\n",
              "      <th>first_review</th>\n",
              "      <th>last_review</th>\n",
              "      <th>review_scores_rating</th>\n",
              "      <th>review_scores_accuracy</th>\n",
              "      <th>review_scores_cleanliness</th>\n",
              "      <th>review_scores_checkin</th>\n",
              "      <th>review_scores_communication</th>\n",
              "      <th>review_scores_location</th>\n",
              "      <th>review_scores_value</th>\n",
              "      <th>instant_bookable</th>\n",
              "      <th>is_business_travel_ready</th>\n",
              "      <th>cancellation_policy</th>\n",
              "      <th>require_guest_profile_picture</th>\n",
              "      <th>require_guest_phone_verification</th>\n",
              "      <th>calculated_host_listings_count</th>\n",
              "    </tr>\n",
              "  </thead>\n",
              "  <tbody>\n",
              "    <tr>\n",
              "      <th>0</th>\n",
              "      <td>100831</td>\n",
              "      <td>Miguel</td>\n",
              "      <td>2011-04-23</td>\n",
              "      <td>Mallorca</td>\n",
              "      <td>Somos una pareja con los mismos gustos e inter...</td>\n",
              "      <td>f</td>\n",
              "      <td>t</td>\n",
              "      <td>t</td>\n",
              "      <td>Santa Margalida</td>\n",
              "      <td>39.76347</td>\n",
              "      <td>3.16255</td>\n",
              "      <td>House</td>\n",
              "      <td>Entire home/apt</td>\n",
              "      <td>8.0</td>\n",
              "      <td>3.0</td>\n",
              "      <td>4.0</td>\n",
              "      <td>7.0</td>\n",
              "      <td>Real Bed</td>\n",
              "      <td>{TV,\"Cable TV\",Internet,Wifi,\"Air conditioning...</td>\n",
              "      <td>$155.00</td>\n",
              "      <td>$0.00</td>\n",
              "      <td>$100.00</td>\n",
              "      <td>1.0</td>\n",
              "      <td>$0.00</td>\n",
              "      <td>4</td>\n",
              "      <td>20</td>\n",
              "      <td>2018-10-06</td>\n",
              "      <td>2019-04-27</td>\n",
              "      <td>99.0</td>\n",
              "      <td>10.0</td>\n",
              "      <td>10.0</td>\n",
              "      <td>10.0</td>\n",
              "      <td>10.0</td>\n",
              "      <td>9.0</td>\n",
              "      <td>10.0</td>\n",
              "      <td>t</td>\n",
              "      <td>f</td>\n",
              "      <td>strict_14_with_grace_period</td>\n",
              "      <td>f</td>\n",
              "      <td>f</td>\n",
              "      <td>1.0</td>\n",
              "    </tr>\n",
              "    <tr>\n",
              "      <th>4</th>\n",
              "      <td>158925</td>\n",
              "      <td>Marie</td>\n",
              "      <td>2011-06-07</td>\n",
              "      <td>Palma, Balearic Islands, Spain</td>\n",
              "      <td>Hola, me llamo Marie.  Despues de haber viajad...</td>\n",
              "      <td>f</td>\n",
              "      <td>t</td>\n",
              "      <td>f</td>\n",
              "      <td>Campos</td>\n",
              "      <td>39.396609999999995</td>\n",
              "      <td>3.08728</td>\n",
              "      <td>Villa</td>\n",
              "      <td>Private room</td>\n",
              "      <td>3.0</td>\n",
              "      <td>1.0</td>\n",
              "      <td>1.0</td>\n",
              "      <td>3.0</td>\n",
              "      <td>Real Bed</td>\n",
              "      <td>{TV,Wifi,Pool,Kitchen,\"Free parking on premise...</td>\n",
              "      <td>$120.00</td>\n",
              "      <td>$200.00</td>\n",
              "      <td>$40.00</td>\n",
              "      <td>2.0</td>\n",
              "      <td>$10.00</td>\n",
              "      <td>3</td>\n",
              "      <td>37</td>\n",
              "      <td>2012-06-14</td>\n",
              "      <td>2018-10-07</td>\n",
              "      <td>94.0</td>\n",
              "      <td>10.0</td>\n",
              "      <td>9.0</td>\n",
              "      <td>10.0</td>\n",
              "      <td>10.0</td>\n",
              "      <td>9.0</td>\n",
              "      <td>9.0</td>\n",
              "      <td>t</td>\n",
              "      <td>f</td>\n",
              "      <td>strict_14_with_grace_period</td>\n",
              "      <td>f</td>\n",
              "      <td>f</td>\n",
              "      <td>3.0</td>\n",
              "    </tr>\n",
              "    <tr>\n",
              "      <th>6</th>\n",
              "      <td>160482</td>\n",
              "      <td>Marga</td>\n",
              "      <td>2011-07-02</td>\n",
              "      <td>Palma de Mallorca, Balearic Islands, Spain</td>\n",
              "      <td>Married mallorquina with 2 children that loves...</td>\n",
              "      <td>f</td>\n",
              "      <td>t</td>\n",
              "      <td>t</td>\n",
              "      <td>Esporles</td>\n",
              "      <td>39.654140000000005</td>\n",
              "      <td>2.62546</td>\n",
              "      <td>House</td>\n",
              "      <td>Entire home/apt</td>\n",
              "      <td>6.0</td>\n",
              "      <td>2.0</td>\n",
              "      <td>3.0</td>\n",
              "      <td>3.0</td>\n",
              "      <td>Real Bed</td>\n",
              "      <td>{TV,\"Cable TV\",Wifi,\"Air conditioning\",Pool,Ki...</td>\n",
              "      <td>$175.00</td>\n",
              "      <td>$350.00</td>\n",
              "      <td>$120.00</td>\n",
              "      <td>4.0</td>\n",
              "      <td>$20.00</td>\n",
              "      <td>4</td>\n",
              "      <td>54</td>\n",
              "      <td>2011-08-07</td>\n",
              "      <td>2019-06-10</td>\n",
              "      <td>96.0</td>\n",
              "      <td>10.0</td>\n",
              "      <td>10.0</td>\n",
              "      <td>10.0</td>\n",
              "      <td>10.0</td>\n",
              "      <td>10.0</td>\n",
              "      <td>9.0</td>\n",
              "      <td>f</td>\n",
              "      <td>f</td>\n",
              "      <td>strict_14_with_grace_period</td>\n",
              "      <td>t</td>\n",
              "      <td>t</td>\n",
              "      <td>1.0</td>\n",
              "    </tr>\n",
              "    <tr>\n",
              "      <th>7</th>\n",
              "      <td>164185</td>\n",
              "      <td>Maria</td>\n",
              "      <td>2011-07-07</td>\n",
              "      <td>Costa d'en Blanes, Illes Balears, Spain</td>\n",
              "      <td>I am a professional Life and Executive Coach s...</td>\n",
              "      <td>t</td>\n",
              "      <td>t</td>\n",
              "      <td>f</td>\n",
              "      <td>Palma de Mallorca</td>\n",
              "      <td>39.57302</td>\n",
              "      <td>2.64355</td>\n",
              "      <td>Guest suite</td>\n",
              "      <td>Private room</td>\n",
              "      <td>2.0</td>\n",
              "      <td>1.0</td>\n",
              "      <td>1.0</td>\n",
              "      <td>1.0</td>\n",
              "      <td>Real Bed</td>\n",
              "      <td>{Internet,Wifi,\"Air conditioning\",\"Paid parkin...</td>\n",
              "      <td>$65.00</td>\n",
              "      <td>$200.00</td>\n",
              "      <td>$30.00</td>\n",
              "      <td>1.0</td>\n",
              "      <td>$15.00</td>\n",
              "      <td>5</td>\n",
              "      <td>95</td>\n",
              "      <td>2011-08-16</td>\n",
              "      <td>2019-04-17</td>\n",
              "      <td>94.0</td>\n",
              "      <td>9.0</td>\n",
              "      <td>9.0</td>\n",
              "      <td>10.0</td>\n",
              "      <td>10.0</td>\n",
              "      <td>10.0</td>\n",
              "      <td>10.0</td>\n",
              "      <td>t</td>\n",
              "      <td>f</td>\n",
              "      <td>strict_14_with_grace_period</td>\n",
              "      <td>f</td>\n",
              "      <td>f</td>\n",
              "      <td>2.0</td>\n",
              "    </tr>\n",
              "    <tr>\n",
              "      <th>8</th>\n",
              "      <td>166820</td>\n",
              "      <td>Toni</td>\n",
              "      <td>2011-07-08</td>\n",
              "      <td>Mallorca - España</td>\n",
              "      <td>Hi People,\\r\\nYou know ... I like to have good...</td>\n",
              "      <td>f</td>\n",
              "      <td>t</td>\n",
              "      <td>t</td>\n",
              "      <td>Banyalbufar</td>\n",
              "      <td>39.679320000000004</td>\n",
              "      <td>2.50136</td>\n",
              "      <td>Bed and breakfast</td>\n",
              "      <td>Private room</td>\n",
              "      <td>2.0</td>\n",
              "      <td>1.0</td>\n",
              "      <td>1.0</td>\n",
              "      <td>2.0</td>\n",
              "      <td>Real Bed</td>\n",
              "      <td>{Wifi,Kitchen,\"Smoking allowed\",\"Pets live on ...</td>\n",
              "      <td>$35.00</td>\n",
              "      <td>$0.00</td>\n",
              "      <td>$0.00</td>\n",
              "      <td>2.0</td>\n",
              "      <td>$27.00</td>\n",
              "      <td>3</td>\n",
              "      <td>136</td>\n",
              "      <td>2011-08-08</td>\n",
              "      <td>2019-06-08</td>\n",
              "      <td>94.0</td>\n",
              "      <td>10.0</td>\n",
              "      <td>9.0</td>\n",
              "      <td>10.0</td>\n",
              "      <td>10.0</td>\n",
              "      <td>10.0</td>\n",
              "      <td>10.0</td>\n",
              "      <td>t</td>\n",
              "      <td>f</td>\n",
              "      <td>strict_14_with_grace_period</td>\n",
              "      <td>f</td>\n",
              "      <td>f</td>\n",
              "      <td>4.0</td>\n",
              "    </tr>\n",
              "  </tbody>\n",
              "</table>\n",
              "</div>"
            ],
            "text/plain": [
              "       id  ... calculated_host_listings_count\n",
              "0  100831  ...                            1.0\n",
              "4  158925  ...                            3.0\n",
              "6  160482  ...                            1.0\n",
              "7  164185  ...                            2.0\n",
              "8  166820  ...                            4.0\n",
              "\n",
              "[5 rows x 41 columns]"
            ]
          },
          "metadata": {
            "tags": []
          },
          "execution_count": 29
        }
      ]
    },
    {
      "cell_type": "markdown",
      "metadata": {
        "id": "wjVBVZTlIY-k"
      },
      "source": [
        "##### **Solución 2: dropna() conservando 'security_deposit' y 'cleaning_fee'**\n",
        "\n",
        "A partir de lo observado en los resultados de la primer posible solución, repetimos el proceso, esta vez reemplazando 'security_deposit' y 'cleaning_fee' por un valor. "
      ]
    },
    {
      "cell_type": "markdown",
      "metadata": {
        "id": "egJBkbthIxbn"
      },
      "source": [
        "##### Explicación"
      ]
    },
    {
      "cell_type": "markdown",
      "metadata": {
        "id": "HMPXPXlRK8F5"
      },
      "source": [
        "Para tratar de maximizar la cantidad de entries con las que podemos pasar a la instancia de transformación y posterior análisis, vamos a intentar preservar las instancias donde:\n",
        "*  Hay datos de puntajes y review. \n",
        "*  Hay NaN en las columnas 'security_deposit' y 'cleaning_fee'. \n",
        "\n",
        "A favor de esta solución, podemos considerar que: \n",
        "* Al ser tarifas los valores que ambas columnas representan, reemplazarlos por 0 no debería quitarle vericidad al análisis. \n",
        "* Las columnas no contienen valores elementales para el análisis. "
      ]
    },
    {
      "cell_type": "markdown",
      "metadata": {
        "id": "l_RdXrlXI2Xe"
      },
      "source": [
        "##### Implementación"
      ]
    },
    {
      "cell_type": "code",
      "metadata": {
        "id": "KBG4JMCYJVyW",
        "colab": {
          "base_uri": "https://localhost:8080/",
          "height": 0
        },
        "outputId": "df7eff91-f93b-44b3-fa28-c93c292deded"
      },
      "source": [
        "df_listado_solucion2 = df_listado\n",
        "df_listado_solucion2['security_deposit'] = df_listado_solucion2['security_deposit'].fillna(0)\n",
        "df_listado_solucion2['cleaning_fee'] = df_listado_solucion2['cleaning_fee'].fillna(0)\n",
        "df_listado_solucion2.drop(df_listado[df_listado['number_of_reviews'] == 0].index)"
      ],
      "execution_count": 30,
      "outputs": [
        {
          "output_type": "execute_result",
          "data": {
            "text/html": [
              "<div>\n",
              "<style scoped>\n",
              "    .dataframe tbody tr th:only-of-type {\n",
              "        vertical-align: middle;\n",
              "    }\n",
              "\n",
              "    .dataframe tbody tr th {\n",
              "        vertical-align: top;\n",
              "    }\n",
              "\n",
              "    .dataframe thead th {\n",
              "        text-align: right;\n",
              "    }\n",
              "</style>\n",
              "<table border=\"1\" class=\"dataframe\">\n",
              "  <thead>\n",
              "    <tr style=\"text-align: right;\">\n",
              "      <th></th>\n",
              "      <th>id</th>\n",
              "      <th>host_name</th>\n",
              "      <th>host_since</th>\n",
              "      <th>host_location</th>\n",
              "      <th>host_about</th>\n",
              "      <th>host_is_superhost</th>\n",
              "      <th>host_has_profile_pic</th>\n",
              "      <th>host_identity_verified</th>\n",
              "      <th>neighbourhood_cleansed</th>\n",
              "      <th>latitude</th>\n",
              "      <th>longitude</th>\n",
              "      <th>property_type</th>\n",
              "      <th>room_type</th>\n",
              "      <th>accommodates</th>\n",
              "      <th>bathrooms</th>\n",
              "      <th>bedrooms</th>\n",
              "      <th>beds</th>\n",
              "      <th>bed_type</th>\n",
              "      <th>amenities</th>\n",
              "      <th>price</th>\n",
              "      <th>security_deposit</th>\n",
              "      <th>cleaning_fee</th>\n",
              "      <th>guests_included</th>\n",
              "      <th>extra_people</th>\n",
              "      <th>minimum_nights</th>\n",
              "      <th>number_of_reviews</th>\n",
              "      <th>first_review</th>\n",
              "      <th>last_review</th>\n",
              "      <th>review_scores_rating</th>\n",
              "      <th>review_scores_accuracy</th>\n",
              "      <th>review_scores_cleanliness</th>\n",
              "      <th>review_scores_checkin</th>\n",
              "      <th>review_scores_communication</th>\n",
              "      <th>review_scores_location</th>\n",
              "      <th>review_scores_value</th>\n",
              "      <th>instant_bookable</th>\n",
              "      <th>is_business_travel_ready</th>\n",
              "      <th>cancellation_policy</th>\n",
              "      <th>require_guest_profile_picture</th>\n",
              "      <th>require_guest_phone_verification</th>\n",
              "      <th>calculated_host_listings_count</th>\n",
              "    </tr>\n",
              "  </thead>\n",
              "  <tbody>\n",
              "    <tr>\n",
              "      <th>0</th>\n",
              "      <td>100831</td>\n",
              "      <td>Miguel</td>\n",
              "      <td>2011-04-23</td>\n",
              "      <td>Mallorca</td>\n",
              "      <td>Somos una pareja con los mismos gustos e inter...</td>\n",
              "      <td>f</td>\n",
              "      <td>t</td>\n",
              "      <td>t</td>\n",
              "      <td>Santa Margalida</td>\n",
              "      <td>39.76347</td>\n",
              "      <td>3.16255</td>\n",
              "      <td>House</td>\n",
              "      <td>Entire home/apt</td>\n",
              "      <td>8.0</td>\n",
              "      <td>3.0</td>\n",
              "      <td>4.0</td>\n",
              "      <td>7.0</td>\n",
              "      <td>Real Bed</td>\n",
              "      <td>{TV,\"Cable TV\",Internet,Wifi,\"Air conditioning...</td>\n",
              "      <td>$155.00</td>\n",
              "      <td>$0.00</td>\n",
              "      <td>$100.00</td>\n",
              "      <td>1.0</td>\n",
              "      <td>$0.00</td>\n",
              "      <td>4</td>\n",
              "      <td>20</td>\n",
              "      <td>2018-10-06</td>\n",
              "      <td>2019-04-27</td>\n",
              "      <td>99.0</td>\n",
              "      <td>10.0</td>\n",
              "      <td>10.0</td>\n",
              "      <td>10.0</td>\n",
              "      <td>10.0</td>\n",
              "      <td>9.0</td>\n",
              "      <td>10.0</td>\n",
              "      <td>t</td>\n",
              "      <td>f</td>\n",
              "      <td>strict_14_with_grace_period</td>\n",
              "      <td>f</td>\n",
              "      <td>f</td>\n",
              "      <td>1.0</td>\n",
              "    </tr>\n",
              "    <tr>\n",
              "      <th>1</th>\n",
              "      <td>105891</td>\n",
              "      <td>Bartomeu</td>\n",
              "      <td>2011-05-01</td>\n",
              "      <td>Ariany, Balearic Islands, Spain</td>\n",
              "      <td>Hola!. Resido en una casa de campo de un puebl...</td>\n",
              "      <td>t</td>\n",
              "      <td>t</td>\n",
              "      <td>t</td>\n",
              "      <td>Maria de la Salut</td>\n",
              "      <td>39.66044</td>\n",
              "      <td>3.07165</td>\n",
              "      <td>Townhouse</td>\n",
              "      <td>Entire home/apt</td>\n",
              "      <td>6.0</td>\n",
              "      <td>2.0</td>\n",
              "      <td>3.0</td>\n",
              "      <td>4.0</td>\n",
              "      <td>Real Bed</td>\n",
              "      <td>{TV,\"Cable TV\",Wifi,\"Air conditioning\",Pool,Ki...</td>\n",
              "      <td>$90.00</td>\n",
              "      <td>0</td>\n",
              "      <td>0</td>\n",
              "      <td>4.0</td>\n",
              "      <td>$10.00</td>\n",
              "      <td>7</td>\n",
              "      <td>13</td>\n",
              "      <td>2012-06-19</td>\n",
              "      <td>2019-05-09</td>\n",
              "      <td>97.0</td>\n",
              "      <td>10.0</td>\n",
              "      <td>10.0</td>\n",
              "      <td>10.0</td>\n",
              "      <td>10.0</td>\n",
              "      <td>9.0</td>\n",
              "      <td>10.0</td>\n",
              "      <td>t</td>\n",
              "      <td>f</td>\n",
              "      <td>strict_14_with_grace_period</td>\n",
              "      <td>f</td>\n",
              "      <td>t</td>\n",
              "      <td>2.0</td>\n",
              "    </tr>\n",
              "    <tr>\n",
              "      <th>2</th>\n",
              "      <td>106833</td>\n",
              "      <td>Xisco</td>\n",
              "      <td>2011-05-02</td>\n",
              "      <td>Palma de Mallorca, Balearic Islands, Spain</td>\n",
              "      <td>I'm Xisco. I love Mallorcan way of life.</td>\n",
              "      <td>f</td>\n",
              "      <td>t</td>\n",
              "      <td>f</td>\n",
              "      <td>Sant Llorenç des Cardassar</td>\n",
              "      <td>39.616</td>\n",
              "      <td>3.30121</td>\n",
              "      <td>Villa</td>\n",
              "      <td>Entire home/apt</td>\n",
              "      <td>5.0</td>\n",
              "      <td>NaN</td>\n",
              "      <td>2.0</td>\n",
              "      <td>4.0</td>\n",
              "      <td>Real Bed</td>\n",
              "      <td>{TV,\"Cable TV\",Internet,Wifi,\"Air conditioning...</td>\n",
              "      <td>$84.00</td>\n",
              "      <td>0</td>\n",
              "      <td>$100.00</td>\n",
              "      <td>1.0</td>\n",
              "      <td>$0.00</td>\n",
              "      <td>5</td>\n",
              "      <td>9</td>\n",
              "      <td>2012-06-05</td>\n",
              "      <td>2018-08-13</td>\n",
              "      <td>98.0</td>\n",
              "      <td>10.0</td>\n",
              "      <td>10.0</td>\n",
              "      <td>10.0</td>\n",
              "      <td>10.0</td>\n",
              "      <td>9.0</td>\n",
              "      <td>9.0</td>\n",
              "      <td>f</td>\n",
              "      <td>f</td>\n",
              "      <td>strict_14_with_grace_period</td>\n",
              "      <td>f</td>\n",
              "      <td>f</td>\n",
              "      <td>1.0</td>\n",
              "    </tr>\n",
              "    <tr>\n",
              "      <th>3</th>\n",
              "      <td>130669</td>\n",
              "      <td>Nick</td>\n",
              "      <td>2011-05-30</td>\n",
              "      <td>Palma de Mallorca, Balearic Islands, Spain</td>\n",
              "      <td>NaN</td>\n",
              "      <td>f</td>\n",
              "      <td>t</td>\n",
              "      <td>f</td>\n",
              "      <td>Palma de Mallorca</td>\n",
              "      <td>39.56478</td>\n",
              "      <td>2.60333</td>\n",
              "      <td>Apartment</td>\n",
              "      <td>Private room</td>\n",
              "      <td>2.0</td>\n",
              "      <td>1.0</td>\n",
              "      <td>1.0</td>\n",
              "      <td>2.0</td>\n",
              "      <td>Real Bed</td>\n",
              "      <td>{TV,Wifi,\"Air conditioning\",Pool,Kitchen,Eleva...</td>\n",
              "      <td>$110.00</td>\n",
              "      <td>$0.00</td>\n",
              "      <td>$25.00</td>\n",
              "      <td>1.0</td>\n",
              "      <td>$0.00</td>\n",
              "      <td>2</td>\n",
              "      <td>0</td>\n",
              "      <td>NaN</td>\n",
              "      <td>NaN</td>\n",
              "      <td>NaN</td>\n",
              "      <td>NaN</td>\n",
              "      <td>NaN</td>\n",
              "      <td>NaN</td>\n",
              "      <td>NaN</td>\n",
              "      <td>NaN</td>\n",
              "      <td>NaN</td>\n",
              "      <td>t</td>\n",
              "      <td>f</td>\n",
              "      <td>flexible</td>\n",
              "      <td>f</td>\n",
              "      <td>f</td>\n",
              "      <td>3.0</td>\n",
              "    </tr>\n",
              "    <tr>\n",
              "      <th>4</th>\n",
              "      <td>158925</td>\n",
              "      <td>Marie</td>\n",
              "      <td>2011-06-07</td>\n",
              "      <td>Palma, Balearic Islands, Spain</td>\n",
              "      <td>Hola, me llamo Marie.  Despues de haber viajad...</td>\n",
              "      <td>f</td>\n",
              "      <td>t</td>\n",
              "      <td>f</td>\n",
              "      <td>Campos</td>\n",
              "      <td>39.396609999999995</td>\n",
              "      <td>3.08728</td>\n",
              "      <td>Villa</td>\n",
              "      <td>Private room</td>\n",
              "      <td>3.0</td>\n",
              "      <td>1.0</td>\n",
              "      <td>1.0</td>\n",
              "      <td>3.0</td>\n",
              "      <td>Real Bed</td>\n",
              "      <td>{TV,Wifi,Pool,Kitchen,\"Free parking on premise...</td>\n",
              "      <td>$120.00</td>\n",
              "      <td>$200.00</td>\n",
              "      <td>$40.00</td>\n",
              "      <td>2.0</td>\n",
              "      <td>$10.00</td>\n",
              "      <td>3</td>\n",
              "      <td>37</td>\n",
              "      <td>2012-06-14</td>\n",
              "      <td>2018-10-07</td>\n",
              "      <td>94.0</td>\n",
              "      <td>10.0</td>\n",
              "      <td>9.0</td>\n",
              "      <td>10.0</td>\n",
              "      <td>10.0</td>\n",
              "      <td>9.0</td>\n",
              "      <td>9.0</td>\n",
              "      <td>t</td>\n",
              "      <td>f</td>\n",
              "      <td>strict_14_with_grace_period</td>\n",
              "      <td>f</td>\n",
              "      <td>f</td>\n",
              "      <td>3.0</td>\n",
              "    </tr>\n",
              "    <tr>\n",
              "      <th>...</th>\n",
              "      <td>...</td>\n",
              "      <td>...</td>\n",
              "      <td>...</td>\n",
              "      <td>...</td>\n",
              "      <td>...</td>\n",
              "      <td>...</td>\n",
              "      <td>...</td>\n",
              "      <td>...</td>\n",
              "      <td>...</td>\n",
              "      <td>...</td>\n",
              "      <td>...</td>\n",
              "      <td>...</td>\n",
              "      <td>...</td>\n",
              "      <td>...</td>\n",
              "      <td>...</td>\n",
              "      <td>...</td>\n",
              "      <td>...</td>\n",
              "      <td>...</td>\n",
              "      <td>...</td>\n",
              "      <td>...</td>\n",
              "      <td>...</td>\n",
              "      <td>...</td>\n",
              "      <td>...</td>\n",
              "      <td>...</td>\n",
              "      <td>...</td>\n",
              "      <td>...</td>\n",
              "      <td>...</td>\n",
              "      <td>...</td>\n",
              "      <td>...</td>\n",
              "      <td>...</td>\n",
              "      <td>...</td>\n",
              "      <td>...</td>\n",
              "      <td>...</td>\n",
              "      <td>...</td>\n",
              "      <td>...</td>\n",
              "      <td>...</td>\n",
              "      <td>...</td>\n",
              "      <td>...</td>\n",
              "      <td>...</td>\n",
              "      <td>...</td>\n",
              "      <td>...</td>\n",
              "    </tr>\n",
              "    <tr>\n",
              "      <th>16569</th>\n",
              "      <td>35813379</td>\n",
              "      <td>Arenal2019</td>\n",
              "      <td>2019-04-08</td>\n",
              "      <td>ES</td>\n",
              "      <td>NaN</td>\n",
              "      <td>f</td>\n",
              "      <td>t</td>\n",
              "      <td>f</td>\n",
              "      <td>Palma de Mallorca</td>\n",
              "      <td>39.5036</td>\n",
              "      <td>2.75189</td>\n",
              "      <td>Apartment</td>\n",
              "      <td>Private room</td>\n",
              "      <td>1.0</td>\n",
              "      <td>1.0</td>\n",
              "      <td>1.0</td>\n",
              "      <td>1.0</td>\n",
              "      <td>Real Bed</td>\n",
              "      <td>{Kitchen,\"Smoking allowed\",Elevator,Essentials...</td>\n",
              "      <td>$49.00</td>\n",
              "      <td>0</td>\n",
              "      <td>0</td>\n",
              "      <td>1.0</td>\n",
              "      <td>$0.00</td>\n",
              "      <td>2</td>\n",
              "      <td>2</td>\n",
              "      <td>2019-06-19</td>\n",
              "      <td>2019-06-25</td>\n",
              "      <td>100.0</td>\n",
              "      <td>10.0</td>\n",
              "      <td>10.0</td>\n",
              "      <td>10.0</td>\n",
              "      <td>10.0</td>\n",
              "      <td>10.0</td>\n",
              "      <td>10.0</td>\n",
              "      <td>t</td>\n",
              "      <td>f</td>\n",
              "      <td>flexible</td>\n",
              "      <td>f</td>\n",
              "      <td>f</td>\n",
              "      <td>3.0</td>\n",
              "    </tr>\n",
              "    <tr>\n",
              "      <th>16585</th>\n",
              "      <td>35847888</td>\n",
              "      <td>Estanislao</td>\n",
              "      <td>2018-04-24</td>\n",
              "      <td>Rosario, Santa Fe Province, Argentina</td>\n",
              "      <td>NaN</td>\n",
              "      <td>f</td>\n",
              "      <td>t</td>\n",
              "      <td>f</td>\n",
              "      <td>Palma de Mallorca</td>\n",
              "      <td>39.5624</td>\n",
              "      <td>2.62716</td>\n",
              "      <td>Apartment</td>\n",
              "      <td>Entire home/apt</td>\n",
              "      <td>4.0</td>\n",
              "      <td>1.0</td>\n",
              "      <td>1.0</td>\n",
              "      <td>2.0</td>\n",
              "      <td>Real Bed</td>\n",
              "      <td>{TV,Wifi,\"Air conditioning\",Kitchen,Elevator,W...</td>\n",
              "      <td>$120.00</td>\n",
              "      <td>$0.00</td>\n",
              "      <td>$20.00</td>\n",
              "      <td>1.0</td>\n",
              "      <td>$0.00</td>\n",
              "      <td>2</td>\n",
              "      <td>1</td>\n",
              "      <td>2019-06-23</td>\n",
              "      <td>2019-06-23</td>\n",
              "      <td>NaN</td>\n",
              "      <td>NaN</td>\n",
              "      <td>NaN</td>\n",
              "      <td>NaN</td>\n",
              "      <td>NaN</td>\n",
              "      <td>NaN</td>\n",
              "      <td>NaN</td>\n",
              "      <td>t</td>\n",
              "      <td>f</td>\n",
              "      <td>flexible</td>\n",
              "      <td>f</td>\n",
              "      <td>f</td>\n",
              "      <td>1.0</td>\n",
              "    </tr>\n",
              "    <tr>\n",
              "      <th>16615</th>\n",
              "      <td>35891157</td>\n",
              "      <td>Angelica</td>\n",
              "      <td>2019-06-06</td>\n",
              "      <td>SE</td>\n",
              "      <td>NaN</td>\n",
              "      <td>f</td>\n",
              "      <td>t</td>\n",
              "      <td>f</td>\n",
              "      <td>Alcúdia</td>\n",
              "      <td>39.8169</td>\n",
              "      <td>3.11654</td>\n",
              "      <td>Apartment</td>\n",
              "      <td>Private room</td>\n",
              "      <td>2.0</td>\n",
              "      <td>1.0</td>\n",
              "      <td>1.0</td>\n",
              "      <td>1.0</td>\n",
              "      <td>Real Bed</td>\n",
              "      <td>{TV,Kitchen,\"Free street parking\",\"Indoor fire...</td>\n",
              "      <td>$50.00</td>\n",
              "      <td>0</td>\n",
              "      <td>0</td>\n",
              "      <td>1.0</td>\n",
              "      <td>$0.00</td>\n",
              "      <td>1</td>\n",
              "      <td>1</td>\n",
              "      <td>2019-06-24</td>\n",
              "      <td>2019-06-24</td>\n",
              "      <td>100.0</td>\n",
              "      <td>10.0</td>\n",
              "      <td>10.0</td>\n",
              "      <td>10.0</td>\n",
              "      <td>10.0</td>\n",
              "      <td>10.0</td>\n",
              "      <td>10.0</td>\n",
              "      <td>t</td>\n",
              "      <td>f</td>\n",
              "      <td>flexible</td>\n",
              "      <td>f</td>\n",
              "      <td>f</td>\n",
              "      <td>1.0</td>\n",
              "    </tr>\n",
              "    <tr>\n",
              "      <th>16627</th>\n",
              "      <td>35904222</td>\n",
              "      <td>Teresa</td>\n",
              "      <td>2019-06-19</td>\n",
              "      <td>ES</td>\n",
              "      <td>Hola !!! Sevillana viviendo en Mallorca desde ...</td>\n",
              "      <td>f</td>\n",
              "      <td>t</td>\n",
              "      <td>f</td>\n",
              "      <td>Palma de Mallorca</td>\n",
              "      <td>39.5809</td>\n",
              "      <td>2.66035</td>\n",
              "      <td>Apartment</td>\n",
              "      <td>Private room</td>\n",
              "      <td>2.0</td>\n",
              "      <td>1.0</td>\n",
              "      <td>1.0</td>\n",
              "      <td>1.0</td>\n",
              "      <td>Real Bed</td>\n",
              "      <td>{Wifi,\"Air conditioning\",Kitchen,Elevator,Heat...</td>\n",
              "      <td>$55.00</td>\n",
              "      <td>0</td>\n",
              "      <td>$20.00</td>\n",
              "      <td>1.0</td>\n",
              "      <td>$10.00</td>\n",
              "      <td>2</td>\n",
              "      <td>1</td>\n",
              "      <td>2019-06-24</td>\n",
              "      <td>2019-06-24</td>\n",
              "      <td>NaN</td>\n",
              "      <td>NaN</td>\n",
              "      <td>NaN</td>\n",
              "      <td>NaN</td>\n",
              "      <td>NaN</td>\n",
              "      <td>NaN</td>\n",
              "      <td>NaN</td>\n",
              "      <td>f</td>\n",
              "      <td>f</td>\n",
              "      <td>flexible</td>\n",
              "      <td>f</td>\n",
              "      <td>f</td>\n",
              "      <td>2.0</td>\n",
              "    </tr>\n",
              "    <tr>\n",
              "      <th>16674</th>\n",
              "      <td>35986274</td>\n",
              "      <td>Saray</td>\n",
              "      <td>2019-04-25</td>\n",
              "      <td>Palma, Balearic Islands, Spain</td>\n",
              "      <td>Hablo Inglès, alemán e italiano</td>\n",
              "      <td>f</td>\n",
              "      <td>t</td>\n",
              "      <td>f</td>\n",
              "      <td>Palma de Mallorca</td>\n",
              "      <td>39.5844</td>\n",
              "      <td>2.65581</td>\n",
              "      <td>House</td>\n",
              "      <td>Entire home/apt</td>\n",
              "      <td>6.0</td>\n",
              "      <td>2.0</td>\n",
              "      <td>4.0</td>\n",
              "      <td>5.0</td>\n",
              "      <td>Real Bed</td>\n",
              "      <td>{TV,Wifi,Kitchen,\"Free parking on premises\",\"S...</td>\n",
              "      <td>$77.00</td>\n",
              "      <td>$100.00</td>\n",
              "      <td>$47.00</td>\n",
              "      <td>5.0</td>\n",
              "      <td>$0.00</td>\n",
              "      <td>1</td>\n",
              "      <td>1</td>\n",
              "      <td>2019-06-23</td>\n",
              "      <td>2019-06-23</td>\n",
              "      <td>NaN</td>\n",
              "      <td>NaN</td>\n",
              "      <td>NaN</td>\n",
              "      <td>NaN</td>\n",
              "      <td>NaN</td>\n",
              "      <td>NaN</td>\n",
              "      <td>NaN</td>\n",
              "      <td>f</td>\n",
              "      <td>f</td>\n",
              "      <td>moderate</td>\n",
              "      <td>f</td>\n",
              "      <td>f</td>\n",
              "      <td>2.0</td>\n",
              "    </tr>\n",
              "  </tbody>\n",
              "</table>\n",
              "<p>11889 rows × 41 columns</p>\n",
              "</div>"
            ],
            "text/plain": [
              "             id  ... calculated_host_listings_count\n",
              "0        100831  ...                            1.0\n",
              "1        105891  ...                            2.0\n",
              "2        106833  ...                            1.0\n",
              "3        130669  ...                            3.0\n",
              "4        158925  ...                            3.0\n",
              "...         ...  ...                            ...\n",
              "16569  35813379  ...                            3.0\n",
              "16585  35847888  ...                            1.0\n",
              "16615  35891157  ...                            1.0\n",
              "16627  35904222  ...                            2.0\n",
              "16674  35986274  ...                            2.0\n",
              "\n",
              "[11889 rows x 41 columns]"
            ]
          },
          "metadata": {
            "tags": []
          },
          "execution_count": 30
        }
      ]
    },
    {
      "cell_type": "code",
      "metadata": {
        "colab": {
          "base_uri": "https://localhost:8080/"
        },
        "id": "wu6uY23-KI4K",
        "outputId": "6a573502-392e-4eac-80d7-be445dc5800e"
      },
      "source": [
        "df_listado_solucion2 = df_listado_solucion2.dropna()\n",
        "df_listado_solucion2.shape"
      ],
      "execution_count": 31,
      "outputs": [
        {
          "output_type": "execute_result",
          "data": {
            "text/plain": [
              "(6246, 41)"
            ]
          },
          "metadata": {
            "tags": []
          },
          "execution_count": 31
        }
      ]
    },
    {
      "cell_type": "markdown",
      "metadata": {
        "id": "e58Ab4CpI4Qg"
      },
      "source": [
        "##### Conclusión"
      ]
    },
    {
      "cell_type": "markdown",
      "metadata": {
        "id": "TxBPcgWsNnwW"
      },
      "source": [
        "Finalizada la limpieza, así se ve el dataframe de listados, el cual ahora vamos a llevar al proceso de transformación. \n",
        "\n",
        " * **Consiste de 6246 entries en 41 columnas.** \n",
        " * **No presenta NaN's.**\n",
        " * **Contiene información sobre el host, información completa y en detalle de la publicación, detalles del alquiler y los puntajes de las mismas en los diferentes apartados de reviews.**\n"
      ]
    },
    {
      "cell_type": "code",
      "metadata": {
        "colab": {
          "base_uri": "https://localhost:8080/",
          "height": 0
        },
        "id": "Amidl2PbNn7b",
        "outputId": "bd79746d-c9a7-47a3-8459-21c904c858e0"
      },
      "source": [
        "df_listado_solucion2.head()"
      ],
      "execution_count": 32,
      "outputs": [
        {
          "output_type": "execute_result",
          "data": {
            "text/html": [
              "<div>\n",
              "<style scoped>\n",
              "    .dataframe tbody tr th:only-of-type {\n",
              "        vertical-align: middle;\n",
              "    }\n",
              "\n",
              "    .dataframe tbody tr th {\n",
              "        vertical-align: top;\n",
              "    }\n",
              "\n",
              "    .dataframe thead th {\n",
              "        text-align: right;\n",
              "    }\n",
              "</style>\n",
              "<table border=\"1\" class=\"dataframe\">\n",
              "  <thead>\n",
              "    <tr style=\"text-align: right;\">\n",
              "      <th></th>\n",
              "      <th>id</th>\n",
              "      <th>host_name</th>\n",
              "      <th>host_since</th>\n",
              "      <th>host_location</th>\n",
              "      <th>host_about</th>\n",
              "      <th>host_is_superhost</th>\n",
              "      <th>host_has_profile_pic</th>\n",
              "      <th>host_identity_verified</th>\n",
              "      <th>neighbourhood_cleansed</th>\n",
              "      <th>latitude</th>\n",
              "      <th>longitude</th>\n",
              "      <th>property_type</th>\n",
              "      <th>room_type</th>\n",
              "      <th>accommodates</th>\n",
              "      <th>bathrooms</th>\n",
              "      <th>bedrooms</th>\n",
              "      <th>beds</th>\n",
              "      <th>bed_type</th>\n",
              "      <th>amenities</th>\n",
              "      <th>price</th>\n",
              "      <th>security_deposit</th>\n",
              "      <th>cleaning_fee</th>\n",
              "      <th>guests_included</th>\n",
              "      <th>extra_people</th>\n",
              "      <th>minimum_nights</th>\n",
              "      <th>number_of_reviews</th>\n",
              "      <th>first_review</th>\n",
              "      <th>last_review</th>\n",
              "      <th>review_scores_rating</th>\n",
              "      <th>review_scores_accuracy</th>\n",
              "      <th>review_scores_cleanliness</th>\n",
              "      <th>review_scores_checkin</th>\n",
              "      <th>review_scores_communication</th>\n",
              "      <th>review_scores_location</th>\n",
              "      <th>review_scores_value</th>\n",
              "      <th>instant_bookable</th>\n",
              "      <th>is_business_travel_ready</th>\n",
              "      <th>cancellation_policy</th>\n",
              "      <th>require_guest_profile_picture</th>\n",
              "      <th>require_guest_phone_verification</th>\n",
              "      <th>calculated_host_listings_count</th>\n",
              "    </tr>\n",
              "  </thead>\n",
              "  <tbody>\n",
              "    <tr>\n",
              "      <th>0</th>\n",
              "      <td>100831</td>\n",
              "      <td>Miguel</td>\n",
              "      <td>2011-04-23</td>\n",
              "      <td>Mallorca</td>\n",
              "      <td>Somos una pareja con los mismos gustos e inter...</td>\n",
              "      <td>f</td>\n",
              "      <td>t</td>\n",
              "      <td>t</td>\n",
              "      <td>Santa Margalida</td>\n",
              "      <td>39.76347</td>\n",
              "      <td>3.16255</td>\n",
              "      <td>House</td>\n",
              "      <td>Entire home/apt</td>\n",
              "      <td>8.0</td>\n",
              "      <td>3.0</td>\n",
              "      <td>4.0</td>\n",
              "      <td>7.0</td>\n",
              "      <td>Real Bed</td>\n",
              "      <td>{TV,\"Cable TV\",Internet,Wifi,\"Air conditioning...</td>\n",
              "      <td>$155.00</td>\n",
              "      <td>$0.00</td>\n",
              "      <td>$100.00</td>\n",
              "      <td>1.0</td>\n",
              "      <td>$0.00</td>\n",
              "      <td>4</td>\n",
              "      <td>20</td>\n",
              "      <td>2018-10-06</td>\n",
              "      <td>2019-04-27</td>\n",
              "      <td>99.0</td>\n",
              "      <td>10.0</td>\n",
              "      <td>10.0</td>\n",
              "      <td>10.0</td>\n",
              "      <td>10.0</td>\n",
              "      <td>9.0</td>\n",
              "      <td>10.0</td>\n",
              "      <td>t</td>\n",
              "      <td>f</td>\n",
              "      <td>strict_14_with_grace_period</td>\n",
              "      <td>f</td>\n",
              "      <td>f</td>\n",
              "      <td>1.0</td>\n",
              "    </tr>\n",
              "    <tr>\n",
              "      <th>1</th>\n",
              "      <td>105891</td>\n",
              "      <td>Bartomeu</td>\n",
              "      <td>2011-05-01</td>\n",
              "      <td>Ariany, Balearic Islands, Spain</td>\n",
              "      <td>Hola!. Resido en una casa de campo de un puebl...</td>\n",
              "      <td>t</td>\n",
              "      <td>t</td>\n",
              "      <td>t</td>\n",
              "      <td>Maria de la Salut</td>\n",
              "      <td>39.66044</td>\n",
              "      <td>3.07165</td>\n",
              "      <td>Townhouse</td>\n",
              "      <td>Entire home/apt</td>\n",
              "      <td>6.0</td>\n",
              "      <td>2.0</td>\n",
              "      <td>3.0</td>\n",
              "      <td>4.0</td>\n",
              "      <td>Real Bed</td>\n",
              "      <td>{TV,\"Cable TV\",Wifi,\"Air conditioning\",Pool,Ki...</td>\n",
              "      <td>$90.00</td>\n",
              "      <td>0</td>\n",
              "      <td>0</td>\n",
              "      <td>4.0</td>\n",
              "      <td>$10.00</td>\n",
              "      <td>7</td>\n",
              "      <td>13</td>\n",
              "      <td>2012-06-19</td>\n",
              "      <td>2019-05-09</td>\n",
              "      <td>97.0</td>\n",
              "      <td>10.0</td>\n",
              "      <td>10.0</td>\n",
              "      <td>10.0</td>\n",
              "      <td>10.0</td>\n",
              "      <td>9.0</td>\n",
              "      <td>10.0</td>\n",
              "      <td>t</td>\n",
              "      <td>f</td>\n",
              "      <td>strict_14_with_grace_period</td>\n",
              "      <td>f</td>\n",
              "      <td>t</td>\n",
              "      <td>2.0</td>\n",
              "    </tr>\n",
              "    <tr>\n",
              "      <th>4</th>\n",
              "      <td>158925</td>\n",
              "      <td>Marie</td>\n",
              "      <td>2011-06-07</td>\n",
              "      <td>Palma, Balearic Islands, Spain</td>\n",
              "      <td>Hola, me llamo Marie.  Despues de haber viajad...</td>\n",
              "      <td>f</td>\n",
              "      <td>t</td>\n",
              "      <td>f</td>\n",
              "      <td>Campos</td>\n",
              "      <td>39.396609999999995</td>\n",
              "      <td>3.08728</td>\n",
              "      <td>Villa</td>\n",
              "      <td>Private room</td>\n",
              "      <td>3.0</td>\n",
              "      <td>1.0</td>\n",
              "      <td>1.0</td>\n",
              "      <td>3.0</td>\n",
              "      <td>Real Bed</td>\n",
              "      <td>{TV,Wifi,Pool,Kitchen,\"Free parking on premise...</td>\n",
              "      <td>$120.00</td>\n",
              "      <td>$200.00</td>\n",
              "      <td>$40.00</td>\n",
              "      <td>2.0</td>\n",
              "      <td>$10.00</td>\n",
              "      <td>3</td>\n",
              "      <td>37</td>\n",
              "      <td>2012-06-14</td>\n",
              "      <td>2018-10-07</td>\n",
              "      <td>94.0</td>\n",
              "      <td>10.0</td>\n",
              "      <td>9.0</td>\n",
              "      <td>10.0</td>\n",
              "      <td>10.0</td>\n",
              "      <td>9.0</td>\n",
              "      <td>9.0</td>\n",
              "      <td>t</td>\n",
              "      <td>f</td>\n",
              "      <td>strict_14_with_grace_period</td>\n",
              "      <td>f</td>\n",
              "      <td>f</td>\n",
              "      <td>3.0</td>\n",
              "    </tr>\n",
              "    <tr>\n",
              "      <th>5</th>\n",
              "      <td>159218</td>\n",
              "      <td>Gabriel</td>\n",
              "      <td>2011-06-30</td>\n",
              "      <td>Inca, Balearic Islands, Spain</td>\n",
              "      <td>Mi profesión es fotógrafo y mis aficiones son:...</td>\n",
              "      <td>t</td>\n",
              "      <td>t</td>\n",
              "      <td>t</td>\n",
              "      <td>Selva</td>\n",
              "      <td>39.73689</td>\n",
              "      <td>2.89745</td>\n",
              "      <td>Villa</td>\n",
              "      <td>Entire home/apt</td>\n",
              "      <td>3.0</td>\n",
              "      <td>1.0</td>\n",
              "      <td>1.0</td>\n",
              "      <td>2.0</td>\n",
              "      <td>Real Bed</td>\n",
              "      <td>{TV,Wifi,Pool,Kitchen,\"Free parking on premise...</td>\n",
              "      <td>$75.00</td>\n",
              "      <td>$100.00</td>\n",
              "      <td>0</td>\n",
              "      <td>2.0</td>\n",
              "      <td>$10.00</td>\n",
              "      <td>3</td>\n",
              "      <td>237</td>\n",
              "      <td>2011-09-15</td>\n",
              "      <td>2019-05-25</td>\n",
              "      <td>99.0</td>\n",
              "      <td>10.0</td>\n",
              "      <td>10.0</td>\n",
              "      <td>10.0</td>\n",
              "      <td>10.0</td>\n",
              "      <td>10.0</td>\n",
              "      <td>9.0</td>\n",
              "      <td>t</td>\n",
              "      <td>f</td>\n",
              "      <td>moderate</td>\n",
              "      <td>f</td>\n",
              "      <td>f</td>\n",
              "      <td>1.0</td>\n",
              "    </tr>\n",
              "    <tr>\n",
              "      <th>6</th>\n",
              "      <td>160482</td>\n",
              "      <td>Marga</td>\n",
              "      <td>2011-07-02</td>\n",
              "      <td>Palma de Mallorca, Balearic Islands, Spain</td>\n",
              "      <td>Married mallorquina with 2 children that loves...</td>\n",
              "      <td>f</td>\n",
              "      <td>t</td>\n",
              "      <td>t</td>\n",
              "      <td>Esporles</td>\n",
              "      <td>39.654140000000005</td>\n",
              "      <td>2.62546</td>\n",
              "      <td>House</td>\n",
              "      <td>Entire home/apt</td>\n",
              "      <td>6.0</td>\n",
              "      <td>2.0</td>\n",
              "      <td>3.0</td>\n",
              "      <td>3.0</td>\n",
              "      <td>Real Bed</td>\n",
              "      <td>{TV,\"Cable TV\",Wifi,\"Air conditioning\",Pool,Ki...</td>\n",
              "      <td>$175.00</td>\n",
              "      <td>$350.00</td>\n",
              "      <td>$120.00</td>\n",
              "      <td>4.0</td>\n",
              "      <td>$20.00</td>\n",
              "      <td>4</td>\n",
              "      <td>54</td>\n",
              "      <td>2011-08-07</td>\n",
              "      <td>2019-06-10</td>\n",
              "      <td>96.0</td>\n",
              "      <td>10.0</td>\n",
              "      <td>10.0</td>\n",
              "      <td>10.0</td>\n",
              "      <td>10.0</td>\n",
              "      <td>10.0</td>\n",
              "      <td>9.0</td>\n",
              "      <td>f</td>\n",
              "      <td>f</td>\n",
              "      <td>strict_14_with_grace_period</td>\n",
              "      <td>t</td>\n",
              "      <td>t</td>\n",
              "      <td>1.0</td>\n",
              "    </tr>\n",
              "  </tbody>\n",
              "</table>\n",
              "</div>"
            ],
            "text/plain": [
              "       id  ... calculated_host_listings_count\n",
              "0  100831  ...                            1.0\n",
              "1  105891  ...                            2.0\n",
              "4  158925  ...                            3.0\n",
              "5  159218  ...                            1.0\n",
              "6  160482  ...                            1.0\n",
              "\n",
              "[5 rows x 41 columns]"
            ]
          },
          "metadata": {
            "tags": []
          },
          "execution_count": 32
        }
      ]
    },
    {
      "cell_type": "markdown",
      "metadata": {
        "id": "oZ36qsBF0nrR"
      },
      "source": [
        "## **TRANSFORMACIÓN DE DATOS**\n",
        "\n",
        "Una vez finalizado el paso de limpieza, traemos el dataframe obtenido a la instancia de transformación.\n",
        "\n",
        "Siguiendo la metodología de trabajo recién empleada para la limpieza de los mismos, trabajaremos en dos segmentos: \n",
        "\n",
        "* **Revisión columna por columna.** \n",
        "* **Transformación.**"
      ]
    },
    {
      "cell_type": "markdown",
      "metadata": {
        "id": "s7X4HTc15bjb"
      },
      "source": [
        "### ANÁLISIS COLUMNA POR COLUMNA.\n",
        "\n",
        "Utilizando una serie de funciones, relevamos las columnas para verificar que no hayan inputs extraños en las mismas, y poder luego estandarizar los dtypes. "
      ]
    },
    {
      "cell_type": "markdown",
      "metadata": {
        "id": "fRw9rh58RoQw"
      },
      "source": [
        "#### **Explicación del paso**"
      ]
    },
    {
      "cell_type": "markdown",
      "metadata": {
        "id": "F8QIsE81FxoK"
      },
      "source": [
        "El dataframe contiene 41 columnas y 6246 entries. "
      ]
    },
    {
      "cell_type": "code",
      "metadata": {
        "colab": {
          "base_uri": "https://localhost:8080/"
        },
        "id": "Gw3wUlPUFyxV",
        "outputId": "fbbf22b0-42a1-477c-88b0-fde3441b5f0d"
      },
      "source": [
        "df_listado_solucion2.shape"
      ],
      "execution_count": 33,
      "outputs": [
        {
          "output_type": "execute_result",
          "data": {
            "text/plain": [
              "(6246, 41)"
            ]
          },
          "metadata": {
            "tags": []
          },
          "execution_count": 33
        }
      ]
    },
    {
      "cell_type": "markdown",
      "metadata": {
        "id": "ip1iGnPJGAtI"
      },
      "source": [
        "Si revisamos los diferentes contenidos de las 41 columnas, nos encontramos con que podemos dividir las columnas por su contenido, y el potencial dtype que le podemos asignar a cada una. "
      ]
    },
    {
      "cell_type": "code",
      "metadata": {
        "colab": {
          "base_uri": "https://localhost:8080/",
          "height": 366
        },
        "id": "6uvE0oenjNup",
        "outputId": "8a71f5fa-d7df-4a42-9c8b-f573d0f776a5"
      },
      "source": [
        "df_listado_solucion2.head(3)"
      ],
      "execution_count": 34,
      "outputs": [
        {
          "output_type": "execute_result",
          "data": {
            "text/html": [
              "<div>\n",
              "<style scoped>\n",
              "    .dataframe tbody tr th:only-of-type {\n",
              "        vertical-align: middle;\n",
              "    }\n",
              "\n",
              "    .dataframe tbody tr th {\n",
              "        vertical-align: top;\n",
              "    }\n",
              "\n",
              "    .dataframe thead th {\n",
              "        text-align: right;\n",
              "    }\n",
              "</style>\n",
              "<table border=\"1\" class=\"dataframe\">\n",
              "  <thead>\n",
              "    <tr style=\"text-align: right;\">\n",
              "      <th></th>\n",
              "      <th>id</th>\n",
              "      <th>host_name</th>\n",
              "      <th>host_since</th>\n",
              "      <th>host_location</th>\n",
              "      <th>host_about</th>\n",
              "      <th>host_is_superhost</th>\n",
              "      <th>host_has_profile_pic</th>\n",
              "      <th>host_identity_verified</th>\n",
              "      <th>neighbourhood_cleansed</th>\n",
              "      <th>latitude</th>\n",
              "      <th>longitude</th>\n",
              "      <th>property_type</th>\n",
              "      <th>room_type</th>\n",
              "      <th>accommodates</th>\n",
              "      <th>bathrooms</th>\n",
              "      <th>bedrooms</th>\n",
              "      <th>beds</th>\n",
              "      <th>bed_type</th>\n",
              "      <th>amenities</th>\n",
              "      <th>price</th>\n",
              "      <th>security_deposit</th>\n",
              "      <th>cleaning_fee</th>\n",
              "      <th>guests_included</th>\n",
              "      <th>extra_people</th>\n",
              "      <th>minimum_nights</th>\n",
              "      <th>number_of_reviews</th>\n",
              "      <th>first_review</th>\n",
              "      <th>last_review</th>\n",
              "      <th>review_scores_rating</th>\n",
              "      <th>review_scores_accuracy</th>\n",
              "      <th>review_scores_cleanliness</th>\n",
              "      <th>review_scores_checkin</th>\n",
              "      <th>review_scores_communication</th>\n",
              "      <th>review_scores_location</th>\n",
              "      <th>review_scores_value</th>\n",
              "      <th>instant_bookable</th>\n",
              "      <th>is_business_travel_ready</th>\n",
              "      <th>cancellation_policy</th>\n",
              "      <th>require_guest_profile_picture</th>\n",
              "      <th>require_guest_phone_verification</th>\n",
              "      <th>calculated_host_listings_count</th>\n",
              "    </tr>\n",
              "  </thead>\n",
              "  <tbody>\n",
              "    <tr>\n",
              "      <th>0</th>\n",
              "      <td>100831</td>\n",
              "      <td>Miguel</td>\n",
              "      <td>2011-04-23</td>\n",
              "      <td>Mallorca</td>\n",
              "      <td>Somos una pareja con los mismos gustos e inter...</td>\n",
              "      <td>f</td>\n",
              "      <td>t</td>\n",
              "      <td>t</td>\n",
              "      <td>Santa Margalida</td>\n",
              "      <td>39.76347</td>\n",
              "      <td>3.16255</td>\n",
              "      <td>House</td>\n",
              "      <td>Entire home/apt</td>\n",
              "      <td>8.0</td>\n",
              "      <td>3.0</td>\n",
              "      <td>4.0</td>\n",
              "      <td>7.0</td>\n",
              "      <td>Real Bed</td>\n",
              "      <td>{TV,\"Cable TV\",Internet,Wifi,\"Air conditioning...</td>\n",
              "      <td>$155.00</td>\n",
              "      <td>$0.00</td>\n",
              "      <td>$100.00</td>\n",
              "      <td>1.0</td>\n",
              "      <td>$0.00</td>\n",
              "      <td>4</td>\n",
              "      <td>20</td>\n",
              "      <td>2018-10-06</td>\n",
              "      <td>2019-04-27</td>\n",
              "      <td>99.0</td>\n",
              "      <td>10.0</td>\n",
              "      <td>10.0</td>\n",
              "      <td>10.0</td>\n",
              "      <td>10.0</td>\n",
              "      <td>9.0</td>\n",
              "      <td>10.0</td>\n",
              "      <td>t</td>\n",
              "      <td>f</td>\n",
              "      <td>strict_14_with_grace_period</td>\n",
              "      <td>f</td>\n",
              "      <td>f</td>\n",
              "      <td>1.0</td>\n",
              "    </tr>\n",
              "    <tr>\n",
              "      <th>1</th>\n",
              "      <td>105891</td>\n",
              "      <td>Bartomeu</td>\n",
              "      <td>2011-05-01</td>\n",
              "      <td>Ariany, Balearic Islands, Spain</td>\n",
              "      <td>Hola!. Resido en una casa de campo de un puebl...</td>\n",
              "      <td>t</td>\n",
              "      <td>t</td>\n",
              "      <td>t</td>\n",
              "      <td>Maria de la Salut</td>\n",
              "      <td>39.66044</td>\n",
              "      <td>3.07165</td>\n",
              "      <td>Townhouse</td>\n",
              "      <td>Entire home/apt</td>\n",
              "      <td>6.0</td>\n",
              "      <td>2.0</td>\n",
              "      <td>3.0</td>\n",
              "      <td>4.0</td>\n",
              "      <td>Real Bed</td>\n",
              "      <td>{TV,\"Cable TV\",Wifi,\"Air conditioning\",Pool,Ki...</td>\n",
              "      <td>$90.00</td>\n",
              "      <td>0</td>\n",
              "      <td>0</td>\n",
              "      <td>4.0</td>\n",
              "      <td>$10.00</td>\n",
              "      <td>7</td>\n",
              "      <td>13</td>\n",
              "      <td>2012-06-19</td>\n",
              "      <td>2019-05-09</td>\n",
              "      <td>97.0</td>\n",
              "      <td>10.0</td>\n",
              "      <td>10.0</td>\n",
              "      <td>10.0</td>\n",
              "      <td>10.0</td>\n",
              "      <td>9.0</td>\n",
              "      <td>10.0</td>\n",
              "      <td>t</td>\n",
              "      <td>f</td>\n",
              "      <td>strict_14_with_grace_period</td>\n",
              "      <td>f</td>\n",
              "      <td>t</td>\n",
              "      <td>2.0</td>\n",
              "    </tr>\n",
              "    <tr>\n",
              "      <th>4</th>\n",
              "      <td>158925</td>\n",
              "      <td>Marie</td>\n",
              "      <td>2011-06-07</td>\n",
              "      <td>Palma, Balearic Islands, Spain</td>\n",
              "      <td>Hola, me llamo Marie.  Despues de haber viajad...</td>\n",
              "      <td>f</td>\n",
              "      <td>t</td>\n",
              "      <td>f</td>\n",
              "      <td>Campos</td>\n",
              "      <td>39.396609999999995</td>\n",
              "      <td>3.08728</td>\n",
              "      <td>Villa</td>\n",
              "      <td>Private room</td>\n",
              "      <td>3.0</td>\n",
              "      <td>1.0</td>\n",
              "      <td>1.0</td>\n",
              "      <td>3.0</td>\n",
              "      <td>Real Bed</td>\n",
              "      <td>{TV,Wifi,Pool,Kitchen,\"Free parking on premise...</td>\n",
              "      <td>$120.00</td>\n",
              "      <td>$200.00</td>\n",
              "      <td>$40.00</td>\n",
              "      <td>2.0</td>\n",
              "      <td>$10.00</td>\n",
              "      <td>3</td>\n",
              "      <td>37</td>\n",
              "      <td>2012-06-14</td>\n",
              "      <td>2018-10-07</td>\n",
              "      <td>94.0</td>\n",
              "      <td>10.0</td>\n",
              "      <td>9.0</td>\n",
              "      <td>10.0</td>\n",
              "      <td>10.0</td>\n",
              "      <td>9.0</td>\n",
              "      <td>9.0</td>\n",
              "      <td>t</td>\n",
              "      <td>f</td>\n",
              "      <td>strict_14_with_grace_period</td>\n",
              "      <td>f</td>\n",
              "      <td>f</td>\n",
              "      <td>3.0</td>\n",
              "    </tr>\n",
              "  </tbody>\n",
              "</table>\n",
              "</div>"
            ],
            "text/plain": [
              "       id  ... calculated_host_listings_count\n",
              "0  100831  ...                            1.0\n",
              "1  105891  ...                            2.0\n",
              "4  158925  ...                            3.0\n",
              "\n",
              "[3 rows x 41 columns]"
            ]
          },
          "metadata": {
            "tags": []
          },
          "execution_count": 34
        }
      ]
    },
    {
      "cell_type": "markdown",
      "metadata": {
        "id": "OOaClVXMlVZ0"
      },
      "source": [
        "Así, podemos dividir las columnas en: \n",
        "\n",
        "* **Columnas que deberían tener únicamente valores numéricos (18 columnas):** \n",
        "'id', 'latitude', 'longitude', 'accommodates', 'bathrooms', 'bedrooms',  'beds', 'guests_included', 'minimum_nights', 'number_of_reviews',  'review_scores_rating', 'review_scores_accuracy',  'review_scores_cleanliness', 'review_scores_checkin',  'review_scores_communication', 'review_scores_location',  'review_scores_value', 'calculated_host_listings_count'\n",
        "\n",
        "* **Columnas que deberían contener booleanos (t/f) (7 columnas):** 'host_is_superhost', 'instant_bookable', 'host_has_profile_pic', 'host_identity_verified', 'is_business_travel_ready', 'require_guest_profile_picture', 'require_guest_phone_verification' \n",
        "\n",
        "* **Columnas que deberían contener categorías de Airbnb (5 columnas):** 'property_type', 'room_type', 'bed_type', 'neighbourhood_cleansed', 'cancellation_policy'\n",
        "\n",
        "* **Columnas que deberían contener montos ($) (4 columnas):**  'price', 'security_deposit', 'cleaning_fee', 'extra_people'\n",
        "\n",
        "* **Conlumnas que deberían contener fechas (YYYY-MM-DD) (3 columnas):**  'host_since', 'first_review', 'last_review'\n",
        "\n",
        "* **Otros (4 columnas):** 'host_name', 'host_location', 'host_about', 'amenities'"
      ]
    },
    {
      "cell_type": "markdown",
      "metadata": {
        "id": "fjZ7MWPptJ3I"
      },
      "source": [
        "Para cada subset, **definiremos una función que identifique datos extraños para su eliminación**. "
      ]
    },
    {
      "cell_type": "markdown",
      "metadata": {
        "id": "bueSgXElkAuT"
      },
      "source": [
        "#### **Implementación**"
      ]
    },
    {
      "cell_type": "markdown",
      "metadata": {
        "id": "7P_PqFRKauZL"
      },
      "source": [
        "##### **Columnas de instancias numéricas** \n",
        "\n"
      ]
    },
    {
      "cell_type": "markdown",
      "metadata": {
        "id": "LfvL7bg7ukhr"
      },
      "source": [
        "Para las columnas de valores numéricos, definimos una función que itera por las instancias de la columna que se le pasa por parámetro. Idealmente, la función debería indicar que todas las columnas contienen instancias numéricas únicamente. "
      ]
    },
    {
      "cell_type": "code",
      "metadata": {
        "id": "Qx0ulyi3Rv2n"
      },
      "source": [
        "def chequeo_columna_numerica (columna): \n",
        "  contador = 0\n",
        "  for id in columna: \n",
        "    try: \n",
        "      float(id) \n",
        "    except:\n",
        "      contador = contador + 1\n",
        "      print('Este input no es numérico.', id) \n",
        "  if contador == 0:\n",
        "    print('La columna está lista para transformar!')\n",
        "    "
      ],
      "execution_count": 35,
      "outputs": []
    },
    {
      "cell_type": "code",
      "metadata": {
        "colab": {
          "base_uri": "https://localhost:8080/"
        },
        "id": "X9TOrQGFUabv",
        "outputId": "7ef65643-ef4f-4f58-d2cb-6c324b3352ec"
      },
      "source": [
        "chequeo_columna_numerica(df_listado_solucion2['id'].unique())"
      ],
      "execution_count": 36,
      "outputs": [
        {
          "output_type": "stream",
          "text": [
            "La columna está lista para transformar!\n"
          ],
          "name": "stdout"
        }
      ]
    },
    {
      "cell_type": "code",
      "metadata": {
        "colab": {
          "base_uri": "https://localhost:8080/"
        },
        "id": "RW7AgwiTVgJk",
        "outputId": "956df9f4-db2f-4d94-de7d-33b452fb7173"
      },
      "source": [
        "chequeo_columna_numerica(df_listado_solucion2['latitude'].unique())"
      ],
      "execution_count": 37,
      "outputs": [
        {
          "output_type": "stream",
          "text": [
            "La columna está lista para transformar!\n"
          ],
          "name": "stdout"
        }
      ]
    },
    {
      "cell_type": "code",
      "metadata": {
        "colab": {
          "base_uri": "https://localhost:8080/"
        },
        "id": "y7lJMavOWBtn",
        "outputId": "245b81f7-5eac-48c4-eae5-a6a2485cf1d1"
      },
      "source": [
        "chequeo_columna_numerica(df_listado_solucion2['longitude'].unique())"
      ],
      "execution_count": 38,
      "outputs": [
        {
          "output_type": "stream",
          "text": [
            "La columna está lista para transformar!\n"
          ],
          "name": "stdout"
        }
      ]
    },
    {
      "cell_type": "code",
      "metadata": {
        "colab": {
          "base_uri": "https://localhost:8080/"
        },
        "id": "uBMxsFIcXTdn",
        "outputId": "73631ebf-d57a-4751-c97a-8629b9065878"
      },
      "source": [
        "chequeo_columna_numerica(df_listado_solucion2['accommodates'].unique())"
      ],
      "execution_count": 39,
      "outputs": [
        {
          "output_type": "stream",
          "text": [
            "La columna está lista para transformar!\n"
          ],
          "name": "stdout"
        }
      ]
    },
    {
      "cell_type": "code",
      "metadata": {
        "colab": {
          "base_uri": "https://localhost:8080/"
        },
        "id": "fCJhiKGwXkQK",
        "outputId": "05998f86-ab36-4b5a-e25d-aa61d4a73ab7"
      },
      "source": [
        "chequeo_columna_numerica(df_listado_solucion2['bathrooms'].unique())"
      ],
      "execution_count": 40,
      "outputs": [
        {
          "output_type": "stream",
          "text": [
            "La columna está lista para transformar!\n"
          ],
          "name": "stdout"
        }
      ]
    },
    {
      "cell_type": "code",
      "metadata": {
        "colab": {
          "base_uri": "https://localhost:8080/"
        },
        "id": "9dnFPd0GXpxd",
        "outputId": "0389315e-4357-4475-9eca-4af28bdf4e15"
      },
      "source": [
        "chequeo_columna_numerica(df_listado_solucion2['bedrooms'].unique())"
      ],
      "execution_count": 41,
      "outputs": [
        {
          "output_type": "stream",
          "text": [
            "La columna está lista para transformar!\n"
          ],
          "name": "stdout"
        }
      ]
    },
    {
      "cell_type": "code",
      "metadata": {
        "colab": {
          "base_uri": "https://localhost:8080/"
        },
        "id": "n8HSUIWiX0C4",
        "outputId": "76847afe-4d40-4e1c-a048-0896fe218937"
      },
      "source": [
        "chequeo_columna_numerica(df_listado_solucion2['beds'].unique())"
      ],
      "execution_count": 42,
      "outputs": [
        {
          "output_type": "stream",
          "text": [
            "La columna está lista para transformar!\n"
          ],
          "name": "stdout"
        }
      ]
    },
    {
      "cell_type": "code",
      "metadata": {
        "colab": {
          "base_uri": "https://localhost:8080/"
        },
        "id": "MIMUtbZjYdb3",
        "outputId": "b03c90cc-b37b-4419-914c-635e51861cbd"
      },
      "source": [
        "chequeo_columna_numerica(df_listado_solucion2['guests_included'].unique())"
      ],
      "execution_count": 43,
      "outputs": [
        {
          "output_type": "stream",
          "text": [
            "La columna está lista para transformar!\n"
          ],
          "name": "stdout"
        }
      ]
    },
    {
      "cell_type": "code",
      "metadata": {
        "colab": {
          "base_uri": "https://localhost:8080/"
        },
        "id": "7X5KlmRIYhpC",
        "outputId": "14919641-96dd-4b64-e780-a34e92abbfa0"
      },
      "source": [
        "chequeo_columna_numerica(df_listado_solucion2['minimum_nights'].unique())"
      ],
      "execution_count": 44,
      "outputs": [
        {
          "output_type": "stream",
          "text": [
            "La columna está lista para transformar!\n"
          ],
          "name": "stdout"
        }
      ]
    },
    {
      "cell_type": "code",
      "metadata": {
        "colab": {
          "base_uri": "https://localhost:8080/"
        },
        "id": "-hT8v8C6YqkF",
        "outputId": "612bd256-8219-47f7-8ef0-c91a7715eb09"
      },
      "source": [
        "chequeo_columna_numerica(df_listado_solucion2['number_of_reviews'].unique())"
      ],
      "execution_count": 45,
      "outputs": [
        {
          "output_type": "stream",
          "text": [
            "La columna está lista para transformar!\n"
          ],
          "name": "stdout"
        }
      ]
    },
    {
      "cell_type": "code",
      "metadata": {
        "colab": {
          "base_uri": "https://localhost:8080/"
        },
        "id": "yc-0WcBLYxol",
        "outputId": "b0c64532-4885-493f-ea78-2020a28975e3"
      },
      "source": [
        "chequeo_columna_numerica(df_listado_solucion2['review_scores_rating'].unique())"
      ],
      "execution_count": 46,
      "outputs": [
        {
          "output_type": "stream",
          "text": [
            "La columna está lista para transformar!\n"
          ],
          "name": "stdout"
        }
      ]
    },
    {
      "cell_type": "code",
      "metadata": {
        "colab": {
          "base_uri": "https://localhost:8080/"
        },
        "id": "AMFs_Vn0Y444",
        "outputId": "60da1a48-96b9-4047-d2dd-d5d6ecb224b2"
      },
      "source": [
        "chequeo_columna_numerica(df_listado_solucion2['review_scores_accuracy'].unique())"
      ],
      "execution_count": 47,
      "outputs": [
        {
          "output_type": "stream",
          "text": [
            "La columna está lista para transformar!\n"
          ],
          "name": "stdout"
        }
      ]
    },
    {
      "cell_type": "code",
      "metadata": {
        "colab": {
          "base_uri": "https://localhost:8080/"
        },
        "id": "s4tG6MQCY7OR",
        "outputId": "96119b3b-0c72-4f5a-bab6-87e0dd796bbf"
      },
      "source": [
        "chequeo_columna_numerica(df_listado_solucion2['review_scores_cleanliness'].unique())"
      ],
      "execution_count": 48,
      "outputs": [
        {
          "output_type": "stream",
          "text": [
            "La columna está lista para transformar!\n"
          ],
          "name": "stdout"
        }
      ]
    },
    {
      "cell_type": "code",
      "metadata": {
        "colab": {
          "base_uri": "https://localhost:8080/"
        },
        "id": "v_MstrBkY7Hz",
        "outputId": "5329fa63-f787-4508-c670-8dd85b43c37c"
      },
      "source": [
        "chequeo_columna_numerica(df_listado_solucion2['review_scores_checkin'].unique())"
      ],
      "execution_count": 49,
      "outputs": [
        {
          "output_type": "stream",
          "text": [
            "La columna está lista para transformar!\n"
          ],
          "name": "stdout"
        }
      ]
    },
    {
      "cell_type": "code",
      "metadata": {
        "colab": {
          "base_uri": "https://localhost:8080/"
        },
        "id": "szXYdaLTY68a",
        "outputId": "a0b8c838-36ff-475a-94e1-4c16276c07b0"
      },
      "source": [
        "chequeo_columna_numerica(df_listado_solucion2['review_scores_communication'].unique())"
      ],
      "execution_count": 50,
      "outputs": [
        {
          "output_type": "stream",
          "text": [
            "La columna está lista para transformar!\n"
          ],
          "name": "stdout"
        }
      ]
    },
    {
      "cell_type": "code",
      "metadata": {
        "colab": {
          "base_uri": "https://localhost:8080/"
        },
        "id": "GpuUA7cVY64_",
        "outputId": "c33b6c50-e29d-4b66-b0dc-d8e4b4367dcc"
      },
      "source": [
        "chequeo_columna_numerica(df_listado_solucion2['review_scores_location'].unique())"
      ],
      "execution_count": 51,
      "outputs": [
        {
          "output_type": "stream",
          "text": [
            "La columna está lista para transformar!\n"
          ],
          "name": "stdout"
        }
      ]
    },
    {
      "cell_type": "code",
      "metadata": {
        "colab": {
          "base_uri": "https://localhost:8080/"
        },
        "id": "bfp0PYMjZYqP",
        "outputId": "cecc5333-f41b-47c3-b4c2-4576a4f672b0"
      },
      "source": [
        "chequeo_columna_numerica(df_listado_solucion2['review_scores_value'].unique())"
      ],
      "execution_count": 52,
      "outputs": [
        {
          "output_type": "stream",
          "text": [
            "La columna está lista para transformar!\n"
          ],
          "name": "stdout"
        }
      ]
    },
    {
      "cell_type": "code",
      "metadata": {
        "colab": {
          "base_uri": "https://localhost:8080/"
        },
        "id": "qv-5ypgkZYYA",
        "outputId": "6805ca47-0ce4-4c99-c897-fb35bd2aebba"
      },
      "source": [
        "chequeo_columna_numerica(df_listado_solucion2['calculated_host_listings_count'].unique())"
      ],
      "execution_count": 53,
      "outputs": [
        {
          "output_type": "stream",
          "text": [
            "La columna está lista para transformar!\n"
          ],
          "name": "stdout"
        }
      ]
    },
    {
      "cell_type": "markdown",
      "metadata": {
        "id": "G_piCB_Q4GMy"
      },
      "source": [
        "##### **Columnas con booleanos**"
      ]
    },
    {
      "cell_type": "markdown",
      "metadata": {
        "id": "vd00d5vHugSK"
      },
      "source": [
        "Para este grupo de columnas realizamos un reemplazo con el método .replace. Se reemplazarán las instancias 't' por 1 y las instancias 'f' por 0. "
      ]
    },
    {
      "cell_type": "code",
      "metadata": {
        "id": "jy2GegKg4LGI"
      },
      "source": [
        "df_listado_solucion2.host_is_superhost = df_listado_solucion2.host_is_superhost.replace({'t': 1, 'f': 0})\n",
        "df_listado_solucion2.instant_bookable = df_listado_solucion2.instant_bookable.replace({'t': 1, 'f': 0})\n",
        "df_listado_solucion2.host_has_profile_pic = df_listado_solucion2.host_has_profile_pic.replace({'t': 1, 'f': 0})\n",
        "df_listado_solucion2.host_identity_verified = df_listado_solucion2.host_identity_verified.replace({'t': 1, 'f': 0})\n",
        "df_listado_solucion2.is_business_travel_ready = df_listado_solucion2.is_business_travel_ready.replace({'t': 1, 'f': 0})\n",
        "df_listado_solucion2.require_guest_profile_picture = df_listado_solucion2.require_guest_profile_picture.replace({'t': 1, 'f': 0})\n",
        "df_listado_solucion2.require_guest_phone_verification = df_listado_solucion2.require_guest_phone_verification.replace({'t': 1, 'f': 0})"
      ],
      "execution_count": 54,
      "outputs": []
    },
    {
      "cell_type": "markdown",
      "metadata": {
        "id": "RX8CYbs9qMmC"
      },
      "source": [
        "##### **Columnas categóricas de Airbnb**"
      ]
    },
    {
      "cell_type": "markdown",
      "metadata": {
        "id": "Up3C64HCunzx"
      },
      "source": [
        "Para este grupo de columnas, basta con utilizar el método unique() individualmente para revisar que efectivamente las columnas sólo tengan como instancias los valores proporcionados por Airbnb como categorías para cada columna. "
      ]
    },
    {
      "cell_type": "code",
      "metadata": {
        "colab": {
          "base_uri": "https://localhost:8080/"
        },
        "id": "c2oWM7RXqUex",
        "outputId": "a7a13fd4-1bd1-4cf5-8ca6-f56b71788970"
      },
      "source": [
        "df_listado_solucion2['neighbourhood_cleansed'].unique()"
      ],
      "execution_count": 55,
      "outputs": [
        {
          "output_type": "execute_result",
          "data": {
            "text/plain": [
              "array(['Santa Margalida', 'Maria de la Salut', 'Campos', 'Selva',\n",
              "       'Esporles', 'Palma de Mallorca', 'Banyalbufar', 'Manacor',\n",
              "       'Sa Pobla', 'Alcúdia', 'Pollença', 'Artà', 'Santanyí', 'Fornalutx',\n",
              "       'Llucmajor', 'Sineu', 'Lloseta', 'Algaida', 'Marratxí', 'Felanitx',\n",
              "       'Llubí', 'Muro', 'Lloret de Vistalegre', 'Ariany', 'Campanet',\n",
              "       'Capdepera', 'Puigpunyent', 'Binissalem', 'Sóller',\n",
              "       'Sant Llorenç des Cardassar', 'Calvià', 'Valldemossa',\n",
              "       'Son Servera', 'Andratx', 'Mancor de la Vall', 'Ses Salines',\n",
              "       'Santa María del Camí', 'Inca', 'Costitx', 'Bunyola', 'Deyá',\n",
              "       'Búger', 'Porreres', 'Alaró', 'Montuïri', 'Escorca', 'Petra',\n",
              "       'Consell', 'Sencelles', 'Vilafranc de Bonany', 'Estellencs',\n",
              "       'Sant Joan', 'Santa Eugènia'], dtype=object)"
            ]
          },
          "metadata": {
            "tags": []
          },
          "execution_count": 55
        }
      ]
    },
    {
      "cell_type": "code",
      "metadata": {
        "colab": {
          "base_uri": "https://localhost:8080/"
        },
        "id": "2zho68TM2I9S",
        "outputId": "da91f4a3-2fc4-4006-83bc-b47cf3a18a8e"
      },
      "source": [
        "df_listado_solucion2['property_type'].unique()"
      ],
      "execution_count": 56,
      "outputs": [
        {
          "output_type": "execute_result",
          "data": {
            "text/plain": [
              "array(['House', 'Townhouse', 'Villa', 'Guest suite', 'Bed and breakfast',\n",
              "       'Loft', 'Apartment', 'Cottage', 'Castle', 'Condominium',\n",
              "       'Boutique hotel', 'Guesthouse', 'Chalet', 'Cabin',\n",
              "       'Serviced apartment', 'Other', 'Boat', 'Hostel', 'Farm stay',\n",
              "       'Hut', 'Bungalow', 'Nature lodge', 'Earth house', 'Tiny house',\n",
              "       'Camper/RV', 'Aparthotel', 'Casa particular (Cuba)', 'Resort',\n",
              "       'Windmill', 'Hotel', 'Tent', 'Vacation home'], dtype=object)"
            ]
          },
          "metadata": {
            "tags": []
          },
          "execution_count": 56
        }
      ]
    },
    {
      "cell_type": "code",
      "metadata": {
        "colab": {
          "base_uri": "https://localhost:8080/"
        },
        "id": "zW7iDLNv2LEW",
        "outputId": "0c49855e-7a93-48a0-bc2a-f52a19593f1f"
      },
      "source": [
        "df_listado_solucion2['room_type'].unique()"
      ],
      "execution_count": 57,
      "outputs": [
        {
          "output_type": "execute_result",
          "data": {
            "text/plain": [
              "array(['Entire home/apt', 'Private room', 'Shared room'], dtype=object)"
            ]
          },
          "metadata": {
            "tags": []
          },
          "execution_count": 57
        }
      ]
    },
    {
      "cell_type": "code",
      "metadata": {
        "colab": {
          "base_uri": "https://localhost:8080/"
        },
        "id": "wEeoGfre2MVI",
        "outputId": "7230d9bd-a96b-456e-ee63-82f82caf5eca"
      },
      "source": [
        "df_listado_solucion2['bed_type'].unique()"
      ],
      "execution_count": 58,
      "outputs": [
        {
          "output_type": "execute_result",
          "data": {
            "text/plain": [
              "array(['Real Bed', 'Pull-out Sofa'], dtype=object)"
            ]
          },
          "metadata": {
            "tags": []
          },
          "execution_count": 58
        }
      ]
    },
    {
      "cell_type": "code",
      "metadata": {
        "colab": {
          "base_uri": "https://localhost:8080/"
        },
        "id": "s2zv_7yJ2Nfs",
        "outputId": "1d3bd338-880f-4877-f026-b91ee7bd4770"
      },
      "source": [
        "df_listado_solucion2['cancellation_policy'].unique()"
      ],
      "execution_count": 59,
      "outputs": [
        {
          "output_type": "execute_result",
          "data": {
            "text/plain": [
              "array(['strict_14_with_grace_period', 'moderate', 'flexible',\n",
              "       'super_strict_60', 'super_strict_30'], dtype=object)"
            ]
          },
          "metadata": {
            "tags": []
          },
          "execution_count": 59
        }
      ]
    },
    {
      "cell_type": "markdown",
      "metadata": {
        "id": "z9C0cLCP9_eR"
      },
      "source": [
        "##### **Columnas con montos($)**"
      ]
    },
    {
      "cell_type": "markdown",
      "metadata": {
        "id": "E1k0tcb1uq9m"
      },
      "source": [
        "Para este grupo de columnas, una función itera por las mismas y quita los valores con el signo \"$\" y las \",\" que pueden interferir en la transformación del tipo de dato. Al finalizar, se informa el resultado. "
      ]
    },
    {
      "cell_type": "code",
      "metadata": {
        "id": "apzYfVMF-Fuk"
      },
      "source": [
        "def transformar_precios (columna):\n",
        "  try:\n",
        "    columna = columna.str.replace('$','')\n",
        "    columna = columna.str.replace(',','')\n",
        "    columna = columna.map(lambda x: float(x))\n",
        "    print('¡Columna lista para transformar!')\n",
        "    print('-----------')\n",
        "    print(columna)\n",
        "  except:\n",
        "    print('La columna no fue transformada correctamente') "
      ],
      "execution_count": 60,
      "outputs": []
    },
    {
      "cell_type": "code",
      "metadata": {
        "colab": {
          "base_uri": "https://localhost:8080/"
        },
        "id": "hwUE8UjTS1hp",
        "outputId": "b6601247-f035-46d0-9658-8c1fa4287a40"
      },
      "source": [
        "transformar_precios(df_listado_solucion2['price'])"
      ],
      "execution_count": 61,
      "outputs": [
        {
          "output_type": "stream",
          "text": [
            "¡Columna lista para transformar!\n",
            "-----------\n",
            "0        155.0\n",
            "1         90.0\n",
            "4        120.0\n",
            "5         75.0\n",
            "6        175.0\n",
            "         ...  \n",
            "16378     75.0\n",
            "16390     50.0\n",
            "16408     70.0\n",
            "16473    250.0\n",
            "16563     56.0\n",
            "Name: price, Length: 6246, dtype: float64\n"
          ],
          "name": "stdout"
        }
      ]
    },
    {
      "cell_type": "code",
      "metadata": {
        "id": "l7yUBGzS-MGZ",
        "colab": {
          "base_uri": "https://localhost:8080/"
        },
        "outputId": "9a0bec95-56f8-487b-cbce-5625adef3d66"
      },
      "source": [
        "transformar_precios(df_listado_solucion2['security_deposit'])"
      ],
      "execution_count": 62,
      "outputs": [
        {
          "output_type": "stream",
          "text": [
            "¡Columna lista para transformar!\n",
            "-----------\n",
            "0          0.0\n",
            "1          NaN\n",
            "4        200.0\n",
            "5        100.0\n",
            "6        350.0\n",
            "         ...  \n",
            "16378      0.0\n",
            "16390      0.0\n",
            "16408      0.0\n",
            "16473      NaN\n",
            "16563      0.0\n",
            "Name: security_deposit, Length: 6246, dtype: float64\n"
          ],
          "name": "stdout"
        }
      ]
    },
    {
      "cell_type": "code",
      "metadata": {
        "id": "kVqa5OyU-L-9",
        "colab": {
          "base_uri": "https://localhost:8080/"
        },
        "outputId": "b25cb360-7c58-4626-92de-802f6e001fa7"
      },
      "source": [
        "transformar_precios(df_listado_solucion2['cleaning_fee'])"
      ],
      "execution_count": 63,
      "outputs": [
        {
          "output_type": "stream",
          "text": [
            "¡Columna lista para transformar!\n",
            "-----------\n",
            "0        100.0\n",
            "1          NaN\n",
            "4         40.0\n",
            "5          NaN\n",
            "6        120.0\n",
            "         ...  \n",
            "16378     15.0\n",
            "16390     10.0\n",
            "16408     14.0\n",
            "16473      NaN\n",
            "16563      0.0\n",
            "Name: cleaning_fee, Length: 6246, dtype: float64\n"
          ],
          "name": "stdout"
        }
      ]
    },
    {
      "cell_type": "code",
      "metadata": {
        "id": "N2xsZpmU-Lz9",
        "colab": {
          "base_uri": "https://localhost:8080/"
        },
        "outputId": "c576d9de-04f3-4d5f-e34d-16fadbb11462"
      },
      "source": [
        "transformar_precios(df_listado_solucion2['extra_people'])"
      ],
      "execution_count": 64,
      "outputs": [
        {
          "output_type": "stream",
          "text": [
            "¡Columna lista para transformar!\n",
            "-----------\n",
            "0         0.0\n",
            "1        10.0\n",
            "4        10.0\n",
            "5        10.0\n",
            "6        20.0\n",
            "         ... \n",
            "16378    10.0\n",
            "16390     0.0\n",
            "16408     0.0\n",
            "16473     0.0\n",
            "16563    25.0\n",
            "Name: extra_people, Length: 6246, dtype: float64\n"
          ],
          "name": "stdout"
        }
      ]
    },
    {
      "cell_type": "markdown",
      "metadata": {
        "id": "BWN2hnj5NLtT"
      },
      "source": [
        "##### **Columnas con fechas (YYYY-MM-DD)**"
      ]
    },
    {
      "cell_type": "markdown",
      "metadata": {
        "id": "068KN_M2uu72"
      },
      "source": [
        "Para este grupo de columnas, hacemos el mismo procedimiento que para los montos: Una función convierte la columna al tipo fecha.  "
      ]
    },
    {
      "cell_type": "code",
      "metadata": {
        "id": "jZlzytNoNWU3"
      },
      "source": [
        "def transformar_fechas(columna):\n",
        "  try:\n",
        "    columna = pd.to_datetime(columna)\n",
        "    print('¡Columna de fechas transformada!')\n",
        "    print('-----------')\n",
        "    print(columna)\n",
        "  except:\n",
        "    print('La columna no pudo ser transformada correctamente')"
      ],
      "execution_count": 65,
      "outputs": []
    },
    {
      "cell_type": "code",
      "metadata": {
        "colab": {
          "base_uri": "https://localhost:8080/"
        },
        "id": "vop4qXwLNbIo",
        "outputId": "fff45fbb-d308-4ddc-a4f4-e15625ad18cf"
      },
      "source": [
        "transformar_fechas(df_listado_solucion2['host_since'])"
      ],
      "execution_count": 66,
      "outputs": [
        {
          "output_type": "stream",
          "text": [
            "¡Columna de fechas transformada!\n",
            "-----------\n",
            "0       2011-04-23\n",
            "1       2011-05-01\n",
            "4       2011-06-07\n",
            "5       2011-06-30\n",
            "6       2011-07-02\n",
            "           ...    \n",
            "16378   2013-06-03\n",
            "16390   2019-06-09\n",
            "16408   2013-06-03\n",
            "16473   2019-03-12\n",
            "16563   2018-04-12\n",
            "Name: host_since, Length: 6246, dtype: datetime64[ns]\n"
          ],
          "name": "stdout"
        }
      ]
    },
    {
      "cell_type": "code",
      "metadata": {
        "colab": {
          "base_uri": "https://localhost:8080/"
        },
        "id": "d_UlbjqoNcu1",
        "outputId": "66da5c0a-306d-498b-9b2f-39d167c69fad"
      },
      "source": [
        "transformar_fechas(df_listado_solucion2['first_review'])"
      ],
      "execution_count": 67,
      "outputs": [
        {
          "output_type": "stream",
          "text": [
            "¡Columna de fechas transformada!\n",
            "-----------\n",
            "0       2018-10-06\n",
            "1       2012-06-19\n",
            "4       2012-06-14\n",
            "5       2011-09-15\n",
            "6       2011-08-07\n",
            "           ...    \n",
            "16378   2019-06-14\n",
            "16390   2019-06-26\n",
            "16408   2019-06-13\n",
            "16473   2019-06-14\n",
            "16563   2019-06-25\n",
            "Name: first_review, Length: 6246, dtype: datetime64[ns]\n"
          ],
          "name": "stdout"
        }
      ]
    },
    {
      "cell_type": "code",
      "metadata": {
        "colab": {
          "base_uri": "https://localhost:8080/"
        },
        "id": "8xjjuUEvNeo7",
        "outputId": "587f7b0f-5204-4c15-98b1-693da60cb06e"
      },
      "source": [
        "transformar_fechas(df_listado_solucion2['last_review'])"
      ],
      "execution_count": 68,
      "outputs": [
        {
          "output_type": "stream",
          "text": [
            "¡Columna de fechas transformada!\n",
            "-----------\n",
            "0       2019-04-27\n",
            "1       2019-05-09\n",
            "4       2018-10-07\n",
            "5       2019-05-25\n",
            "6       2019-06-10\n",
            "           ...    \n",
            "16378   2019-06-14\n",
            "16390   2019-06-26\n",
            "16408   2019-06-13\n",
            "16473   2019-06-24\n",
            "16563   2019-06-25\n",
            "Name: last_review, Length: 6246, dtype: datetime64[ns]\n"
          ],
          "name": "stdout"
        }
      ]
    },
    {
      "cell_type": "markdown",
      "metadata": {
        "id": "3Gt8wvQn3Fdc"
      },
      "source": [
        "##### **Otros**"
      ]
    },
    {
      "cell_type": "markdown",
      "metadata": {
        "id": "28BIuBPTuxgE"
      },
      "source": [
        "Columna host_name."
      ]
    },
    {
      "cell_type": "code",
      "metadata": {
        "id": "MI-l5AZ-CWzO"
      },
      "source": [
        "def chequeo_columna_string(columna, nombre):\n",
        "  try:\n",
        "    archivo = open(f\"{nombre}.txt\", \"wt\")\n",
        "    for dato in columna:  \n",
        "      if dato.replace(' ', '').isalpha() == False:\n",
        "        archivo.write(f\"Hubo conflictos con: {dato}\\n\")\n",
        "  except OSError as mensaje:\n",
        "    print(\"No se pudo grabar el archivo\", mensaje)\n",
        "  finally:\n",
        "    try:\n",
        "      archivo.close()\n",
        "    except:\n",
        "      pass"
      ],
      "execution_count": 69,
      "outputs": []
    },
    {
      "cell_type": "code",
      "metadata": {
        "id": "fpadtjv4JFIz"
      },
      "source": [
        "chequeo_columna_string(df_listado_solucion2['host_name'].unique(), 'host_name')"
      ],
      "execution_count": 70,
      "outputs": []
    },
    {
      "cell_type": "markdown",
      "metadata": {
        "id": "Z2GYmVBUPrLE"
      },
      "source": [
        "Columnas 'host_location' y 'host_about'"
      ]
    },
    {
      "cell_type": "code",
      "metadata": {
        "id": "CYnxzopsJNSb",
        "colab": {
          "base_uri": "https://localhost:8080/"
        },
        "outputId": "cd17a9d1-20f9-4984-a35c-3878835eaa11"
      },
      "source": [
        "df_listado_solucion2.host_about.str.isnumeric().unique()\n"
      ],
      "execution_count": 71,
      "outputs": [
        {
          "output_type": "execute_result",
          "data": {
            "text/plain": [
              "array([False])"
            ]
          },
          "metadata": {
            "tags": []
          },
          "execution_count": 71
        }
      ]
    },
    {
      "cell_type": "code",
      "metadata": {
        "id": "9l9PViN4jUxM",
        "colab": {
          "base_uri": "https://localhost:8080/"
        },
        "outputId": "3fdbee8a-c379-4e97-c591-59b69b9e53fa"
      },
      "source": [
        "df_listado_solucion2.host_location.str.isnumeric().unique()"
      ],
      "execution_count": 72,
      "outputs": [
        {
          "output_type": "execute_result",
          "data": {
            "text/plain": [
              "array([False])"
            ]
          },
          "metadata": {
            "tags": []
          },
          "execution_count": 72
        }
      ]
    },
    {
      "cell_type": "markdown",
      "metadata": {
        "id": "8w5hj76pQGR-"
      },
      "source": [
        "Columna 'ammenities'"
      ]
    },
    {
      "cell_type": "code",
      "metadata": {
        "colab": {
          "base_uri": "https://localhost:8080/"
        },
        "id": "5-cLZGoXQIQB",
        "outputId": "b1cfe706-444f-49dc-f9ac-26083d27a328"
      },
      "source": [
        "df_listado_solucion2.host_location.str.isnumeric().unique()"
      ],
      "execution_count": 73,
      "outputs": [
        {
          "output_type": "execute_result",
          "data": {
            "text/plain": [
              "array([False])"
            ]
          },
          "metadata": {
            "tags": []
          },
          "execution_count": 73
        }
      ]
    },
    {
      "cell_type": "markdown",
      "metadata": {
        "id": "X8d8MNCKZiE3"
      },
      "source": [
        "#### **Conclusión**"
      ]
    },
    {
      "cell_type": "markdown",
      "metadata": {
        "id": "Zows8LoHoaOc"
      },
      "source": [
        "Finalizada esta etapa, el DataFrame contiene datos uniformes y las columnas están listas para ser transformadas. "
      ]
    },
    {
      "cell_type": "code",
      "metadata": {
        "colab": {
          "base_uri": "https://localhost:8080/",
          "height": 366
        },
        "id": "6RqBspWvZn8n",
        "outputId": "cc2c3fd6-9de5-4c98-e450-ed37ff5e99ef"
      },
      "source": [
        "df_listado_solucion2.head(3)"
      ],
      "execution_count": 74,
      "outputs": [
        {
          "output_type": "execute_result",
          "data": {
            "text/html": [
              "<div>\n",
              "<style scoped>\n",
              "    .dataframe tbody tr th:only-of-type {\n",
              "        vertical-align: middle;\n",
              "    }\n",
              "\n",
              "    .dataframe tbody tr th {\n",
              "        vertical-align: top;\n",
              "    }\n",
              "\n",
              "    .dataframe thead th {\n",
              "        text-align: right;\n",
              "    }\n",
              "</style>\n",
              "<table border=\"1\" class=\"dataframe\">\n",
              "  <thead>\n",
              "    <tr style=\"text-align: right;\">\n",
              "      <th></th>\n",
              "      <th>id</th>\n",
              "      <th>host_name</th>\n",
              "      <th>host_since</th>\n",
              "      <th>host_location</th>\n",
              "      <th>host_about</th>\n",
              "      <th>host_is_superhost</th>\n",
              "      <th>host_has_profile_pic</th>\n",
              "      <th>host_identity_verified</th>\n",
              "      <th>neighbourhood_cleansed</th>\n",
              "      <th>latitude</th>\n",
              "      <th>longitude</th>\n",
              "      <th>property_type</th>\n",
              "      <th>room_type</th>\n",
              "      <th>accommodates</th>\n",
              "      <th>bathrooms</th>\n",
              "      <th>bedrooms</th>\n",
              "      <th>beds</th>\n",
              "      <th>bed_type</th>\n",
              "      <th>amenities</th>\n",
              "      <th>price</th>\n",
              "      <th>security_deposit</th>\n",
              "      <th>cleaning_fee</th>\n",
              "      <th>guests_included</th>\n",
              "      <th>extra_people</th>\n",
              "      <th>minimum_nights</th>\n",
              "      <th>number_of_reviews</th>\n",
              "      <th>first_review</th>\n",
              "      <th>last_review</th>\n",
              "      <th>review_scores_rating</th>\n",
              "      <th>review_scores_accuracy</th>\n",
              "      <th>review_scores_cleanliness</th>\n",
              "      <th>review_scores_checkin</th>\n",
              "      <th>review_scores_communication</th>\n",
              "      <th>review_scores_location</th>\n",
              "      <th>review_scores_value</th>\n",
              "      <th>instant_bookable</th>\n",
              "      <th>is_business_travel_ready</th>\n",
              "      <th>cancellation_policy</th>\n",
              "      <th>require_guest_profile_picture</th>\n",
              "      <th>require_guest_phone_verification</th>\n",
              "      <th>calculated_host_listings_count</th>\n",
              "    </tr>\n",
              "  </thead>\n",
              "  <tbody>\n",
              "    <tr>\n",
              "      <th>0</th>\n",
              "      <td>100831</td>\n",
              "      <td>Miguel</td>\n",
              "      <td>2011-04-23</td>\n",
              "      <td>Mallorca</td>\n",
              "      <td>Somos una pareja con los mismos gustos e inter...</td>\n",
              "      <td>0</td>\n",
              "      <td>1</td>\n",
              "      <td>1</td>\n",
              "      <td>Santa Margalida</td>\n",
              "      <td>39.76347</td>\n",
              "      <td>3.16255</td>\n",
              "      <td>House</td>\n",
              "      <td>Entire home/apt</td>\n",
              "      <td>8.0</td>\n",
              "      <td>3.0</td>\n",
              "      <td>4.0</td>\n",
              "      <td>7.0</td>\n",
              "      <td>Real Bed</td>\n",
              "      <td>{TV,\"Cable TV\",Internet,Wifi,\"Air conditioning...</td>\n",
              "      <td>$155.00</td>\n",
              "      <td>$0.00</td>\n",
              "      <td>$100.00</td>\n",
              "      <td>1.0</td>\n",
              "      <td>$0.00</td>\n",
              "      <td>4</td>\n",
              "      <td>20</td>\n",
              "      <td>2018-10-06</td>\n",
              "      <td>2019-04-27</td>\n",
              "      <td>99.0</td>\n",
              "      <td>10.0</td>\n",
              "      <td>10.0</td>\n",
              "      <td>10.0</td>\n",
              "      <td>10.0</td>\n",
              "      <td>9.0</td>\n",
              "      <td>10.0</td>\n",
              "      <td>1</td>\n",
              "      <td>0</td>\n",
              "      <td>strict_14_with_grace_period</td>\n",
              "      <td>0</td>\n",
              "      <td>0</td>\n",
              "      <td>1.0</td>\n",
              "    </tr>\n",
              "    <tr>\n",
              "      <th>1</th>\n",
              "      <td>105891</td>\n",
              "      <td>Bartomeu</td>\n",
              "      <td>2011-05-01</td>\n",
              "      <td>Ariany, Balearic Islands, Spain</td>\n",
              "      <td>Hola!. Resido en una casa de campo de un puebl...</td>\n",
              "      <td>1</td>\n",
              "      <td>1</td>\n",
              "      <td>1</td>\n",
              "      <td>Maria de la Salut</td>\n",
              "      <td>39.66044</td>\n",
              "      <td>3.07165</td>\n",
              "      <td>Townhouse</td>\n",
              "      <td>Entire home/apt</td>\n",
              "      <td>6.0</td>\n",
              "      <td>2.0</td>\n",
              "      <td>3.0</td>\n",
              "      <td>4.0</td>\n",
              "      <td>Real Bed</td>\n",
              "      <td>{TV,\"Cable TV\",Wifi,\"Air conditioning\",Pool,Ki...</td>\n",
              "      <td>$90.00</td>\n",
              "      <td>0</td>\n",
              "      <td>0</td>\n",
              "      <td>4.0</td>\n",
              "      <td>$10.00</td>\n",
              "      <td>7</td>\n",
              "      <td>13</td>\n",
              "      <td>2012-06-19</td>\n",
              "      <td>2019-05-09</td>\n",
              "      <td>97.0</td>\n",
              "      <td>10.0</td>\n",
              "      <td>10.0</td>\n",
              "      <td>10.0</td>\n",
              "      <td>10.0</td>\n",
              "      <td>9.0</td>\n",
              "      <td>10.0</td>\n",
              "      <td>1</td>\n",
              "      <td>0</td>\n",
              "      <td>strict_14_with_grace_period</td>\n",
              "      <td>0</td>\n",
              "      <td>1</td>\n",
              "      <td>2.0</td>\n",
              "    </tr>\n",
              "    <tr>\n",
              "      <th>4</th>\n",
              "      <td>158925</td>\n",
              "      <td>Marie</td>\n",
              "      <td>2011-06-07</td>\n",
              "      <td>Palma, Balearic Islands, Spain</td>\n",
              "      <td>Hola, me llamo Marie.  Despues de haber viajad...</td>\n",
              "      <td>0</td>\n",
              "      <td>1</td>\n",
              "      <td>0</td>\n",
              "      <td>Campos</td>\n",
              "      <td>39.396609999999995</td>\n",
              "      <td>3.08728</td>\n",
              "      <td>Villa</td>\n",
              "      <td>Private room</td>\n",
              "      <td>3.0</td>\n",
              "      <td>1.0</td>\n",
              "      <td>1.0</td>\n",
              "      <td>3.0</td>\n",
              "      <td>Real Bed</td>\n",
              "      <td>{TV,Wifi,Pool,Kitchen,\"Free parking on premise...</td>\n",
              "      <td>$120.00</td>\n",
              "      <td>$200.00</td>\n",
              "      <td>$40.00</td>\n",
              "      <td>2.0</td>\n",
              "      <td>$10.00</td>\n",
              "      <td>3</td>\n",
              "      <td>37</td>\n",
              "      <td>2012-06-14</td>\n",
              "      <td>2018-10-07</td>\n",
              "      <td>94.0</td>\n",
              "      <td>10.0</td>\n",
              "      <td>9.0</td>\n",
              "      <td>10.0</td>\n",
              "      <td>10.0</td>\n",
              "      <td>9.0</td>\n",
              "      <td>9.0</td>\n",
              "      <td>1</td>\n",
              "      <td>0</td>\n",
              "      <td>strict_14_with_grace_period</td>\n",
              "      <td>0</td>\n",
              "      <td>0</td>\n",
              "      <td>3.0</td>\n",
              "    </tr>\n",
              "  </tbody>\n",
              "</table>\n",
              "</div>"
            ],
            "text/plain": [
              "       id  ... calculated_host_listings_count\n",
              "0  100831  ...                            1.0\n",
              "1  105891  ...                            2.0\n",
              "4  158925  ...                            3.0\n",
              "\n",
              "[3 rows x 41 columns]"
            ]
          },
          "metadata": {
            "tags": []
          },
          "execution_count": 74
        }
      ]
    },
    {
      "cell_type": "markdown",
      "metadata": {
        "id": "SSwyaDGta6Me"
      },
      "source": [
        "### TRANSFORMACIÓN.\n",
        "\n",
        "Habiendo revisado el contenido de las columnas, transformamos los datos a los dtypes más convenientes para su posterior análisis y visualización. \n",
        "\n"
      ]
    },
    {
      "cell_type": "markdown",
      "metadata": {
        "id": "3flvQ3-7dKz9"
      },
      "source": [
        "##### **Explicación del paso** "
      ]
    },
    {
      "cell_type": "markdown",
      "metadata": {
        "id": "9oQisvf7oWE4"
      },
      "source": [
        "Habiendo relevando todas las columnas en búsqueda de datos extraños, el objetivo de la transformación será: \n",
        "\n",
        "\n",
        "\n",
        "*   **Transformar las fechas (YYYY-MM-DD) a datetime64**.\n",
        "*   **Transformar los números a algún dtype numérico o flotante.**\n",
        "\n",
        "\n",
        "\n",
        "\n"
      ]
    },
    {
      "cell_type": "markdown",
      "metadata": {
        "id": "_lMbCDbGdODl"
      },
      "source": [
        "##### **Implementación**"
      ]
    },
    {
      "cell_type": "markdown",
      "metadata": {
        "id": "C1ceDb1hguFh"
      },
      "source": [
        "###### **Columnas de instancias numéricas**"
      ]
    },
    {
      "cell_type": "code",
      "metadata": {
        "id": "dboCQYN3geob"
      },
      "source": [
        "df_listado_solucion2['id'] = pd.to_numeric(df_listado_solucion2['id'], downcast='float')\n",
        "df_listado_solucion2['latitude'] = pd.to_numeric(df_listado_solucion2['latitude'], downcast='float')\n",
        "df_listado_solucion2['longitude'] = pd.to_numeric(df_listado_solucion2['longitude'], downcast='float')\n",
        "df_listado_solucion2['accommodates'] = df_listado_solucion2['accommodates'].astype(int)\n",
        "df_listado_solucion2['bathrooms'] = df_listado_solucion2['bathrooms'].astype(int)\n",
        "df_listado_solucion2['bedrooms'] = df_listado_solucion2['bedrooms'].astype(int)\n",
        "df_listado_solucion2['beds'] = df_listado_solucion2['beds'].astype(int)\n",
        "df_listado_solucion2['guests_included'] = df_listado_solucion2['guests_included'].astype(int)\n",
        "df_listado_solucion2['minimum_nights'] = df_listado_solucion2['minimum_nights'].astype(int)\n",
        "df_listado_solucion2['number_of_reviews'] = df_listado_solucion2['number_of_reviews'].astype(int)\n",
        "df_listado_solucion2['review_scores_rating'] = pd.to_numeric(df_listado_solucion2['review_scores_rating'], downcast='float')\n",
        "df_listado_solucion2['review_scores_accuracy'] = pd.to_numeric(df_listado_solucion2['review_scores_accuracy'], downcast='float')\n",
        "df_listado_solucion2['review_scores_cleanliness'] = pd.to_numeric(df_listado_solucion2['review_scores_cleanliness'], downcast='float')\n",
        "df_listado_solucion2['review_scores_checkin'] = pd.to_numeric(df_listado_solucion2['review_scores_checkin'], downcast='float')\n",
        "df_listado_solucion2['review_scores_communication'] = pd.to_numeric(df_listado_solucion2['review_scores_communication'], downcast='float')\n",
        "df_listado_solucion2['review_scores_location'] = pd.to_numeric(df_listado_solucion2['review_scores_location'], downcast='float')\n",
        "df_listado_solucion2['review_scores_value'] = pd.to_numeric(df_listado_solucion2['review_scores_value'], downcast='float')\n",
        "df_listado_solucion2['calculated_host_listings_count'] = pd.to_numeric(df_listado_solucion2['calculated_host_listings_count'], downcast='float')"
      ],
      "execution_count": 96,
      "outputs": []
    },
    {
      "cell_type": "markdown",
      "metadata": {
        "id": "JjMSizSqjF0C"
      },
      "source": [
        "###### **Columnas categóricas de Airbnb**"
      ]
    },
    {
      "cell_type": "code",
      "metadata": {
        "colab": {
          "base_uri": "https://localhost:8080/"
        },
        "id": "GJoU8XkwjKwn",
        "outputId": "c20af9d5-615e-44ee-9bc8-341208dc092a"
      },
      "source": [
        "#df_listado_solucion2['bed_type'] = \n",
        "df_listado_solucion2['bed_type'].astype(str)\n",
        "\n",
        "#'property_type', 'room_type', 'bed_type', 'neighbourhood_cleansed', 'cancellation_policy'"
      ],
      "execution_count": 76,
      "outputs": [
        {
          "output_type": "execute_result",
          "data": {
            "text/plain": [
              "0        Real Bed\n",
              "1        Real Bed\n",
              "4        Real Bed\n",
              "5        Real Bed\n",
              "6        Real Bed\n",
              "           ...   \n",
              "16378    Real Bed\n",
              "16390    Real Bed\n",
              "16408    Real Bed\n",
              "16473    Real Bed\n",
              "16563    Real Bed\n",
              "Name: bed_type, Length: 6246, dtype: object"
            ]
          },
          "metadata": {
            "tags": []
          },
          "execution_count": 76
        }
      ]
    },
    {
      "cell_type": "markdown",
      "metadata": {
        "id": "IYhq_Kbifjb9"
      },
      "source": [
        "###### **Columnas con montos($)**"
      ]
    },
    {
      "cell_type": "code",
      "metadata": {
        "id": "ac8xmteLfkO3"
      },
      "source": [
        "df_listado_solucion2['price'] = df_listado_solucion2['price'].replace('[\\$,]', '', regex=True).astype(float)\n",
        "df_listado_solucion2['security_deposit'] = df_listado_solucion2['security_deposit'].replace('[\\$,]', '', regex=True).astype(float)\n",
        "df_listado_solucion2['cleaning_fee'] = df_listado_solucion2['cleaning_fee'].replace('[\\$,]', '', regex=True).astype(float)\n",
        "df_listado_solucion2['extra_people'] = df_listado_solucion2['extra_people'].replace('[\\$,]', '', regex=True).astype(float)"
      ],
      "execution_count": 77,
      "outputs": []
    },
    {
      "cell_type": "markdown",
      "metadata": {
        "id": "VyvXPGY3fzZI"
      },
      "source": [
        "###### **Columnas con fechas (YYYY-MM-DD)**"
      ]
    },
    {
      "cell_type": "code",
      "metadata": {
        "id": "F6bs4ztUf7f7"
      },
      "source": [
        "df_listado_solucion2['host_since'] = pd.to_datetime(df_listado_solucion2['host_since'])\n",
        "df_listado_solucion2['first_review'] = pd.to_datetime(df_listado_solucion2['first_review'])\n",
        "df_listado_solucion2['last_review'] = pd.to_datetime(df_listado_solucion2['last_review'])\n"
      ],
      "execution_count": 78,
      "outputs": []
    },
    {
      "cell_type": "markdown",
      "metadata": {
        "id": "-TM6DMa3dRHB"
      },
      "source": [
        "##### **Conclusión** "
      ]
    },
    {
      "cell_type": "markdown",
      "metadata": {
        "id": "BvQHcYXjo4_z"
      },
      "source": [
        "Finalizada la transformación, llamamos nuevamente al método .info() y nos encontramos con un dataframe totalmente distinto al que teníamos al comenzar. Estamos listos para comenzar a analizar y visualizar. "
      ]
    },
    {
      "cell_type": "code",
      "metadata": {
        "colab": {
          "base_uri": "https://localhost:8080/"
        },
        "id": "fX4sx2mogKhx",
        "outputId": "22ae5add-0893-44bb-d474-6eed538acf82"
      },
      "source": [
        "df_listado_solucion2.info()"
      ],
      "execution_count": 79,
      "outputs": [
        {
          "output_type": "stream",
          "text": [
            "<class 'pandas.core.frame.DataFrame'>\n",
            "Int64Index: 6246 entries, 0 to 16563\n",
            "Data columns (total 41 columns):\n",
            " #   Column                            Non-Null Count  Dtype         \n",
            "---  ------                            --------------  -----         \n",
            " 0   id                                6246 non-null   float32       \n",
            " 1   host_name                         6246 non-null   object        \n",
            " 2   host_since                        6246 non-null   datetime64[ns]\n",
            " 3   host_location                     6246 non-null   object        \n",
            " 4   host_about                        6246 non-null   object        \n",
            " 5   host_is_superhost                 6246 non-null   int64         \n",
            " 6   host_has_profile_pic              6246 non-null   int64         \n",
            " 7   host_identity_verified            6246 non-null   int64         \n",
            " 8   neighbourhood_cleansed            6246 non-null   object        \n",
            " 9   latitude                          6246 non-null   float32       \n",
            " 10  longitude                         6246 non-null   float32       \n",
            " 11  property_type                     6246 non-null   object        \n",
            " 12  room_type                         6246 non-null   object        \n",
            " 13  accommodates                      6246 non-null   float32       \n",
            " 14  bathrooms                         6246 non-null   float32       \n",
            " 15  bedrooms                          6246 non-null   float32       \n",
            " 16  beds                              6246 non-null   float32       \n",
            " 17  bed_type                          6246 non-null   object        \n",
            " 18  amenities                         6246 non-null   object        \n",
            " 19  price                             6246 non-null   float64       \n",
            " 20  security_deposit                  6246 non-null   float64       \n",
            " 21  cleaning_fee                      6246 non-null   float64       \n",
            " 22  guests_included                   6246 non-null   float32       \n",
            " 23  extra_people                      6246 non-null   float64       \n",
            " 24  minimum_nights                    6246 non-null   float32       \n",
            " 25  number_of_reviews                 6246 non-null   float32       \n",
            " 26  first_review                      6246 non-null   datetime64[ns]\n",
            " 27  last_review                       6246 non-null   datetime64[ns]\n",
            " 28  review_scores_rating              6246 non-null   float32       \n",
            " 29  review_scores_accuracy            6246 non-null   float32       \n",
            " 30  review_scores_cleanliness         6246 non-null   float32       \n",
            " 31  review_scores_checkin             6246 non-null   float32       \n",
            " 32  review_scores_communication       6246 non-null   float32       \n",
            " 33  review_scores_location            6246 non-null   float32       \n",
            " 34  review_scores_value               6246 non-null   float32       \n",
            " 35  instant_bookable                  6246 non-null   int64         \n",
            " 36  is_business_travel_ready          6246 non-null   int64         \n",
            " 37  cancellation_policy               6246 non-null   object        \n",
            " 38  require_guest_profile_picture     6246 non-null   int64         \n",
            " 39  require_guest_phone_verification  6246 non-null   int64         \n",
            " 40  calculated_host_listings_count    6246 non-null   float32       \n",
            "dtypes: datetime64[ns](3), float32(18), float64(4), int64(7), object(9)\n",
            "memory usage: 1.6+ MB\n"
          ],
          "name": "stdout"
        }
      ]
    },
    {
      "cell_type": "markdown",
      "metadata": {
        "id": "XVQiQbm5dgjW"
      },
      "source": [
        "## **ANÁLISIS Y VISUALIZACIONES**\n",
        "\n",
        "Habiendo transformado los datos y teniendo nuestro DataFrame final listo, indagamos en los datos buscando insights de valor. Siguiendo la modalidad de trabajo, dividimos en dos segmentos: \n",
        "\n",
        "* **Análisis**\n",
        "* **Visualización**"
      ]
    },
    {
      "cell_type": "markdown",
      "metadata": {
        "id": "UxV6Ue-yn5-c"
      },
      "source": [
        "##### **Implementación** "
      ]
    },
    {
      "cell_type": "code",
      "metadata": {
        "id": "056YPPx_nyQq"
      },
      "source": [
        "analisis_municipios = df_listado_solucion2[['neighbourhood_cleansed','price']].groupby('neighbourhood_cleansed')\\\n",
        "  .agg(['mean','count'])\\\n",
        "    .sort_values(by=('price','mean'), ascending=False).round(2)"
      ],
      "execution_count": 113,
      "outputs": []
    },
    {
      "cell_type": "code",
      "metadata": {
        "id": "Z0XZLWQDgIG4"
      },
      "source": [
        "promedio = list(analisis_municipios['price']['mean'])\n",
        "cantidad = list(analisis_municipios['price']['count'])\n",
        "\n",
        "promedio = promedio[:11]\n",
        "cantidad = cantidad[:11]"
      ],
      "execution_count": 169,
      "outputs": []
    },
    {
      "cell_type": "code",
      "metadata": {
        "colab": {
          "base_uri": "https://localhost:8080/",
          "height": 507
        },
        "id": "5U3lG1ZHgeks",
        "outputId": "6e48a236-b2e8-4670-d372-c5f0959870fd"
      },
      "source": [
        "import matplotlib.pyplot as plt\n",
        "import numpy as np\n",
        "\n",
        "labels = analisis_municipios.index\n",
        "labels = labels[:11]\n",
        "\n",
        "x = np.arange(len(labels))  # the label locations\n",
        "width = 0.25  # the width of the bars\n",
        "\n",
        "fig, ax = plt.subplots(figsize=(14,5))\n",
        "rects1 = ax.bar(x - width/2, promedio, width, label='Promedio')\n",
        "rects2 = ax.bar(x + width/2, cantidad, width, label='Cantidad')\n",
        "\n",
        "# Add some text for labels, title and custom x-axis tick labels, etc.\n",
        "ax.set_ylabel('Precio y cantidad')\n",
        "ax.set_title('Precio por barrio y la cantidad de propiedades en ese barrio')\n",
        "ax.set_xticks(x)\n",
        "ax.set_xticklabels(labels)\n",
        "ax.legend()\n",
        "\n",
        "#ax.bar_label(rects1, padding=3)\n",
        "#ax.bar_label(rects2, padding=3)\n",
        "\n",
        "fig.tight_layout()\n",
        "\n",
        "plt.show()"
      ],
      "execution_count": 181,
      "outputs": [
        {
          "output_type": "display_data",
          "data": {
            "image/png": "[encoded data removed]",
            "text/plain": [
              "<Figure size 1400x500 with 1 Axes>"
            ]
          },
          "metadata": {
            "tags": []
          }
        }
      ]
    },
    {
      "cell_type": "markdown",
      "metadata": {
        "id": "QW67orkXZBwG"
      },
      "source": [
        "Mapas de España donde se situan las propiedades que se publican en AirBNB"
      ]
    },
    {
      "cell_type": "code",
      "metadata": {
        "colab": {
          "base_uri": "https://localhost:8080/"
        },
        "id": "Pr-vOESzZGKx",
        "outputId": "a792e007-8c36-4ec7-81c9-d2003fb7bd12"
      },
      "source": [
        "pip install geopandas"
      ],
      "execution_count": 99,
      "outputs": [
        {
          "output_type": "stream",
          "text": [
            "Requirement already satisfied: geopandas in /usr/local/lib/python3.7/dist-packages (0.9.0)\n",
            "Requirement already satisfied: pyproj>=2.2.0 in /usr/local/lib/python3.7/dist-packages (from geopandas) (3.1.0)\n",
            "Requirement already satisfied: pandas>=0.24.0 in /usr/local/lib/python3.7/dist-packages (from geopandas) (1.1.5)\n",
            "Requirement already satisfied: shapely>=1.6 in /usr/local/lib/python3.7/dist-packages (from geopandas) (1.7.1)\n",
            "Requirement already satisfied: fiona>=1.8 in /usr/local/lib/python3.7/dist-packages (from geopandas) (1.8.20)\n",
            "Requirement already satisfied: certifi in /usr/local/lib/python3.7/dist-packages (from pyproj>=2.2.0->geopandas) (2021.5.30)\n",
            "Requirement already satisfied: python-dateutil>=2.7.3 in /usr/local/lib/python3.7/dist-packages (from pandas>=0.24.0->geopandas) (2.8.1)\n",
            "Requirement already satisfied: pytz>=2017.2 in /usr/local/lib/python3.7/dist-packages (from pandas>=0.24.0->geopandas) (2018.9)\n",
            "Requirement already satisfied: numpy>=1.15.4 in /usr/local/lib/python3.7/dist-packages (from pandas>=0.24.0->geopandas) (1.19.5)\n",
            "Requirement already satisfied: setuptools in /usr/local/lib/python3.7/dist-packages (from fiona>=1.8->geopandas) (57.0.0)\n",
            "Requirement already satisfied: click-plugins>=1.0 in /usr/local/lib/python3.7/dist-packages (from fiona>=1.8->geopandas) (1.1.1)\n",
            "Requirement already satisfied: munch in /usr/local/lib/python3.7/dist-packages (from fiona>=1.8->geopandas) (2.5.0)\n",
            "Requirement already satisfied: cligj>=0.5 in /usr/local/lib/python3.7/dist-packages (from fiona>=1.8->geopandas) (0.7.2)\n",
            "Requirement already satisfied: click>=4.0 in /usr/local/lib/python3.7/dist-packages (from fiona>=1.8->geopandas) (7.1.2)\n",
            "Requirement already satisfied: attrs>=17 in /usr/local/lib/python3.7/dist-packages (from fiona>=1.8->geopandas) (21.2.0)\n",
            "Requirement already satisfied: six>=1.7 in /usr/local/lib/python3.7/dist-packages (from fiona>=1.8->geopandas) (1.15.0)\n"
          ],
          "name": "stdout"
        }
      ]
    },
    {
      "cell_type": "code",
      "metadata": {
        "colab": {
          "base_uri": "https://localhost:8080/"
        },
        "id": "12vTLXy5ZSZd",
        "outputId": "0e3768a0-5b84-4bb7-affa-d88a2e434df3"
      },
      "source": [
        "!pip install --upgrade plotly"
      ],
      "execution_count": 100,
      "outputs": [
        {
          "output_type": "stream",
          "text": [
            "Requirement already up-to-date: plotly in /usr/local/lib/python3.7/dist-packages (5.1.0)\n",
            "Requirement already satisfied, skipping upgrade: tenacity>=6.2.0 in /usr/local/lib/python3.7/dist-packages (from plotly) (8.0.0)\n",
            "Requirement already satisfied, skipping upgrade: six in /usr/local/lib/python3.7/dist-packages (from plotly) (1.15.0)\n"
          ],
          "name": "stdout"
        }
      ]
    },
    {
      "cell_type": "code",
      "metadata": {
        "colab": {
          "base_uri": "https://localhost:8080/",
          "height": 362
        },
        "id": "zbdcH4ZZZJKG",
        "outputId": "f3d302b8-9af5-4001-f2e3-4a1193d47d12"
      },
      "source": [
        "import geopandas\n",
        "\n",
        "gdf = geopandas.GeoDataFrame(\n",
        "    df_listado_solucion2, geometry=geopandas.points_from_xy(df_listado_solucion2.longitude, df_listado_solucion2.latitude))\n",
        "world = geopandas.read_file(geopandas.datasets.get_path('naturalearth_lowres'))\n",
        "\n",
        "# We restrict to South America.\n",
        "ax = world[world.name == 'Spain'].plot(\n",
        "    color='black', edgecolor='black')\n",
        "\n",
        "# We can now plot our ``GeoDataFrame``.\n",
        "gdf.plot(ax=ax, color='red')\n",
        "\n",
        "plt.show()"
      ],
      "execution_count": 101,
      "outputs": [
        {
          "output_type": "display_data",
          "data": {
            "image/png": "[encoded data removed]",
            "text/plain": [
              "<Figure size 640x480 with 1 Axes>"
            ]
          },
          "metadata": {
            "tags": []
          }
        }
      ]
    },
    {
      "cell_type": "code",
      "metadata": {
        "colab": {
          "base_uri": "https://localhost:8080/",
          "height": 417
        },
        "id": "5Tc-nVuJZONi",
        "outputId": "9f1b49e4-60bf-4b9c-910c-a95fbf50f155"
      },
      "source": [
        "fig = px.scatter_mapbox(df_listado_solucion2, lat=\"latitude\", lon=\"longitude\",\n",
        "                        color_discrete_sequence=[\"red\"], zoom=8, height=400,)\n",
        "fig.update_layout(mapbox_style=\"open-street-map\")\n",
        "fig.update_layout(margin={\"r\":0,\"t\":0,\"l\":0,\"b\":0})\n",
        "fig.show(renderer=\"colab\")"
      ],
      "execution_count": 182,
      "outputs": [
        {
          "output_type": "display_data",
          "data": {
            "text/html": [
              "<html>\n",
              "<head><meta charset=\"utf-8\" /></head>\n",
              "<body>\n",
              "    <div>            <script src=\"https://cdnjs.cloudflare.com/ajax/libs/mathjax/2.7.5/MathJax.js?config=TeX-AMS-MML_SVG\"></script><script type=\"text/javascript\">if (window.MathJax) {MathJax.Hub.Config({SVG: {font: \"STIX-Web\"}});}</script>                <script type=\"text/javascript\">window.PlotlyConfig = {MathJaxConfig: 'local'};</script>\n",
              "        <script src=\"https://cdn.plot.ly/plotly-2.2.0.min.js\"></script>                <div id=\"10a506ed-d01a-422c-bbda-bd944106a350\" class=\"plotly-graph-div\" style=\"height:400px; width:100%;\"></div>            <script type=\"text/javascript\">                                    window.PLOTLYENV=window.PLOTLYENV || {};                                    if (document.getElementById(\"10a506ed-d01a-422c-bbda-bd944106a350\")) {                    Plotly.newPlot(                        \"10a506ed-d01a-422c-bbda-bd944106a350\",                        [{\"hovertemplate\":\"latitude=%{lat}<br>longitude=%{lon}<extra></extra>\",\"lat\":[39.76346969604492,39.660438537597656,39.396610260009766,39.73688888549805,39.65414047241211,39.573020935058594,39.6793212890625,39.66632843017578,39.77096176147461,39.82168960571289,39.897300720214844,39.8337516784668,39.69116973876953,39.301971435546875,39.56486892700195,39.852989196777344,39.81618881225586,39.68769073486328,39.772499084472656,39.73506164550781,39.69404983520508,39.76451110839844,39.53340148925781,39.57381820678711,39.40285873413086,39.382240295410156,39.5806884765625,39.84053039550781,39.53607940673828,39.691429138183594,39.69231033325195,39.57204818725586,39.71281814575195,39.652950286865234,39.678550720214844,39.644500732421875,39.888450622558594,39.7199592590332,39.649810791015625,39.753868103027344,39.5577507019043,39.572818756103516,39.63187026977539,39.57183074951172,39.67959976196289,39.376251220703125,39.42620849609375,39.70457077026367,39.670291900634766,39.80107879638672,39.574249267578125,39.72890853881836,39.56747817993164,39.609519958496094,39.569889068603516,39.6527099609375,39.5773811340332,39.63589859008789,39.776641845703125,39.81150817871094,39.704978942871094,39.7440299987793,39.70317840576172,39.58115005493164,39.7529296875,39.713401794433594,39.611289978027344,39.368221282958984,39.69211959838867,39.49610900878906,39.7672004699707,39.920440673828125,39.573970794677734,39.58256912231445,39.70212173461914,39.89862823486328,39.56787109375,39.86465835571289,39.57965087890625,39.556339263916016,39.85382843017578,39.39894104003906,39.398658752441406,39.71699142456055,39.56150817871094,39.91714859008789,39.77357864379883,39.344329833984375,39.579978942871094,39.572208404541016,39.780391693115234,39.73432922363281,39.57600021362305,39.772178649902344,39.648338317871094,39.73134994506836,39.57086944580078,39.557350158691406,39.54825973510742,39.749691009521484,39.55241012573242,39.555389404296875,39.54608154296875,39.69794845581055,39.64125061035156,39.57194900512695,39.4540901184082,39.56557083129883,39.697750091552734,39.67259979248047,39.70001983642578,39.56163024902344,39.65888977050781,39.75202941894531,39.56991958618164,39.576351165771484,39.61996078491211,39.57925033569336,39.70391845703125,39.56264114379883,39.3480110168457,39.534549713134766,39.57503128051758,39.688201904296875,39.4034309387207,39.4151611328125,39.35321044921875,39.64421081542969,39.44009017944336,39.54505920410156,39.568328857421875,39.637489318847656,39.65665054321289,39.43309020996094,39.57545852661133,39.55506896972656,39.78493881225586,39.7735481262207,39.63264846801758,39.579280853271484,39.77339172363281,39.76694107055664,39.628910064697266,39.7158317565918,39.76607894897461,39.571529388427734,39.40325927734375,39.50421905517578,39.87467956542969,39.760929107666016,39.5743293762207,39.65925979614258,39.77663040161133,39.81610107421875,39.74385070800781,39.72438049316406,39.57484817504883,39.86600112915039,39.709129333496094,39.6161003112793,39.36640930175781,39.85655975341797,39.47719955444336,39.771888732910156,39.760658264160156,39.549991607666016,39.8619499206543,39.7725715637207,39.92070007324219,39.594600677490234,39.57463073730469,39.841461181640625,39.553680419921875,39.566749572753906,39.84278869628906,39.69049835205078,39.56821823120117,39.75926971435547,39.314151763916016,39.36180114746094,39.73556137084961,39.4151496887207,39.57242965698242,39.80004119873047,39.57292175292969,39.51792907714844,39.333648681640625,39.46784973144531,39.316158294677734,39.57229995727539,39.918739318847656,39.500301361083984,39.77370071411133,39.39088821411133,39.3949089050293,39.39139938354492,39.31631088256836,39.664859771728516,39.76308822631836,39.888919830322266,39.52505874633789,39.446510314941406,39.465721130371094,39.587791442871094,39.453548431396484,39.34572982788086,39.737281799316406,39.70743942260742,39.734859466552734,39.56595993041992,39.4256591796875,39.68832015991211,39.51776885986328,39.57252883911133,39.47806167602539,39.52915954589844,39.3734016418457,39.48276901245117,39.764591217041016,39.57167053222656,39.42744827270508,39.84033966064453,39.35512161254883,39.7315788269043,39.72975158691406,39.73094940185547,39.560218811035156,39.7918815612793,39.53852844238281,39.36349868774414,39.87554931640625,39.52753829956055,39.44765090942383,39.439361572265625,39.751739501953125,39.608619689941406,39.874088287353516,39.57080078125,39.722801208496094,39.8438606262207,39.920528411865234,39.40830993652344,39.771541595458984,39.56446838378906,39.36505126953125,39.7718391418457,39.56700134277344,39.79533004760742,39.313419342041016,39.31439971923828,39.83694076538086,39.59545135498047,39.36737823486328,39.435211181640625,39.733089447021484,39.408058166503906,39.87704086303711,39.876930236816406,39.9204216003418,39.91706848144531,39.62139129638672,39.362789154052734,39.70254898071289,39.370418548583984,39.54753112792969,39.6556282043457,39.68891143798828,39.81507873535156,39.587318420410156,39.33290100097656,39.89236068725586,39.318389892578125,39.45629119873047,39.354408264160156,39.7616081237793,39.76308059692383,39.72101974487305,39.67784118652344,39.79682159423828,39.47454071044922,39.863861083984375,39.7564697265625,39.76728057861328,39.61859130859375,39.85354995727539,39.7369499206543,39.5540885925293,39.770660400390625,39.815731048583984,39.87784957885742,39.9005012512207,39.538780212402344,39.419490814208984,39.55147933959961,39.41082000732422,39.43259811401367,39.75864028930664,39.47475051879883,39.438438415527344,39.391258239746094,39.780181884765625,39.52973937988281,39.52177810668945,39.862491607666016,39.5555305480957,39.72349166870117,39.79336929321289,39.62274169921875,39.8160400390625,39.6886100769043,39.57004928588867,39.55352020263672,39.8756217956543,39.59981155395508,39.815731048583984,39.54159164428711,39.57600021362305,39.332359313964844,39.35544967651367,39.556251525878906,39.781890869140625,39.858909606933594,39.570411682128906,39.433231353759766,39.57223129272461,39.43986129760742,39.6544189453125,39.4156608581543,39.47434997558594,39.73360061645508,39.36465072631836,39.366058349609375,39.764888763427734,39.53728103637695,39.764801025390625,39.533931732177734,39.734989166259766,39.53451156616211,39.56119918823242,39.57548904418945,39.332130432128906,39.419620513916016,39.47832107543945,39.71839904785156,39.352420806884766,39.4326286315918,39.42316818237305,39.564640045166016,39.55405044555664,39.795021057128906,39.41645812988281,39.57347106933594,39.880088806152344,39.42763137817383,39.71073913574219,39.781368255615234,39.61827087402344,39.88330841064453,39.666481018066406,39.3679313659668,39.65562057495117,39.6674690246582,39.68135070800781,39.69847869873047,39.66638946533203,39.64175033569336,39.68716049194336,39.522361755371094,39.87635040283203,39.61405944824219,39.35578155517578,39.76953125,39.649810791015625,39.37221908569336,39.57891845703125,39.567501068115234,39.52994918823242,39.693851470947266,39.591609954833984,39.72932815551758,39.3827018737793,39.69784164428711,39.552520751953125,39.36132049560547,39.736968994140625,39.91796112060547,39.32033157348633,39.57495880126953,39.749969482421875,39.771888732910156,39.574729919433594,39.887451171875,39.575401306152344,39.579158782958984,39.762168884277344,39.69575119018555,39.57926940917969,39.644901275634766,39.672950744628906,39.76741027832031,39.771480560302734,39.53776931762695,39.86354064941406,39.5844612121582,39.60334014892578,39.7793083190918,39.36684036254883,39.667091369628906,39.36941909790039,39.58708953857422,39.33884048461914,39.60491180419922,39.36516189575195,39.73992156982422,39.82984161376953,39.76646041870117,39.76620101928711,39.57204818725586,39.5819206237793,39.47077941894531,39.75674819946289,39.882049560546875,39.714839935302734,39.77518844604492,39.69499969482422,39.7375602722168,39.625701904296875,39.83919906616211,39.70846176147461,39.51797866821289,39.751731872558594,39.7666015625,39.56843185424805,39.76470947265625,39.61029815673828,39.59230041503906,39.860939025878906,39.421669006347656,39.61341857910156,39.58599853515625,39.3702392578125,39.36967849731445,39.56568145751953,39.577640533447266,39.553199768066406,39.56705856323242,39.71733856201172,39.65462875366211,39.65584945678711,39.867740631103516,39.83475112915039,39.477928161621094,39.71495819091797,39.59952926635742,39.573848724365234,39.57550048828125,39.583778381347656,39.693180084228516,39.43962097167969,39.8734016418457,39.489959716796875,39.769588470458984,39.752830505371094,39.74116897583008,39.88087844848633,39.70951843261719,39.574951171875,39.57551956176758,39.86275863647461,39.690269470214844,39.88928985595703,39.85683822631836,39.68878936767578,39.71670150756836,39.41835021972656,39.64564895629883,39.87696075439453,39.87763977050781,39.76752853393555,39.611839294433594,39.84865951538086,39.677589416503906,39.88298034667969,39.56705856323242,39.8801383972168,39.37247085571289,39.34320831298828,39.77872085571289,39.90346908569336,39.54961013793945,39.37274169921875,39.82265090942383,39.540069580078125,39.752079010009766,39.58047866821289,39.752349853515625,39.65306091308594,39.76055145263672,39.88666915893555,39.5253791809082,39.62308120727539,39.86222839355469,39.88262176513672,39.85831832885742,39.91886901855469,39.40871810913086,39.917911529541016,39.9188117980957,39.877479553222656,39.678810119628906,39.801300048828125,39.584388732910156,39.88597869873047,39.76169967651367,39.88539123535156,39.87416076660156,39.88478088378906,39.56726837158203,39.46828842163086,39.62886047363281,39.74671936035156,39.44580841064453,39.892818450927734,39.769779205322266,39.79962921142578,39.77170944213867,39.56707000732422,39.5724983215332,39.59368133544922,39.871341705322266,39.87247085571289,39.570899963378906,39.35565948486328,39.61043167114258,39.64208984375,39.565738677978516,39.60321044921875,39.712318420410156,39.580379486083984,39.67768859863281,39.67721176147461,39.67620849609375,39.541141510009766,39.67621994018555,39.67560958862305,39.40053176879883,39.65644073486328,39.51715087890625,39.66849899291992,39.36566162109375,39.55585861206055,39.65480041503906,39.74565887451172,39.782981872558594,39.783199310302734,39.754459381103516,39.647518157958984,39.541568756103516,39.3644905090332,39.35435104370117,39.36513900756836,39.85464859008789,39.67824172973633,39.580101013183594,39.426761627197266,39.815921783447266,39.57252883911133,39.72843933105469,39.51641082763672,39.33106994628906,39.56840133666992,39.90105056762695,39.68962097167969,39.919010162353516,39.36983871459961,39.574649810791016,39.417449951171875,39.55904006958008,39.579978942871094,39.55767059326172,39.757198333740234,39.55852127075195,39.70621871948242,39.8967399597168,39.76128005981445,39.368690490722656,39.392311096191406,39.581520080566406,39.7075309753418,39.33366012573242,39.6945686340332,39.76805114746094,39.43318176269531,39.417850494384766,39.73701858520508,39.485801696777344,39.76240921020508,39.86198043823242,39.73918151855469,39.582889556884766,39.57474899291992,39.865509033203125,39.37908935546875,39.76137161254883,39.91973114013672,39.70621871948242,39.7690315246582,39.46376037597656,39.733089447021484,39.684661865234375,39.77138900756836,39.560691833496094,39.32106018066406,39.5872917175293,39.861148834228516,39.683048248291016,39.88256072998047,39.812191009521484,39.76797103881836,39.85480880737305,39.876399993896484,39.767921447753906,39.75117874145508,39.82299041748047,39.57033920288086,39.57304000854492,39.7327995300293,39.78160095214844,39.44252014160156,39.44308090209961,39.809871673583984,39.442588806152344,39.36336135864258,39.80466842651367,39.50730895996094,39.519798278808594,39.571861267089844,39.90304946899414,39.46683883666992,39.51496124267578,39.83491134643555,39.62771987915039,39.61090087890625,39.36037826538086,39.66617965698242,39.569801330566406,39.89706039428711,39.79478073120117,39.67129135131836,39.842288970947266,39.52190017700195,39.41035079956055,39.66707992553711,39.866329193115234,39.77452850341797,39.75885009765625,39.63584899902344,39.70243835449219,39.36635971069336,39.63349914550781,39.85309982299805,39.34553909301758,39.77067184448242,39.53242111206055,39.53403091430664,39.77922058105469,39.793270111083984,39.48588180541992,39.41233825683594,39.58211135864258,39.76478958129883,39.48527908325195,39.73754119873047,39.634578704833984,39.79206848144531,39.730770111083984,39.56155014038086,39.67837905883789,39.63045120239258,39.50149154663086,39.66136932373047,39.82392120361328,39.568328857421875,39.638851165771484,39.72248840332031,39.87443161010742,39.5679817199707,39.573089599609375,39.83763885498047,39.68661880493164,39.593631744384766,39.657649993896484,39.8703498840332,39.71070098876953,39.43225860595703,39.88454055786133,39.83137130737305,39.88093948364258,39.56930923461914,39.5807991027832,39.581298828125,39.70130157470703,39.36307144165039,39.57020950317383,39.73442077636719,39.569190979003906,39.439640045166016,39.695098876953125,39.3633918762207,39.568260192871094,39.56919860839844,39.688968658447266,39.34046173095703,39.41170883178711,39.760860443115234,39.800079345703125,39.637168884277344,39.76625061035156,39.701351165771484,39.665340423583984,39.433738708496094,39.769649505615234,39.57052993774414,39.56428146362305,39.562870025634766,39.616458892822266,39.839359283447266,39.32086181640625,39.76457977294922,39.762290954589844,39.74021911621094,39.6261100769043,39.53535842895508,39.62630081176758,39.31977844238281,39.61582946777344,39.85997009277344,39.7669792175293,39.71175003051758,39.614471435546875,39.614158630371094,39.84223937988281,39.36248016357422,39.791961669921875,39.711700439453125,39.51197814941406,39.76485824584961,39.416419982910156,39.72922897338867,39.70281982421875,39.58176040649414,39.7404899597168,39.71236038208008,39.51121139526367,39.531829833984375,39.604820251464844,39.836891174316406,39.55989074707031,39.458560943603516,39.70281982421875,39.63093185424805,39.50796127319336,39.60564041137695,39.7523193359375,39.539710998535156,39.528419494628906,39.57106018066406,39.56956100463867,39.571319580078125,39.54174041748047,39.81473159790039,39.6049690246582,39.706119537353516,39.8396110534668,39.75682067871094,39.77027130126953,39.33699035644531,39.364349365234375,39.84075927734375,39.74760818481445,39.587799072265625,39.71704864501953,39.45383834838867,39.37704086303711,39.33634948730469,39.78649139404297,39.56681823730469,39.6633415222168,39.81660079956055,39.4521598815918,39.708831787109375,39.87009811401367,39.643890380859375,39.70463943481445,39.5342903137207,39.70431900024414,39.60942840576172,39.711021423339844,39.57297897338867,39.62078094482422,39.69552993774414,39.683799743652344,39.579429626464844,39.31956100463867,39.58966064453125,39.58797073364258,39.3813591003418,39.882171630859375,39.88759994506836,39.70962142944336,39.76279830932617,39.527061462402344,39.43532943725586,39.55373001098633,39.48929977416992,39.916141510009766,39.43415832519531,39.70283126831055,39.664520263671875,39.83449935913086,39.40045166015625,39.541439056396484,39.36745071411133,39.57284927368164,39.571739196777344,39.76789093017578,39.73487091064453,39.44779968261719,39.76939010620117,39.90644073486328,39.731361389160156,39.47193908691406,39.559181213378906,39.71464157104492,39.70845031738281,39.75543975830078,39.84511184692383,39.6894416809082,39.42583084106445,39.54862976074219,39.77861022949219,39.59346008300781,39.876888275146484,39.71541976928711,39.84246063232422,39.87997055053711,39.48099899291992,39.316951751708984,39.860801696777344,39.764801025390625,39.572021484375,39.873191833496094,39.89019012451172,39.54315185546875,39.63665008544922,39.55768966674805,39.514888763427734,39.584259033203125,39.7789192199707,39.33781051635742,39.8834114074707,39.89017105102539,39.66865158081055,39.57065963745117,39.87168884277344,39.88452911376953,39.885040283203125,39.52141189575195,39.8144416809082,39.57426834106445,39.564659118652344,39.58882141113281,39.73667907714844,39.33921813964844,39.57101058959961,39.36661148071289,39.863128662109375,39.73664855957031,39.75107955932617,39.398231506347656,39.91830825805664,39.36764144897461,39.84109115600586,39.35490036010742,39.84273147583008,39.709800720214844,39.5731315612793,39.770179748535156,39.63454818725586,39.54907989501953,39.85708999633789,39.65449905395508,39.409149169921875,39.75896072387695,39.78153991699219,39.83354949951172,39.65367889404297,39.737430572509766,39.830841064453125,39.71311950683594,39.554420471191406,39.36315155029297,39.32889938354492,39.59196090698242,39.58985900878906,39.685420989990234,39.67961120605469,39.417701721191406,39.59400177001953,39.81673812866211,39.70729064941406,39.657081604003906,39.767120361328125,39.76911926269531,39.54859924316406,39.796939849853516,39.84238052368164,39.70764923095703,39.708038330078125,39.70766830444336,39.76749038696289,39.73379898071289,39.755638122558594,39.552581787109375,39.852699279785156,39.772029876708984,39.837120056152344,39.712989807128906,39.69464874267578,39.69585037231445,39.53908157348633,39.50736999511719,39.51905822753906,39.82855987548828,39.58646011352539,39.56317138671875,39.56298065185547,39.63594055175781,39.706298828125,39.67192840576172,39.76987075805664,39.78158950805664,39.910221099853516,39.78116989135742,39.573909759521484,39.33155822753906,39.568878173828125,39.58784866333008,39.691558837890625,39.877281188964844,39.850830078125,39.76008987426758,39.602840423583984,39.608299255371094,39.569129943847656,39.761390686035156,39.70962905883789,39.77334976196289,39.570579528808594,39.75075149536133,39.77457046508789,39.57337951660156,39.49407958984375,39.54037857055664,39.7501106262207,39.76433181762695,39.541709899902344,39.766178131103516,39.7587890625,39.75310134887695,39.57481002807617,39.70753860473633,39.47016143798828,39.85942840576172,39.5489387512207,39.63127136230469,39.803611755371094,39.52267074584961,39.48081970214844,39.66931915283203,39.83528137207031,39.86640167236328,39.73883819580078,39.70758819580078,39.60668182373047,39.56978988647461,39.703189849853516,39.64680099487305,39.58148956298828,39.36383819580078,39.73197937011719,39.569820404052734,39.56623077392578,39.91127014160156,39.58277130126953,39.599281311035156,39.699771881103516,39.56996154785156,39.77431869506836,39.76218032836914,39.69765853881836,39.65816879272461,39.573699951171875,39.90715026855469,39.55772018432617,39.713111877441406,39.8967399597168,39.76272964477539,39.7894287109375,39.666221618652344,39.78969955444336,39.76670837402344,39.64820098876953,39.69009017944336,39.895660400390625,39.88301086425781,39.5565299987793,39.372779846191406,39.91109085083008,39.87120056152344,39.839839935302734,39.7664794921875,39.362449645996094,39.73503112792969,39.766151428222656,39.68986892700195,39.33686065673828,39.409690856933594,39.32712173461914,39.69636154174805,39.338321685791016,39.49721908569336,39.768890380859375,39.412208557128906,39.861541748046875,39.627811431884766,39.3779411315918,39.32997131347656,39.8621711730957,39.877010345458984,39.58068084716797,39.81550979614258,39.562408447265625,39.82366943359375,39.62369918823242,39.51165008544922,39.4193115234375,39.593318939208984,39.54423904418945,39.34341812133789,39.56782150268555,39.64365005493164,39.51940155029297,39.41835021972656,39.572540283203125,39.915531158447266,39.76988983154297,39.87322998046875,39.88999938964844,39.57878112792969,39.57944107055664,39.57191848754883,39.71318817138672,39.87582015991211,39.75236129760742,39.855628967285156,39.59587860107422,39.818260192871094,39.5748405456543,39.76987838745117,39.377079010009766,39.666168212890625,39.59463119506836,39.378318786621094,39.56418991088867,39.58501052856445,39.56980895996094,39.61642074584961,39.79487991333008,39.69496154785156,39.55710983276367,39.75577163696289,39.481178283691406,39.5741081237793,39.841148376464844,39.56385040283203,39.70856857299805,39.31800842285156,39.31650924682617,39.521240234375,39.686580657958984,39.530128479003906,39.67121124267578,39.780948638916016,39.60670852661133,39.86117935180664,39.622928619384766,39.621891021728516,39.6230583190918,39.50883865356445,39.80247116088867,39.70079040527344,39.860260009765625,39.31766128540039,39.53398895263672,39.841548919677734,39.70502853393555,39.36585998535156,39.705589294433594,39.510501861572266,39.823909759521484,39.36125946044922,39.79148864746094,39.46289825439453,39.559410095214844,39.68592834472656,39.6132698059082,39.797828674316406,39.523128509521484,39.87725830078125,39.794921875,39.79523849487305,39.57991027832031,39.42683029174805,39.51823043823242,39.32078170776367,39.89773941040039,39.434181213378906,39.76633071899414,39.53038024902344,39.79280090332031,39.630001068115234,39.52790069580078,39.911861419677734,39.690181732177734,39.68640899658203,39.75014877319336,39.707088470458984,39.64122009277344,39.77799987792969,39.76477813720703,39.76393127441406,39.86296844482422,39.858829498291016,39.90119934082031,39.609710693359375,39.91263961791992,39.66054153442383,39.650760650634766,39.82378005981445,39.85737991333008,39.512428283691406,39.813438415527344,39.759498596191406,39.56895065307617,39.58224868774414,39.523319244384766,39.36288833618164,39.84257888793945,39.59846878051758,39.429508209228516,39.363468170166016,39.40299987792969,39.5843391418457,39.717811584472656,39.39406967163086,39.75864028930664,39.710269927978516,39.57044982910156,39.35879898071289,39.65235137939453,39.53691864013672,39.367828369140625,39.862510681152344,39.44826126098633,39.431880950927734,39.71638870239258,39.3908805847168,39.85736846923828,39.67845153808594,39.62242889404297,39.687469482421875,39.57537078857422,39.57686996459961,39.7724494934082,39.361629486083984,39.525718688964844,39.53750991821289,39.71072006225586,39.329559326171875,39.32915115356445,39.87778091430664,39.53929138183594,39.330841064453125,39.420188903808594,39.590301513671875,39.413970947265625,39.51034927368164,39.82231140136719,39.56114959716797,39.4410514831543,39.5731201171875,39.70800018310547,39.710208892822266,39.687381744384766,39.49663162231445,39.58660888671875,39.77994918823242,39.365928649902344,39.69118881225586,39.698890686035156,39.781951904296875,39.42211151123047,39.41952896118164,39.7977409362793,39.68674087524414,39.62474822998047,39.626861572265625,39.56951904296875,39.37247085571289,39.590309143066406,39.382911682128906,39.70576095581055,39.73820114135742,39.34286880493164,39.57836151123047,39.86146926879883,39.52730178833008,39.68656921386719,39.9117317199707,39.559329986572266,39.559959411621094,39.571720123291016,39.704708099365234,39.55438995361328,39.75777816772461,39.584129333496094,39.77009963989258,39.868839263916016,39.575191497802734,39.8721809387207,39.576229095458984,39.710269927978516,39.763771057128906,39.87472152709961,39.7174186706543,39.55617904663086,39.79362106323242,39.582088470458984,39.60688018798828,39.572959899902344,39.3651008605957,39.611671447753906,39.64543914794922,39.50104904174805,39.39392852783203,39.70505142211914,39.37015151977539,39.70357131958008,39.700740814208984,39.58340835571289,39.57754135131836,39.526771545410156,39.51993179321289,39.866661071777344,39.56605911254883,39.70576858520508,39.73659896850586,39.797889709472656,39.40153884887695,39.71828079223633,39.788848876953125,39.832279205322266,39.317779541015625,39.53190994262695,39.773048400878906,39.56972122192383,39.56550979614258,39.84355163574219,39.31632995605469,39.54813003540039,39.70140838623047,39.570640563964844,39.61906051635742,39.90045928955078,39.57014083862305,39.7039794921875,39.625099182128906,39.870811462402344,39.71052169799805,39.870670318603516,39.5394287109375,39.52104949951172,39.693878173828125,39.77278137207031,39.65787124633789,39.81517028808594,39.84983825683594,39.3309211730957,39.579811096191406,39.64923095703125,39.691131591796875,39.44868087768555,39.46984100341797,39.54357147216797,39.39590072631836,39.51689910888672,39.318660736083984,39.50114059448242,39.51948928833008,39.70281982421875,39.88943862915039,39.57477951049805,39.62350845336914,39.43254089355469,39.521400451660156,39.647789001464844,39.84490966796875,39.82495880126953,39.584049224853516,39.582950592041016,39.726261138916016,39.736671447753906,39.76502990722656,39.68730926513672,39.339759826660156,39.65462112426758,39.508079528808594,39.550941467285156,39.329078674316406,39.690101623535156,39.33005905151367,39.67171096801758,39.67100143432617,39.548561096191406,39.72550964355469,39.508548736572266,39.571041107177734,39.458740234375,39.54560852050781,39.71038055419922,39.555419921875,39.560630798339844,39.44932174682617,39.41550064086914,39.57209014892578,39.76264953613281,39.760711669921875,39.89768981933594,39.6362190246582,39.597869873046875,39.55670166015625,39.65937042236328,39.6628303527832,39.38019943237305,39.77436065673828,39.775360107421875,39.44757843017578,39.76216125488281,39.366371154785156,39.5565185546875,39.83232879638672,39.70943069458008,39.57067108154297,39.70718002319336,39.3591194152832,39.76211929321289,39.76163101196289,39.877899169921875,39.36399841308594,39.342830657958984,39.84244155883789,39.70098876953125,39.68608856201172,39.4386100769043,39.81523132324219,39.84299850463867,39.8136100769043,39.31407928466797,39.827579498291016,39.314849853515625,39.88248062133789,39.57181930541992,39.42536163330078,39.64303970336914,39.67356872558594,39.539520263671875,39.57583999633789,39.83066940307617,39.89347839355469,39.73120880126953,39.6965217590332,39.32294845581055,39.660369873046875,39.57212829589844,39.56869125366211,39.55699920654297,39.66115188598633,39.337921142578125,39.52334976196289,39.70880889892578,39.55015182495117,39.338111877441406,39.9027099609375,39.41933059692383,39.90724182128906,39.86219024658203,39.3663215637207,39.712059020996094,39.75865173339844,39.39447021484375,39.904911041259766,39.9110107421875,39.91178894042969,39.48154067993164,39.48106002807617,39.36288070678711,39.73122024536133,39.37273025512695,39.560821533203125,39.5612907409668,39.839088439941406,39.732460021972656,39.33647918701172,39.5625114440918,39.57052993774414,39.48060989379883,39.63508987426758,39.887508392333984,39.738670349121094,39.67279052734375,39.44248962402344,39.67499923706055,39.527591705322266,39.33095169067383,39.63853073120117,39.35749816894531,39.573699951171875,39.44070053100586,39.36777114868164,39.69480895996094,39.6032600402832,39.832828521728516,39.83744812011719,39.52482986450195,39.7648811340332,39.7104606628418,39.31843948364258,39.53466033935547,39.73347854614258,39.319610595703125,39.776371002197266,39.5653190612793,39.70787048339844,39.52146911621094,39.83692932128906,39.863521575927734,39.867088317871094,39.55376052856445,39.822330474853516,39.320369720458984,39.571720123291016,39.77138137817383,39.527870178222656,39.764591217041016,39.766780853271484,39.58198928833008,39.8743896484375,39.6143684387207,39.89731979370117,39.70433044433594,39.57497024536133,39.59550857543945,39.64292907714844,39.55413818359375,39.56222915649414,39.31589889526367,39.811031341552734,39.714691162109375,39.55270004272461,39.56684875488281,39.316619873046875,39.47932052612305,39.694759368896484,39.533470153808594,39.55815887451172,39.68267059326172,39.3642692565918,39.3654899597168,39.64147186279297,39.48086166381836,39.5631217956543,39.36240005493164,39.827720642089844,39.689430236816406,39.751529693603516,39.463340759277344,39.5430793762207,39.569210052490234,39.36566925048828,39.3633918762207,39.57004165649414,39.355918884277344,39.736968994140625,39.64677810668945,39.564701080322266,39.54397964477539,39.51231002807617,39.794029235839844,39.331138610839844,39.80078125,39.331748962402344,39.51123046875,39.57783889770508,39.708831787109375,39.53678894042969,39.535011291503906,39.52056121826172,39.64168930053711,39.35575866699219,39.524051666259766,39.863990783691406,39.6161994934082,39.735958099365234,39.59246826171875,39.70623016357422,39.81346893310547,39.79737854003906,39.612098693847656,39.57658004760742,39.706539154052734,39.58028030395508,39.408878326416016,39.835350036621094,39.523860931396484,39.792259216308594,39.6125602722168,39.31814956665039,39.61812973022461,39.569339752197266,39.53705978393555,39.36703872680664,39.8384895324707,39.567718505859375,39.632240295410156,39.65924835205078,39.814109802246094,39.895111083984375,39.36450958251953,39.752830505371094,39.686439514160156,39.80820083618164,39.41679000854492,39.880680084228516,39.86027908325195,39.768348693847656,39.571109771728516,39.554691314697266,39.71929168701172,39.841251373291016,39.366310119628906,39.3791389465332,39.39714813232422,39.869258880615234,39.77629852294922,39.568851470947266,39.856040954589844,39.379310607910156,39.67631149291992,39.53887939453125,39.53936004638672,39.712921142578125,39.62651062011719,39.65047073364258,39.504478454589844,39.467350006103516,39.318260192871094,39.73466873168945,39.65473937988281,39.916141510009766,39.55535125732422,39.764190673828125,39.7523307800293,39.37908935546875,39.58155059814453,39.52666091918945,39.768798828125,39.73339080810547,39.77775955200195,39.37902069091797,39.51935958862305,39.84442138671875,39.56800842285156,39.828269958496094,39.73738098144531,39.755279541015625,39.752811431884766,39.821441650390625,39.810279846191406,39.81145095825195,39.416648864746094,39.70595169067383,39.87385940551758,39.7686882019043,39.67692947387695,39.77490997314453,39.76716995239258,39.649471282958984,39.711360931396484,39.32841873168945,39.82666015625,39.6068000793457,39.77241134643555,39.78820037841797,39.71261978149414,39.47064971923828,39.444908142089844,39.5004997253418,39.47134017944336,39.723358154296875,39.55596923828125,39.5118293762207,39.747798919677734,39.526100158691406,39.57279968261719,39.70320129394531,39.906219482421875,39.513851165771484,39.52083969116211,39.41691970825195,39.543190002441406,39.44847869873047,39.82408142089844,39.893409729003906,39.578521728515625,39.692840576171875,39.492679595947266,39.75434112548828,39.91175079345703,39.826141357421875,39.552528381347656,39.63861846923828,39.83879852294922,39.43806838989258,39.56977844238281,39.71187973022461,39.34611892700195,39.62968826293945,39.8834114074707,39.81359100341797,39.73257064819336,39.900150299072266,39.91154861450195,39.70552062988281,39.870670318603516,39.69464874267578,39.89963150024414,39.55290985107422,39.86286163330078,39.6403694152832,39.91075897216797,39.69778060913086,39.853981018066406,39.73191833496094,39.55324172973633,39.418251037597656,39.88164138793945,39.621368408203125,39.532901763916016,39.56761932373047,39.43281173706055,39.45404815673828,39.6933708190918,39.46807861328125,39.57347106933594,39.60504150390625,39.800018310546875,39.685428619384766,39.86682891845703,39.88740921020508,39.64044189453125,39.357120513916016,39.766300201416016,39.36573028564453,39.77326965332031,39.63528060913086,39.43701934814453,39.579830169677734,39.429840087890625,39.81568908691406,39.8321418762207,39.75933074951172,39.89636993408203,39.91960906982422,39.56148910522461,39.711578369140625,39.44401931762695,39.36122131347656,39.86391830444336,39.666568756103516,39.31618118286133,39.32902908325195,39.758018493652344,39.91872024536133,39.890968322753906,39.48175048828125,39.83658981323242,39.7452507019043,39.89208984375,39.85234069824219,39.868309020996094,39.47079086303711,39.74319076538086,39.83946990966797,39.852210998535156,39.888389587402344,39.855289459228516,39.8348388671875,39.8632698059082,39.712440490722656,39.558738708496094,39.85165023803711,39.51116943359375,39.681739807128906,39.735328674316406,39.87300109863281,39.57596969604492,39.6934814453125,39.9045295715332,39.473388671875,39.57529067993164,39.56911849975586,39.37874984741211,39.89073944091797,39.559181213378906,39.77482986450195,39.7619514465332,39.86455154418945,39.446128845214844,39.36296081542969,39.569889068603516,39.316368103027344,39.32986831665039,39.76033020019531,39.31705856323242,39.315528869628906,39.87921905517578,39.70494079589844,39.881500244140625,39.700721740722656,39.67679977416992,39.47040939331055,39.830108642578125,39.528438568115234,39.642799377441406,39.79655075073242,39.35332107543945,39.79444885253906,39.56224060058594,39.56074905395508,39.904388427734375,39.36637878417969,39.617759704589844,39.81639862060547,39.879398345947266,39.78274917602539,39.57817077636719,39.522071838378906,39.8143310546875,39.798221588134766,39.73746109008789,39.68613815307617,39.4805793762207,39.65510177612305,39.41419982910156,39.4498405456543,39.81515121459961,39.666908264160156,39.313758850097656,39.49462890625,39.6451301574707,39.89070129394531,39.56169891357422,39.8238410949707,39.365638732910156,39.485469818115234,39.41191101074219,39.6974983215332,39.66244888305664,39.71065902709961,39.63526916503906,39.70180130004883,39.75410079956055,39.836971282958984,39.53932189941406,39.76457977294922,39.619930267333984,39.56159973144531,39.625999450683594,39.34318161010742,39.873199462890625,39.889129638671875,39.574989318847656,39.88243103027344,39.624080657958984,39.525848388671875,39.57041931152344,39.56074905395508,39.536930084228516,39.70288848876953,39.56935119628906,39.77375030517578,39.593021392822266,39.76945114135742,39.54071044921875,39.841121673583984,39.537330627441406,39.51858901977539,39.33055114746094,39.330379486083984,39.75830841064453,39.83414077758789,39.56911849975586,39.570350646972656,39.63425827026367,39.52949142456055,39.553138732910156,39.565589904785156,39.81660842895508,39.71175003051758,39.8218994140625,39.474918365478516,39.702178955078125,39.89741897583008,39.86294174194336,39.56047058105469,39.782020568847656,39.780609130859375,39.8291015625,39.41455841064453,39.53504180908203,39.85150909423828,39.7565803527832,39.51858901977539,39.366878509521484,39.5703010559082,39.60747146606445,39.765769958496094,39.76567840576172,39.76300811767578,39.737728118896484,39.373329162597656,39.560359954833984,39.56441879272461,39.5538215637207,39.773319244384766,39.768211364746094,39.86576843261719,39.710731506347656,39.8306884765625,39.580440521240234,39.5695686340332,39.364559173583984,39.488800048828125,39.556331634521484,39.47895050048828,39.61022186279297,39.860801696777344,39.52058029174805,39.576759338378906,39.603668212890625,39.35966110229492,39.79050827026367,39.602088928222656,39.48487091064453,39.501258850097656,39.534141540527344,39.48046875,39.760311126708984,39.317928314208984,39.36701965332031,39.856971740722656,39.8932991027832,39.61125946044922,39.60868835449219,39.764408111572266,39.55897903442383,39.59387969970703,39.59130859375,39.55820846557617,39.555301666259766,39.364051818847656,39.326881408691406,39.624298095703125,39.760108947753906,39.704341888427734,39.6649284362793,39.572059631347656,39.64999008178711,39.554439544677734,39.55609893798828,39.713340759277344,39.554691314697266,39.7105598449707,39.567840576171875,39.419410705566406,39.732818603515625,39.79447937011719,39.73558044433594,39.830020904541016,39.5689582824707,39.678199768066406,39.6078987121582,39.56792068481445,39.74740982055664,39.53929901123047,39.555328369140625,39.910911560058594,39.83143997192383,39.36376190185547,39.83647918701172,39.79391860961914,39.763328552246094,39.55261993408203,39.606468200683594,39.365108489990234,39.755950927734375,39.5343017578125,39.842411041259766,39.82976150512695,39.58068084716797,39.55649185180664,39.7601203918457,39.42655944824219,39.5732307434082,39.68672180175781,39.853450775146484,39.87717819213867,39.5389404296875,39.41532897949219,39.608089447021484,39.75870895385742,39.55767059326172,39.88032150268555,39.65705871582031,39.526100158691406,39.770050048828125,39.7171516418457,39.36547088623047,39.564239501953125,39.75531005859375,39.76097106933594,39.880130767822266,39.78144836425781,39.57033920288086,39.53266143798828,39.56895065307617,39.61231994628906,39.77252960205078,39.70981979370117,39.42914962768555,39.568138122558594,39.64323043823242,39.524539947509766,39.829559326171875,39.62125015258789,39.682918548583984,39.524959564208984,39.68898010253906,39.639671325683594,39.49414825439453,39.36614990234375,39.32992935180664,39.911380767822266,39.60247039794922,39.769290924072266,39.401771545410156,39.568359375,39.51247024536133,39.557289123535156,39.88087844848633,39.62601089477539,39.577178955078125,39.76325988769531,39.57378005981445,39.68621063232422,39.49415969848633,39.7016716003418,39.69255065917969,39.525081634521484,39.71067810058594,39.69950866699219,39.55860137939453,39.61751174926758,39.8826904296875,39.55752182006836,39.853450775146484,39.7640495300293,39.33185958862305,39.32476043701172,39.37226104736328,39.748661041259766,39.77125930786133,39.640708923339844,39.60573959350586,39.602081298828125,39.775028228759766,39.66001892089844,39.535858154296875,39.5688591003418,39.41796875,39.425628662109375,39.36486053466797,39.67441940307617,39.5588493347168,39.568721771240234,39.53982162475586,39.3828010559082,39.60108184814453,39.426490783691406,39.527950286865234,39.3200798034668,39.68059158325195,39.57075881958008,39.570499420166016,39.88093948364258,39.50273895263672,39.58245849609375,39.89558029174805,39.87118911743164,39.76356887817383,39.31489181518555,39.318241119384766,39.520599365234375,39.57212829589844,39.68288040161133,39.514991760253906,39.74995040893555,39.66830825805664,39.36566162109375,39.575401306152344,39.6663703918457,39.58974838256836,39.67781066894531,39.54808044433594,39.764678955078125,39.76620101928711,39.4138298034668,39.407928466796875,39.51559066772461,39.365291595458984,39.91706085205078,39.5712890625,39.55371856689453,39.76116943359375,39.77573013305664,39.34027099609375,39.49736022949219,39.35251998901367,39.53908920288086,39.76908874511719,39.708499908447266,39.75,39.710609436035156,39.56951904296875,39.721160888671875,39.84191131591797,39.831478118896484,39.76750183105469,39.715389251708984,39.36381912231445,39.52452850341797,39.697391510009766,39.82881164550781,39.572509765625,39.56739044189453,39.711509704589844,39.39596176147461,39.57514190673828,39.91611862182617,39.575538635253906,39.60824966430664,39.91279983520508,39.3200798034668,39.36547088623047,39.47378158569336,39.838008880615234,39.41231918334961,39.57027816772461,39.50545883178711,39.41410827636719,39.33985137939453,39.53519058227539,39.777591705322266,39.43473815917969,39.33671951293945,39.733970642089844,39.76551055908203,39.62287902832031,39.81047821044922,39.586971282958984,39.76333999633789,39.53990936279297,39.853271484375,39.732391357421875,39.70893859863281,39.81462097167969,39.70695877075195,39.76430892944336,39.70872116088867,39.42829895019531,39.5914192199707,39.52302169799805,39.317169189453125,39.49951934814453,39.36191177368164,39.36146926879883,39.41175842285156,39.78654098510742,39.73059844970703,39.318668365478516,39.57072830200195,39.56850814819336,39.57072830200195,39.76691818237305,39.609779357910156,39.575408935546875,39.566890716552734,39.566978454589844,39.56830978393555,39.56855010986328,39.56822967529297,39.39152908325195,39.57109069824219,39.869178771972656,39.868709564208984,39.33781814575195,39.55270004272461,39.56937026977539,39.86227035522461,39.868778228759766,39.57162857055664,39.553218841552734,39.3377685546875,39.735198974609375,39.33230972290039,39.76660919189453,39.53483963012695,39.33115005493164,39.36302185058594,39.79460144042969,39.785518646240234,39.891258239746094,39.73072814941406,39.79494094848633,39.733211517333984,39.695369720458984,39.84165954589844,39.80363082885742,39.80419921875,39.79389953613281,39.757469177246094,39.802711486816406,39.83769989013672,39.77330017089844,39.697330474853516,39.810791015625,39.8043212890625,39.82204055786133,39.64186096191406,39.72193145751953,39.56304168701172,39.818851470947266,39.86882019042969,39.6138801574707,39.79689025878906,39.761268615722656,39.711910247802734,39.68117904663086,39.86948013305664,39.870731353759766,39.83525085449219,39.89189147949219,39.86705017089844,39.86798095703125,39.853370666503906,39.77225112915039,39.816200256347656,39.8620491027832,39.72151184082031,39.76681900024414,39.79608917236328,39.82807922363281,39.7789192199707,39.77920150756836,39.76506042480469,39.824588775634766,39.640541076660156,39.62889099121094,39.6713981628418,39.75774002075195,39.491600036621094,39.690101623535156,39.77632141113281,39.808780670166016,39.7936897277832,39.80685043334961,39.63840866088867,39.81642150878906,39.79576873779297,39.69252014160156,39.60935974121094,39.87076187133789,39.322540283203125,39.77790832519531,39.75474166870117,39.408119201660156,39.55664825439453,39.691001892089844,39.58427810668945,39.80508041381836,39.8648796081543,39.77141189575195,39.57421112060547,39.772518157958984,39.63125991821289,39.7338981628418,39.77666091918945,39.837158203125,39.9173583984375,39.4668083190918,39.75497055053711,39.92210006713867,39.85615921020508,39.91939926147461,39.84001159667969,39.75569152832031,39.84767150878906,39.7026481628418,39.82912826538086,39.83782958984375,39.73728942871094,39.7764892578125,39.448028564453125,39.755340576171875,39.8456916809082,39.74407958984375,39.86103057861328,39.41117858886719,39.90370178222656,39.58103942871094,39.581050872802734,39.469268798828125,39.5378303527832,39.6239013671875,39.391761779785156,39.65673828125,39.61267852783203,39.75352096557617,39.65612030029297,39.56346130371094,39.85639190673828,39.736759185791016,39.49456024169922,39.865150451660156,39.75423049926758,39.662391662597656,39.67433166503906,39.53651809692383,39.563411712646484,39.521728515625,39.79423904418945,39.65388870239258,39.570518493652344,39.68724822998047,39.69358825683594,39.69422149658203,39.764888763427734,39.47768020629883,39.873008728027344,39.8537712097168,39.679359436035156,39.5153694152832,39.631439208984375,39.86450958251953,39.63349151611328,39.759159088134766,39.535430908203125,39.61817169189453,39.67366027832031,39.490779876708984,39.80617904663086,39.85691833496094,39.83721160888672,39.736900329589844,39.82263946533203,39.76430892944336,39.712860107421875,39.608680725097656,39.72785949707031,39.66352844238281,39.49924850463867,39.52333068847656,39.470340728759766,39.397220611572266,39.57141876220703,39.427459716796875,39.84632110595703,39.36347961425781,39.75551986694336,39.770538330078125,39.836830139160156,39.49993896484375,39.49930953979492,39.4993896484375,39.75825119018555,39.71498107910156,39.820308685302734,39.5606803894043,39.58591079711914,39.38771057128906,39.7038688659668,39.66164016723633,39.354801177978516,39.75516891479492,39.60356903076172,39.573631286621094,39.433231353759766,39.571258544921875,39.54243850708008,39.796138763427734,39.55276870727539,39.665870666503906,39.47002029418945,39.711299896240234,39.59476852416992,39.58041000366211,39.53546142578125,39.53239059448242,39.57490158081055,39.50175857543945,39.826778411865234,39.5886116027832,39.374961853027344,39.868568420410156,39.570220947265625,39.366981506347656,39.64291000366211,39.76826095581055,39.56513977050781,39.84989929199219,39.65163040161133,39.58884048461914,39.46097946166992,39.66175079345703,39.562408447265625,39.58549118041992,39.74518966674805,39.75852966308594,39.56938934326172,39.54684066772461,39.704559326171875,39.61442947387695,39.626041412353516,39.44881057739258,39.746891021728516,39.812129974365234,39.77838134765625,39.80342102050781,39.83802032470703,39.837860107421875,39.83116149902344,39.83855056762695,39.365909576416016,39.81509017944336,39.626888275146484,39.68014144897461,39.812049865722656,39.72718048095703,39.89796829223633,39.86336135864258,39.74576187133789,39.5331916809082,39.6260986328125,39.88370132446289,39.76906967163086,39.35459899902344,39.5861701965332,39.71059036254883,39.54325866699219,39.77214813232422,39.667091369628906,39.57054138183594,39.70859909057617,39.56340026855469,39.73440933227539,39.56990051269531,39.572269439697266,39.72515869140625,39.57236862182617,39.57017135620117,39.57006072998047,39.54304122924805,39.568641662597656,39.7677116394043,39.58673095703125,39.76631164550781,39.56071090698242,39.729461669921875,39.7558708190918,39.441558837890625,39.53794860839844,39.66788864135742,39.73292922973633,39.70901107788086,39.86355972290039,39.884220123291016,39.70927047729492,39.7064094543457,39.51417922973633,39.551719665527344,39.569091796875,39.82583999633789,39.35805892944336,39.69832992553711,39.768760681152344,39.75040817260742,39.47303009033203,39.716678619384766,39.354190826416016,39.47412872314453,39.328468322753906,39.48942947387695,39.77315902709961,39.68783187866211,39.827369689941406,39.427650451660156,39.708839416503906,39.83700942993164,39.74684143066406,39.817440032958984,39.75625991821289,39.86357116699219,39.7628288269043,39.81819152832031,39.76498031616211,39.80186080932617,39.702999114990234,39.32952117919922,39.55487060546875,39.36859893798828,39.32371139526367,39.52444839477539,39.57061004638672,39.5717887878418,39.71202087402344,39.73250961303711,39.75782012939453,39.678871154785156,39.5990104675293,39.769710540771484,39.49311065673828,39.70494842529297,39.69546127319336,39.91054153442383,39.81576156616211,39.55397033691406,39.56932830810547,39.57817840576172,39.42097854614258,39.6048698425293,39.572208404541016,39.8644905090332,39.59531021118164,39.33277130126953,39.56996154785156,39.571128845214844,39.570560455322266,39.569908142089844,39.68830871582031,39.53950881958008,39.83620834350586,39.840179443359375,39.90338897705078,39.756690979003906,39.376258850097656,39.553558349609375,39.5460205078125,39.57238006591797,39.42361831665039,39.91975021362305,39.92028045654297,39.91946029663086,39.91957092285156,39.9179801940918,39.92015075683594,39.471370697021484,39.80366897583008,39.75796890258789,39.49229049682617,39.86064910888672,39.88933181762695,39.695831298828125,39.79710006713867,39.86476135253906,39.54616165161133,39.90132141113281,39.434268951416016,39.61058044433594,39.733428955078125,39.710201263427734,39.48691940307617,39.73860168457031,39.31761932373047,39.575069427490234,39.53976821899414,39.537811279296875,39.627159118652344,39.62614059448242,39.611488342285156,39.7711296081543,39.86075973510742,39.5560302734375,39.82600021362305,39.81040954589844,39.91225814819336,39.89067077636719,39.74245834350586,39.85987091064453,39.813690185546875,39.719810485839844,39.89004898071289,39.873870849609375,39.76811981201172,39.87718963623047,39.917510986328125,39.55302047729492,39.89234161376953,39.57875061035156,39.544898986816406,39.61865997314453,39.878719329833984,39.84395980834961,39.574928283691406,39.57014846801758,39.91094970703125,39.58087921142578,39.707950592041016,39.89741134643555,39.70502853393555,39.316871643066406,39.31610870361328,39.31568145751953,39.315521240234375,39.315521240234375,39.31739044189453,39.317298889160156,39.31576919555664,39.3419189453125,39.77288818359375,39.772220611572266,39.77212142944336,39.897010803222656,39.38059997558594,39.8927116394043,39.86371994018555,39.36922836303711,39.85239028930664,39.7977294921875,39.55582809448242,39.54698944091797,39.56011962890625,39.59122848510742,39.65951156616211,39.700679779052734,39.64162063598633,39.367408752441406,39.840728759765625,39.63404846191406,39.9049186706543,39.84495162963867,39.327999114990234,39.82746124267578,39.841270446777344,39.756988525390625,39.75474166870117,39.85466003417969,39.72285842895508,39.9027099609375,39.866878509521484,39.815940856933594,39.698211669921875,39.4210090637207,39.329978942871094,39.74375915527344,39.87685012817383,39.9027099609375,39.86830139160156,39.878231048583984,39.5196418762207,39.52402877807617,39.498390197753906,39.52511978149414,39.525150299072266,39.430320739746094,39.51408004760742,39.51308059692383,39.515411376953125,39.42667007446289,39.75476837158203,39.524940490722656,39.4498405456543,39.58647918701172,39.6345100402832,39.838260650634766,39.83863067626953,39.57048034667969,39.52621841430664,39.40262985229492,39.73870086669922,39.479400634765625,39.77724075317383,39.85298156738281,39.50857162475586,39.73630142211914,39.8530387878418,39.73252868652344,39.703399658203125,39.6880989074707,39.71622848510742,39.830291748046875,39.765621185302734,39.70045852661133,39.3380012512207,39.4085693359375,39.57572937011719,39.7830810546875,39.870601654052734,39.55493927001953,39.533790588378906,39.801910400390625,39.544281005859375,39.56985855102539,39.91638946533203,39.79328918457031,39.68069839477539,39.40515899658203,39.61172866821289,39.65338134765625,39.42380905151367,39.77524185180664,39.895389556884766,39.70502853393555,39.77056884765625,39.87961959838867,39.60721969604492,39.88671112060547,39.89405822753906,39.58694839477539,39.8037109375,39.70151138305664,39.73712921142578,39.704368591308594,39.70001983642578,39.90005111694336,39.916709899902344,39.91815948486328,39.837318420410156,39.903419494628906,39.73163986206055,39.8597297668457,39.74497985839844,39.714900970458984,39.84328079223633,39.83917999267578,39.475799560546875,39.820709228515625,39.844390869140625,39.73292922973633,39.85150909423828,39.811668395996094,39.63825988769531,39.44063949584961,39.84516143798828,39.65903091430664,39.8095703125,39.66598129272461,39.674259185791016,39.57786178588867,39.47557067871094,39.90385818481445,39.483978271484375,39.7446403503418,39.53554916381836,39.702598571777344,39.57733917236328,39.886619567871094,39.71141815185547,39.71921157836914,39.67583084106445,39.76639938354492,39.689720153808594,39.85572052001953,39.736488342285156,39.52899932861328,39.73883056640625,39.85158157348633,39.499298095703125,39.56127166748047,39.80202865600586,39.70573043823242,39.70452117919922,39.90330123901367,39.83877944946289,39.787471771240234,39.36561965942383,39.58760070800781,39.35424041748047,39.4368896484375,39.7206916809082,39.827789306640625,39.530418395996094,39.529930114746094,39.528968811035156,39.527130126953125,39.660301208496094,39.72473907470703,39.723960876464844,39.69620895385742,39.586280822753906,39.73596954345703,39.616390228271484,39.33061981201172,39.910091400146484,39.557579040527344,39.69586181640625,39.766700744628906,39.588531494140625,39.70804977416992,39.64236068725586,39.8627815246582,39.84209060668945,39.838871002197266,39.859718322753906,39.85512161254883,39.85921859741211,39.68373107910156,39.842369079589844,39.85824966430664,39.73809051513672,39.86003875732422,39.83858871459961,39.824310302734375,39.86410140991211,39.85245132446289,39.85395812988281,39.73841857910156,39.696998596191406,39.86460876464844,39.81705856323242,39.84981918334961,39.85499954223633,39.854740142822266,39.8532600402832,39.83536148071289,39.766448974609375,39.71992874145508,39.886680603027344,39.48609924316406,39.70368957519531,39.73902130126953,39.84049987792969,39.62675094604492,39.53813171386719,39.72977066040039,39.75859832763672,39.756038665771484,39.802791595458984,39.6562614440918,39.82720947265625,39.55426025390625,39.60157012939453,39.76327896118164,39.566959381103516,39.545318603515625,39.80168914794922,39.68291091918945,39.84246826171875,39.666290283203125,39.69953918457031,39.40386962890625,39.73952865600586,39.91756057739258,39.59553146362305,39.84046936035156,39.890411376953125,39.63698959350586,39.727928161621094,39.829978942871094,39.779258728027344,39.766090393066406,39.83369827270508,39.493961334228516,39.83882141113281,39.35285949707031,39.86989974975586,39.86664962768555,39.72977828979492,39.83673095703125,39.44382858276367,39.3714714050293,39.86235046386719,39.835960388183594,39.85789108276367,39.53287124633789,39.53852844238281,39.90488052368164,39.36320114135742,39.834251403808594,39.82658004760742,39.5570182800293,39.9173583984375,39.79518127441406,39.47924041748047,39.78049850463867,39.90589904785156,39.58570098876953,39.86231994628906,39.640419006347656,39.642391204833984,39.76618957519531,39.642608642578125,39.69784164428711,39.64384841918945,39.696468353271484,39.75094985961914,39.76829147338867,39.8214111328125,39.832008361816406,39.81962966918945,39.862281799316406,39.83176040649414,39.57044982910156,39.552120208740234,39.48141098022461,39.767269134521484,39.805389404296875,39.6785888671875,39.679168701171875,39.646141052246094,39.834590911865234,39.40456008911133,39.83509063720703,39.864990234375,39.890289306640625,39.6627311706543,39.76224136352539,39.5341796875,39.83850860595703,39.66429138183594,39.91337966918945,39.831478118896484,39.52299118041992,39.53506851196289,39.76192855834961,39.85477828979492,39.61650848388672,39.47983169555664,39.59706115722656,39.482791900634766,39.429019927978516,39.897708892822266,39.87717819213867,39.87839889526367,39.886600494384766,39.71240997314453,39.79248809814453,39.41419982910156,39.62099075317383,39.35258102416992,39.57040023803711,39.363040924072266,39.60065841674805,39.51968002319336,39.58654022216797,39.714500427246094,39.54164123535156,39.541770935058594,39.54349136352539,39.48250961303711,39.64649963378906,39.8572998046875,39.70539855957031,39.7736701965332,39.708038330078125,39.70912170410156,39.508419036865234,39.63996124267578,39.41741943359375,39.620330810546875,39.56256103515625,39.91767120361328,39.65829849243164,39.549110412597656,39.43547058105469,39.907310485839844,39.57987976074219,39.62995910644531,39.82925033569336,39.57024002075195,39.8395881652832,39.843448638916016,39.83768844604492,39.84257125854492,39.89950180053711,39.69628143310547,39.8300895690918,39.38039016723633,39.89625930786133,39.571170806884766,39.83021926879883,39.87691879272461,39.561649322509766,39.755069732666016,39.316009521484375,39.33932876586914,39.50429153442383,39.34164047241211,39.32366180419922,39.32033157348633,39.313270568847656,39.33879089355469,39.35013961791992,39.33681869506836,39.40005111694336,39.55820846557617,39.33823013305664,39.33934020996094,39.89302062988281,39.73419189453125,39.696739196777344,39.73897171020508,39.46131896972656,39.51742935180664,39.63848114013672,39.77167892456055,39.8614616394043,39.84061050415039,39.41933822631836,39.57783889770508,39.84825134277344,39.44879913330078,39.91936111450195,39.857791900634766,39.91830825805664,39.84331130981445,39.60847854614258,39.91767120361328,39.34857940673828,39.370330810546875,39.410888671875,39.5755615234375,39.50017166137695,39.64965057373047,39.57149887084961,39.81489181518555,39.694488525390625,39.58000946044922,39.37289047241211,39.65306091308594,39.417781829833984,39.55318832397461,39.68104934692383,39.91957092285156,39.77608871459961,39.5164909362793,39.808231353759766,39.733638763427734,39.580078125,39.66328048706055,39.70505142211914,39.501869201660156,39.55617141723633,39.49140930175781,39.83018112182617,39.53282928466797,39.62274169921875,39.684478759765625,39.7689094543457,39.899269104003906,39.8514518737793,39.89849853515625,39.802799224853516,39.724510192871094,39.756168365478516,39.51316833496094,39.5644416809082,39.618919372558594,39.54893112182617,39.471431732177734,39.61111068725586,39.480899810791016,39.56793975830078,39.845340728759766,39.84463882446289,39.86040115356445,39.78028869628906,39.43695831298828,39.515621185302734,39.718868255615234,39.5943489074707,39.76369094848633,39.55778121948242,39.654518127441406,39.41743850708008,39.778160095214844,39.810508728027344,39.617881774902344,39.775760650634766,39.58375930786133,39.32965850830078,39.3302001953125,39.767478942871094,39.88050842285156,39.88042068481445,39.76686096191406,39.85322952270508,39.890899658203125,39.53226089477539,39.80569839477539,39.838951110839844,39.86314010620117,39.663719177246094,39.64131164550781,39.860389709472656,39.48297882080078,39.70729064941406,39.55936813354492,39.61585998535156,39.700721740722656,39.691349029541016,39.855899810791016,39.7311897277832,39.39706039428711,39.48371124267578,39.828269958496094,39.582149505615234,39.889190673828125,39.51744079589844,39.49958038330078,39.67131042480469,39.47248840332031,39.836570739746094,39.42572021484375,39.75423812866211,39.71009063720703,39.625831604003906,39.83721923828125,39.760711669921875,39.7588996887207,39.63692855834961,39.772239685058594,39.5418701171875,39.365211486816406,39.77080154418945,39.657718658447266,39.773380279541016,39.575740814208984,39.88938903808594,39.59701156616211,39.77082061767578,39.69260025024414,39.71678161621094,39.705909729003906,39.78350830078125,39.370269775390625,39.77082061767578,39.40127182006836,39.3686408996582,39.75975036621094,39.33150100708008,39.36296844482422,39.5790901184082,39.630958557128906,39.90420150756836,39.572349548339844,39.57366180419922,39.89052963256836,39.758018493652344,39.74821090698242,39.705318450927734,39.635189056396484,39.7634391784668,39.700408935546875,39.70930099487305,39.630889892578125,39.54412078857422,39.67770004272461,39.60675811767578,39.42012023925781,39.861629486083984,39.83436965942383,39.89590835571289,39.897010803222656,39.8579216003418,39.87519836425781,39.403350830078125,39.361228942871094,39.556671142578125,39.646610260009766,39.823638916015625,39.76808166503906,39.63410949707031,39.88978958129883,39.62417984008789,39.5706787109375,39.73326110839844,39.81671142578125,39.76626968383789,39.77510070800781,39.891319274902344,39.89601135253906,39.845489501953125,39.862831115722656,39.86772155761719,39.8932991027832,39.54513931274414,39.5222282409668,39.75381088256836,39.91278839111328,39.837921142578125,39.53617858886719,39.41353988647461,39.85647964477539,39.83995819091797,39.86558151245117,39.899818420410156,39.71377182006836,39.33924102783203,39.892311096191406,39.687931060791016,39.71809005737305,39.82823181152344,39.52363967895508,39.70138168334961,39.84048080444336,39.55685043334961,39.8214111328125,39.812618255615234,39.643028259277344,39.51454162597656,39.862030029296875,39.73986053466797,39.588069915771484,39.81032180786133,39.759071350097656,39.697200775146484,39.57603073120117,39.586158752441406,39.679569244384766,39.612831115722656,39.83869171142578,39.887229919433594,39.362579345703125,39.83892059326172,39.874149322509766,39.70964813232422,39.836891174316406,39.80643844604492,39.60560989379883,39.740909576416016,39.815311431884766,39.699581146240234,39.735389709472656,39.51504898071289,39.76327133178711,39.82387924194336,39.7593994140625,39.48311996459961,39.54206085205078,39.51696014404297,39.77592849731445,39.7817497253418,39.577701568603516,39.717041015625,39.6514892578125,39.6490592956543,39.76266860961914,39.67716979980469,39.88002014160156,39.76604080200195,39.55228042602539,39.71052932739258,39.65943145751953,39.6970100402832,39.86294937133789,39.877960205078125,39.450191497802734,39.75408172607422,39.44874954223633,39.7989616394043,39.710079193115234,39.58232879638672,39.87739181518555,39.55236053466797,39.56447982788086,39.903709411621094,39.42515182495117,39.85042190551758,39.893341064453125,39.867340087890625,39.78240966796875,39.58250045776367,39.76311111450195,39.71144104003906,39.77322006225586,39.6967887878418,39.842918395996094,39.911128997802734,39.68711853027344,39.886470794677734,39.857208251953125,39.57749938964844,39.76707077026367,39.76715850830078,39.76866149902344,39.767520904541016,39.767520904541016,39.4227409362793,39.884700775146484,39.720069885253906,39.35573959350586,39.88291931152344,39.645729064941406,39.89247131347656,39.7657585144043,39.7564582824707,39.767398834228516,39.72386169433594,39.89870834350586,39.767051696777344,39.715118408203125,39.69335174560547,39.73297119140625,39.40589904785156,39.70096969604492,39.706268310546875,39.603431701660156,39.76560974121094,39.627159118652344,39.36478042602539,39.603450775146484,39.56822967529297,39.53273010253906,39.559940338134766,39.62704086303711,39.45267868041992,39.51144027709961,39.736610412597656,39.728328704833984,39.52460861206055,39.52362060546875,39.54595184326172,39.69065856933594,39.78227996826172,39.68328857421875,39.91664123535156,39.91777038574219,39.736000061035156,39.91753005981445,39.91651153564453,39.917789459228516,39.91822814941406,39.598548889160156,39.822750091552734,39.56045150756836,39.81106185913086,39.58589172363281,39.57775115966797,39.521209716796875,39.836360931396484,39.58695983886719,39.56203079223633,39.572731018066406,39.72282028198242,39.825439453125,39.765750885009766,39.68318176269531,39.6938591003418,39.57672119140625,39.57722091674805,39.61355972290039,39.657310485839844,39.559669494628906,39.708831787109375,39.43785095214844,39.807979583740234,39.70780944824219,39.36552047729492,39.56460189819336,39.900569915771484,39.73411178588867,39.68558120727539,39.80792999267578,39.58272171020508,39.64680099487305,39.910499572753906,39.551570892333984,39.76375961303711,39.705589294433594,39.793190002441406,39.67189025878906,39.60200119018555,39.759559631347656,39.49748992919922,39.6957893371582,39.666141510009766,39.36576843261719,39.3707389831543,39.561710357666016,39.36357879638672,39.58675003051758,39.31882858276367,39.69432067871094,39.50706100463867,39.74113845825195,39.402748107910156,39.54553985595703,39.34867858886719,39.51232147216797,39.44984817504883,39.566368103027344,39.830631256103516,39.89881896972656,39.73405838012695,39.41427993774414,39.67274856567383,39.6278190612793,39.43006896972656,39.37411880493164,39.73870086669922,39.772911071777344,39.78025817871094,39.46792984008789,39.4928092956543,39.60900115966797,39.79676055908203,39.684051513671875,39.52177810668945,39.50830841064453,39.642791748046875,39.56031036376953,39.52151870727539,39.87940979003906,39.43021011352539,39.685691833496094,39.86484146118164,39.7635612487793,39.76887893676758,39.60887145996094,39.569801330566406,39.588809967041016,39.7794303894043,39.56753158569336,39.319549560546875,39.76940155029297,39.76382064819336,39.524749755859375,39.52954864501953,39.76734161376953,39.553001403808594,39.70766830444336,39.59048080444336,39.57320022583008,39.49797821044922,39.717071533203125,39.73752975463867,39.748878479003906,39.69350814819336,39.58795166015625,39.51469039916992,39.734291076660156,39.79732131958008,39.680599212646484,39.77642059326172,39.731689453125,39.37459945678711,39.577449798583984,39.42546081542969,39.66999816894531,39.561248779296875,39.64773941040039,39.65739059448242,39.580318450927734,39.51879119873047,39.56819152832031,39.56953048706055,39.568790435791016,39.67597961425781,39.341758728027344,39.72629165649414,39.36442947387695,39.902950286865234,39.33158874511719,39.70780944824219,39.69961166381836,39.56452178955078,39.36819839477539,39.44506072998047,39.41773986816406,39.40951919555664,39.662811279296875,39.72618103027344,39.81050109863281,39.66183090209961,39.66162109375,39.700111389160156,39.55760955810547,39.36545181274414,39.830101013183594,39.89812088012695,39.426849365234375,39.70600128173828,39.36677169799805,39.766021728515625,39.5761604309082,39.69432830810547,39.44929885864258,39.631919860839844,39.81983947753906,39.66746139526367,39.62294006347656,39.831939697265625,39.67388916015625,39.8272705078125,39.59590148925781,39.772789001464844,39.771331787109375,39.772300720214844,39.53776931762695,39.53253936767578,39.49768829345703,39.48191833496094,39.677310943603516,39.564109802246094,39.36246871948242,39.57693099975586,39.35227966308594,39.41440963745117,39.52642822265625,39.59492874145508,39.44581985473633,39.572959899902344,39.79471969604492,39.48099899291992,39.587310791015625,39.54467010498047,39.357421875,39.33163833618164,39.328338623046875,39.875911712646484,39.628089904785156,39.64677810668945,39.62567901611328,39.659400939941406,39.33272933959961,39.64154815673828,39.61619186401367,39.7074089050293,39.77146911621094,39.70956039428711,39.47536087036133,39.364479064941406,39.56671905517578,39.359100341796875,39.36112976074219,39.904869079589844,39.80126953125,39.75870132446289,39.52680969238281,39.63875961303711,39.72151184082031,39.57453918457031,39.85898971557617,39.542240142822266,39.63615036010742,39.73748016357422,39.759220123291016,39.84988021850586,39.760528564453125,39.840450286865234,39.82461166381836,39.752681732177734,39.658050537109375,39.57455062866211,39.61228942871094,39.35171127319336,39.8306884765625,39.82701873779297,39.493080139160156,39.82904815673828,39.795291900634766,39.570709228515625,39.587890625,39.58760070800781,39.56222152709961,39.54518127441406,39.61396026611328,39.69430160522461,39.568939208984375,39.68912124633789,39.36785125732422,39.74021911621094,39.71875,39.765419006347656,39.82741928100586,39.74190139770508,39.77009963989258,39.69710159301758,39.90473937988281,39.81293869018555,39.42457962036133,39.561981201171875,39.33106994628906,39.78266143798828,39.73619842529297,39.64622116088867,39.64466094970703,39.415958404541016,39.338558197021484,39.619510650634766,39.91115188598633,39.50307846069336,39.79536819458008,39.52621078491211,39.537330627441406,39.519920349121094,39.764808654785156,39.79343032836914,39.6451416015625,39.365989685058594,39.70241165161133,39.6505012512207,39.769771575927734,39.45042037963867,39.357391357421875,39.69063949584961,39.90544128417969,39.838401794433594,39.76034164428711,39.710838317871094,39.66416931152344,39.44554901123047,39.57643127441406,39.77083969116211,39.75550842285156,39.37194061279297,39.473270416259766,39.73524856567383,39.57286071777344,39.78276062011719,39.73181915283203,39.46474075317383,39.56874084472656,39.649330139160156,39.66432189941406,39.75661087036133,39.77128982543945,39.8736686706543,39.7318000793457,39.796119689941406,39.691200256347656,39.71226119995117,39.649131774902344,39.366249084472656,39.40752029418945,39.67108154296875,39.389060974121094,39.7056999206543,39.642051696777344,39.78276824951172,39.60615158081055,39.77153015136719,39.712371826171875,39.697731018066406,39.8743782043457,39.58855056762695,39.44070816040039,39.77204895019531,39.66640090942383,39.40938949584961,39.52465057373047,39.755088806152344,39.75457000732422,39.78689956665039,39.64257049560547,39.674888610839844,39.650779724121094,39.779850006103516,39.70478820800781,39.587669372558594,39.7329216003418,39.76020050048828,39.33454895019531,39.4564094543457,39.55564880371094,39.76033020019531,39.41743850708008,39.71677017211914,39.56011962890625,39.39352035522461,39.711238861083984,39.70669937133789,39.768768310546875,39.75444030761719,39.37583923339844,39.56962966918945,39.721641540527344,39.71910858154297,39.68421936035156,39.6768684387207,39.52581024169922,39.76382064819336,39.7972412109375,39.83953094482422,39.416988372802734,39.5666389465332,39.731021881103516,39.34751892089844,39.70899963378906,39.536598205566406,39.601959228515625,39.3215217590332,39.57704162597656,39.33115005493164,39.367279052734375,39.553009033203125,39.771541595458984,39.601478576660156,39.38848876953125,39.383949279785156,39.33346176147461,39.332340240478516,39.33251953125,39.331260681152344,39.710418701171875,39.567138671875,39.496578216552734,39.86001968383789,39.75510025024414,39.69807815551758,39.70389175415039,39.80155944824219,39.80065155029297,39.70917892456055,39.75477981567383,39.70832061767578,39.85313034057617,39.469749450683594,39.364498138427734,39.7383918762207,39.718711853027344,39.75566101074219,39.84318161010742,39.33002853393555,39.64854049682617,39.781410217285156,39.83100891113281,39.597190856933594,39.707950592041016,39.51593017578125,39.732688903808594,39.69186019897461,39.65604019165039,39.518829345703125,39.684871673583984,39.51942825317383,39.652061462402344,39.48896026611328,39.76311111450195,39.452880859375,39.331871032714844,39.781150817871094,39.65201187133789,39.752960205078125,39.767608642578125,39.83890914916992,39.69919967651367,39.81800079345703,39.73004913330078,39.81317901611328,39.5660285949707,39.431739807128906,39.72951126098633,39.33192825317383,39.76559829711914,39.429508209228516,39.694908142089844,39.597660064697266,39.722259521484375,39.825660705566406,39.76422882080078,39.56087112426758,39.738609313964844,39.88134002685547,39.55931091308594,39.47248077392578,39.6063117980957,39.64638137817383,39.54912185668945,39.36450958251953,39.78118896484375,39.73912048339844,39.756370544433594,39.512699127197266,39.762840270996094,39.711219787597656,39.770450592041016,39.65869903564453,39.31608963012695,39.69184875488281,39.73503112792969,39.51490020751953,39.7492790222168,39.78129959106445,39.81732177734375,39.707801818847656,39.614898681640625,39.6083984375,39.57231140136719,39.57252883911133,39.451908111572266,39.71430969238281,39.68764114379883,39.365509033203125,39.867069244384766,39.76681900024414,39.70317840576172,39.5707893371582,39.75123977661133,39.6314811706543,39.70964050292969,39.578941345214844,39.58037185668945,39.37289047241211,39.45317077636719,39.70201110839844,39.590938568115234,39.77880859375,39.57881164550781,39.7076416015625,39.50143051147461,39.74306106567383,39.66870880126953,39.66843032836914,39.6679801940918,39.58713912963867,39.58100128173828,39.595890045166016,39.41872024536133,39.69017028808594,39.71731185913086,39.77613830566406,39.839141845703125,39.585060119628906,39.75632858276367,39.574928283691406,39.53594970703125,39.580650329589844,39.59233856201172,39.55162811279297,39.755828857421875,39.54291915893555,39.369590759277344,39.66225814819336,39.780181884765625,39.73910140991211,39.69858169555664,39.36376953125,39.364288330078125,39.37078857421875,39.56037902832031,39.56367874145508,39.56861877441406,39.364078521728516,39.53459167480469,39.36371994018555,39.565818786621094,39.702598571777344,39.79549026489258,39.5418586730957,39.838680267333984,39.769378662109375,39.860130310058594,39.60432052612305,39.49586868286133,39.5177001953125,39.83750915527344,39.53948974609375,39.610618591308594,39.779109954833984,39.532920837402344,39.70610046386719,39.42802047729492,39.320518493652344,39.89912033081055,39.457401275634766,39.8784294128418,39.58441925048828,39.58646011352539,39.607330322265625,39.804481506347656,39.708641052246094,39.84128189086914,39.752628326416016,39.509681701660156,39.57426834106445,39.57844924926758,39.50925064086914,39.56761932373047,39.5199089050293,39.31890869140625,39.3177604675293,39.56692123413086,39.877140045166016,39.354881286621094,39.357688903808594,39.89427185058594,39.35572052001953,39.89405822753906,39.74592971801758,39.52817153930664,39.52347946166992,39.5672607421875,39.70133972167969,39.62628936767578,39.85432052612305,39.75630187988281,39.750858306884766,39.78153991699219,39.56565856933594,39.75482177734375,39.831058502197266,39.73252868652344,39.57334899902344,39.722381591796875,39.548118591308594,39.56752014160156,39.579429626464844,39.7795295715332,39.33504104614258,39.57823944091797,39.90473937988281,39.357120513916016,39.398231506347656,39.35572814941406,39.371639251708984,39.36745834350586,39.776519775390625,39.62189865112305,39.80596160888672,39.72529983520508,39.82855987548828,39.57162094116211,39.7646484375,39.73828125,39.7765998840332,39.732540130615234,39.73855972290039,39.80250930786133,39.551578521728516,39.672210693359375,39.81319046020508,39.88296890258789,39.709129333496094,39.7589111328125,39.771278381347656,39.83340072631836,39.86907958984375,39.5736198425293,39.3471794128418,39.739078521728516,39.482879638671875,39.69036865234375,39.41648864746094,39.34334182739258,39.52933883666992,39.69300842285156,39.52753829956055,39.56901931762695,39.61653137207031,39.576778411865234,39.407859802246094,39.61650848388672,39.568660736083984,39.53839874267578,39.5738410949707,39.525508880615234,39.76105880737305,39.83884811401367,39.6130485534668,39.77106857299805,39.869049072265625,39.838748931884766,39.76100158691406,39.82670974731445,39.68762969970703,39.762901306152344,39.55915832519531,39.57265090942383,39.58562088012695,39.4463996887207,39.880950927734375,39.599891662597656,39.53361129760742,39.67095947265625,39.65462875366211,39.67203140258789,39.72237014770508,39.62471008300781,39.74197006225586,39.382240295410156,39.67142105102539,39.36539840698242,39.91841125488281,39.918731689453125,39.91865158081055,39.616371154785156,39.47288131713867,39.313270568847656,39.335079193115234,39.72291946411133,39.83818054199219,39.56184005737305,39.455589294433594,39.57625961303711,39.83631896972656,39.66632843017578,39.49618911743164,39.770530700683594,39.8840217590332,39.594871520996094,39.85271072387695,39.4099006652832,39.60715866088867,39.61431121826172,39.76374816894531,39.88002014160156,39.889801025390625,39.869239807128906,39.79325866699219,39.84564971923828,39.86819076538086,39.520179748535156,39.75823974609375,39.52058029174805,39.73780822753906,39.57804870605469,39.37179183959961,39.687408447265625,39.788719177246094,39.537559509277344,39.74217987060547,39.80862045288086,39.76042938232422,39.364479064941406,39.50572967529297,39.356651306152344,39.73377990722656,39.60786056518555,39.564720153808594,39.84138107299805,39.530208587646484,39.331748962402344,39.36595916748047,39.82884979248047,39.693328857421875,39.57096862792969,39.74943161010742,39.84252166748047,39.72970962524414,39.84164047241211,39.51258850097656,39.411041259765625,39.659061431884766,39.75402069091797,39.5855712890625,39.393760681152344,39.594810485839844,39.90129852294922,39.59593963623047,39.523780822753906,39.7547492980957,39.7694091796875,39.733760833740234,39.75442123413086,39.366241455078125,39.5012092590332,39.579288482666016,39.724281311035156,39.617881774902344,39.565818786621094,39.67451858520508,39.71664810180664,39.43251037597656,39.431339263916016,39.572811126708984,39.77001190185547,39.884578704833984,39.544898986816406,39.365020751953125,39.7123908996582,39.575958251953125,39.644020080566406,39.57331085205078,39.79391860961914,39.81391143798828,39.82865905761719,39.75336837768555,39.80445098876953,39.573551177978516,39.57318878173828,39.57347106933594,39.573429107666016,39.655860900878906,39.85948944091797,39.63212966918945,39.42750930786133,39.6356086730957,39.47066879272461,39.62263870239258,39.413570404052734,39.841819763183594,39.765480041503906,39.756568908691406,39.709999084472656,39.85145950317383,39.8774299621582,39.570491790771484,39.80373001098633,39.43170928955078,39.685089111328125,39.3543815612793,39.731170654296875,39.59880065917969,39.771141052246094,39.72547149658203,39.76422882080078,39.453861236572266,39.501319885253906,39.40019989013672,39.711551666259766,39.717430114746094,39.709869384765625,39.694488525390625,39.638519287109375,39.47834014892578,39.771690368652344,39.56332015991211,39.71303939819336,39.86085891723633,39.42790985107422,39.55836868286133,39.84120178222656,39.56650924682617,39.34016036987305,39.753021240234375,39.73487091064453,39.77867889404297,39.6697883605957,39.839500427246094,39.6844596862793,39.7900505065918,39.8748893737793,39.368751525878906,39.77899932861328,39.75516891479492,39.378108978271484,39.398658752441406,39.39609909057617,39.734928131103516,39.893531799316406,39.8513298034668,39.715641021728516,39.40958023071289,39.362831115722656,39.77962875366211,39.365970611572266,39.82728958129883,39.5741081237793,39.73334884643555,39.706661224365234,39.761051177978516,39.700870513916016,39.753089904785156,39.76675033569336,39.56435012817383,39.47140884399414,39.649131774902344,39.49671173095703,39.59925842285156,39.56256866455078,39.573448181152344,39.49686050415039,39.69221878051758,39.316219329833984,39.81740188598633,39.778438568115234,39.712669372558594,39.70425033569336,39.643741607666016,39.69546127319336,39.863311767578125,39.41358184814453,39.77613830566406,39.89936828613281,39.47724151611328,39.542659759521484,39.57334899902344,39.86143112182617,39.70109939575195,39.57984161376953,39.663631439208984,39.7943115234375,39.36684036254883,39.41482925415039,39.71678924560547,39.735801696777344,39.69472122192383,39.710819244384766,39.364601135253906,39.75423049926758,39.8573112487793,39.81578826904297,39.423980712890625,39.36695098876953,39.31378173828125,39.73247146606445,39.36420822143555,39.796810150146484,39.71072006225586,39.614830017089844,39.366939544677734,39.68886184692383,39.366058349609375,39.61314010620117,39.585601806640625,39.57040023803711,39.44932174682617,39.45410919189453,39.52954864501953,39.45487976074219,39.522579193115234,39.51974105834961,39.690120697021484,39.83515930175781,39.685150146484375,39.715919494628906,39.749290466308594,39.729949951171875,39.75188064575195,39.74441909790039,39.743900299072266,39.71508026123047,39.895748138427734,39.874000549316406,39.8719596862793,39.74396896362305,39.32870864868164,39.75043869018555,39.573421478271484,39.572330474853516,39.56602096557617,39.731910705566406,39.86185073852539,39.60980987548828,39.57210922241211,39.47129821777344,39.83700942993164,39.597801208496094,39.77941131591797,39.7294807434082,39.72998809814453,39.761940002441406,39.4344482421875,39.63991165161133,39.835941314697266,39.89813995361328,39.90803146362305,39.32093048095703,39.339420318603516,39.323020935058594,39.624969482421875,39.916229248046875,39.61009979248047,39.6562614440918,39.48912811279297,39.55065155029297,39.768680572509766,39.33951187133789,39.49740982055664,39.92137908935547,39.920650482177734,39.75954055786133,39.56148147583008,39.90568161010742,39.52799987792969,39.647491455078125,39.703948974609375,39.44784927368164,39.55213928222656,39.839271545410156,39.88365936279297,39.86859893798828,39.876121520996094,39.904449462890625,39.77983856201172,39.64366912841797,39.46821975708008,39.58195877075195,39.44878005981445,39.85898971557617,39.68423843383789,39.85662841796875,39.863929748535156,39.561248779296875,39.539100646972656,39.56455993652344,39.736080169677734,39.918609619140625,39.712669372558594,39.876190185546875,39.35873031616211,39.597999572753906,39.731571197509766,39.69139099121094,39.5166015625,39.874839782714844,39.365821838378906,39.69736862182617,39.915428161621094,39.31359100341797,39.31996154785156,39.73543167114258,39.323211669921875,39.32289123535156,39.75632095336914,39.57434844970703,39.5626106262207,39.83287811279297,39.340660095214844,39.600341796875,39.6014518737793,39.73603820800781,39.37432098388672,39.57489013671875,39.51863098144531,39.61288833618164,39.342769622802734,39.539180755615234,39.75598907470703,39.58005142211914,39.83620071411133,39.83707809448242,39.73114013671875,39.59886932373047,39.717281341552734,39.720359802246094,39.75846862792969,39.78580093383789,39.77846908569336,39.57719039916992,39.56753158569336,39.80271911621094,39.86272048950195,39.48899841308594,39.34886169433594,39.626590728759766,39.76131820678711,39.53641128540039,39.68906021118164,39.55168151855469,39.432899475097656,39.675628662109375,39.583980560302734,39.52899169921875,39.7564811706543,39.60845947265625,39.67176818847656,39.59852981567383,39.85639953613281,39.660701751708984,39.61745071411133,39.817710876464844,39.56880187988281,39.536251068115234,39.7607307434082,39.42477035522461,39.86207962036133,39.8614616394043,39.809410095214844,39.66598892211914,39.860538482666016,39.80802917480469,39.86204147338867,39.64358901977539,39.89963912963867,39.897491455078125,39.73163986206055,39.78179168701172,39.489349365234375,39.71002960205078,39.838619232177734,39.77743148803711,39.85029983520508,39.781410217285156,39.76953125,39.531898498535156,39.802650451660156,39.76076889038086,39.69348907470703,39.81201171875,39.66815185546875,39.628108978271484,39.73883819580078,39.83900833129883,39.48524856567383,39.67361068725586,39.56669998168945,39.5772705078125,39.55746841430664,39.90679931640625,39.71078872680664,39.6485595703125,39.754608154296875,39.73320007324219,39.69480895996094,39.8525390625,39.849571228027344,39.624080657958984,39.73667907714844,39.75231170654297,39.75299072265625,39.858829498291016,39.737491607666016,39.555728912353516,39.71268844604492,39.703338623046875,39.64149856567383,39.80113983154297,39.759700775146484,39.75033187866211,39.86626052856445,39.63414001464844,39.4561882019043,39.7934684753418,39.762901306152344,39.771728515625,39.5389404296875,39.7651481628418,39.633338928222656,39.85628890991211,39.75917053222656,39.71097183227539,39.65053176879883,39.8868408203125,39.599639892578125,39.495811462402344,39.416439056396484,39.8697509765625,39.31795883178711,39.31787109375,39.316898345947266,39.63315963745117,39.68478012084961,39.87356948852539,39.68519973754883,39.88962936401367,39.828590393066406,39.88972854614258,39.83858871459961,39.83348846435547,39.81660842895508,39.56388854980469,39.566158294677734,39.571678161621094,39.5706787109375,39.36323165893555,39.618629455566406,39.75437927246094,39.702430725097656,39.39693069458008,39.81037139892578,39.55937957763672,39.8862190246582,39.77350997924805,39.511199951171875,39.52143096923828,39.339359283447266,39.57468032836914,39.688568115234375,39.62173080444336,39.57207107543945,39.793209075927734,39.584049224853516,39.55792999267578,39.587398529052734,39.90279006958008,39.7625617980957,39.7628288269043,39.76100158691406,39.87540054321289,39.897090911865234,39.67179870605469,39.726261138916016,39.57088851928711,39.731689453125,39.702369689941406,39.41938018798828,39.75701904296875,39.758419036865234,39.76020050048828,39.59817886352539,39.602569580078125,39.837928771972656,39.88969039916992,39.735538482666016,39.73537826538086,39.69200897216797,39.53173828125,39.85858917236328,39.874961853027344,39.81816864013672,39.91862869262695,39.88059997558594,39.861690521240234,39.542518615722656,39.880859375,39.64870834350586,39.856178283691406,39.65996170043945,39.9057502746582,39.86431121826172,39.683311462402344,39.522911071777344,39.587501525878906,39.73500061035156,39.633758544921875,39.60857009887695,39.44301986694336,39.5932502746582,39.65047836303711,39.73271179199219,39.59231948852539,39.8772087097168,39.473819732666016,39.91735076904297,39.852970123291016,39.53226852416992,39.857688903808594,39.7776985168457,39.848968505859375,39.31998825073242,39.87797927856445,39.68547821044922,39.715660095214844,39.687618255615234,39.67811965942383,39.450870513916016,39.8568000793457,39.36560821533203,39.603641510009766,39.7475700378418,39.7624397277832,39.73194885253906,39.57263946533203,39.33644104003906,39.91825866699219,39.88111114501953,39.5713996887207,39.61294937133789,39.64868927001953,39.8780517578125,39.6911506652832,39.90285873413086,39.878238677978516,39.87726974487305,39.57157897949219,39.57225036621094,39.33864974975586,39.71025848388672,39.365360260009766,39.56718826293945,39.822139739990234,39.57286834716797,39.87355041503906,39.66666030883789,39.73027038574219,39.64957046508789,39.77836990356445,39.911800384521484,39.61268997192383,39.679378509521484,39.587608337402344,39.7653694152832,39.539249420166016,39.35226058959961,39.766441345214844,39.33341979980469,39.55680847167969,39.544498443603516,39.498931884765625,39.56264877319336,39.57770919799805,39.50511932373047,39.6668586730957,39.64421844482422,39.8089714050293,39.85470962524414,39.87828063964844,39.46548080444336,39.78110885620117,39.84006881713867,39.7418098449707,39.85818862915039,39.64339828491211,39.82524871826172,39.823760986328125,39.77804183959961,39.762359619140625,39.9168586730957,39.55767822265625,39.76557159423828,39.49782943725586,39.5555305480957,39.587989807128906,39.53900909423828,39.651458740234375,39.76124954223633,39.676509857177734,39.90998840332031,39.66144943237305,39.5418701171875,39.33504867553711,39.512508392333984,39.762481689453125,39.4273681640625,39.77568054199219,39.82598876953125,39.53879928588867,39.37385177612305,39.68730163574219,39.558231353759766,39.57175064086914,39.5778694152832,39.71540069580078,39.36516189575195,39.51887130737305,39.70246124267578,39.701900482177734,39.75376892089844,39.61351013183594,39.73133087158203,39.713401794433594,39.493499755859375,39.57353973388672,39.65525817871094,39.7064094543457,39.47473907470703,39.62820816040039,39.32374954223633,39.56439971923828,39.58707809448242,39.62739181518555,39.367889404296875,39.70500946044922,39.890499114990234,39.353981018066406,39.79568862915039,39.57004165649414,39.578128814697266,39.6078987121582,39.761478424072266,39.53546142578125,39.86445999145508,39.57841110229492,39.38106918334961,39.353328704833984,39.785221099853516,39.63414001464844,39.76662063598633,39.71065139770508,39.4611701965332,39.55580139160156,39.70058059692383,39.774070739746094,39.36560821533203,39.74531936645508,39.570438385009766,39.61309814453125,39.6231803894043,39.490421295166016,39.62351989746094,39.66505813598633,39.55733871459961,39.730289459228516,39.87485885620117,39.543731689453125,39.48031997680664,39.57899856567383,39.58654022216797,39.56071853637695,39.60469055175781,39.559261322021484,39.51736068725586,39.57421112060547,39.57231903076172,39.72298812866211,39.43544006347656,39.81623840332031,39.83713912963867,39.60857009887695,39.5723991394043,39.567298889160156,39.57109832763672,39.75408935546875,39.409271240234375,39.70650100708008,39.70819091796875,39.797889709472656,39.5720100402832,39.57400131225586,39.57368850708008,39.377620697021484,39.51026153564453,39.57149124145508,39.568668365478516,39.76982879638672,39.47315979003906,39.816871643066406,39.51034927368164,39.57583999633789,39.6434211730957,39.5577507019043,39.33573913574219,39.61117935180664,39.414588928222656,39.5584716796875,39.471229553222656,39.5707893371582,39.69805145263672,39.87461853027344,39.582759857177734,39.87958908081055,39.427791595458984,39.71199035644531,39.868160247802734,39.703651428222656,39.69432830810547,39.84566879272461,39.56074142456055,39.472869873046875,39.571441650390625,39.388511657714844,39.35681915283203,39.896278381347656,39.47343063354492,39.47304916381836,39.41048812866211,39.57310104370117,39.57265090942383,39.431209564208984,39.879371643066406,39.901878356933594,39.83729934692383,39.57305908203125,39.71992111206055,39.451839447021484,39.75075912475586,39.80002975463867,39.83721923828125,39.86402130126953,39.34326171875,39.65822982788086,39.343109130859375,39.66033935546875,39.47018814086914,39.6710205078125,39.815860748291016,39.733551025390625,39.85483169555664,39.744510650634766,39.90190887451172,39.89310073852539,39.68096160888672,39.711910247802734,39.87874984741211,39.81808090209961,39.33641815185547,39.563751220703125,39.42185974121094,39.7653694152832,39.864200592041016,39.76681900024414,39.769020080566406,39.380191802978516,39.67734909057617,39.73637008666992,39.815860748291016,39.854461669921875,39.82164001464844,39.50442123413086,39.86082077026367,39.66661071777344,39.76797103881836,39.58863830566406,39.52027130126953,39.56951141357422,39.82950973510742,39.76823043823242,39.363189697265625,39.879150390625,39.749271392822266,39.8306884765625,39.57054901123047,39.877708435058594,39.332908630371094,39.426170349121094,39.7705192565918,39.32699966430664,39.70225143432617,39.723419189453125,39.57059860229492,39.82876968383789,39.574188232421875,39.57078170776367,39.59994888305664,39.832698822021484,39.824161529541016,39.73126983642578,39.7784309387207,39.73793029785156,39.645729064941406,39.4821891784668,39.722068786621094,39.838130950927734,39.60374069213867,39.354000091552734,39.61307144165039,39.767478942871094,39.66259002685547,39.43627166748047,39.853641510009766,39.89773941040039,39.40919876098633,39.65058135986328,39.854000091552734,39.32876968383789,39.7005615234375,39.525169372558594,39.36521911621094,39.756431579589844,39.569580078125,39.543548583984375,39.693241119384766,39.83755111694336,39.77054977416992,39.91725158691406,39.578861236572266,39.582271575927734,39.68294143676758,39.62432861328125,39.569190979003906,39.740169525146484,39.33884048461914,39.84206008911133,39.49980926513672,39.7405891418457,39.710880279541016,39.568241119384766,39.906349182128906,39.85932159423828,39.839481353759766,39.772281646728516,39.816349029541016,39.911468505859375,39.91001892089844,39.9097900390625,39.91025161743164,39.60926055908203,39.73649978637695,39.60810089111328,39.85292053222656,39.51860809326172,39.82624053955078,39.69158172607422,39.41923141479492,39.906070709228516,39.7400016784668,39.742000579833984,39.519798278808594,39.77122116088867,39.84053039550781,39.84954833984375,39.85057067871094,39.895931243896484,39.81998062133789,39.861839294433594,39.76102066040039,39.85982894897461,39.7742805480957,39.89308166503906,39.838890075683594,39.867679595947266,39.76359176635742,39.766448974609375,39.85660934448242,39.72605895996094,39.83578109741211,39.85712814331055,39.76316833496094,39.656490325927734,39.871971130371094,39.539058685302734,39.86732864379883,39.65330123901367,39.85908126831055,39.857051849365234,39.82529067993164,39.8200798034668,39.61402130126953,39.59777069091797,39.333858489990234,39.87807083129883,39.57006072998047,39.31949996948242,39.37752914428711,39.605220794677734,39.824588775634766,39.58317947387695,39.75136947631836,39.823490142822266,39.82490158081055,39.319889068603516,39.81418991088867,39.80765914916992,39.617759704589844,39.32923889160156,39.87582015991211,39.57579040527344,39.853721618652344,39.69007873535156,39.87651062011719,39.864280700683594,39.77777862548828,39.741371154785156,39.809818267822266,39.36433029174805,39.80315017700195,39.33037185668945,39.769371032714844,39.761260986328125,39.76803970336914,39.575801849365234,39.7661018371582,39.413761138916016,39.62205123901367,39.7730712890625,39.75653076171875,39.772491455078125,39.772560119628906,39.33829116821289,39.853641510009766,39.77872848510742,39.77920913696289,39.772979736328125,39.426151275634766,39.77899169921875,39.36587905883789,39.711971282958984,39.67982864379883,39.58876037597656,39.60300827026367,39.6180305480957,39.5714111328125,39.7695198059082,39.737239837646484,39.766571044921875,39.603118896484375,39.626319885253906,39.7176399230957,39.782569885253906,39.41878890991211,39.86180877685547,39.87771987915039,39.61442184448242,39.48329162597656,39.52085876464844,39.45404815673828,39.78321075439453,39.7811393737793,39.61796188354492,39.58005905151367,39.68492126464844,39.530269622802734,39.576908111572266,39.40951919555664,39.69681930541992,39.37282943725586,39.56155014038086,39.65658187866211,39.69306945800781,39.564388275146484,39.71321105957031,39.73685073852539,39.767330169677734,39.554500579833984,39.91259002685547,39.65425109863281,39.35626983642578,39.43357849121094,39.435508728027344,39.55997848510742,39.71870040893555,39.3343505859375,39.83504104614258,39.587589263916016,39.756378173828125,39.75611877441406,39.753150939941406,39.75733184814453,39.768531799316406,39.44562911987305,39.52117919921875,39.784019470214844,39.574119567871094,39.766849517822266,39.66624069213867,39.766658782958984,39.886260986328125,39.53657150268555,39.5548210144043,39.5726203918457,39.892520904541016,39.838680267333984,39.85123825073242,39.897499084472656,39.900611877441406,39.91432189941406,39.87385940551758,39.902130126953125,39.870948791503906,39.86466979980469,39.91497039794922,39.889739990234375,39.340091705322266,39.57160949707031,39.54616928100586,39.72758865356445,39.592559814453125,39.87588119506836,39.820919036865234,39.70204162597656,39.61650848388672,39.79494857788086,39.76935958862305,39.54507064819336,39.3673210144043,39.39469909667969,39.766178131103516,39.69390106201172,39.53435134887695,39.33348846435547,39.838111877441406,39.8397216796875,39.630130767822266,39.641380310058594,39.62226104736328,39.859230041503906,39.73411178588867,39.33055114746094,39.373531341552734,39.56930923461914,39.49198913574219,39.86151123046875,39.56924819946289,39.49290084838867,39.4929084777832,39.610660552978516,39.736568450927734,39.4842414855957,39.572330474853516,39.365928649902344,39.70161819458008,39.70233917236328,39.701778411865234,39.41530990600586,39.39461898803711,39.76218032836914,39.56755828857422,39.699649810791016,39.57114028930664,39.57735824584961,39.36545181274414,39.70429992675781,39.57143020629883,39.87862014770508,39.363258361816406,39.64706039428711,39.34294891357422,39.63249969482422,39.854591369628906,39.769100189208984,39.50526809692383,39.369140625,39.63656997680664,39.31843948364258,39.564781188964844,39.74750900268555,39.36153030395508,39.610870361328125,39.55802917480469,39.65946960449219,39.666969299316406,39.76509094238281,39.67538070678711,39.53404998779297,39.88758087158203,39.531951904296875,39.491371154785156,39.57421112060547,39.79615020751953,39.86423873901367,39.70920181274414,39.5988883972168,39.36655044555664,39.58079147338867,39.61265182495117,39.53778076171875,39.34946823120117,39.31589889526367,39.814430236816406,39.84196090698242,39.659629821777344,39.37099838256836,39.7134895324707,39.748470306396484,39.71440887451172,39.84461975097656,39.70315170288086,39.56132888793945,39.35319900512695,39.76559829711914,39.342559814453125,39.66788864135742,39.49468994140625,39.49320983886719,39.35554122924805,39.3560791015625,39.569271087646484,39.890769958496094,39.33369827270508,39.432701110839844,39.40378952026367,39.79835891723633,39.65235900878906,39.5584716796875,39.36737060546875,39.519168853759766,39.615570068359375,39.519168853759766,39.7777099609375,39.89485168457031,39.87800979614258,39.89815902709961,39.73563003540039,39.57931137084961,39.7718391418457,39.77119064331055,39.570350646972656,39.60443878173828,39.425331115722656,39.717689514160156,39.8383903503418,39.59926986694336,39.83576965332031,39.55699157714844,39.54523849487305,39.77119827270508,39.37990951538086,39.70341873168945,39.71773147583008,39.5767707824707,39.75608825683594,39.79758071899414,39.71234893798828,39.76285171508789,39.57347106933594,39.686038970947266,39.565128326416016,39.54180145263672,39.60213851928711,39.75495147705078,39.58142852783203,39.77000045776367,39.65700149536133,39.65755081176758,39.71971893310547,39.60736846923828,39.36595153808594,39.55659866333008,39.81581115722656,39.7276611328125,39.602928161621094,39.35380172729492,39.867191314697266,39.6055793762207,39.45595169067383,39.689918518066406,39.31972122192383,39.54172897338867,39.567649841308594,39.768348693847656,39.7686882019043,39.33332824707031,39.761741638183594,39.76008987426758,39.6510009765625,39.42189025878906,39.765010833740234,39.556060791015625,39.551551818847656,39.864219665527344,39.353668212890625,39.85224914550781,39.86600875854492,39.74259948730469,39.69287109375,39.714500427246094,39.86669921875,39.4798583984375,39.574520111083984,39.60491180419922,39.53839874267578,39.87902069091797,39.741851806640625,39.42599868774414,39.535499572753906,39.87910079956055,39.55979919433594,39.54045867919922,39.606170654296875,39.81153106689453,39.74613952636719,39.60908126831055,39.90126037597656,39.365779876708984,39.551509857177734,39.59812927246094,39.65644836425781,39.73331069946289,39.75046157836914,39.75096130371094,39.567420959472656,39.590118408203125,39.592079162597656,39.83613967895508,39.70405960083008,39.57487106323242,39.553550720214844,39.76070022583008,39.55345153808594,39.57609176635742,39.45130157470703,39.75640869140625,39.887550354003906,39.430511474609375,39.420188903808594,39.76485061645508,39.3642692565918,39.52275848388672,39.800811767578125,39.62248992919922,39.89421081542969,39.65568923950195,39.56092071533203,39.437931060791016,39.89350891113281,39.644798278808594,39.75056838989258,39.3638801574707,39.8796501159668,39.89336013793945,39.57041931152344,39.6917610168457,39.50878143310547,39.50864028930664,39.58552169799805,39.772098541259766,39.56983947753906,39.52136993408203,39.58631134033203,39.366600036621094,39.694610595703125,39.57183837890625,39.51026916503906,39.43611145019531,39.57352066040039,39.48765182495117,39.799400329589844,39.490108489990234,39.80916976928711,39.8094482421875,39.53871154785156,39.68915939331055,39.66815185546875,39.73453903198242,39.85945129394531,39.88949966430664,39.891048431396484,39.89448928833008,39.8961296081543,39.89910888671875,39.907501220703125,39.84804916381836,39.53997039794922,39.49311065673828,39.36867141723633,39.9182014465332,39.901649475097656,39.60886001586914,39.64762878417969,39.81013107299805,39.91014862060547,39.36201858520508,39.89698028564453,39.88618087768555,39.905128479003906,39.69765853881836,39.565101623535156,39.563541412353516,39.720481872558594,39.56576156616211,39.58155822753906,39.566978454589844,39.685211181640625,39.56996154785156,39.41707992553711,39.88161849975586,39.31808090209961,39.814849853515625,39.6573600769043,39.65827941894531,39.81521987915039,39.5790901184082,39.31985092163086,39.57257080078125,39.6981315612793,39.6019401550293,39.66436004638672,39.53504180908203,39.53458023071289,39.533260345458984,39.53520965576172,39.533790588378906,39.81953048706055,39.62976837158203,39.56483840942383,39.334129333496094,39.71977996826172,39.56829833984375,39.56673812866211,39.57210922241211,39.57461929321289,39.57086181640625,39.573089599609375,39.57606887817383,39.56193923950195,39.56156921386719,39.574798583984375,39.57307815551758,39.73305892944336,39.7811393737793,39.90412902832031,39.430870056152344,39.84748077392578,39.57558059692383,39.51892852783203,39.53337860107422,39.78491973876953,39.583961486816406,39.58589172363281,39.569190979003906,39.586669921875,39.52248001098633,39.754581451416016,39.72642135620117,39.49011993408203,39.74768829345703,39.62015914916992,39.37297058105469,39.57147979736328,39.57014846801758,39.56983947753906,39.57032012939453,39.57461166381836,39.760948181152344,39.52457809448242,39.331390380859375,39.62303924560547,39.75569152832031,39.582740783691406,39.52783966064453,39.82347106933594,39.551849365234375,39.74401092529297,39.76736068725586,39.77663040161133,39.5555305480957,39.903961181640625,39.50934982299805,39.90892028808594,39.77476119995117,39.54500961303711,39.58161163330078,39.82242965698242,39.77431106567383,39.75836181640625,39.7435188293457,39.592018127441406,39.9098014831543,39.58805847167969,39.6242790222168,39.41638946533203,39.7606315612793,39.73603820800781,39.66460037231445,39.78396987915039,39.72063064575195,39.59135818481445,39.6451301574707,39.556400299072266,39.54261016845703,39.5644416809082,39.57149124145508,39.78017044067383,39.761619567871094,39.569759368896484,39.857948303222656,39.54117965698242,39.87998962402344,39.609718322753906,39.41102981567383,39.77336120605469,39.5418701171875,39.536590576171875,39.57915115356445,39.627620697021484,39.53290939331055,39.54124069213867,39.73345947265625,39.83951950073242,39.644771575927734,39.54130935668945,39.903160095214844,39.881248474121094,39.598548889160156,39.760860443115234,39.470638275146484,39.71546173095703,39.4175910949707,39.78023147583008,39.64487075805664,39.686790466308594,39.781028747558594,39.782310485839844,39.56888961791992,39.53934097290039,39.66753005981445,39.593868255615234,39.50735855102539,39.65903854370117,39.534698486328125,39.584720611572266,39.520320892333984,39.911251068115234,39.808860778808594,39.39982986450195,39.58174133300781,39.58369827270508,39.6037483215332,39.83037185668945,39.83195877075195,39.832061767578125,39.83185958862305,39.778438568115234,39.74253845214844,39.71031188964844,39.721588134765625,39.52119064331055,39.87786102294922,39.89778137207031,39.654170989990234,39.479469299316406,39.853519439697266,39.6656608581543,39.68598175048828,39.829898834228516,39.53181838989258,39.896881103515625,39.842018127441406,39.71781921386719,39.700599670410156,39.898681640625,39.88248825073242,39.553558349609375,39.80813980102539,39.840721130371094,39.89970016479492,39.464820861816406,39.71195983886719,39.65922164916992,39.65904998779297,39.688018798828125,39.50584030151367,39.319950103759766,39.77299118041992,39.55913162231445,39.5590705871582,39.56032180786133,39.74184036254883,39.62443161010742,39.747440338134766,39.57366180419922,39.701290130615234,39.804100036621094,39.83658981323242,39.80963134765625,39.46324157714844,39.83034896850586,39.70457077026367,39.76552963256836,39.582420349121094,39.764530181884766,39.897220611572266,39.764400482177734,39.55643844604492,39.7288703918457,39.620731353759766,39.851219177246094,39.57101821899414,39.832149505615234,39.68450927734375,39.84870910644531,39.75019836425781,39.89809036254883,39.366111755371094,39.919219970703125,39.650421142578125,39.66667938232422,39.71080017089844,39.573028564453125,39.536048889160156,39.814491271972656,39.506629943847656,39.569908142089844,39.536739349365234,39.431739807128906,39.405601501464844,39.840850830078125,39.68769836425781,39.83539962768555,39.856658935546875,39.86051940917969,39.842079162597656,39.322200775146484,39.5748405456543,39.70259094238281,39.776451110839844,39.511348724365234,39.678611755371094,39.57112121582031,39.864280700683594,39.86745834350586,39.77299880981445,39.76333999633789,39.65919876098633,39.61729049682617,39.89316940307617,39.6019287109375,39.57722854614258,39.65100860595703,39.888648986816406,39.718990325927734,39.716548919677734,39.7181396484375,39.582088470458984,39.83993148803711,39.76837921142578,39.716609954833984,39.409400939941406,39.84088134765625,39.56711959838867,39.759429931640625,39.52043151855469,39.632110595703125,39.746490478515625,39.86043167114258,39.53329086303711,39.7434196472168,39.84333038330078,39.82093811035156,39.80207061767578,39.64801025390625,39.8430290222168,39.56666946411133,39.76667022705078,39.78804016113281,39.76784896850586,39.782798767089844,39.82727813720703,39.84239959716797,39.77743148803711,39.78165817260742,39.8571891784668,39.791038513183594,39.700660705566406,39.61832809448242,39.738868713378906,39.566829681396484,39.81985855102539,39.562259674072266,39.63179016113281,39.83317947387695,39.91999816894531,39.88022994995117,39.71638870239258,39.90034103393555,39.906471252441406,39.89973831176758,39.63016891479492,39.315860748291016,39.83797073364258,39.8025016784668,39.80189895629883,39.581520080566406,39.43532180786133,39.62928009033203,39.396549224853516,39.578739166259766,39.61307144165039,39.82923889160156,39.56364059448242,39.612518310546875,39.576751708984375,39.57609939575195,39.90291976928711,39.75790023803711,39.829811096191406,39.526611328125,39.510440826416016,39.37456130981445,39.351680755615234,39.61589050292969,39.67028045654297,39.79933166503906,39.84284973144531,39.57630157470703,39.76416015625,39.36555862426758,39.73691177368164,39.67491149902344,39.82442092895508,39.8602409362793,39.8294792175293,39.70787811279297,39.821250915527344,39.770660400390625,39.396018981933594,39.87574005126953,39.57265853881836,39.37879180908203,39.8371696472168,39.836788177490234,39.655208587646484,39.83007049560547,39.372920989990234,39.663551330566406,39.40876007080078,39.40980911254883,39.89329147338867,39.36796188354492,39.84170150756836,39.761531829833984,39.779598236083984,39.77378845214844,39.52878189086914,39.69499969482422,39.82952880859375,39.45309829711914,39.365821838378906,39.5448112487793,39.370609283447266,39.6060905456543,39.860469818115234,39.85688018798828,39.518680572509766,39.69020080566406,39.50476837158203,39.369110107421875,39.31700897216797,39.7512092590332,39.69506072998047,39.905609130859375,39.905330657958984,39.80799865722656,39.7901611328125,39.696739196777344,39.792640686035156,39.692928314208984,39.832489013671875,39.651119232177734,39.824649810791016,39.71772003173828,39.57204055786133,39.737159729003906,39.90378952026367,39.39583969116211,39.395050048828125,39.396629333496094,39.769630432128906,39.3963508605957,39.39392852783203,39.81772994995117,39.81803894042969,39.752769470214844,39.739139556884766,39.90581130981445,39.84328079223633,39.81814956665039,39.5547981262207,39.55577850341797,39.55598831176758,39.55546951293945,39.49748992919922,39.68239974975586,39.816871643066406,39.57078170776367,39.46453857421875,39.55326843261719,39.739200592041016,39.50550079345703,39.57107162475586,39.8354606628418,39.65829086303711,39.710838317871094,39.389320373535156,39.537940979003906,39.83348083496094,39.60282897949219,39.479278564453125,39.57223129272461,39.50358963012695,39.56517028808594,39.322200775146484,39.800811767578125,39.57228088378906,39.5017204284668,39.50352096557617,39.69797134399414,39.9026985168457,39.61164855957031,39.86344909667969,39.569461822509766,39.56985092163086,39.322608947753906,39.53786087036133,39.539390563964844,39.574951171875,39.57331085205078,39.48215866088867,39.36627960205078,39.36405944824219,39.409271240234375,39.53738021850586,39.82416915893555,39.55377960205078,39.57365036010742,39.8567008972168,39.53910827636719,39.31489181518555,39.6133918762207,39.830039978027344,39.79745864868164,39.708431243896484,39.50965118408203,39.793731689453125,39.52070999145508,39.567501068115234,39.70212173461914,39.373538970947266,39.88983154296875,39.59762954711914,39.55928039550781,39.81372833251953,39.711280822753906,39.841129302978516,39.73339080810547,39.60918045043945,39.43239974975586,39.91944885253906,39.829071044921875,39.701969146728516,39.869651794433594,39.70328903198242,39.70294189453125,39.702091217041016,39.540828704833984,39.58079147338867,39.408138275146484,39.35417175292969,39.85531997680664,39.840328216552734,39.54003143310547,39.91590118408203,39.875308990478516,39.85390090942383,39.888519287109375,39.89366912841797,39.641380310058594,39.48286819458008,39.840938568115234,39.85292053222656,39.5767707824707,39.554298400878906,39.85234832763672,39.74863815307617,39.611610412597656,39.535308837890625,39.7995491027832,39.840110778808594,39.86402893066406,39.84267044067383,39.56721115112305,39.376869201660156,39.90483856201172,39.79085922241211,39.79912185668945,39.798309326171875,39.469451904296875,39.508201599121094,39.56671142578125,39.57170867919922,39.57468032836914,39.693241119384766,39.87623977661133,39.85322189331055,39.36211013793945,39.610328674316406,39.85847091674805,39.6159782409668,39.5434684753418,39.550010681152344,39.50600814819336,39.68439865112305,39.83464050292969,39.710628509521484,39.8625602722168,39.324100494384766,39.575538635253906,39.76411056518555,39.55331039428711,39.8320198059082,39.527679443359375,39.3668098449707,39.86240005493164,39.83395004272461,39.7577018737793,39.834781646728516,39.902748107910156,39.83087921142578,39.858150482177734,39.86056137084961,39.574100494384766,39.57067108154297,39.53253936767578,39.84064865112305,39.77104187011719,39.83327865600586,39.7365608215332,39.3619499206543,39.551239013671875,39.76934051513672,39.41286087036133,39.73556900024414,39.34169006347656,39.487098693847656,39.36439895629883,39.57648849487305,39.76074981689453,39.80318069458008,39.86180877685547,39.54458999633789,39.69184112548828,39.832481384277344,39.835838317871094,39.36574935913086,39.539268493652344,39.70137023925781,39.91355895996094,39.53826904296875,39.539241790771484,39.43732833862305,39.60142135620117,39.768428802490234,39.62474060058594,39.472259521484375,39.57373809814453,39.89535903930664,39.82759094238281,39.58277893066406,39.837459564208984,39.68452072143555,39.78929901123047,39.593048095703125,39.36098861694336,39.360939025878906,39.360321044921875,39.79642868041992,39.87643051147461,39.70576095581055,39.83633041381836,39.55522155761719,39.80332946777344,39.640628814697266,39.836021423339844,39.789981842041016,39.82461929321289,39.48217010498047,39.52497863769531,39.77309036254883,39.697689056396484,39.842288970947266,39.59027099609375,39.37900924682617,39.834068298339844,39.83306121826172,39.84218978881836,39.34103012084961,39.55377960205078,39.89128875732422,39.53907012939453,39.585689544677734,39.32939147949219,39.55371856689453,39.5678596496582,39.855079650878906,39.341190338134766,39.87165832519531,39.57183074951172,39.84175109863281,39.8349609375,39.88513946533203,39.619571685791016,39.57585144042969,39.50395965576172,39.48809051513672,39.366031646728516,39.79296875,39.32569885253906,39.411930084228516,39.54806137084961,39.516029357910156,39.87989044189453,39.70492172241211,39.32379150390625,39.32265853881836,39.33116149902344,39.738189697265625,39.67327880859375,39.56631851196289,39.52705001831055,39.416900634765625,39.539798736572266,39.78982925415039,39.623870849609375,39.56122970581055,39.81452941894531,39.76689910888672,39.85041046142578,39.910709381103516,39.571510314941406,39.74803161621094,39.773929595947266,39.54207992553711,39.83287811279297,39.636051177978516,39.834598541259766,39.815528869628906,39.77328872680664,39.58094024658203,39.91012954711914,39.37274169921875,39.58679962158203,39.75967025756836,39.84238052368164,39.76091003417969,39.86410903930664,39.671348571777344,39.507320404052734,39.821800231933594,39.52088165283203,39.59125900268555,39.5125617980957,39.73419952392578,39.87936019897461,39.90214920043945,39.84231948852539,39.60316848754883,39.769649505615234,39.864601135253906,39.55403137207031,39.865421295166016,39.767051696777344,39.51517105102539,39.53630065917969,39.731361389160156,39.76921081542969,39.557220458984375,39.38166046142578,39.79117965698242,39.53800964355469,39.70573043823242,39.56972885131836,39.36629867553711,39.87007141113281,39.36878967285156,39.31351089477539,39.79740905761719,39.90559005737305,39.51443862915039,39.82516860961914,39.55868911743164,39.57387161254883,39.59540939331055,39.56977844238281,39.415740966796875,39.89731979370117,39.36716842651367,39.506309509277344,39.81616973876953,39.42818069458008,39.448211669921875,39.712059020996094,39.45001983642578,39.448429107666016,39.6155891418457,39.55611038208008,39.570491790771484,39.412811279296875,39.58855056762695,39.60261917114258,39.87403106689453,39.57014083862305,39.58258056640625,39.359500885009766,39.593048095703125,39.56930923461914,39.51853942871094,39.56884002685547,39.791709899902344,39.59307098388672,39.59267044067383,39.59212875366211,39.83528137207031,39.894691467285156,39.91004943847656,39.65993118286133,39.732601165771484,39.5258903503418,39.483821868896484,39.5701904296875,39.57432174682617,39.861690521240234,39.901161193847656,39.79767990112305,39.68793869018555,39.88113021850586,39.41468048095703,39.797420501708984,39.570518493652344,39.51251983642578,39.51308059692383,39.69723892211914,39.815330505371094,39.47938919067383,39.324649810791016,39.835628509521484,39.52199172973633,39.759490966796875,39.52145004272461,39.85123825073242,39.7712516784668,39.560420989990234,39.68955993652344,39.902469635009766,39.459571838378906,39.84952926635742,39.597511291503906,39.58264923095703,39.84199905395508,39.83639144897461,39.842220306396484,39.768028259277344,39.520530700683594,39.83892059326172,39.51919937133789,39.66994857788086,39.568729400634766,39.56861877441406,39.83771896362305,39.78533935546875,39.76496887207031,39.829498291015625,39.41191101074219,39.709529876708984,39.521060943603516,39.83784866333008,39.58395004272461,39.76591873168945,39.37411880493164,39.670101165771484,39.542049407958984,39.8326301574707,39.570701599121094,39.576358795166016,39.389068603515625,39.36085891723633,39.72132873535156,39.70273971557617,39.75032043457031,39.84061813354492,39.8614387512207,39.835689544677734,39.724571228027344,39.878570556640625,39.411590576171875,39.578739166259766,39.64617919921875,39.91712188720703,39.42673110961914,39.55992889404297,39.899688720703125,39.57461166381836,39.73503112792969,39.90216064453125,39.55559158325195,39.605079650878906,39.57149887084961,39.56093978881836,39.60504150390625,39.553218841552734,39.551849365234375,39.538841247558594,39.8402214050293,39.596649169921875,39.70975112915039,39.584388732910156,39.60232925415039,39.604251861572266,39.853458404541016,39.32004165649414,39.87147903442383,39.710140228271484,39.83039093017578,39.84035873413086,39.36138916015625,39.55118179321289,39.50968933105469,39.547569274902344,39.852359771728516,39.841548919677734,39.68687057495117,39.68722152709961,39.81705093383789,39.85831832885742,39.56991958618164,39.38806915283203,39.488948822021484,39.38481140136719,39.56938171386719,39.853111267089844,39.8291015625,39.8313102722168,39.78974914550781,39.8400993347168,39.50870132446289,39.74198913574219,39.80302810668945,39.42560958862305,39.6227912902832,39.89263916015625,39.702571868896484,39.708221435546875,39.53160095214844,39.75453186035156,39.5796012878418,39.57276153564453,39.48493957519531,39.5782585144043,39.331478118896484,39.58333969116211,39.81914138793945,39.90190124511719,39.7757682800293,39.58528137207031,39.56888961791992,39.910369873046875,39.787498474121094,39.515628814697266,39.50001907348633,39.57075881958008,39.759071350097656,39.59804153442383,39.55467987060547,39.57014083862305,39.554229736328125,39.6090202331543,39.62958908081055,39.76511001586914,39.72882843017578,39.813419342041016,39.90711975097656,39.896728515625,39.75791931152344,39.44886016845703,39.59675979614258,39.75804138183594,39.5595817565918,39.589820861816406,39.57667922973633,39.3667106628418,39.64997863769531,39.58354949951172,39.83037185668945,39.72426986694336,39.58353042602539,39.50630187988281,39.54167938232422,39.90562057495117,39.52933883666992,39.6167106628418,39.71144104003906,39.53364181518555,39.52751159667969,39.57146072387695,39.68581008911133,39.91987991333008,39.704811096191406,39.56698989868164,39.720001220703125,39.701698303222656,39.82944107055664,39.62160873413086,39.77016830444336,39.58333969116211,39.63690185546875,39.3674201965332,39.842018127441406,39.59014892578125,39.57170867919922,39.56150817871094,39.55931854248047,39.63520812988281,39.72370147705078,39.61970138549805,39.86637878417969,39.62113952636719,39.509368896484375,39.89807891845703,39.537391662597656,39.7546501159668,39.62015914916992,39.619720458984375,39.70233154296875,39.56010055541992,39.760189056396484,39.58134078979492,39.721920013427734,39.73255920410156,39.57732009887695,39.52735900878906,39.36394119262695,39.7022590637207,39.41503143310547,39.55120849609375,39.86537170410156,39.582828521728516,39.91902160644531,39.581878662109375,39.58140182495117,39.55318832397461,39.582218170166016,39.55358123779297,39.56943130493164,39.58351135253906,39.50968933105469,39.58515167236328,39.8289909362793,39.329349517822266,39.5706787109375,39.734161376953125,39.553218841552734,39.57006072998047,39.447139739990234,39.52470016479492,39.71514129638672,39.525421142578125,39.37099838256836,39.64588165283203,39.556209564208984,39.58277130126953,39.57093811035156,39.792179107666016,39.57406997680664,39.56753158569336,39.569091796875,39.65106964111328,39.56951141357422,39.55241012573242,39.57167053222656,39.76171875,39.5135612487793,39.49153137207031,39.583370208740234,39.57463073730469,39.575931549072266,39.57558059692383,39.57435989379883,39.573951721191406,39.57575988769531,39.73503875732422,39.57033157348633,39.73624038696289,39.46609115600586,39.55107879638672],\"legendgroup\":\"\",\"lon\":[3.1625499725341797,3.0716500282287598,3.087280035018921,2.8974499702453613,2.625459909439087,2.643549919128418,2.5013599395751953,3.2176899909973145,3.0284500122070312,3.115689992904663,3.0741100311279297,3.109179973602295,3.3511199951171875,3.075040102005005,2.62568998336792,3.1142001152038574,2.740880012512207,2.51104998588562,2.8991899490356445,3.2730700969696045,3.3517799377441406,3.156219959259033,3.289249897003174,2.6438300609588623,3.022209882736206,2.9368600845336914,2.664109945297241,3.155639886856079,2.7184600830078125,3.348560094833374,3.3481900691986084,2.6488900184631348,3.1493499279022217,2.6247599124908447,2.582089900970459,3.010629892349243,3.0769200325012207,2.870569944381714,2.691390037536621,2.9024200439453125,2.893929958343506,2.6486899852752686,2.730710029602051,2.6370999813079834,2.5838799476623535,3.2341599464416504,3.265939950942993,3.0575199127197266,2.5759599208831787,3.1180100440979004,2.639549970626831,3.118839979171753,2.65556001663208,2.9745399951934814,2.7762300968170166,3.136929988861084,2.655250072479248,2.6097099781036377,2.9702200889587402,3.114949941635132,3.4475200176239014,3.1282999515533447,3.4422199726104736,2.6572999954223633,2.899630069732666,3.1016600131988525,2.503200054168701,2.937119960784912,2.844290018081665,2.851670026779175,2.7185099124908447,3.0549099445343018,3.375030040740967,2.4682600498199463,2.630160093307495,3.0751900672912598,2.6538100242614746,3.1384499073028564,2.615309953689575,2.8463199138641357,3.0522499084472656,3.035629987716675,3.095560073852539,2.8680899143218994,2.6265599727630615,3.0565500259399414,2.733370065689087,3.0944600105285645,2.6586101055145264,2.6526401042938232,2.7405600547790527,3.2848899364471436,2.6540699005126953,2.9786200523376465,3.3765599727630615,2.8716700077056885,2.64424991607666,2.608989953994751,2.3733999729156494,2.870419979095459,2.6092801094055176,2.617029905319214,3.3312599658966064,2.556420087814331,2.5693299770355225,2.6509599685668945,2.7481000423431396,2.626729965209961,3.008389949798584,3.027060031890869,3.0104401111602783,2.6257801055908203,3.218940019607544,2.8994998931884766,2.596679925918579,2.654910087585449,2.7515499591827393,2.397320032119751,2.5785000324249268,2.622689962387085,3.05049991607666,2.3855199813842773,2.654599905014038,2.849030017852783,3.08801007270813,3.2715299129486084,3.1285901069641113,3.4321300983428955,2.751070022583008,3.3320701122283936,2.6483800411224365,2.6947500705718994,2.7568600177764893,2.7568600177764893,2.6469500064849854,2.7772200107574463,2.7394800186157227,2.9827799797058105,2.621500015258789,2.661479949951172,2.9830000400543213,2.7177200317382812,3.0183799266815186,2.9765100479125977,2.728529930114746,2.637200117111206,3.0348899364471436,2.4663898944854736,2.991270065307617,3.162719964981079,2.6453499794006348,2.952739953994751,2.9688899517059326,3.1158199310302734,3.1318399906158447,2.6841399669647217,2.6492600440979004,2.9578399658203125,2.6246800422668457,2.654520034790039,3.2265899181365967,3.0808401107788086,2.523519992828369,2.7293100357055664,2.6420700550079346,2.69215989112854,3.157710075378418,2.7300798892974854,3.0548300743103027,2.768779993057251,2.646009922027588,3.0689098834991455,2.60617995262146,2.6483399868011475,3.072930097579956,3.3595199584960938,2.640810012817383,2.9834699630737305,2.996150016784668,3.2179200649261475,3.2264299392700195,3.249619960784912,2.6509599685668945,2.6942501068115234,2.651829957962036,2.9104700088500977,3.1475799083709717,3.191119909286499,2.9943599700927734,2.6514899730682373,3.054569959640503,2.4623000621795654,2.718400001525879,3.0828800201416016,3.0851399898529053,3.0809099674224854,2.9953699111938477,2.583859920501709,2.716900110244751,3.077589988708496,3.141279935836792,3.127919912338257,3.008539915084839,2.74330997467041,2.745150089263916,3.043109893798828,3.2804598808288574,2.7903900146484375,3.217099905014038,2.9795100688934326,3.264780044555664,3.0347900390625,3.304689884185791,2.6519598960876465,3.180540084838867,2.7302498817443848,3.2281699180603027,2.8973400592803955,2.708050012588501,2.652859926223755,3.264770030975342,2.7802000045776367,2.913259983062744,2.8233299255371094,2.825360059738159,2.8253300189971924,3.3729400634765625,2.7111599445343018,2.558880090713501,2.9471700191497803,3.013040065765381,3.0427699089050293,2.7513699531555176,3.039799928665161,2.871799945831299,2.501699924468994,3.0139501094818115,2.64955997467041,3.4158198833465576,3.139090061187744,3.054610013961792,3.0702600479125977,3.141849994659424,2.5094499588012695,2.9445700645446777,3.1435298919677734,2.6529500484466553,3.1233201026916504,2.9952199459075928,2.9961700439453125,3.1503000259399414,3.124190092086792,3.203850030899048,2.991650104522705,2.9275898933410645,2.9038898944854736,3.0186901092529297,3.0167999267578125,3.05433988571167,3.055609941482544,2.619230031967163,3.143320083618164,2.9586501121520996,2.9701600074768066,3.157480001449585,3.43641996383667,3.0861899852752686,3.1116199493408203,2.659409999847412,3.0061099529266357,3.07453989982605,2.997570037841797,2.9072000980377197,2.9139299392700195,3.1642301082611084,3.1622800827026367,2.873879909515381,2.49468994140625,3.1210498809814453,2.8933799266815186,3.0146400928497314,2.901240110397339,2.709520101547241,3.3585801124572754,3.1077399253845215,3.2780001163482666,2.775369882583618,3.147700071334839,3.109999895095825,3.0687100887298584,3.070199966430664,3.1558399200439453,3.2517600059509277,2.620529890060425,3.18612003326416,3.1475300788879395,2.6405599117279053,3.1736299991607666,3.161720037460327,3.005660057067871,3.0123300552368164,2.731750011444092,3.312160015106201,3.1477200984954834,3.3517301082611084,3.15405011177063,2.958250045776367,3.293139934539795,2.9874300956726074,2.8373899459838867,3.3682498931884766,3.312920093536377,3.0154099464416504,2.6089799404144287,2.9894700050354004,3.341399908065796,2.6316699981689453,3.005470037460327,3.2047600746154785,3.2395401000976562,2.739729881286621,3.0262699127197266,2.649669885635376,3.1361799240112305,2.6514298915863037,3.0164101123809814,2.7572898864746094,3.24072003364563,2.9785799980163574,3.054769992828369,2.8405399322509766,2.9466099739074707,2.7116799354553223,3.1375999450683594,2.7121899127960205,2.7236499786376953,3.2727999687194824,2.7226901054382324,2.818010091781616,2.658750057220459,3.167799949645996,3.2368500232696533,3.1800599098205566,2.865380048751831,3.1955699920654297,3.1496999263763428,3.2134499549865723,2.455169916152954,2.6107900142669678,3.1239700317382812,3.0498600006103516,2.654409885406494,3.015010118484497,3.2636799812316895,3.412990093231201,2.7403900623321533,3.3087100982666016,2.922960042953491,2.808199882507324,3.2273900508880615,2.9138500690460205,2.810149908065796,3.117810010910034,3.1178998947143555,2.810120105743408,3.006239891052246,2.5150299072265625,2.7414400577545166,3.013890027999878,2.515089988708496,3.041140079498291,2.968549966812134,3.434000015258789,2.94638991355896,2.649240016937256,2.6618499755859375,2.755229949951172,3.349709987640381,2.8875200748443604,2.9506399631500244,3.245039939880371,2.6991701126098633,2.608409881591797,2.9768600463867188,3.2827699184417725,3.0558600425720215,3.1260299682617188,2.64028000831604,2.8718299865722656,2.983299970626831,2.6691699028015137,3.0127999782562256,2.6608901023864746,2.662790060043335,3.165060043334961,2.8608100414276123,2.6611900329589844,2.8140299320220947,2.94953989982605,2.9187700748443604,2.9820001125335693,2.440890073776245,3.1440200805664062,2.349100112915039,3.1219899654388428,2.9375,2.9364500045776367,2.7830700874328613,3.2206900119781494,2.994489908218384,3.1076500415802,3.097130060195923,2.9511799812316895,3.2206900119781494,3.0851800441741943,2.7149999141693115,2.7150299549102783,2.6473400592803955,2.655980110168457,3.14847993850708,2.990000009536743,3.017359972000122,2.9463798999786377,3.0258800983428955,2.700900077819824,2.9451498985290527,2.7953500747680664,3.1571900844573975,2.6058599948883057,3.298190116882324,2.8727400302886963,2.7078399658203125,2.6577799320220947,3.1471800804138184,3.3882100582122803,3.250659942626953,3.1342999935150146,3.2680599689483643,3.381920099258423,2.9959399700164795,3.22268009185791,3.220449924468994,2.6651999950408936,2.418100118637085,2.5975499153137207,2.6640100479125977,3.461440086364746,2.757920026779175,2.7578699588775635,3.0495100021362305,2.781399965286255,3.2589399814605713,3.1564700603485107,2.9245998859405518,2.6429800987243652,2.640170097351074,2.358649969100952,3.349410057067871,3.123080015182495,3.0412099361419678,2.7393200397491455,2.7395899295806885,2.8955800533294678,3.0480899810791016,3.0603599548339844,2.6220901012420654,2.3546600341796875,2.655750036239624,3.0292000770568848,2.8422598838806152,3.0223100185394287,3.06030011177063,2.9695301055908203,2.873960018157959,3.2492799758911133,2.989459991455078,3.015700101852417,3.016669988632202,3.150830030441284,3.263659954071045,3.155869960784912,3.4550700187683105,3.0414700508117676,3.13523006439209,3.012510061264038,2.945280075073242,3.045720100402832,2.9976398944854736,3.0683999061584473,3.30433988571167,2.9448399543762207,3.1152400970458984,2.7103700637817383,2.912019968032837,2.470489978790283,3.023590087890625,3.0457301139831543,3.1174700260162354,3.0163300037384033,3.096100091934204,3.306149959564209,3.0738399028778076,3.0471200942993164,3.0639801025390625,3.0576798915863037,3.0220000743865967,3.0559000968933105,3.0566999912261963,3.013780117034912,3.001889944076538,3.0193800926208496,3.217089891433716,3.0092999935150146,3.1523399353027344,3.0490000247955322,2.992569923400879,3.066649913787842,2.6531999111175537,3.1479101181030273,2.5295701026916504,2.8737499713897705,2.7492198944091797,3.042140007019043,3.15024995803833,3.009390115737915,2.9511399269104004,2.6525399684906006,2.6361401081085205,3.248379945755005,3.042570114135742,3.021209955215454,2.647900104522705,2.9147400856018066,3.289910078048706,2.8179099559783936,2.595639944076538,2.695189952850342,3.119580030441284,2.6494500637054443,2.930219888687134,2.9325098991394043,2.930180072784424,2.3926899433135986,2.9313900470733643,2.929579973220825,2.9674699306488037,3.4378600120544434,3.308850049972534,3.011009931564331,2.841130018234253,2.4281599521636963,2.6240100860595703,2.6474900245666504,2.744309902191162,2.7425999641418457,2.8796699047088623,2.919260025024414,2.7097699642181396,2.9453999996185303,2.911060094833374,2.840409994125366,3.05935001373291,2.793760061264038,2.394969940185547,3.265929937362671,3.109610080718994,2.6509499549865723,3.0553700923919678,3.027790069580078,3.0124499797821045,2.649319887161255,3.0731499195098877,2.8419899940490723,3.05784010887146,3.2299699783325195,2.641400098800659,3.1768999099731445,2.6729800701141357,2.6314001083374023,2.85578989982605,3.118220090866089,2.8554799556732178,3.102760076522827,3.0278499126434326,2.903980016708374,2.9383599758148193,3.1139299869537354,2.6485400199890137,2.793210029602051,3.0288500785827637,2.574850082397461,2.986180067062378,3.2223899364471436,3.2538199424743652,3.278130054473877,2.7378599643707275,3.1561601161956787,3.116909980773926,3.0401499271392822,2.6302599906921387,2.6229400634765625,2.973299980163574,3.2385599613189697,3.162709951400757,3.0573699474334717,2.790339946746826,2.7256200313568115,2.9721100330352783,3.0587000846862793,2.507859945297241,2.7168400287628174,2.624190092086792,3.0,2.8822200298309326,3.1174299716949463,3.1221699714660645,3.044680118560791,3.116689920425415,3.1428298950195312,3.0248000621795654,3.0313799381256104,3.1436901092529297,2.908090114593506,3.11503005027771,2.630539894104004,2.6262199878692627,2.8697800636291504,2.739690065383911,3.123080015182495,3.122610092163086,3.1166601181030273,3.1232800483703613,2.9478399753570557,3.016319990158081,3.049220085144043,2.478879928588867,2.6338698863983154,3.057960033416748,3.275589942932129,3.021480083465576,3.0757999420166016,2.6999800205230713,3.287169933319092,3.2260100841522217,2.581249952316284,2.65339994430542,3.0742599964141846,3.1222500801086426,2.9228599071502686,3.1346399784088135,2.4763898849487305,3.195889949798584,2.6840999126434326,3.0091300010681152,3.022510051727295,2.6467599868774414,2.6097300052642822,2.783210039138794,2.9351999759674072,3.3700199127197266,3.1289799213409424,3.0937299728393555,3.0244100093841553,2.7321200370788574,2.5717499256134033,2.7141098976135254,3.1209700107574463,2.481829881668091,3.0559699535369873,2.6252400875091553,3.162060022354126,3.174220085144043,3.277829885482788,3.4012699127197266,3.123339891433716,2.897010087966919,2.6247498989105225,2.816809892654419,2.9714701175689697,2.533720016479492,2.948770046234131,3.115880012512207,2.645940065383911,2.853149890899658,2.8752400875091553,3.037060022354126,2.6455600261688232,2.422149896621704,3.120529890060425,2.514739990234375,2.6092801094055176,3.0492899417877197,3.0699400901794434,3.4582600593566895,2.7574000358581543,3.047840118408203,3.1132500171661377,3.033780097961426,2.6461100578308105,2.657860040664673,2.6572699546813965,3.4485700130462646,2.946150064468384,2.6347498893737793,2.7626399993896484,2.650160074234009,2.750930070877075,3.3525400161743164,3.213249921798706,2.6246399879455566,2.649329900741577,2.5164999961853027,3.094019889831543,3.260809898376465,2.640700101852417,2.6993300914764404,3.3048300743103027,3.151289939880371,2.596290111541748,2.5764400959014893,3.0171499252319336,3.1432299613952637,2.6426401138305664,2.8864099979400635,2.8857100009918213,2.6302900314331055,3.0731799602508545,3.126840114593506,3.1590099334716797,2.709559917449951,2.867690086364746,2.6219799518585205,3.335010051727295,3.3139100074768066,2.992150068283081,2.628890037536621,3.1173698902130127,3.120699882507324,3.4610800743103027,2.6292600631713867,2.628849983215332,3.1272199153900146,2.9452500343322754,2.6884400844573975,3.4538300037384033,2.467410087585449,3.151010036468506,2.7459399700164795,2.888000011444092,3.4350199699401855,2.6267600059509277,3.124660015106201,2.624690055847168,2.4804000854492188,3.2671799659729004,3.3828001022338867,3.0678799152374268,2.677309989929199,3.2638800144195557,3.434760093688965,3.294990062713623,3.0306599140167236,3.3668999671936035,3.3141698837280273,2.5737199783325195,3.260930061340332,2.652060031890869,2.653209924697876,2.6538100242614746,3.1963999271392822,3.115499973297119,3.3866100311279297,3.104789972305298,3.1226999759674072,2.7102999687194824,2.900969982147217,3.045569896697998,3.211750030517578,3.157180070877075,2.6469600200653076,3.22012996673584,3.4563000202178955,3.1095199584960938,3.215559959411621,3.0580201148986816,2.708199977874756,2.655179977416992,3.0763399600982666,3.114259958267212,2.7510600090026855,3.460089921951294,3.0128800868988037,2.918829917907715,3.4538700580596924,3.21875,3.43530011177063,2.505389928817749,3.4625000953674316,2.650589942932129,2.8667099475860596,3.3540101051330566,3.32027006149292,3.3733999729156494,3.126199960708618,3.2253899574279785,3.2157599925994873,3.1326498985290527,3.0415101051330566,3.0093600749969482,2.6218700408935547,2.9908900260925293,3.087860107421875,3.059659957885742,2.6026198863983154,3.0362300872802734,3.0486199855804443,3.204050064086914,3.1025800704956055,2.5757200717926025,3.1112000942230225,2.967989921569824,2.592099905014038,3.229490041732788,2.654020071029663,2.6333000659942627,2.7042999267578125,3.2703299522399902,2.749919891357422,3.147599935531616,3.080019950866699,2.8719699382781982,3.14847993850708,2.593019962310791,3.4569900035858154,3.459520101547241,2.6471800804138184,3.1293699741363525,3.4547901153564453,3.2629899978637695,2.5984299182891846,2.725330114364624,2.8872299194335938,3.0170400142669678,2.8787600994110107,3.0375900268554688,3.0529398918151855,3.192349910736084,2.994539976119995,3.018889904022217,2.7262799739837646,2.422100067138672,3.029370069503784,3.0277199745178223,2.567009925842285,2.9242899417877197,2.6186599731445312,3.019160032272339,3.106689929962158,2.7361299991607666,3.092679977416992,3.045959949493408,3.0160698890686035,2.58240008354187,2.6339499950408936,3.029320001602173,3.0576400756835938,3.020709991455078,2.7424800395965576,3.1161999702453613,2.647239923477173,3.147749900817871,3.3102800846099854,3.2891900539398193,3.0509400367736816,3.3678200244903564,2.9213500022888184,3.0548501014709473,2.9268600940704346,2.8703598976135254,3.080699920654297,3.054579973220825,2.946899890899658,3.147010087966919,2.91483998298645,3.1284899711608887,3.456279993057251,3.372760057449341,2.716639995574951,3.399590015411377,2.6963300704956055,3.1065399646759033,2.6244900226593018,3.1400198936462402,2.6406400203704834,2.7410199642181396,3.1086599826812744,2.4835000038146973,3.220249891281128,3.115910053253174,2.6259400844573975,2.6211400032043457,2.835829973220825,3.1482300758361816,2.619839906692505,2.6199400424957275,2.848299980163574,3.4539499282836914,3.2588999271392822,3.3112099170684814,3.1092898845672607,3.080199956893921,2.475709915161133,3.1509900093078613,3.1509199142456055,2.588860034942627,3.122760057449341,3.1328299045562744,2.7902801036834717,2.7888898849487305,2.789030075073242,3.023430109024048,3.2582499980926514,3.090590000152588,2.6917901039123535,3.1219499111175537,2.6814699172973633,3.1493799686431885,2.62650990486145,2.9054501056671143,3.1131200790405273,2.4200000762939453,2.75465989112854,3.1416499614715576,3.1070899963378906,3.3352999687194824,2.596590042114258,2.5958399772644043,2.655280113220215,2.7867300510406494,3.4118800163269043,2.7167699337005615,2.7410199642181396,3.0864500999450684,2.739569902420044,3.37280011177063,3.1707100868225098,2.643970012664795,2.6185500621795654,3.0945301055908203,3.0143699645996094,3.127880096435547,2.986829996109009,2.797529935836792,2.5013699531555176,2.6429100036621094,2.6410601139068604,3.4634599685668945,2.963289976119995,2.632780075073242,2.6410999298095703,2.9641599655151367,2.637269973754883,2.7410800457000732,2.5886199474334717,2.642849922180176,3.1531600952148438,3.3371400833129883,2.7144100666046143,3.1635799407958984,3.316380023956299,2.660789966583252,2.7875399589538574,3.1484100818634033,3.048530101776123,3.3071699142456055,3.257420063018799,3.079200029373169,2.4889299869537354,2.4797000885009766,3.078589916229248,3.1196999549865723,3.0057098865509033,2.9165399074554443,2.7877399921417236,2.5007500648498535,2.64808988571167,3.3608500957489014,2.870620012283325,3.0111899375915527,2.96943998336792,3.2720398902893066,2.6442999839782715,2.6522998809814453,3.091860055923462,2.6465399265289307,2.922919988632202,3.005000114440918,2.65024995803833,2.963939905166626,2.977910041809082,2.5560100078582764,2.7490200996398926,2.6364200115203857,3.03617000579834,2.6806399822235107,2.6261000633239746,3.0256400108337402,2.7080700397491455,2.691809892654419,2.674690008163452,2.691699981689453,2.706249952316284,3.3770101070404053,3.3174800872802734,3.020829916000366,3.0141899585723877,2.680419921875,2.9815900325775146,3.0953500270843506,3.0720999240875244,3.060189962387085,2.7075600624084473,2.949039936065674,2.7607901096343994,2.7058300971984863,2.9972400665283203,3.140130043029785,3.1974000930786133,3.1497700214385986,2.700119972229004,3.0567100048065186,2.862679958343506,2.7109999656677246,3.2619800567626953,3.1128199100494385,3.2933900356292725,2.8878800868988037,3.167020082473755,3.117310047149658,3.019089937210083,2.658790111541748,3.0566699504852295,2.59798002243042,3.1169300079345703,3.264580011367798,3.2246201038360596,3.270240068435669,3.1651101112365723,3.33774995803833,3.0929501056671143,2.6558101177215576,2.5329999923706055,3.1380701065063477,3.2454700469970703,2.639349937438965,3.089430093765259,2.913939952850342,3.026789903640747,3.049760103225708,2.3951399326324463,2.3942201137542725,2.6366100311279297,3.3302700519561768,3.0146501064300537,2.961319923400879,3.0276100635528564,3.25219988822937,3.116039991378784,2.6356899738311768,2.721630096435547,3.240070104598999,2.5771799087524414,3.255850076675415,3.2385001182556152,3.133650064468384,2.349100112915039,2.634310007095337,3.270009994506836,3.124919891357422,3.451590061187744,2.389169931411743,3.131730079650879,2.7299699783325195,2.6475799083709717,3.134500026702881,2.6038200855255127,2.7913100719451904,2.9969899654388428,2.9959800243377686,3.313149929046631,2.694390058517456,3.284369945526123,2.5818099975585938,2.7140800952911377,2.504879951477051,3.1199400424957275,3.299139976501465,3.2987101078033447,3.297719955444336,2.5343000888824463,2.701349973678589,3.4537301063537598,3.1160800457000732,2.994529962539673,2.569089889526367,3.1324501037597656,2.7815799713134766,3.2296299934387207,2.787569999694824,2.4819300174713135,3.1140599250793457,2.949690103530884,2.687920093536377,3.194200038909912,3.0293500423431396,3.1126699447631836,3.378509998321533,3.1226999759674072,3.2070701122283936,3.0476601123809814,3.124079942703247,3.1244499683380127,2.633280038833618,3.2641100883483887,2.5297999382019043,3.1395599842071533,3.0757699012756348,2.877959966659546,3.1435000896453857,2.4768800735473633,2.6892499923706055,2.9937798976898193,2.4741599559783936,3.0906600952148438,2.832900047302246,2.5129599571228027,2.6417500972747803,2.787220001220703,2.8799099922180176,2.696000099182129,3.15487003326416,3.1542599201202393,2.953439950942993,3.012540102005005,3.074820041656494,2.9549200534820557,3.077430009841919,2.6128599643707275,2.629729986190796,3.1164000034332275,3.0331199169158936,2.536220073699951,3.112790107727051,2.9894800186157227,2.6503500938415527,2.6542398929595947,3.3178200721740723,2.9487600326538086,2.775320053100586,3.0419600009918213,3.1950600147247314,3.2054200172424316,3.2186601161956787,3.243989944458008,2.8588500022888184,3.0908799171447754,3.1680099964141846,3.4644899368286133,2.633780002593994,3.210129976272583,2.4827098846435547,3.3331899642944336,3.220439910888672,2.9643800258636475,2.987380027770996,3.2022299766540527,2.858299970626831,3.2225399017333984,3.0715301036834717,2.583169937133789,3.161370038986206,3.3378100395202637,2.4179699420928955,2.4171299934387207,2.714669942855835,2.8350799083709717,2.915869951248169,3.326280117034912,3.475519895553589,3.151510000228882,3.1519598960876465,3.013629913330078,2.592400074005127,3.1464900970458984,3.2595200538635254,2.6204800605773926,3.254080057144165,3.0208399295806885,3.116950035095215,2.621570110321045,2.751349925994873,3.0829899311065674,2.7913899421691895,3.459280014038086,3.328939914703369,2.5351901054382324,2.65228009223938,2.7525699138641357,2.939929962158203,2.8424899578094482,3.003000020980835,2.7512900829315186,3.0132100582122803,3.260730028152466,2.696500062942505,3.447849988937378,2.625080108642578,3.393660068511963,2.6440799236297607,3.2327399253845215,2.8889501094818115,2.9771900177001953,2.791330099105835,3.278369903564453,3.1886699199676514,2.390439987182617,3.1460299491882324,2.4751501083374023,2.5132999420166016,3.0970699787139893,3.370620012283325,3.3740200996398926,2.648859977722168,3.4362199306488037,2.89096999168396,2.641700029373169,2.648010015487671,3.1421799659729004,3.0640499591827393,2.75492000579834,3.038789987564087,3.37280011177063,2.6237099170684814,3.1559700965881348,3.013550043106079,2.587430000305176,2.5976200103759766,3.124850034713745,2.6584200859069824,2.6181700229644775,2.662950038909912,2.9448599815368652,3.1133499145507812,3.078939914703369,2.7545700073242188,3.0694000720977783,3.4370100498199463,3.228830099105835,3.007689952850342,3.0041298866271973,2.65447998046875,2.392780065536499,2.466200113296509,2.4676599502563477,3.1486101150512695,2.500960111618042,2.7877800464630127,3.2786900997161865,3.122420072555542,3.207129955291748,3.467900037765503,2.6911699771881104,3.1166799068450928,2.9886701107025146,3.3346099853515625,2.9695498943328857,2.651129961013794,2.655210018157959,2.7800700664520264,2.9946000576019287,2.3804399967193604,3.455980062484741,3.0901100635528564,2.524509906768799,3.077310085296631,2.643860101699829,3.104300022125244,3.3946499824523926,3.0786900520324707,3.4611198902130127,3.078130006790161,3.329360008239746,2.4702401161193848,2.8426899909973145,2.967590093612671,3.280679941177368,3.1137499809265137,3.067889928817749,3.1681199073791504,2.627729892730713,2.4682700634002686,2.514389991760254,2.978450059890747,3.1505401134490967,3.344320058822632,2.9708199501037598,3.109070062637329,2.9992599487304688,2.752769947052002,3.233220100402832,3.4281599521636963,3.032059907913208,2.6403400897979736,2.495150089263916,3.021359920501709,2.5329599380493164,2.8984999656677246,3.0774199962615967,3.115770101547241,2.654639959335327,2.656599998474121,2.9110701084136963,3.2203900814056396,2.7058000564575195,2.513580083847046,3.094680070877075,2.7581300735473633,2.8625400066375732,3.188509941101074,3.1701500415802,2.8217101097106934,3.1682300567626953,2.8672499656677246,2.8667500019073486,3.1598598957061768,2.9491701126098633,2.533250093460083,2.650969982147217,3.2529900074005127,3.3301401138305664,3.4655799865722656,2.6054298877716064,3.374619960784912,2.746929883956909,3.0028700828552246,2.6421799659729004,3.161220073699951,3.161220073699951,3.077549934387207,3.3868799209594727,2.6087698936462402,3.3402099609375,2.770740032196045,3.140079975128174,3.0157699584960938,2.968940019607544,2.983949899673462,2.983299970626831,2.7311599254608154,2.866770029067993,2.6809799671173096,3.1158199310302734,3.122659921646118,2.6538898944854736,2.790950059890747,2.906179904937744,3.1525800228118896,3.154059886932373,3.0150699615478516,3.2224600315093994,3.097749948501587,3.1328001022338867,3.059890031814575,2.846090078353882,2.752079963684082,3.1117498874664307,3.125619888305664,3.109800100326538,3.1181600093841553,3.116760015487671,2.99141001701355,3.075510025024414,3.0846400260925293,2.7521800994873047,2.709120035171509,3.451430082321167,2.790560007095337,2.631540060043335,3.1169700622558594,3.0510900020599365,2.883549928665161,3.3496201038360596,3.1296300888061523,2.9663400650024414,3.3687400817871094,2.647010087966919,2.8552498817443848,2.8778700828552246,3.024669885635376,2.4666500091552734,2.908940076828003,2.597939968109131,3.0849499702453613,3.0766899585723877,3.2703499794006348,3.083319902420044,3.0465199947357178,3.225130081176758,3.453540086746216,2.71205997467041,2.9611899852752686,3.0824499130249023,3.074660062789917,3.0883400440216064,2.5206799507141113,2.519160032272339,3.209749937057495,3.2349700927734375,3.2256500720977783,2.897320032119751,2.8980000019073486,3.1589200496673584,2.7400801181793213,3.0590999126434326,2.896199941635132,2.6440200805664062,2.5211501121520996,3.1370999813079834,3.0201900005340576,3.27908992767334,3.4539899826049805,2.7595300674438477,3.4100399017333984,2.742609977722168,3.1666901111602783,3.4090700149536133,3.125570058822632,2.9679501056671143,2.75858998298645,3.146519899368286,2.553849935531616,3.3783299922943115,3.0715999603271484,3.109689950942993,3.3087499141693115,2.938309907913208,2.8030500411987305,2.9876599311828613,2.7185099124908447,3.2597999572753906,3.135780096054077,2.7111198902130127,2.830049991607666,3.331860065460205,2.470370054244995,3.1227800846099854,2.9735701084136963,2.967750072479248,2.6226398944854736,3.1154699325561523,3.1195600032806396,2.6526598930358887,2.921760082244873,2.5403199195861816,3.153899908065796,3.019890069961548,2.6566100120544434,3.0625898838043213,3.110290050506592,3.0484800338745117,3.108690023422241,2.6473100185394287,3.342789888381958,2.989219903945923,2.6066501140594482,3.3747000694274902,3.1202499866485596,3.0234599113464355,2.6110999584198,2.5949900150299072,2.6163198947906494,2.9868099689483643,2.731980085372925,3.085789918899536,3.1027300357818604,3.346359968185425,3.345319986343384,2.8712399005889893,3.2276198863983154,3.0041000843048096,2.4789299964904785,2.6244800090789795,2.9172298908233643,3.115600109100342,3.3906900882720947,2.8970999717712402,3.2378599643707275,2.5606400966644287,2.4207398891448975,2.937160015106201,2.946269989013672,2.4189798831939697,3.190340042114258,3.220050096511841,3.337090015411377,2.660020112991333,3.334589958190918,3.1940300464630127,2.711469888687134,3.1473801136016846,2.7187399864196777,3.147830009460449,2.468130111694336,2.637629985809326,3.018929958343506,2.7104101181030273,2.7184300422668457,2.4680800437927246,3.001889944076538,3.183540105819702,3.3164899349212646,3.068419933319092,2.6410300731658936,3.2729198932647705,2.442850112915039,3.453939914703369,3.112459897994995,2.694380044937134,3.2866499423980713,2.647819995880127,2.7892301082611084,2.6658198833465576,3.0313498973846436,3.0233500003814697,2.741070032119751,2.6857800483703613,2.691659927368164,2.9890999794006348,2.623110055923462,2.6331698894500732,2.7988901138305664,2.943850040435791,3.1395299434661865,3.0509300231933594,2.8456900119781494,2.587510108947754,3.021199941635132,3.0542399883270264,2.9795498847961426,2.871579885482788,3.001579999923706,3.0201499462127686,3.0317399501800537,3.0137100219726562,3.1171600818634033,3.1479499340057373,2.6430699825286865,2.6103100776672363,3.357789993286133,3.1361100673675537,2.945280075073242,3.2386300563812256,2.9706900119781494,3.015310049057007,2.925179958343506,2.6488699913024902,3.1045100688934326,3.2399098873138428,2.58624005317688,3.1481499671936035,3.149250030517578,2.624769926071167,3.251070022583008,2.8973300457000732,3.1675400733947754,3.148390054702759,2.9980900287628174,2.7592101097106934,2.4804599285125732,3.0500600337982178,2.6072499752044678,3.1536800861358643,2.6307499408721924,3.239919900894165,2.657520055770874,2.7343900203704834,2.7193400859832764,2.75858998298645,2.9570200443267822,3.238770008087158,2.743269920349121,3.0828099250793457,2.981529951095581,3.1159300804138184,3.218669891357422,3.322190046310425,3.021790027618408,3.112950086593628,3.116489887237549,3.1161599159240723,3.245300054550171,3.120879888534546,3.012500047683716,3.143709897994995,3.415220022201538,2.963210105895996,3.1297099590301514,2.6245100498199463,2.6086699962615967,3.1502299308776855,3.0778698921203613,2.503570079803467,2.9988698959350586,2.712899923324585,3.4565000534057617,3.1158499717712402,3.114690065383911,3.033950090408325,3.2669899463653564,3.054960012435913,2.6836800575256348,2.48294997215271,2.8783299922943115,2.467989921569824,2.8403499126434326,3.4329400062561035,3.0729000568389893,3.2668399810791016,3.3145198822021484,3.2511699199676514,3.337130069732666,3.26065993309021,3.1145100593566895,3.043639898300171,3.084429979324341,3.0764400959014893,2.7427799701690674,2.968859910964966,3.087430000305176,3.115499973297119,2.6039600372314453,2.8596301078796387,3.028980016708374,2.7574799060821533,2.985379934310913,2.6214599609375,3.006380081176758,2.514630079269409,3.0401298999786377,3.022020101547241,2.6090900897979736,3.079080104827881,3.077739953994751,2.923799991607666,3.06427001953125,3.4489500522613525,3.022480010986328,2.601219892501831,3.0664899349212646,2.760190010070801,3.0757200717926025,3.0243000984191895,3.12650990486145,3.276700019836426,2.38703989982605,2.74606990814209,3.012860059738159,2.523020029067993,2.4239799976348877,3.228830099105835,3.2515900135040283,2.811229944229126,2.55745005607605,3.1461400985717773,2.6331100463867188,3.3634700775146484,2.6984100341796875,3.3224000930786133,3.1303999423980713,3.011039972305298,3.009660005569458,3.0950400829315186,2.9956400394439697,2.8492400646209717,2.970060110092163,3.415339946746826,2.7822000980377197,2.673830032348633,2.7452800273895264,3.11395001411438,3.110059976577759,3.0053598880767822,3.0236001014709473,3.056540012359619,2.626389980316162,2.622299909591675,3.015660047531128,3.087470054626465,3.00858998298645,2.674609899520874,3.0749499797821045,3.1614699363708496,3.166490077972412,3.054810047149658,3.0133700370788574,2.5244200229644775,3.1152100563049316,2.6241800785064697,3.033210039138794,3.0774199962615967,3.075000047683716,3.146470069885254,3.0328900814056396,3.125960111618042,3.066149950027466,3.025059938430786,3.064079999923706,3.111140012741089,3.0677499771118164,2.6178700923919678,2.6774098873138428,3.100980043411255,3.1555399894714355,2.7060699462890625,3.2197799682617188,3.0474801063537598,2.397320032119751,3.3548600673675537,3.0796399116516113,2.7496399879455566,2.635930061340332,2.646130084991455,3.2384400367736816,3.0266900062561035,3.372230052947998,2.716219902038574,3.16294002532959,3.010730028152466,3.2764899730682373,3.2280399799346924,2.6589701175689697,2.992500066757202,3.145930051803589,3.1665399074554443,2.9947800636291504,2.9921300411224365,3.016319990158081,2.798640012741089,3.0133700370788574,3.008500099182129,2.49780011177063,3.1813700199127197,3.1054399013519287,2.732990026473999,3.005769968032837,3.1214399337768555,3.1285998821258545,3.123070001602173,2.623430013656616,2.625149965286255,3.082350015640259,2.9405500888824463,2.7338600158691406,3.1111299991607666,3.000839948654175,2.7417399883270264,2.6300299167633057,3.322360038757324,3.116029977798462,3.1221299171447754,3.2764499187469482,2.5124599933624268,2.730030059814453,3.1080799102783203,3.061769962310791,2.75219988822937,3.0181400775909424,3.049920082092285,2.994960069656372,3.096369981765747,3.0032401084899902,3.053849935531616,2.624880075454712,3.113460063934326,2.844899892807007,3.1262400150299072,3.036370038986206,2.55292010307312,2.6630499362945557,2.625920057296753,3.4012598991394043,2.5617098808288574,2.977030038833618,3.080349922180176,2.5789499282836914,2.6519699096679688,2.980959892272949,2.6257500648498535,2.687690019607544,3.0929999351501465,3.023699998855591,3.026669979095459,2.6492199897766113,3.016319990158081,3.3654699325561523,2.7421700954437256,2.656559944152832,3.3712399005889893,3.328850030899048,3.437969923019409,2.6425299644470215,2.7380900382995605,2.6473000049591064,3.0188100337982178,2.708509922027588,3.124000072479248,2.446320056915283,3.297029972076416,3.038140058517456,3.0370099544525146,3.167140007019043,3.069499969482422,2.64778995513916,3.3656699657440186,3.3705101013183594,2.7319400310516357,2.60657000541687,3.216170072555542,2.7400200366973877,3.128659963607788,3.116379976272583,3.2545299530029297,3.434540033340454,3.0169899463653564,3.151550054550171,2.6238999366760254,2.740180015563965,2.739959955215454,3.1177499294281006,3.255919933319092,2.7159500122070312,3.1154301166534424,2.9014499187469482,2.4761099815368652,3.2227001190185547,2.6463499069213867,2.6271300315856934,3.1541800498962402,3.155910015106201,3.1536099910736084,3.0551400184631348,3.2338199615478516,2.676270008087158,3.0883100032806396,2.622459888458252,2.968790054321289,2.7168500423431396,3.0688600540161133,3.4549601078033447,3.1176400184631348,2.64985990524292,2.642930030822754,2.949510097503662,2.482300043106079,3.3413798809051514,3.0600500106811523,2.6895499229431152,3.143170118331909,2.8841300010681152,2.881920099258423,3.384320020675659,2.970629930496216,2.6945199966430664,3.385200023651123,2.9066600799560547,2.9338300228118896,2.7159199714660645,2.7322800159454346,2.9443600177764893,2.987030029296875,2.85332989692688,3.0583300590515137,3.043440103530884,2.6794300079345703,3.337779998779297,2.7304298877716064,2.608530044555664,3.219170093536377,2.774780035018921,2.6086199283599854,3.2254300117492676,2.857840061187744,3.167259931564331,2.6177000999450684,2.9823598861694336,2.577039957046509,2.4883999824523926,2.6516599655151367,3.1129000186920166,3.2101399898529053,2.693160057067871,2.630340099334717,2.694730043411255,2.6244499683380127,2.64411997795105,3.018049955368042,2.6091299057006836,3.1238698959350586,3.2237000465393066,3.105449914932251,2.650520086288452,2.5636301040649414,3.339790105819702,2.9837799072265625,2.6405200958251953,2.4435999393463135,2.609489917755127,3.0780301094055176,3.1159300804138184,2.836549997329712,3.1103498935699463,3.1238698959350586,2.711669921875,2.8533999919891357,3.111419916152954,2.92399001121521,2.9008400440216064,2.723829984664917,3.127269983291626,3.1177000999450684,2.351059913635254,3.2260799407958984,3.1647698879241943,3.2652900218963623,2.647200107574463,2.846750020980835,3.1223199367523193,3.012550115585327,2.3769400119781494,3.2569499015808105,2.8600499629974365,3.164910078048706,2.680730104446411,3.0161499977111816,2.894439935684204,2.866270065307617,2.7317299842834473,2.5893399715423584,2.941190004348755,2.6235299110412598,3.0883800983428955,3.1675000190734863,3.0150299072265625,2.671950101852417,2.643209934234619,2.724669933319092,2.6434600353240967,2.7540900707244873,2.7040300369262695,2.625190019607544,2.7458200454711914,2.644589900970459,2.6551899909973145,2.472529888153076,3.106300115585327,3.3592300415039062,2.8450000286102295,2.47448992729187,2.844909906387329,2.8784499168395996,2.4778199195861816,3.2222700119018555,3.1454598903656006,3.094789981842041,3.382819890975952,3.141710042953491,3.0289299488067627,2.655250072479248,2.469680070877075,2.6092300415039062,3.041719913482666,3.312730073928833,3.2556400299072266,2.711970090866089,2.6268301010131836,2.511960029602051,2.477400064468384,3.4544999599456787,3.3493599891662598,2.768850088119507,3.4608800411224365,2.5531699657440186,2.6810901165008545,2.757270097732544,3.0146799087524414,2.6789801120758057,3.0500199794769287,3.1549599170684814,3.1473701000213623,3.115570068359375,2.9448599815368652,2.80145001411438,2.9687299728393555,2.859879970550537,3.386080026626587,3.0790998935699463,2.9664199352264404,3.0139000415802,2.4446499347686768,3.0531399250030518,3.060270071029663,2.751120090484619,2.9344699382781982,2.788520097732544,3.2191100120544434,2.6447200775146484,2.708470106124878,3.002239942550659,3.283950090408325,3.2646100521087646,3.210629940032959,3.1329898834228516,3.349560022354126,2.6427500247955322,2.642699956893921,3.08132004737854,2.7514801025390625,2.653899908065796,3.048870086669922,3.0691099166870117,3.159140110015869,2.991580009460449,2.9940900802612305,2.47052001953125,2.653980016708374,3.4468400478363037,3.019850015640259,2.942889928817749,2.667829990386963,2.934390068054199,3.3552498817443848,2.575309991836548,3.220750093460083,2.903330087661743,2.3821001052856445,2.7173900604248047,2.719719886779785,3.260809898376465,3.210439920425415,3.113490104675293,2.934149980545044,3.0547499656677246,2.61926007270813,2.5996499061584473,3.158720016479492,2.7158401012420654,3.0933001041412354,2.4964799880981445,3.1310200691223145,2.870150089263916,3.0246100425720215,3.461019992828369,2.8713300228118896,2.6265199184417725,3.0929698944091797,2.869580030441284,3.13385009765625,3.1188700199127197,2.719290018081665,2.823230028152466,3.2114500999450684,3.3100500106811523,3.005690097808838,3.1145200729370117,2.653059959411621,2.6555299758911133,2.624579906463623,3.0729799270629883,2.640160083770752,3.0520899295806885,2.6383299827575684,2.634769916534424,3.0798399448394775,2.994339942932129,2.871040105819702,2.8494699001312256,3.119719982147217,2.991580009460449,2.6429600715637207,2.470860004425049,2.9908299446105957,3.1832499504089355,2.577359914779663,2.7423999309539795,3.01567006111145,3.0883800983428955,3.26131010055542,3.154910087585449,2.9351298809051514,3.116489887237549,2.648010015487671,2.7134900093078613,2.5927999019622803,3.123420000076294,3.2583699226379395,2.926800012588501,3.1142098903656006,2.9174699783325195,3.0703399181365967,2.926529884338379,2.975529909133911,2.677989959716797,3.309580087661743,2.9884800910949707,2.7559900283813477,2.9175899028778076,2.948090076446533,2.990339994430542,2.9596199989318848,3.2159900665283203,2.9885799884796143,2.652790069580078,2.6514699459075928,2.651979923248291,2.7172598838806152,3.2824699878692627,2.418459892272949,2.645240068435669,2.6447999477386475,2.643889904022217,2.644059896469116,2.6445999145507812,3.0467700958251953,2.635430097579956,3.080159902572632,3.0789198875427246,3.0494399070739746,2.6080799102783203,2.64778995513916,3.118910074234009,3.0803000926971436,3.086859941482544,2.6050798892974854,3.0495500564575195,2.761359930038452,3.05322003364563,2.9382901191711426,2.5752298831939697,3.054490089416504,2.9205400943756104,3.1204700469970703,3.007819890975952,3.076590061187744,3.0557000637054443,3.121659994125366,3.2763900756835938,3.1429500579833984,3.1278700828552246,3.059799909591675,3.011270046234131,3.122349977493286,2.9875900745391846,3.015619993209839,3.16090989112854,2.9683001041412354,2.6997299194335938,3.1138699054718018,3.020750045776367,3.1162900924682617,2.9569900035858154,3.0562798976898193,2.8962900638580322,3.116029977798462,3.079129934310913,2.5033299922943115,3.122309923171997,3.024480104446411,2.6236701011657715,2.9665000438690186,3.080359935760498,3.079400062561035,3.148099899291992,3.0754199028015137,2.9593899250030518,2.9640800952911377,3.1198599338531494,3.0090301036834717,3.1149699687957764,3.1216800212860107,2.927759885787964,3.148390054702759,3.121730089187622,3.115139961242676,2.9693899154663086,3.0539400577545166,2.9507501125335693,3.1152000427246094,2.9587600231170654,2.823090076446533,2.6896400451660156,2.9872701168060303,2.73934006690979,2.9413399696350098,3.009510040283203,3.114690065383911,3.029129981994629,3.0575599670410156,2.9059500694274902,3.1138598918914795,3.123310089111328,3.1391000747680664,2.8606700897216797,3.079319953918457,3.1336400508880615,2.9625298976898193,2.869719982147217,3.2585699558258057,2.879470109939575,2.845050096511841,2.7078099250793457,3.0506699085235596,3.1281299591064453,3.1209299564361572,2.882499933242798,3.042570114135742,2.9694299697875977,2.9266200065612793,2.9268600940704346,3.1177399158477783,3.0639700889587402,3.2732200622558594,2.9844601154327393,3.053770065307617,3.078279972076416,3.053380012512207,3.1613199710845947,2.9746499061584473,3.1324100494384766,3.434760093688965,3.1162900924682617,3.157900094985962,3.4258599281311035,2.97544002532959,2.7530999183654785,2.986219882965088,3.0964601039886475,2.891439914703369,3.1128499507904053,3.212369918823242,3.0602900981903076,2.650899887084961,2.651400089263916,2.754549980163574,3.198960065841675,2.837980031967163,3.0453500747680664,2.757319927215576,3.2821600437164307,3.152209997177124,2.8692901134490967,3.2199599742889404,3.1107699871063232,3.0290300846099854,3.100980043411255,3.128959894180298,2.9852499961853027,2.7313599586486816,2.7887799739837646,2.5686800479888916,2.5974700450897217,2.744339942932129,3.121419906616211,2.6337599754333496,2.651859998703003,3.350529909133911,3.3505399227142334,3.350519895553589,3.152129888534546,2.837869882583618,3.0490000247955322,3.1138899326324463,2.494879961013794,3.016969919204712,3.3875200748443604,3.024749994277954,3.352440118789673,2.985450029373169,3.24249005317688,2.7809600830078125,3.340090036392212,3.127500057220459,3.070230007171631,3.122109889984131,3.122309923171997,3.282520055770874,3.114219903945923,2.9257400035858154,2.883970022201538,3.376420021057129,3.041559934616089,2.7810099124908447,2.4794700145721436,3.312609910964966,2.7543399333953857,2.9479000568389893,3.316960096359253,3.22367000579834,3.1017398834228516,2.9552500247955322,2.9776198863983154,2.9670701026916504,3.113149881362915,3.1387500762939453,3.138129949569702,3.136320114135742,2.9834699630737305,2.8717000484466553,3.0704898834228516,2.627310037612915,3.261810064315796,3.1747500896453857,3.0078299045562744,2.8559000492095947,2.9710299968719482,2.999389886856079,2.798909902572632,2.648780107498169,3.0146501064300537,2.6558499336242676,2.554949998855591,3.121000051498413,2.6098599433898926,3.372070074081421,3.14847993850708,2.853990077972412,3.382080078125,2.6593499183654785,2.7102999687194824,2.566230058670044,2.6680800914764404,2.889669895172119,3.114140033721924,2.680190086364746,3.2286200523376465,3.0791800022125244,2.638159990310669,2.970669984817505,3.013129949569702,2.722259998321533,2.603480100631714,3.009929895401001,2.469320058822632,2.6133499145507812,2.905709981918335,2.8548800945281982,2.85014009475708,2.652129888534546,3.43107008934021,3.161679983139038,2.651639938354492,2.5910799503326416,2.7895400524139404,3.259740114212036,2.624799966812134,2.751569986343384,3.0731000900268555,3.0556700229644775,2.95455002784729,3.0186400413513184,3.1425399780273438,3.1145501136779785,3.115180015563965,3.1487600803375244,2.8531999588012695,3.0240399837493896,2.971139907836914,3.101180076599121,3.1162099838256836,2.8770101070404053,3.0387399196624756,3.065030097961426,2.9097800254821777,2.788130044937134,2.840409994125366,3.054529905319214,2.9967799186706543,3.212009906768799,2.6545300483703613,3.465909957885742,3.3389999866485596,2.9012699127197266,2.5761499404907227,2.6500000953674316,2.9266200065612793,2.622620105743408,3.2190499305725098,2.6508901119232178,2.650749921798706,2.8855700492858887,2.6504099369049072,2.652090072631836,2.650290012359619,2.791599988937378,2.6463699340820312,2.7167201042175293,3.3215699195861816,2.941930055618286,3.3343698978424072,2.8554599285125732,2.998159885406494,2.7553598880767822,2.5902199745178223,2.89766001701355,3.2286601066589355,2.9289700984954834,3.0766499042510986,3.0535800457000732,2.928109884262085,3.332710027694702,2.838289976119995,2.6087100505828857,2.637860059738159,3.004420042037964,3.1235098838806152,3.026479959487915,3.14057993888855,2.9354701042175293,3.1098101139068604,3.350640058517456,3.0326099395751953,2.8701601028442383,3.1522300243377686,2.481610059738159,2.6832799911499023,3.3356900215148926,3.115689992904663,2.7442100048065186,2.926759958267212,3.1099300384521484,2.7991299629211426,3.0222699642181396,2.8843801021575928,3.1370298862457275,3.0150299072265625,3.110179901123047,2.990649938583374,3.117719888687134,3.0234899520874023,3.1471500396728516,3.231070041656494,3.2198901176452637,3.002660036087036,3.3096699714660645,2.651710033416748,2.653510093688965,2.620889902114868,3.259850025177002,2.8886399269104004,2.4954400062561035,2.7296299934387207,2.716559886932373,2.4785099029541016,2.789069890975952,3.1049399375915527,3.0957601070404053,3.1130099296569824,2.3844799995422363,2.651710033416748,2.630150079727173,3.262279987335205,2.984560012817383,2.6616599559783936,3.1514499187469482,3.2507901191711426,3.0373499393463135,2.651900053024292,2.642090082168579,2.651750087738037,2.651560068130493,2.798460006713867,2.561880111694336,3.148900032043457,3.1369500160217285,3.0791399478912354,2.976989984512329,2.9865899085998535,2.6092400550842285,2.379040002822876,2.6658999919891357,3.072740077972412,3.054500102996826,3.055730104446411,3.056149959564209,3.054650068283081,3.0552101135253906,3.054640054702759,3.0014500617980957,3.0795400142669678,3.108870029449463,2.891619920730591,3.1540699005126953,3.039180040359497,2.5566298961639404,3.12076997756958,3.1297199726104736,2.372270107269287,3.0706300735473633,2.7520499229431152,2.653320074081421,2.760349988937378,2.624109983444214,2.7390799522399902,3.060029983520508,2.997730016708374,2.658910036087036,3.3364100456237793,3.3354198932647705,2.7290000915527344,2.7293999195098877,3.285490036010742,2.717319965362549,3.0266799926757812,3.1927499771118164,3.1154398918151855,3.0194098949432373,3.0760600566864014,3.0778300762176514,3.0721399784088135,3.1532700061798096,3.1013400554656982,2.887540102005005,3.048909902572632,3.0278000831604004,2.714449882507324,3.0132699012756348,3.055490016937256,2.5977699756622314,3.0748400688171387,2.6499600410461426,2.5922999382019043,2.9883201122283936,3.066459894180298,3.107880115509033,2.6331300735473633,2.6563899517059326,3.0941898822784424,2.3505001068115234,2.884619951248169,3.0722599029541016,3.4351999759674072,2.993230104446411,2.9941799640655518,2.9929099082946777,2.9950499534606934,2.992799997329712,2.9947099685668945,2.994879961013794,2.99360990524292,3.1674399375915527,2.7158401012420654,2.7172200679779053,2.7152600288391113,3.072269916534424,3.158090114593506,3.0307199954986572,3.1431400775909424,2.9707300662994385,3.1116299629211426,2.692539930343628,3.3006699085235596,3.2750298976898193,3.251349925994873,3.239759922027588,2.957930088043213,2.781330108642578,3.011770009994507,3.18599009513855,3.136460065841675,3.370650053024292,3.072819948196411,3.109760046005249,3.1666998863220215,3.11749005317688,3.1355600357055664,2.978529930114746,2.983649969100952,3.076620101928711,2.9938700199127197,3.0749399662017822,3.007080078125,3.0257599353790283,2.9796700477600098,3.1871800422668457,3.146699905395508,3.428040027618408,3.0113000869750977,3.0588200092315674,3.042949914932251,3.013540029525757,2.7468199729919434,2.7448201179504395,2.750109910964966,2.741990089416504,2.4692299365997314,2.754879951477051,2.7536699771881104,2.7531299591064453,2.750540018081665,2.7480499744415283,2.901129961013794,2.7448699474334717,2.7535500526428223,2.888309955596924,2.8209900856018066,3.141390085220337,3.161720037460327,2.655400037765503,2.7467501163482666,3.105910062789917,3.110219955444336,2.731689929962158,2.9318900108337402,3.1210899353027344,2.46766996383667,2.877389907836914,3.112610101699829,3.2741000652313232,3.448240041732788,2.5154199600219727,3.2173900604248047,3.1150999069213867,2.939769983291626,3.104530096054077,3.1405699253082275,3.25816011428833,3.3235700130462646,3.0263500213623047,3.052910089492798,3.156949996948242,3.3367300033569336,3.0171101093292236,3.337860107421875,2.63742995262146,3.055419921875,2.697240114212036,3.1030499935150146,3.236649990081787,2.752110004425049,2.8594400882720947,3.1735599040985107,2.7381598949432373,3.035830020904541,3.0068399906158447,2.734679937362671,3.0430500507354736,2.504110097885132,3.0083200931549072,3.016390085220337,3.378109931945801,3.018019914627075,3.453700065612793,3.21875,3.040750026702881,2.555609941482544,3.025909900665283,3.052069902420044,3.053339958190918,3.1519200801849365,3.080399990081787,2.8974599838256836,3.118109941482544,3.1209800243377686,2.880189895629883,3.1090099811553955,3.155289888381958,2.8303799629211426,3.1157801151275635,3.096719980239868,2.6085500717163086,3.1199700832366943,3.1160900592803955,2.7544400691986084,2.7548599243164062,3.136899948120117,2.9339699745178223,3.1172099113464355,3.0794999599456787,2.7888801097869873,2.6302499771118164,2.7539401054382324,3.0823800563812256,2.7359299659729004,3.4266600608825684,3.3106698989868164,2.9381000995635986,3.083889961242676,3.020469903945923,2.938420057296753,2.928999900817871,3.3484699726104736,3.1544699668884277,2.9278500080108643,3.1163899898529053,2.9280800819396973,2.7541298866271973,2.947779893875122,3.119580030441284,2.533940076828003,2.6255099773406982,3.013740062713623,2.9340100288391113,3.4354300498962402,3.0353100299835205,3.1624200344085693,2.694350004196167,2.843209981918335,3.3227100372314453,3.0484800338745117,2.75177001953125,2.889580011367798,3.1169300079345703,3.228909969329834,3.2296600341796875,3.2262699604034424,3.2281999588012695,2.5836000442504883,2.9055099487304688,2.866420030593872,2.918649911880493,2.872030019760132,3.2182700634002686,2.685960054397583,3.145289897918701,3.082779884338379,3.001840114593506,3.103679895401001,2.714600086212158,2.6499199867248535,3.106980085372925,2.7617299556732178,3.137389898300171,3.1277101039886475,3.137700080871582,3.1175599098205566,3.1238698959350586,3.134229898452759,2.999300003051758,3.155669927597046,3.131769895553589,2.9256300926208496,3.1189699172973633,3.152780055999756,3.114000082015991,3.123430013656616,3.121809959411621,3.1224100589752197,3.2223100662231445,3.0045199394226074,3.148010015487671,3.111829996109009,3.1399600505828857,3.1211700439453125,3.123080015182495,3.1219100952148438,3.0689499378204346,2.7133901119232178,2.8926401138305664,3.0225799083709717,3.000309944152832,2.9139299392700195,3.220289945602417,3.1370599269866943,3.3138999938964844,2.71766996383667,3.055269956588745,2.903049945831299,2.983570098876953,3.045530080795288,3.0529000759124756,3.115489959716797,2.607919931411743,3.3678700923919678,2.9793999195098877,3.216439962387085,3.150059938430786,3.1180999279022217,3.084969997406006,3.1075398921966553,3.0719900131225586,3.1028199195861816,2.957789897918701,3.396559953689575,3.0507900714874268,3.3447699546813965,3.1345601081848145,3.0239601135253906,2.55964994430542,3.0394198894500732,3.073090076446533,2.9576499462127686,2.9383599758148193,3.1176600456237793,2.5348100662231445,3.1582999229431152,3.127470016479492,3.0827600955963135,2.9703099727630615,2.902820110321045,3.1499099731445312,2.7562999725341797,3.005009889602661,3.122879981994629,3.1153199672698975,3.100600004196167,3.307270050048828,2.4413199424743652,3.0730299949645996,2.949769973754883,3.1199800968170166,3.1164700984954834,2.681570053100586,3.0519399642944336,3.122390031814575,2.7285799980163574,2.936739921569824,3.074779987335205,3.257319927215576,3.120419979095459,2.957900047302246,2.957979917526245,2.7118499279022217,3.0046799182891846,3.102440118789673,2.9909400939941406,3.3530499935150146,3.094330072402954,3.0159499645233154,3.1148900985717773,3.1164000034332275,3.116529941558838,3.117300033569336,3.1186399459838867,2.6558499336242676,2.6041500568389893,2.8287200927734375,3.0255000591278076,3.017390012741089,3.318850040435791,3.3181800842285156,2.8982999324798584,3.110640048980713,2.958050012588501,3.1158499717712402,3.0144999027252197,3.0782699584960938,3.0731201171875,3.15474009513855,2.3715898990631104,3.1184799671173096,2.5753800868988037,3.087090015411377,3.1069400310516357,2.7399001121520996,2.572809934616089,3.1659200191497803,3.119119882583618,2.8725900650024414,3.1971499919891357,3.033859968185425,3.1942598819732666,3.0179901123046875,3.0789499282836914,3.0142900943756104,3.0465900897979736,3.079210042953491,2.8645401000976562,2.6960699558258057,3.247960090637207,3.370690107345581,3.1281800270080566,2.651560068130493,3.20563006401062,2.614000082015991,2.762939929962158,3.266200065612793,2.856529951095581,3.335059881210327,3.335520029067993,3.3356199264526367,2.738450050354004,2.992310047149658,3.044830083847046,3.427109956741333,3.0261199474334717,2.928030014038086,2.9263999462127686,2.752700090408325,3.382689952850342,3.258310079574585,2.9113900661468506,2.8742499351501465,3.051650047302246,3.048490047454834,2.3759799003601074,2.7529799938201904,3.0812599658966064,2.655369997024536,3.0926599502563477,3.114530086517334,2.644040107727051,3.1213300228118896,3.1290700435638428,3.156409978866577,3.130650043487549,3.0761899948120117,3.0117199420928955,3.106750011444092,3.236330032348633,3.0527799129486084,2.637540102005005,3.10509991645813,3.066499948501587,3.374239921569824,3.3135499954223633,2.9930100440979004,3.0541300773620605,3.030639886856079,3.097059965133667,3.0040199756622314,2.9935500621795654,2.9940600395202637,3.0475199222564697,3.032589912414551,3.058720111846924,3.037600040435791,2.896120071411133,3.0510499477386475,3.0850300788879395,3.0772299766540527,3.2735400199890137,2.700269937515259,3.218410015106201,3.193730115890503,3.075439929962158,2.9046499729156494,2.9018499851226807,3.1211700439453125,3.135960102081299,2.743760108947754,2.471859931945801,3.0520899295806885,2.752340078353882,3.054080009460449,3.1009199619293213,3.0537900924682617,2.8958001136779785,2.7380800247192383,3.054229974746704,3.0281898975372314,3.2320399284362793,2.9931600093841553,2.6402199268341064,2.9232099056243896,3.1155900955200195,2.6529200077056885,3.1132800579071045,3.353070020675659,3.316649913787842,2.945319890975952,3.0983800888061523,2.743720054626465,2.6105599403381348,3.1230099201202393,3.055690050125122,2.897939920425415,2.482530117034912,3.115959882736206,3.219019889831543,2.657870054244995,3.069819927215576,3.4056200981140137,2.757920026779175,2.693380117416382,2.7411699295043945,3.1138501167297363,2.572819948196411,2.6231400966644287,3.4503400325775146,3.14670991897583,3.0699799060821533,3.0679099559783936,3.063810110092163,2.6968600749969482,2.604480028152466,2.983530044555664,2.994420051574707,2.977530002593994,2.982340097427368,3.153330087661743,2.75396990776062,3.113149881362915,2.8401501178741455,2.98294997215271,2.8964099884033203,2.8964900970458984,3.1485400199890137,2.9582901000976562,3.1563100814819336,2.5335700511932373,3.0572800636291504,3.028559923171997,2.922110080718994,2.612139940261841,2.8594601154327393,3.2448999881744385,2.9634599685668945,3.1057701110839844,2.9742000102996826,2.710089921951294,2.3500499725341797,3.168839931488037,3.168649911880493,3.0235700607299805,3.0372400283813477,3.0368099212646484,2.913990020751953,3.1218299865722656,3.075700044631958,2.5660300254821777,3.019200086593628,3.163290023803711,3.1442599296569824,3.041990041732788,2.9867799282073975,3.1550800800323486,2.479099988937378,2.884310007095337,3.3701999187469482,2.9754300117492676,3.4548099040985107,3.349139928817749,3.1175599098205566,3.273509979248047,3.0616700649261475,2.4805099964141846,3.1163198947906494,2.6542301177978516,3.0285799503326416,2.748260021209717,2.7493999004364014,2.884459972381592,2.8650801181793213,3.117419958114624,2.7501399517059326,2.97514009475708,2.784709930419922,2.6849100589752197,3.110599994659424,2.720639944076538,3.1691999435424805,2.889240026473999,2.9022700786590576,2.3899199962615967,2.9372200965881348,2.9504199028015137,2.6679799556732178,2.7301299571990967,2.6441500186920166,3.0482099056243896,2.431580066680908,2.7356600761413574,2.9286398887634277,2.8817100524902344,2.9335498809814453,2.7420198917388916,2.94746994972229,2.7370800971984863,3.0203099250793457,2.943310022354126,3.16756010055542,3.015889883041382,2.951359987258911,3.3688600063323975,2.6192500591278076,3.035330057144165,3.0891799926757812,2.6678199768066406,3.0231399536132812,2.9049699306488037,2.9187800884246826,2.884350061416626,2.866950035095215,3.1466500759124756,3.003649950027466,2.623610019683838,2.7789499759674072,2.5857999324798584,2.860719919204712,3.1053199768066406,3.2606000900268555,3.057159900665283,3.113110065460205,3.0627400875091553,3.065390110015869,3.006959915161133,3.05403995513916,3.000849962234497,2.9171500205993652,2.4307000637054443,2.9352400302886963,3.1152501106262207,3.0297698974609375,3.0642600059509277,3.0285699367523193,2.8376500606536865,2.6513099670410156,3.2173500061035156,2.993809938430786,3.1555299758911133,2.968130111694336,3.0319299697875977,3.0280799865722656,3.081700086593628,3.126159906387329,2.9875199794769287,3.0307300090789795,3.340790033340454,3.1986799240112305,2.8682100772857666,3.0743401050567627,3.065000057220459,2.7157700061798096,3.2308099269866943,3.0441300868988037,3.0686399936676025,3.0719900131225586,3.0592501163482666,3.1257801055908203,3.188699960708618,3.062540054321289,2.5161399841308594,2.9152300357818604,3.1162099838256836,3.3157899379730225,3.0072100162506104,2.7798800468444824,2.4258499145507812,3.115190029144287,3.1130900382995605,2.9981400966644287,3.0297000408172607,3.121340036392212,3.2821900844573975,2.4168601036071777,3.106410026550293,3.1605899333953857,2.801529884338379,3.37280011177063,3.2809600830078125,2.567970037460327,3.1174399852752686,3.113189935684204,3.009350061416626,3.162100076675415,3.1366400718688965,3.0132999420166016,2.8998401165008545,3.025789976119995,3.117000102996826,3.3846499919891357,3.144360065460205,3.1122400760650635,2.5549800395965576,3.2293899059295654,2.760390043258667,2.9015800952911377,3.1151199340820312,3.013230085372925,2.7350499629974365,3.337939977645874,2.5322399139404297,2.9636499881744385,2.7389299869537354,3.3683700561523438,3.1264801025390625,3.1211299896240234,3.1107499599456787,3.157210111618042,2.4946999549865723,3.0197501182556152,2.717449903488159,2.607830047607422,2.6245899200439453,3.435879945755005,2.67290997505188,3.124190092086792,3.014509916305542,2.9984700679779053,2.899290084838867,2.9973299503326416,2.695889949798584,2.622499942779541,3.1706199645996094,3.057310104370117,2.938930034637451,2.9100699424743652,3.034250020980835,2.747649908065796,3.0468199253082275,3.0424599647521973,3.0405499935150146,2.7019200325012207,2.659759998321533,2.710629940032959,3.4638500213623047,2.690079927444458,3.141930103302002,3.132740020751953,3.0675899982452393,2.516979932785034,3.0203700065612793,3.053260087966919,2.3558900356292725,2.717210054397583,2.715780019760132,3.021389961242676,2.715780019760132,2.7169899940490723,3.2582499980926514,3.059880018234253,2.8659400939941406,3.123650074005127,3.0211501121520996,2.9929299354553223,3.0615999698638916,2.7175800800323486,2.978410005569458,2.715250015258789,2.9761600494384766,3.05784010887146,2.7161900997161865,2.873769998550415,2.6952199935913086,3.260849952697754,3.1680800914764404,3.312000036239624,3.252959966659546,3.376120090484619,2.7154901027679443,3.234060049057007,2.9355599880218506,3.047830104827881,3.0913000106811523,3.333549976348877,3.3737599849700928,3.0550498962402344,2.8075900077819824,2.4685399532318115,2.9227399826049805,2.9054598808288574,3.3186099529266357,3.3190600872039795,2.591439962387085,3.352400064468384,3.0268099308013916,2.844680070877075,3.053879976272583,3.05403995513916,3.280600070953369,3.054080009460449,3.0532500743865967,3.0524098873138428,3.0524399280548096,2.6140799522399902,3.1137900352478027,3.1680901050567627,3.1178600788116455,3.257689952850342,2.659179925918579,2.5343000888824463,3.025480031967163,2.683000087738037,2.6056299209594727,3.0852699279785156,2.9095499515533447,3.11542010307312,2.717750072479248,2.845599889755249,2.7953100204467773,2.3542699813842773,2.353760004043579,3.1091299057006836,2.9512600898742676,2.6751201152801514,2.626960039138794,2.7578799724578857,3.1152000427246094,2.9099299907684326,2.9384799003601074,2.9131500720977783,3.0620999336242676,3.2303500175476074,2.9919400215148926,3.114300012588501,2.3483901023864746,2.9077000617980957,3.0825600624084473,2.3991599082946777,2.9107000827789307,3.109610080718994,3.1219100952148438,2.884779930114746,3.080359935760498,2.9835500717163086,2.4926700592041016,3.393709897994995,3.0722100734710693,2.9380600452423096,2.932029962539673,3.341219902038574,2.9183099269866943,2.6750900745391846,3.134589910507202,2.6810200214385986,2.5356900691986084,3.0748701095581055,3.2200698852539062,2.389509916305542,3.0073299407958984,3.219759941101074,3.276940107345581,2.913569927215576,3.118000030517578,3.062030076980591,3.231640100479126,3.252110004425049,2.884350061416626,2.528860092163086,3.0192298889160156,3.2295799255371094,3.2786800861358643,2.7084999084472656,2.9612300395965576,3.144059896469116,2.4684898853302,2.6849400997161865,2.6979799270629883,3.449620008468628,3.3088300228118896,2.534290075302124,2.9911699295043945,2.625309944152832,2.469589948654175,3.0200400352478027,3.0181899070739746,2.5101699829101562,3.1292600631713867,2.7086799144744873,3.1437199115753174,3.3889100551605225,2.634040117263794,2.6184399127960205,2.7544798851013184,2.6449499130249023,2.998500108718872,3.14736008644104,3.159250020980835,2.867500066757202,2.7568399906158447,2.7209599018096924,3.3107399940490723,2.855609893798828,2.439850091934204,2.67153000831604,2.9136900901794434,2.9197099208831787,3.2811100482940674,2.8752200603485107,3.0539400577545166,2.591200113296509,3.1116299629211426,3.2591400146484375,2.6920900344848633,2.564340114593506,2.962160110473633,3.2347099781036377,3.0007500648498535,2.4175899028778076,3.2635600566864014,3.3740599155426025,3.068229913711548,3.016469955444336,2.9483799934387207,2.3618199825286865,2.4722800254821777,2.6447699069976807,2.6451098918914795,2.6448800563812256,3.308919906616211,3.1008999347686768,3.334480047225952,2.967319965362549,3.0767300128936768,3.161520004272461,2.626699924468994,2.884779930114746,2.62460994720459,2.935960054397583,3.0960099697113037,3.1793301105499268,3.2085700035095215,2.891619920730591,2.944240093231201,3.1086199283599854,3.0656399726867676,3.065229892730713,2.702270030975342,3.058029890060425,2.850409984588623,3.1068100929260254,3.0740299224853516,3.2301199436187744,2.7881200313568115,2.8460800647735596,3.154330015182495,2.6303200721740723,2.8329200744628906,2.7533299922943115,3.375760078430176,3.112839937210083,3.0720601081848145,2.6234500408172607,3.1121299266815186,3.07463002204895,3.1176600456237793,3.383620023727417,2.9031200408935547,2.903470039367676,2.9009299278259277,2.5610599517822266,2.7757599353790283,2.4753100872039795,3.0739800930023193,3.07246994972229,2.913670063018799,2.948280096054077,2.35578989982605,3.1293699741363525,3.246570110321045,2.916569948196411,2.6087698936462402,2.746570110321045,2.8541901111602783,2.965290069580078,2.4793100357055664,3.3728299140930176,2.375469923019409,3.1776599884033203,3.1443099975585938,3.169790029525757,3.0138099193573,2.6204400062561035,2.933720111846924,2.7944700717926025,2.6677799224853516,3.0368900299072266,3.080749988555908,2.769010066986084,3.456249952316284,3.1217401027679443,2.6170599460601807,2.863420009613037,3.2068700790405273,2.9817800521850586,3.083980083465576,3.2045600414276123,3.0784900188446045,3.118000030517578,3.1625399589538574,3.3240699768066406,2.563110113143921,2.8973100185394287,2.6349899768829346,3.099519968032837,3.3345799446105957,3.2707600593566895,3.223129987716675,2.884119987487793,3.1343700885772705,2.897830009460449,3.0582799911499023,3.1134800910949707,3.315310001373291,2.950779914855957,2.7844700813293457,3.1156699657440186,3.0171899795532227,3.1065099239349365,3.1159000396728516,2.4710099697113037,3.115000009536743,3.1233999729156494,2.6562299728393555,2.6826000213623047,2.68435001373291,2.626009941101074,2.458559989929199,2.4173200130462646,3.3542699813842773,2.6550099849700928,3.3675599098205566,2.938119888305664,2.8931400775909424,3.4582300186157227,3.1534199714660645,3.115799903869629,3.1559700965881348,3.022939920425415,2.700429916381836,3.081049919128418,3.1120500564575195,2.7495100498199463,2.6716599464416504,3.1720399856567383,3.0126900672912598,3.2182300090789795,2.9009499549865723,2.8232600688934326,2.744499921798706,3.0527799129486084,2.767819881439209,3.0871100425720215,2.475219964981079,3.1203300952911377,3.1819698810577393,2.5913898944854736,3.2978498935699463,3.154900074005127,2.6882500648498535,3.2093100547790527,3.0207600593566895,3.3543100357055664,2.7744200229644775,3.1464200019836426,3.2369000911712646,2.9706900119781494,2.9805099964141846,3.0785601139068604,3.140389919281006,2.9835801124572754,2.8819000720977783,2.935270071029663,3.0091700553894043,2.9974799156188965,2.996920108795166,3.318690061569214,3.140350103378296,3.112679958343506,3.225339889526367,2.661210060119629,2.98511004447937,3.219510078430176,3.1548500061035156,2.644740104675293,3.012929916381836,3.0743799209594727,2.9844400882720947,3.027470111846924,3.0541000366210938,3.05964994430542,3.1232199668884277,3.352169990539551,2.8770198822021484,3.012589931488037,2.849519968032837,3.015000104904175,2.845139980316162,3.0753800868988037,2.9804999828338623,2.9583799839019775,3.02659010887146,2.983829975128174,2.903860092163086,2.8942999839782715,3.1031999588012695,3.0457000732421875,3.229490041732788,2.752039909362793,2.7373499870300293,3.0737500190734863,3.210170030593872,3.319279909133911,2.997260093688965,3.075779914855957,2.7386999130249023,2.9576098918914795,3.0041699409484863,3.113990068435669,2.9376800060272217,2.9976398944854736,3.220860004425049,3.2330501079559326,3.1625399589538574,3.034480094909668,3.1573500633239746,3.348949909210205,2.9207499027252197,3.141580104827881,2.5879900455474854,2.8955800533294678,3.1221799850463867,2.873650074005127,3.458889961242676,3.0104498863220215,2.8696999549865723,3.0228800773620605,3.087869882583618,2.905910015106201,2.9335200786590576,3.0001699924468994,3.0094199180603027,3.3101000785827637,3.156100034713745,3.1223599910736084,3.1622700691223145,3.2482800483703613,3.0859200954437256,3.2339799404144287,3.055079936981201,2.6266698837280273,2.8027000427246094,2.735569953918457,3.1286699771881104,2.3555500507354736,3.1453299522399902,2.8441998958587646,3.2491300106048584,2.8988499641418457,3.089740037918091,3.047420024871826,3.1217799186706543,3.1711699962615967,3.17153000831604,3.1449599266052246,3.145289897918701,2.858330011367798,2.668950080871582,2.75068998336792,3.1200900077819824,3.1206400394439697,3.1024301052093506,2.577889919281006,2.693779945373535,2.6936099529266357,2.870650053024292,3.1204400062561035,2.6266000270843506,3.1120100021362305,3.2485198974609375,2.9497599601745605,2.992460012435913,3.009589910507202,3.1214699745178223,3.132230043411255,3.146739959716797,3.1138100624084473,2.740880012512207,3.11365008354187,2.6945199966430664,2.8737900257110596,3.0253798961639404,3.260119915008545,2.791640043258667,3.1301000118255615,2.48225998878479,2.696820020675659,2.744460105895996,3.107729911804199,2.889509916305542,3.1540400981903076,2.8389699459075928,3.0281200408935547,2.7266199588775635,3.109250068664551,2.873080015182495,3.1435599327087402,3.1413800716400146,3.10191011428833,3.1145899295806885,3.0594699382781982,3.0211799144744873,3.137470006942749,2.749840021133423,3.0588300228118896,3.053570032119751,2.933180093765259,2.749459981918335,3.3518500328063965,3.3847999572753906,2.9897100925445557,3.115609884262085,2.9321200847625732,3.319430112838745,3.0537800788879395,3.0155599117279053,2.6731300354003906,2.7499001026153564,2.5051400661468506,2.764090061187744,2.5871999263763428,2.94419002532959,2.7428500652313232,2.9044699668884277,3.1216299533843994,2.9310100078582764,3.121619939804077,2.617569923400879,2.900520086288452,3.221489906311035,2.991919994354248,3.3519699573516846,3.2197699546813965,3.028019905090332,2.649250030517578,2.7095398902893066,3.115180015563965,3.069580078125,3.113110065460205,3.11434006690979,2.6401898860931396,2.960050106048584,2.859339952468872,3.119450092315674,3.371809959411621,2.83843994140625,2.9525699615478516,2.7244300842285156,3.4303700923919678,2.8022000789642334,2.868959903717041,3.252120018005371,2.625269889831543,2.6664700508117676,2.650279998779297,3.0177600383758545,2.751070022583008,3.060889959335327,2.7149500846862793,3.061729907989502,2.649790048599243,2.6250500679016113,2.7538299560546875,3.0984299182891846,2.7542099952697754,2.7678298950195312,3.0759999752044678,2.684109926223755,2.648010015487671,3.0679099559783936,2.7471001148223877,3.351020097732544,2.589370012283325,2.9851300716400146,3.1584599018096924,2.8870999813079834,3.122070074081421,2.657860040664673,2.7201199531555176,2.6463301181793213,3.18245005607605,2.694700002670288,3.0348598957061768,2.7519400119781494,3.018199920654297,3.066960096359253,2.9606900215148926,3.0494000911712646,3.0104799270629883,2.9430301189422607,2.942650079727173,2.934109926223755,3.3725500106811523,3.371999979019165,2.645279884338379,2.9435200691223145,2.5793399810791016,2.9441299438476562,3.371119976043701,3.060610055923462,3.122390031814575,3.3326499462127686,3.1443800926208496,2.996000051498413,3.118540048599243,3.386960029602051,3.1338601112365723,2.9125399589538574,3.1203200817108154,2.8737599849700928,3.2860701084136963,2.975450038909912,2.5716700553894043,2.7874200344085693,3.0211100578308105,3.1359500885009766,3.0713400840759277,2.833440065383911,3.019619941711426,2.6787800788879395,2.678770065307617,2.8604400157928467,3.015199899673462,3.156820058822632,3.1324899196624756,2.915030002593994,2.757469892501831,3.3716700077056885,2.661060094833374,2.7581799030303955,2.645390033721924,2.4756200313568115,3.124239921569824,2.9990599155426025,2.644160032272339,3.012510061264038,3.193389892578125,3.115380048751831,3.0237200260162354,2.971630096435547,3.015739917755127,3.14067006111145,2.480609893798828,3.313889980316162,3.373110055923462,3.4540200233459473,3.0901100635528564,3.1232800483703613,3.1215200424194336,2.869610071182251,3.0107200145721436,3.3707900047302246,3.1204099655151367,3.1113200187683105,3.21724009513855,2.630620002746582,2.8803000450134277,2.6938400268554688,2.5039799213409424,3.366260051727295,3.0620100498199463,3.170300006866455,2.4198200702667236,3.0669400691986084,3.119580030441284,3.2025198936462402,3.119649887084961,3.228610038757324,3.2242400646209717,2.961210012435913,2.583699941635132,3.020090103149414,2.949820041656494,3.116070032119751,3.0897200107574463,3.1542999744415283,3.2820401191711426,3.029680013656616,3.257819890975952,3.27878999710083,3.015199899673462,3.220989942550659,2.8603200912475586,2.990880012512207,3.012860059738159,2.7844600677490234,3.16267991065979,2.92221999168396,3.1103599071502686,3.063119888305664,2.784670114517212,3.054800033569336,3.218600034713745,2.7350099086761475,3.425640106201172,2.9622700214385986,3.184340000152588,3.229870080947876,2.8675498962402344,3.2288999557495117,2.6436901092529297,2.9743499755859375,2.6251699924468994,3.185570001602173,3.190540075302124,2.652060031890869,3.3404600620269775,2.6343600749969482,2.7367100715637207,3.1513500213623047,3.1624300479888916,3.1067299842834473,2.9913198947906494,3.063499927520752,3.1580300331115723,3.1502699851989746,3.1166000366210938,2.873699903488159,3.030060052871704,2.975559949874878,2.6487300395965576,2.8727500438690186,3.273829936981201,3.0169100761413574,3.0352399349212646,3.0447099208831787,2.925179958343506,2.665070056915283,2.929419994354248,2.8910200595855713,2.9829800128936768,3.0726099014282227,3.1447598934173584,2.9245800971984863,2.863409996032715,3.05649995803833,3.057389974594116,3.0560100078582764,2.754689931869507,3.149060010910034,3.1173601150512695,3.1011099815368652,2.8901500701904297,3.1148600578308105,2.597399950027466,3.269619941711426,2.418489933013916,3.0755600929260254,3.086060047149658,2.5360798835754395,3.1460800170898438,3.026550054550171,3.186840057373047,3.1026101112365723,3.2119500637054443,3.0334999561309814,3.113229990005493,3.159909963607788,3.0155398845672607,3.0344600677490234,3.0702500343322754,3.1228599548339844,3.1341300010681152,3.0703299045562744,3.3124499320983887,3.1590700149536133,3.3129799365997314,3.048880100250244,3.375849962234497,2.9479401111602783,2.5139999389648438,3.0391199588775635,2.711590051651001,3.1284101009368896,3.115000009536743,3.073359966278076,2.9438700675964355,2.925570011138916,3.1211299896240234,2.760699987411499,3.1037700176239014,2.889400005340576,3.0805699825286865,3.2271499633789062,3.1437599658966064,2.9394800662994385,3.1181700229644775,2.8049800395965576,3.209009885787964,2.6486198902130127,3.08243989944458,3.058109998703003,3.0813400745391846,3.0186100006103516,3.0634799003601074,2.927570104598999,3.077929973602295,2.467940092086792,3.086940050125122,2.6903300285339355,3.052030086517334,2.895519971847534,2.752500057220459,3.1074700355529785,2.996079921722412,3.0531699657440186,2.9860401153564453,2.865190029144287,2.4795498847961426,2.351330041885376,3.0600199699401855,2.6536800861358643,2.992340087890625,2.694509983062744,2.8633899688720703,3.023750066757202,3.0237700939178467,2.653439998626709,3.017009973526001,3.048180103302002,3.337869882583618,3.2105700969696045,2.624190092086792,2.6586899757385254,2.5628199577331543,2.6677699089050293,3.1230499744415283,3.019860029220581,3.1155500411987305,3.1087300777435303,3.0172200202941895,2.649290084838867,2.648669958114624,2.6488800048828125,2.650239944458008,3.119960069656372,3.1142001152038574,2.5627400875091553,2.7457098960876465,2.6965301036834717,2.7479400634765625,3.070240020751953,3.199769973754883,3.0721399784088135,3.026099920272827,2.990139961242676,3.1145200729370117,3.1085100173950195,3.0130200386047363,2.6442201137542725,3.015399932861328,3.0193099975585938,3.090820074081421,3.207629919052124,2.8723199367523193,3.033060073852539,2.7309300899505615,2.910670042037964,3.1615099906921387,3.1989200115203857,2.8878700733184814,3.0739800930023193,2.6251800060272217,2.8661699295043945,2.870539903640747,2.9020299911499023,3.2328600883483887,3.1842598915100098,2.9736599922180176,3.373120069503784,2.883739948272705,2.9469199180603027,2.750930070877075,2.8935599327087402,3.0628299713134766,2.719360113143921,3.098979949951172,3.0753800868988037,3.0750598907470703,2.971019983291626,2.953579902648926,3.1138699054718018,2.782140016555786,2.7255899906158447,3.04013991355896,2.9402599334716797,2.741849899291992,2.9102299213409424,3.2349600791931152,2.9676499366760254,3.0748798847198486,3.220629930496216,3.0552101135253906,3.0714800357818604,2.945499897003174,3.0557000637054443,2.91936993598938,2.9584100246429443,2.853800058364868,3.1163198947906494,3.0906200408935547,3.2195799350738525,2.9406700134277344,3.1665000915527344,2.9577300548553467,2.991230010986328,3.0897998809814453,2.886080026626587,3.078279972076416,3.014509916305542,3.169680118560791,3.1321799755096436,2.396239995956421,3.084199905395508,3.1826000213623047,3.1205201148986816,2.988719940185547,3.1125199794769287,3.0322699546813965,3.11683988571167,2.9057199954986572,2.7684600353240967,2.5563900470733643,3.1284899711608887,3.252840042114258,3.008310079574585,3.076169967651367,3.1214399337768555,3.3358399868011475,2.6647300720214844,3.1179299354553223,2.5566000938415527,2.3635499477386475,2.9180901050567627,3.1237499713897705,2.9430301189422607,3.254849910736084,2.8533198833465576,2.9265999794006348,2.8406999111175537,3.118230104446411,2.9461801052093506,2.967319965362549,3.107830047607422,3.11368989944458,3.2315900325775146,2.913710117340088,3.1178200244903564,2.923490047454834,2.945590019226074,3.122119903564453,2.8949599266052246,2.420340061187744,2.856559991836548,2.7036099433898926,2.8491499423980713,2.506319999694824,2.345370054244995,3.3628199100494385,3.2707901000976562,3.2635200023651123,3.3050999641418457,3.2636499404907227,3.3097798824310303,3.2954599857330322,2.783050060272217,3.120229959487915,3.4042699337005615,3.4633100032806396,2.8829400539398193,3.049870014190674,3.113140106201172,3.1244399547576904,2.7928099632263184,3.1107399463653564,3.0658600330352783,3.026089906692505,3.0276100635528564,3.0738399028778076,3.03056001663208,3.1270899772644043,2.650170087814331,2.6496899127960205,2.502810001373291,3.2756099700927734,3.0690600872039795,2.9552299976348877,2.86476993560791,3.2707300186157227,3.0250399112701416,3.2200798988342285,2.959709882736206,2.8970799446105957,2.904589891433716,3.0657899379730225,3.2436599731445312,2.999109983444214,3.0249600410461426,3.048330068588257,3.0726499557495117,3.137120008468628,3.0968499183654785,3.134700059890747,3.2829599380493164,3.050410032272339,2.6873300075531006,2.877540111541748,2.481379985809326,2.9938900470733643,3.13988995552063,3.0571200847625732,3.1795499324798584,3.05430006980896,3.053960084915161,2.9873600006103516,3.138129949569702,3.0590500831604004,2.4662399291992188,2.4860498905181885,2.9375500679016113,2.74931001663208,2.599220037460327,3.027679920196533,3.0384600162506104,3.0142199993133545,3.0140199661254883,3.0683400630950928,2.7023799419403076,3.285360097885132,3.1438300609588623,3.2783401012420654,2.7518301010131836,3.0702900886535645,2.8479299545288086,3.1037399768829346,3.1280100345611572,2.6243300437927246,3.330970048904419,3.014580011367798,3.2216598987579346,3.0550200939178467,2.9382200241088867,3.081779956817627,3.2219600677490234,3.218280076980591,2.898289918899536,2.836750030517578,2.8508999347686768,3.0621299743652344,2.9413199424743652,2.7942800521850586,3.0508899688720703,3.1189401149749756,3.1127500534057617,2.926959991455078,3.1360199451446533,3.136590003967285,2.9873499870300293,2.650520086288452,3.369839906692505,3.109369993209839,3.1624999046325684,3.042490005493164,3.094670057296753,3.22025990486145,3.2323598861694336,2.6554598808288574,3.307349920272827,3.1084001064300537,3.1858699321746826,2.5790998935699463,2.882859945297241,3.362529993057251,3.117069959640503,3.1048099994659424,3.288569927215576,3.0809500217437744,2.875580072402954,3.359100103378296,3.151210069656372,2.9585800170898438,2.93681001663208,2.4193100929260254,3.372230052947998,2.697740077972412,3.015929937362671,2.893889904022217,3.0393600463867188,3.292059898376465,3.159140110015869,2.5894200801849365,3.3291800022125244,3.2202200889587402,2.7514901161193848,3.046869993209839,2.659679889678955,3.210829973220825,3.3191800117492676,2.9821600914001465,2.924269914627075,3.253119945526123,3.107640027999878,2.855109930038452,2.975019931793213,3.114880084991455,2.645669937133789,2.713089942932129,3.149930000305176,2.745300054550171,3.1185600757598877,3.120270013809204,3.113919973373413,2.8522000312805176,3.1215600967407227,3.1149699687957764,3.120229959487915,3.082900047302246,3.0779800415039062,3.0780999660491943,3.4277000427246094,2.983680009841919,2.479680061340332,3.4588699340820312,3.1400699615478516,2.9621400833129883,3.083479881286621,2.742069959640503,3.120270013809204,2.423569917678833,3.011539936065674,3.1207499504089355,3.087869882583618,2.987190008163452,2.9489400386810303,3.3969500064849854,3.1058099269866943,3.1185200214385986,2.482140064239502,2.998379945755005,2.6629600524902344,2.3540799617767334,2.6765499114990234,3.071820020675659,2.874109983444214,2.9921300411224365,2.9768800735473633,2.9321401119232178,2.830549955368042,3.1315500736236572,3.0032100677490234,2.7951500415802,3.224289894104004,2.985909938812256,2.9932401180267334,3.149739980697632,2.9166100025177,2.8343799114227295,2.8909599781036377,3.3414599895477295,2.989680051803589,3.0183300971984863,2.986680030822754,2.9992198944091797,3.1312100887298584,3.0138299465179443,2.8601601123809814,3.0532000064849854,2.979020118713379,2.6851398944854736,2.7093300819396973,2.715939998626709,2.6563000679016113,3.0800700187683105,2.8883299827575684,3.456350088119507,2.627429962158203,3.022819995880127,2.9260599613189697,2.748110055923462,2.7468700408935547,3.016900062561035,2.995500087738037,2.997030019760132,2.9962000846862793,3.253920078277588,3.336669921875,2.9901199340820312,3.3344099521636963,3.0226199626922607,3.075540065765381,3.045180082321167,3.1600699424743652,3.120460033416748,3.1097800731658936,2.60233998298645,3.3163700103759766,2.6293399333953857,2.990799903869629,3.224639892578125,2.76921010017395,2.9054501056671143,2.9158101081848145,3.04256010055542,3.1161999702453613,2.903630018234253,3.021780014038086,2.9530301094055176,2.985379934310913,3.0400099754333496,3.0483899116516113,2.6545400619506836,2.5145199298858643,2.9376399517059326,2.634700059890747,2.963170051574707,2.668210029602051,2.6075499057769775,2.5919599533081055,3.056380033493042,3.150019884109497,3.1493899822235107,3.1495399475097656,3.0611400604248047,3.0276899337768555,2.924069881439209,2.883960008621216,2.410330057144165,3.2164900302886963,3.2228400707244873,3.2517199516296387,2.9788999557495117,2.6449899673461914,2.6415600776672363,3.07627010345459,3.1229100227355957,3.121380090713501,3.028559923171997,3.2171599864959717,2.9267899990081787,2.928989887237549,2.788180112838745,3.0717499256134033,3.0155699253082275,3.1155200004577637,3.0578200817108154,3.016930103302002,2.985300064086914,2.5190200805664062,3.0439000129699707,2.8481199741363525,3.039340019226074,3.4482200145721436,3.0659399032592773,3.0667500495910645,2.845089912414551,3.3227601051330566,3.2375500202178955,3.2173399925231934,3.014709949493408,3.106450080871582,3.1399500370025635,3.0572099685668945,3.156049966812134,3.25885009765625,2.5908501148223877,3.012279987335205,3.2566800117492676,3.0507900714874268,2.984869956970215,3.1989099979400635,3.0712099075317383,2.9754600524902344,3.0376200675964355,2.988840103149414,3.014309883117676,3.330209970474243,2.8694400787353516,2.8267900943756104,3.333889961242676,3.262470006942749,3.10548996925354,2.85086989402771,3.3856799602508545,2.9108901023864746,2.9800000190734863,3.4275898933410645,2.6408300399780273,3.185539960861206,3.0542399883270264,3.016580104827881,2.6517999172210693,3.110490083694458,2.866270065307617,3.011630058288574,3.422719955444336,3.061850070953369,3.0124399662017822,3.0155398845672607,2.639810085296631,2.6413400173187256,3.0515100955963135,2.9277100563049316,2.8553500175476074,2.7554099559783936,3.114759922027588,2.632819890975952,3.047760009765625,3.0718400478363037,3.215090036392212,2.9295101165771484,2.9573700428009033,3.0865299701690674,3.276170015335083,3.330940008163452,3.2388501167297363,2.706279993057251,2.444350004196167,3.1324501037597656,2.716779947280884,3.1710500717163086,2.8929998874664307,2.37539005279541,2.851099967956543,2.399930000305176,2.395740032196045,2.753119945526123,2.8144900798797607,3.0102999210357666,3.1156399250030518,3.0407400131225586,3.0687100887298584,3.1508700847625732,2.738229990005493,2.779550075531006,3.1265499591827393,3.1121599674224854,3.082479953765869,3.115299940109253,3.115540027618408,2.9580399990081787,2.900909900665283,3.053770065307617,2.427870035171509,3.1487998962402344,2.748810052871704,2.6900100708007812,2.97694993019104,2.573960065841675,2.910439968109131,2.9012699127197266,2.678570032119751,3.0859498977661133,2.595629930496216,2.7098000049591064,3.172489881515503,2.4802699089050293,3.1166799068450928,2.976560115814209,2.9282100200653076,3.1172099113464355,2.56318998336792,3.22763991355896,2.779789924621582,2.625659942626953,2.6309800148010254,3.3436899185180664,2.8577799797058105,2.9912800788879395,2.746380090713501,3.454119920730591,3.4531900882720947,3.3142600059509277,3.111569881439209,3.214750051498413,2.8747000694274902,2.8894100189208984,2.659519910812378,2.942009925842285,3.036829948425293,2.7552900314331055,3.2562599182128906,3.141010046005249,2.9783101081848145,3.2242400646209717,3.0109000205993652,2.9390599727630615,3.4547500610351562,3.0442700386047363,3.1301400661468506,3.1214699745178223,2.6522700786590576,2.66471004486084,2.615380048751831,3.149980068206787,3.0029900074005127,3.152829885482788,2.6655499935150146,3.1233201026916504,3.12896990776062,2.711699962615967,3.0934998989105225,3.1542201042175293,2.6182899475097656,2.8756799697875977,2.614069938659668,2.966900110244751,2.971829891204834,3.2241499423980713,2.9026501178741455,2.662139892578125,3.11257004737854,2.840909957885742,2.888309955596924,2.8425700664520264,3.021209955215454,2.8918399810791016,3.217410087585449,3.0146799087524414,3.3382298946380615,2.8998498916625977,2.4689900875091553,3.3165900707244873,3.3712100982666016,2.6979000568389893,2.624650001525879,2.5362401008605957,2.6530001163482666,2.664220094680786,2.869990110397339,3.1109299659729004,3.1115500926971436,3.1575000286102295,2.61545991897583,2.506659984588623,2.6257100105285645,2.6160099506378174,3.3216099739074707,3.0203499794006348,3.2516400814056396,2.626569986343384,3.0426599979400635,2.651740074157715,2.652600049972534,2.6512699127197266,3.2389400005340576,2.467590093612671,2.6514499187469482,2.648969888687134,3.022209882736206,2.750380039215088,3.108910083770752,2.5420000553131104,2.632110118865967,3.009190082550049,3.197890043258667,3.1692700386047363,3.3874399662017822,3.216059923171997,3.3701798915863037,2.7523999214172363,3.363539934158325,2.9748599529266357,3.0346899032592773,2.6558101177215576,3.00039005279541,2.744610071182251,3.4546799659729004,3.1484899520874023,3.433840036392212,2.9738500118255615,3.1309399604797363,3.3485100269317627,2.7516698837280273,2.6377100944519043,3.137969970703125,3.1138999462127686,3.0245800018310547,2.7502799034118652,2.7505300045013428,3.0216100215911865,2.6384799480438232,2.6398398876190186,2.7502501010894775,3.0488200187683105,3.0784499645233154,3.151700019836426,2.639669895172119,3.0584399700164795,3.2785398960113525,2.703119993209839,2.6954898834228516,3.080080032348633,3.1466801166534424,3.1834299564361572,3.4390299320220947,3.185080051422119,3.4391798973083496,2.7561800479888916,2.9240100383758545,3.1112499237060547,3.2191200256347656,3.0553700923919678,2.8911399841308594,3.0689899921417236,3.0334200859069824,3.4540200233459473,2.622649908065796,3.0151100158691406,3.1159000396728516,3.0470900535583496,2.6679399013519287,3.261770009994507,2.9322099685668945,3.1446900367736816,2.912400007247925,2.7184200286865234,3.230910062789917,3.355720043182373,3.2218101024627686,3.110029935836792,3.122230052947998,3.1136999130249023,2.7541399002075195,3.1138699054718018,3.0695199966430664,2.727289915084839,2.9305899143218994,2.480959892272949,2.6457901000976562,3.117690086364746,3.0255799293518066,2.856139898300171,3.0165200233459473,2.647900104522705,3.115839958190918,2.6431100368499756,3.0170400142669678,3.0490899085998535,3.2462499141693115,2.735100030899048,3.166719913482666,3.434390068054199,3.0312600135803223,2.6511499881744385,3.1155500411987305,2.6527099609375,2.651979923248291,3.0369699001312256,3.118340015411377,3.115530014038086,2.9039599895477295,2.9642701148986816,3.104830026626587,2.9337100982666016,2.5210800170898438,3.056960105895996,3.1530299186706543,2.797689914703369,3.129970073699951,2.9770700931549072,2.9324400424957275,3.072969913482666,2.993419885635376,3.0487399101257324,3.0787301063537598,2.996229887008667,3.012969970703125,3.114000082015991,3.171570062637329,2.566009998321533,2.5384199619293213,3.2244598865509033,3.10903000831604,3.369460105895996,3.3358800411224365,2.8389899730682373,3.1168699264526367,3.0222299098968506,3.0484800338745117,2.655869960784912,2.669719934463501,3.0852301120758057,2.769619941711426,2.651599884033203,2.901020050048828,3.0475399494171143,2.787169933319092,2.8753700256347656,3.0401198863983154,2.79436993598938,2.9812800884246826,3.0696499347686768,3.1526899337768555,3.1591498851776123,2.72012996673584,2.8870201110839844,3.088089942932129,3.0861101150512695,3.0868101119995117,3.0864601135253906,2.5013298988342285,3.227250099182129,2.7759499549865723,3.1199700832366943,3.304460048675537,3.1135799884796143,3.348249912261963,3.253269910812378,3.0706698894500732,3.3996100425720215,2.919260025024414,2.7705399990081787,2.901129961013794,3.1573801040649414,3.079699993133545,3.0798499584198,3.021519899368286,3.1132700443267822,2.958669900894165,3.153630018234253,3.1541800498962402,3.1168599128723145,3.0239601135253906,3.161400079727173,3.0596399307250977,3.1621599197387695,2.715320110321045,3.133150100708008,3.1053199768066406,3.064650058746338,3.132420063018799,3.153249979019165,2.7572100162506104,3.0517499446868896,3.0526199340820312,2.9896199703216553,3.3225901126861572,3.1183300018310547,3.119960069656372,3.115950107574463,3.112600088119507,3.111020088195801,2.5577499866485596,3.043459892272949,3.047600030899048,2.6669399738311768,3.133810043334961,3.238640069961548,2.799420118331909,3.1145899295806885,2.6676599979400635,2.8981900215148926,3.1149098873138428,3.114370107650757,3.1329801082611084,3.111989974975586,3.11572003364563,2.649009943008423,3.1670899391174316,3.0164899826049805,2.355600118637085,3.1222798824310303,3.114219903945923,3.0158801078796387,3.128809928894043,2.962049961090088,2.91483998298645,2.978679895401001,3.199660062789917,3.0140700340270996,3.153409957885742,2.7204298973083496,3.165640115737915,2.9337000846862793,2.6402699947357178,2.715280055999756,3.136660099029541,2.6754701137542725,2.8991498947143555,3.116919994354248,2.900099992752075,2.90054988861084,3.0834999084472656,3.1206400394439697,2.9249799251556396,2.9239299297332764,2.9009299278259277,2.7537100315093994,2.925309896469116,2.9420700073242188,2.6254398822784424,2.8704400062561035,3.3375000953674316,3.385200023651123,2.974250078201294,2.6378300189971924,2.7221899032592773,3.2224600315093994,2.7135798931121826,2.794719934463501,2.83558988571167,2.5899999141693115,2.740799903869629,2.748389959335327,3.116189956665039,3.0157299041748047,3.29830002784729,3.169250011444092,2.746690034866333,3.2668700218200684,2.7414300441741943,2.743269920349121,2.971590042114258,2.6592400074005127,2.843600034713745,2.754430055618286,3.2405500411987305,3.02128005027771,2.695189952850342,3.226210117340088,2.596440076828003,2.934390068054199,2.9206900596618652,2.5985898971557617,2.8941400051116943,3.057729959487915,3.1509299278259277,2.6065499782562256,3.0758299827575684,3.1224300861358643,3.1990199089050293,3.022010087966919,3.021939992904663,2.6226298809051514,3.0657598972320557,3.143199920654297,3.146519899368286,2.682529926300049,3.1210200786590576,3.1226298809051514,3.120270013809204,3.1203200817108154,2.706540107727051,3.131580114364624,2.5346999168395996,2.7437500953674316,2.6545400619506836,2.705970048904419,2.5778799057006836,3.108020067214966,3.0755600929260254,2.5678200721740723,2.6207098960876465,2.654320001602173,3.033560037612915,3.14136004447937,3.120500087738037,3.0728700160980225,3.0353798866271973,3.079699993133545,2.994839906692505,3.061069965362549,3.0155200958251953,3.028709888458252,3.0487101078033447,3.0315299034118652,3.048799991607666,2.6358399391174316,2.5870399475097656,2.9038000106811523,3.1970200538635254,3.0421199798583984,3.0610299110412598,3.4327099323272705,2.7723500728607178,2.6994099617004395,3.1449599266052246,3.340780019760132,2.9385199546813965,2.9665300846099854,2.7129900455474854,3.3512001037597656,2.711980104446411,3.1468698978424072,3.1593499183654785,3.1593000888824463,2.7780799865722656,2.9591100215911865,2.9442200660705566,3.1540000438690186,2.8762500286102295,3.1431798934936523,3.23157000541687,2.6486799716949463,2.918020009994507,3.1332600116729736,2.6506199836730957,2.891040086746216,2.889509916305542,2.5039000511169434,3.223360061645508,2.796449899673462,2.6528499126434326,3.137320041656494,3.429460048675537,3.4291300773620605,3.4284400939941406,2.960860013961792,3.2222700119018555,2.899549961090088,2.643860101699829,3.1041500568389893,2.65408992767334,2.6655099391937256,2.9380900859832764,2.7887799739837646,2.636169910430908,3.0445399284362793,2.8558900356292725,2.7824699878692627,3.1830599308013916,2.6988298892974854,3.054640054702759,2.712869882583618,2.533519983291626,2.9712700843811035,2.858989953994751,3.1282799243927,2.9108500480651855,3.1319499015808105,2.9746201038360596,3.111569881439209,3.2512600421905518,3.4398999214172363,2.688999891281128,3.1552200317382812,2.7705399990081787,2.393510103225708,3.0227699279785156,3.3363900184631348,2.8882999420166016,2.4215400218963623,3.1226398944854736,3.1282401084899902,2.6242799758911133,2.6111299991607666,2.9397900104522705,2.6634199619293213,3.3873000144958496,2.577939987182617,3.0147900581359863,2.9931399822235107,3.1159799098968506,3.123070001602173,2.673099994659424,2.9463400840759277,3.4576098918914795,2.87103009223938,2.904819965362549,2.8966500759124756,2.788830041885376,2.6237800121307373,3.0317299365997314,3.153470039367676,3.041100025177002,3.0722899436950684,3.187069892883301,2.467600107192993,3.1918699741363525,3.199270009994507,2.6448099613189697,3.0308899879455566,3.091900110244751,3.021850109100342,3.033370018005371,3.12283992767334,2.919480085372925,2.904370069503784,2.936929941177368,3.3056800365448,2.6333301067352295,3.296180009841919,2.985680103302002,3.01813006401062,3.0429599285125732,3.0353899002075195,3.2804999351501465,2.659909963607788,2.7179501056671143,2.7183799743652344,2.6494600772857666,2.696589946746826,3.2634100914001465,3.465059995651245,3.1545400619506836,3.231149911880493,3.121269941329956,2.982909917831421,2.596560001373291,3.0156400203704834,2.9380099773406982,3.4545700550079346,3.273200035095215,3.3461899757385254,2.899240016937256,3.1229801177978516,3.4565200805664062,3.150010108947754,3.1579699516296387,3.446460008621216,3.200439929962158,2.57807993888855,3.360919952392578,3.318660020828247,2.3797500133514404,3.144860029220581,3.4394500255584717,3.4384400844573975,2.8025400638580322,3.1382899284362793,2.8446600437164307,3.220370054244995,2.889169931411743,3.059570074081421,2.7954399585723877,3.18599009513855,2.964600086212158,3.3859899044036865,3.266930103302002,3.4514100551605225,3.125619888305664,3.332669973373413,2.982800006866455,3.143709897994995,3.1440200805664062,3.0473101139068604,3.1515800952911377,2.7112200260162354,3.1146700382232666,3.2249999046325684,3.020740032196045,3.249500036239624,2.6011900901794434,3.128000020980835,3.1310698986053467,3.1073899269104004,3.016079902648926,3.287450075149536,2.95917010307312,2.946549892425537,2.9602599143981934,2.7300000190734863,2.6670401096343994,3.3872299194335938,2.7132298946380615,3.0158300399780273,3.130239963531494,2.748810052871704,2.8676300048828125,3.01488995552063,2.780050039291382,3.335819959640503,3.387619972229004,3.116179943084717,2.6454200744628906,2.6875100135803223,3.0698299407958984,2.8501999378204346,2.6913599967956543,3.3836400508880615,2.9493401050567627,2.9249799251556396,3.000610113143921,2.8742899894714355,2.6512598991394043,2.6106600761413574,2.6117799282073975,3.1217598915100098,2.7921199798583984,3.0937600135803223,2.601099967956543,3.150589942932129,2.602289915084839,2.6598498821258545,3.277090072631836,3.10903000831604,3.0238099098205566,3.230259895324707,3.23895001411438,2.71697998046875,2.934619903564453,3.321619987487793,2.7202999591827393,2.937040090560913,3.063610076904297,2.6414101123809814,2.763890027999878,2.7484500408172607,3.0353000164031982,3.006779909133911,2.642899990081787,2.9430201053619385,3.017080068588257,3.015010118484497,2.650089979171753,2.9550600051879883,2.5358099937438965,2.7519099712371826,2.6486001014709473,2.7051401138305664,2.658479928970337,3.2104101181030273,2.622309923171997,2.9395499229431152,2.8034799098968506,2.65231990814209,2.48117995262146,3.0996499061584473,2.6226799488067627,2.9244699478149414,2.694689989089966,2.891050100326538,3.1059000492095947,3.1076500415802,2.578900098800659,3.449359893798828,2.6999800205230713,3.2183799743652344,3.119220018386841,3.0401999950408936,3.075819969177246,3.0340399742126465,3.0654399394989014,3.0594398975372314,3.075279951095581,3.135190010070801,2.580509901046753,2.532360076904297,3.2183899879455566,3.0559699535369873,3.0563900470733643,3.2836499214172363,3.430850028991699,3.105570077896118,3.076620101928711,3.2305500507354736,3.059309959411621,3.0203299522399902,3.071320056915283,3.010819911956787,2.65844988822937,2.977440118789673,2.872159957885742,2.658900022506714,2.6451098918914795,2.6628201007843018,2.689199924468994,2.6341700553894043,2.7441599369049072,3.0781800746917725,3.124929904937744,3.0236198902130127,3.4397199153900146,3.438110113143921,3.109489917755127,2.652559995651245,3.1353800296783447,3.0902700424194336,2.691420078277588,3.3778600692749023,3.0277099609375,2.5660901069641113,2.5655899047851562,2.5646400451660156,2.5667600631713867,2.565030097961426,3.1136300563812256,3.397860050201416,2.625770092010498,3.102260112762451,2.8706400394439697,2.64667010307312,2.6295299530029297,2.644710063934326,2.646549940109253,2.652479887008667,2.6378400325775146,2.63604998588562,2.6268200874328613,2.6274900436401367,2.648439884185791,2.646929979324341,2.8733301162719727,2.7390100955963135,3.059570074081421,3.057310104370117,3.0952999591827393,2.6508400440216064,2.4824600219726562,2.392169952392578,2.9195199012756348,2.6698899269104004,2.648819923400879,2.643980026245117,2.6791200637817383,2.487230062484741,3.033910036087036,2.873310089111328,2.8406100273132324,3.13959002494812,2.6207799911499023,3.219360113143921,2.6500799655914307,2.6523799896240234,2.6503000259399414,2.650830030441284,2.6431798934936523,3.1602299213409424,2.4717400074005127,3.009999990463257,3.393860101699829,2.9814600944519043,2.666440010070801,2.5482399463653564,3.1158900260925293,2.6217401027679443,3.133549928665161,3.021739959716797,2.9650399684906006,2.6838600635528564,3.087100028991699,2.935659885406494,3.0845398902893066,3.0373098850250244,2.388819932937622,2.6652300357818604,3.1153900623321533,3.0352799892425537,3.106410026550293,3.134500026702881,2.432800054550171,3.0757100582122803,3.15841007232666,2.842519998550415,3.249809980392456,2.71697998046875,3.2177300453186035,2.787400007247925,3.0278799533843994,2.8708701133728027,2.6481900215148926,3.4296000003814697,3.223020076751709,3.334709882736206,2.862920045852661,2.6618199348449707,2.7379701137542725,3.1636300086975098,2.6457700729370117,3.0984299182891846,3.332740068435669,3.015089988708496,3.1725099086761475,3.057610034942627,2.7193500995635986,3.3330399990081787,2.5701301097869873,2.3929200172424316,3.3967199325561523,2.3915200233459473,3.3345000743865967,3.26134991645813,3.123080015182495,3.0121700763702393,2.5935800075531006,3.057379961013794,3.0141000747680664,3.036940097808838,2.9098799228668213,2.7908999919891357,2.8752601146698,2.7429299354553223,2.7400400638580322,3.0144200325012207,2.8445000648498535,2.739000082015991,2.7405600547790527,2.775480031967163,3.3330399990081787,2.832900047302246,2.674870014190674,2.903049945831299,3.0126399993896484,2.7246100902557373,2.6178600788116455,2.4771499633789062,3.099090099334717,3.021899938583374,3.2045600414276123,2.6666500568389893,2.66648006439209,3.377959966659546,3.1170499324798584,3.1179099082946777,3.1185600757598877,3.1168899536132812,2.696160078048706,3.0523500442504883,3.137269973754883,2.874239921569824,2.7432100772857666,3.0165600776672363,3.077579975128174,2.947770118713379,2.735599994659424,3.1190199851989746,3.075089931488037,2.9303998947143555,3.106019973754883,2.3677899837493896,3.0775599479675293,3.13319993019104,2.8673501014709473,2.8431599140167236,3.074079990386963,3.0535500049591064,2.606980085372925,3.115679979324341,3.136630058288574,3.0776898860931396,3.192699909210205,3.4664499759674072,3.438499927520752,3.4397499561309814,2.931770086288452,2.75642991065979,3.132999897003174,2.7173800468444824,2.6227099895477295,2.623889923095703,2.6254398822784424,3.2983200550079346,2.6788699626922607,2.6489200592041016,2.643399953842163,2.5779500007629395,2.6974101066589355,3.1201999187469482,3.113229990005493,3.1934800148010254,3.1181600093841553,2.890350103378296,3.155019998550415,2.6599299907684326,3.1525299549102783,3.077630043029785,3.1552700996398926,3.2272000312805176,2.9876999855041504,2.9930200576782227,3.115950107574463,2.6547300815582275,3.1128299236297607,3.0,3.070120096206665,2.9174599647521973,3.0744800567626953,2.936800003051758,3.062079906463623,3.1095499992370605,2.814889907836914,2.872459888458252,2.635859966278076,2.5792999267578125,3.1166799068450928,2.4702999591827393,2.6505401134490967,2.564919948577881,3.055109977722168,3.1553800106048584,3.1250100135803223,2.51023006439209,3.1485800743103027,3.1150500774383545,3.1519899368286133,3.1287999153137207,2.9887099266052246,2.6376099586486816,2.890779972076416,2.710629940032959,2.484649896621704,3.3945600986480713,2.6624600887298584,2.956700086593628,3.0683701038360596,2.712470054626465,3.1550700664520264,3.4382200241088867,2.541840076446533,3.0313498973846436,2.7339000701904297,2.653909921646118,3.1088099479675293,3.0484299659729004,3.4568300247192383,3.457509994506836,3.4562699794769287,2.6692099571228027,3.135319948196411,2.957279920578003,3.4569499492645264,3.25858998298645,3.133080005645752,2.654819965362549,2.7107200622558594,2.471220016479492,2.6771700382232666,3.4308600425720215,3.1221799850463867,2.787100076675415,3.155819892883301,3.13316011428833,3.114609956741333,2.7022500038146973,3.0130999088287354,3.0863699913024902,2.8875598907470703,3.1525700092315674,2.6962599754333496,2.7252700328826904,2.741770029067993,3.118119955062866,3.1299901008605957,2.697580099105835,2.7403500080108643,3.1016199588775635,2.6905899047851562,2.896470069885254,3.221359968185425,3.2194900512695312,2.655869960784912,3.1153500080108643,2.6264700889587402,3.3939099311828613,3.109610080718994,3.0553998947143555,3.0659000873565674,2.875190019607544,3.076659917831421,3.080699920654297,3.0764400959014893,2.7235300540924072,2.995879888534546,3.1150999069213867,3.0539300441741943,3.052680015563965,2.6623001098632812,3.02059006690979,3.3959600925445557,3.1736299991607666,2.6564600467681885,2.7875399589538574,3.105259895324707,2.88388991355896,3.3882598876953125,2.660550117492676,3.3719000816345215,3.0846199989318848,2.984639883041382,3.1149699687957764,2.7328600883483887,3.0198700428009033,3.233259916305542,3.1259000301361084,3.385629892349243,2.708050012588501,2.696729898452759,3.126919984817505,2.6454598903656006,2.9814400672912598,2.936530113220215,3.220489978790283,2.9832100868225098,3.116309881210327,3.1206700801849365,3.118649959564209,2.984529972076416,3.114690065383911,2.7053799629211426,3.1747899055480957,3.011590003967285,2.6350600719451904,3.2343900203704834,3.1140599250793457,3.113830089569092,2.6408300399780273,3.1173200607299805,3.0498099327087402,2.593519926071167,3.046570062637329,3.0455100536346436,3.0742900371551514,2.9321200847625732,3.1305301189422607,3.1202199459075928,3.0634799003601074,2.9522500038146973,2.7293500900268555,3.368910074234009,3.1154000759124756,3.262619972229004,2.962599992752075,3.334789991378784,3.2296600341796875,2.9622700214385986,3.1556899547576904,3.1339199542999268,2.4785799980163574,2.804069995880127,2.465179920196533,2.9702000617980957,2.9916601181030273,3.0279300212860107,3.351069927215576,3.079819917678833,3.081820011138916,3.114880084991455,3.008430004119873,2.915910005569458,2.689039945602417,2.900399923324585,3.1087698936462402,2.7726500034332275,3.1153900623321533,2.5905399322509766,2.654099941253662,3.2790300846099854,3.078619956970215,3.174609899520874,3.174959897994995,3.1732499599456787,3.1194000244140625,3.1732699871063232,3.173650026321411,3.115689992904663,3.115070104598999,3.1566500663757324,3.2204999923706055,3.0811500549316406,3.1288199424743652,3.116300106048584,2.6220901012420654,2.622309923171997,2.6239500045776367,2.622570037841797,2.7479100227355957,3.084670066833496,3.1151700019836426,2.653330087661743,3.0052099227905273,2.605799913406372,3.2194299697875977,2.753429889678955,2.6326000690460205,3.111560106277466,2.9500300884246826,2.901560068130493,3.0599300861358643,3.3323099613189697,3.1021299362182617,2.6928300857543945,2.7280099391937256,2.649060010910034,2.753740072250366,2.5979700088500977,3.13004994392395,3.116990089416504,2.975250005722046,2.752340078353882,2.7523701190948486,3.3586199283599854,3.07817006111145,2.986639976501465,3.1390199661254883,2.631500005722046,2.6306099891662598,3.1344199180603027,3.3314099311828613,3.3303298950195312,2.6378300189971924,2.634589910507202,2.524780035018921,2.9440200328826904,2.9375600814819336,3.2578699588775635,3.329210042953491,3.1133599281311035,2.6076200008392334,2.6672799587249756,3.0195400714874268,3.330440044403076,2.991760015487671,2.7859199047088623,3.1057798862457275,2.6937100887298584,2.78548002243042,2.9265799522399902,2.6977200508117676,2.5367300510406494,3.371840000152588,3.1020500659942627,3.2315900325775146,3.024549961090088,3.384809970855713,2.669100046157837,3.025019884109497,3.4522500038146973,3.1625499725341797,3.2328500747680664,2.887310028076172,2.7532598972320557,3.062530040740967,3.105020046234131,3.4385499954223633,3.039060115814209,2.9118800163269043,3.4381299018859863,3.43818998336792,3.331789970397949,2.6519999504089355,3.260010004043579,3.1914899349212646,3.048379898071289,3.1266698837280273,3.332550048828125,3.049060106277466,3.038170099258423,3.0132100582122803,3.021739959716797,3.0267701148986816,2.860100030899048,2.481600046157837,3.13277006149292,3.048530101776123,2.660209894180298,3.0866200923919678,3.122260093688965,2.872580051422119,3.1065800189971924,2.5686800479888916,2.693079948425293,2.774519920349121,3.1161201000213623,3.1308400630950928,2.830970048904419,3.240220069885254,3.081860065460205,2.6914000511169434,2.699620008468628,2.69320011138916,3.273519992828369,2.752739906311035,3.372380018234253,2.6303999423980713,2.641010046005249,2.5560100078582764,3.0142500400543213,3.0268900394439697,2.835390090942383,2.69635009765625,3.1335999965667725,3.1092000007629395,2.566930055618286,2.692889928817749,2.8465099334716797,3.028439998626709,3.1165099143981934,3.461549997329712,3.017210006713867,2.988879919052124,2.6328399181365967,2.9821200370788574,2.6241700649261475,3.113610029220581,2.468319892883301,2.8363099098205566,3.1543099880218506,3.119729995727539,2.9856200218200684,3.120919942855835,3.078389883041382,3.0609400272369385,3.151479959487915,3.153249979019165,2.6352200508117676,2.632970094680786,2.7240400314331055,3.158250093460083,2.902519941329956,3.1195600032806396,3.2229599952697754,2.9513099193573,2.691800117492676,3.0298399925231934,3.2576398849487305,3.217979907989502,3.1838300228118896,2.9007999897003174,2.8385300636291504,2.6601500511169434,2.985529899597168,2.6977200508117676,3.1427199840545654,2.5885400772094727,3.351569890975952,3.1190500259399414,3.110869884490967,2.83978009223938,3.3319098949432373,3.4557199478149414,3.0871999263763428,3.332279920578003,3.330440044403076,2.750499963760376,3.3861899375915527,3.1502199172973633,2.6571600437164307,2.7479000091552734,2.636660099029541,3.046910047531128,3.1078999042510986,2.654139995574951,3.1227200031280518,2.849020004272461,2.6890900135040283,3.3837099075317383,3.225640058517456,3.2270400524139404,3.2207601070404053,2.6969199180603027,3.0129899978637695,3.103369951248169,3.1548500061035156,2.6225199699401855,2.695280075073242,2.6069300174713135,3.1111700534820557,2.6938400268554688,3.0641798973083496,2.7353498935699463,2.757740020751953,2.900019884109497,3.334739923477173,3.130280017852783,3.3849799633026123,3.244230031967163,3.1194400787353516,3.118340015411377,3.1376700401306152,3.1166698932647705,2.6913399696350098,3.0519700050354004,3.330709934234619,2.6461899280548096,3.14559006690979,2.691080093383789,2.661940097808838,3.085330009460449,3.0943100452423096,3.028670072555542,2.6312999725341797,3.1305201053619385,3.1488099098205566,3.052809953689575,3.230639934539795,2.6514101028442383,2.7528300285339355,2.887350082397461,2.838979959487915,2.6889100074768066,3.0027899742126465,3.261960029602051,3.192039966583252,3.026859998703003,3.0162301063537598,2.6272599697113037,2.9875600337982178,2.9889400005340576,3.1691200733184814,3.2803900241851807,3.3476901054382324,3.372260093688965,3.314379930496216,3.25573992729187,2.380199909210205,2.6933400630950928,2.6718599796295166,2.6237499713897705,3.0531599521636963,3.1519899368286133,3.130120038986206,3.091140031814575,2.6341099739074707,2.648590087890625,3.026210069656372,3.332279920578003,3.1182498931884766,2.7018699645996094,3.1187100410461426,3.116179943084717,2.709549903869629,2.6529600620269775,3.095170021057129,2.948740005493164,3.3323099613189697,2.981369972229004,3.129849910736084,3.163719892501831,3.1428000926971436,2.5769999027252197,3.238300085067749,3.1150500774383545,2.7712600231170654,2.64766001701355,3.022209882736206,3.0988399982452393,3.0143001079559326,3.0801899433135986,3.132349967956543,3.385430097579956,3.0251100063323975,3.128200054168701,2.7763099670410156,3.1506500244140625,2.7134199142456055,3.1127099990844727,2.5592401027679443,2.9022300243377686,2.720139980316162,2.624380111694336,3.0065999031066895,2.6891400814056396,3.3302299976348877,2.792340040206909,2.6488399505615234,2.880510091781616,3.068190097808838,2.934760093688965,2.995120048522949,2.69596004486084,3.0811400413513184,2.4826200008392334,3.1156299114227295,2.622119903564453,2.6691200733184814,2.6060099601745605,2.6454200744628906,3.0573298931121826,3.056190013885498,3.1826000213623047,2.75137996673584,3.1159799098968506,3.2634999752044678,3.2441799640655518,3.463629961013794,3.2434799671173096,3.2431600093841553,3.11299991607666,2.623800039291382,2.646209955215454,3.259510040283203,2.678760051727295,3.3775699138641357,3.0143001079559326,2.6428399085998535,2.6493000984191895,3.224299907684326,3.1142799854278564,2.6436100006103516,3.312230110168457,2.643630027770996,2.6912100315093994,3.115499973297119,3.1156399250030518,3.1140799522399902,3.11434006690979,3.0751700401306152,3.0970299243927,3.3177599906921387,3.2305099964141846,2.733680009841919,2.523819923400879,2.6341400146484375,2.6527199745178223,3.1166601181030273,3.052500009536743,2.698770046234131,3.0295400619506836,3.062769889831543,2.9607601165771484,2.6989800930023193,2.657989978790283,2.4812099933624268,2.4812400341033936,2.786750078201294,3.115880012512207,2.823620080947876,2.986340045928955,3.1157100200653076,2.7484800815582275,2.722209930419922,2.747770071029663,3.1254100799560547,3.1422200202941895,2.596299886703491,2.805649995803833,3.0806100368499756,3.103679895401001,2.7993199825286865,2.641860008239746,2.6499500274658203,3.1236701011657715,3.119610071182251,3.1296000480651855,3.0222699642181396,2.749119997024536,3.1556499004364014,2.475490093231201,2.5794100761413574,3.3721699714660645,3.374269962310791,3.1555800437927246,2.725790023803711,2.7140300273895264,3.1051900386810303,3.259850025177002,2.6168999671936035,2.7464699745178223,3.1239099502563477,2.870690107345581,2.7138900756835938,3.2366700172424316,2.810960054397583,2.392630100250244,3.11368989944458,2.6314098834991455,2.6490299701690674,3.0451500415802,3.2262799739837646,2.9264800548553467,2.8894400596618652,2.8714499473571777,3.13703989982605,3.121299982070923,3.1200098991394043,2.9129199981689453,3.017849922180176,3.2639400959014893,2.6644599437713623,3.0122599601745605,3.0563299655914307,2.7506399154663086,3.3713300228118896,3.078900098800659,2.421109914779663,3.228300094604492,3.0678598880767822,2.614949941635132,3.3870298862457275,2.632730007171631,2.8975698947906494,3.386889934539795,2.6057701110839844,2.6234800815582275,2.4460198879241943,3.1242098808288574,3.253350019454956,3.450730085372925,2.6470799446105957,3.379009962081909,3.377530097961426,3.120810031890869,2.9977200031280518,3.0161800384521484,2.9130499362945557,3.106339931488037,3.1355199813842773,3.2099499702453613,2.6217799186706543,2.5443100929260254,2.8572399616241455,3.0447099208831787,3.1364998817443848,2.842679977416992,2.843950033187866,3.1124401092529297,3.1101698875427246,2.6362099647521973,3.0582499504089355,2.480720043182373,2.937930107116699,3.0893800258636475,3.119770050048828,3.1078600883483887,3.1180500984191895,2.6902599334716797,3.1258599758148193,2.753119945526123,3.2871499061584473,3.0166800022125244,2.7538199424743652,2.686379909515381,3.0754799842834473,3.4359099864959717,3.4504199028015137,2.77620005607605,2.902100086212158,2.670140027999878,2.656589984893799,2.8857600688934326,2.6570498943328857,3.1444098949432373,2.436739921569824,3.1161699295043945,3.035029888153076,2.964240074157715,2.6463799476623535,2.6591598987579346,3.0818700790405273,3.0106799602508545,2.7560200691223145,2.753459930419922,2.6344900131225586,2.9837899208068848,2.613420009613037,2.623029947280884,3.0855300426483154,2.5970799922943115,3.388439893722534,3.3953399658203125,3.1526100635528564,3.060080051422119,3.0237700939178467,3.0785300731658936,3.0776100158691406,2.985379934310913,2.7509899139404297,3.2520999908447266,2.9846200942993164,2.6258299350738525,2.625159978866577,2.653439998626709,3.2204999923706055,3.111269950866699,2.6570799350738525,3.1107900142669678,2.903559923171997,2.6651101112365723,2.7537600994110107,3.3347198963165283,3.0820701122283936,2.5437300205230713,2.6157801151275635,2.7838900089263916,2.576090097427368,2.7546699047088623,2.635279893875122,3.4496500492095947,3.0552499294281006,3.010240077972412,2.6243700981140137,2.909749984741211,3.4341299533843994,3.1106300354003906,3.2312400341033936,2.7155399322509766,2.6538000106811523,2.614650011062622,2.96835994720459,3.13139009475708,2.7216899394989014,2.653409957885742,2.671600103378296,2.678719997406006,2.7063000202178955,2.9033401012420654,3.230649948120117,3.129960060119629,3.232409954071045,2.75462007522583,3.078540086746216,2.5890800952911377,3.3163399696350098,3.2307300567626953,3.2320399284362793,3.1056599617004395,2.6254899501800537,3.164530038833618,2.6714000701904297,2.9069700241088867,3.218130111694336,2.659719944000244,2.5449700355529785,2.9504499435424805,3.4372799396514893,2.931260108947754,2.6218600273132324,3.0096499919891357,2.666290044784546,3.0574100017547607,2.6662299633026123,2.6664700508117676,3.3169400691986084,2.6495699882507324,3.3169898986816406,2.65339994430542,2.666529893875122,2.7529399394989014,2.6464900970458984,3.1077699661254883,3.169179916381836,2.6552300453186035,3.2175099849700928,2.5975100994110107,2.6354799270629883,2.750349998474121,2.755970001220703,2.901900053024292,2.916110038757324,3.2345800399780273,2.943660020828247,2.6830999851226807,2.6557400226593018,2.6550300121307373,2.6896400451660156,2.6492300033569336,2.645020008087158,2.652750015258789,2.895509958267212,2.665250062942505,2.7027499675750732,2.627239942550659,3.159369945526123,2.7576799392700195,2.893209934234619,2.650320053100586,2.652060031890869,2.650820016860962,2.6506900787353516,2.652980089187622,2.651750087738037,2.6507699489593506,3.058929920196533,2.6457300186157227,3.058490037918091,3.2481698989868164,2.596329927444458],\"marker\":{\"color\":\"red\"},\"mode\":\"markers\",\"name\":\"\",\"showlegend\":false,\"subplot\":\"mapbox\",\"type\":\"scattermapbox\"}],                        {\"height\":400,\"legend\":{\"tracegroupgap\":0},\"mapbox\":{\"center\":{\"lat\":39.65080642700195,\"lon\":2.960902690887451},\"domain\":{\"x\":[0.0,1.0],\"y\":[0.0,1.0]},\"style\":\"open-street-map\",\"zoom\":8},\"margin\":{\"b\":0,\"l\":0,\"r\":0,\"t\":0},\"template\":{\"data\":{\"bar\":[{\"error_x\":{\"color\":\"#2a3f5f\"},\"error_y\":{\"color\":\"#2a3f5f\"},\"marker\":{\"line\":{\"color\":\"#E5ECF6\",\"width\":0.5},\"pattern\":{\"fillmode\":\"overlay\",\"size\":10,\"solidity\":0.2}},\"type\":\"bar\"}],\"barpolar\":[{\"marker\":{\"line\":{\"color\":\"#E5ECF6\",\"width\":0.5},\"pattern\":{\"fillmode\":\"overlay\",\"size\":10,\"solidity\":0.2}},\"type\":\"barpolar\"}],\"carpet\":[{\"aaxis\":{\"endlinecolor\":\"#2a3f5f\",\"gridcolor\":\"white\",\"linecolor\":\"white\",\"minorgridcolor\":\"white\",\"startlinecolor\":\"#2a3f5f\"},\"baxis\":{\"endlinecolor\":\"#2a3f5f\",\"gridcolor\":\"white\",\"linecolor\":\"white\",\"minorgridcolor\":\"white\",\"startlinecolor\":\"#2a3f5f\"},\"type\":\"carpet\"}],\"choropleth\":[{\"colorbar\":{\"outlinewidth\":0,\"ticks\":\"\"},\"type\":\"choropleth\"}],\"contour\":[{\"colorbar\":{\"outlinewidth\":0,\"ticks\":\"\"},\"colorscale\":[[0.0,\"#0d0887\"],[0.1111111111111111,\"#46039f\"],[0.2222222222222222,\"#7201a8\"],[0.3333333333333333,\"#9c179e\"],[0.4444444444444444,\"#bd3786\"],[0.5555555555555556,\"#d8576b\"],[0.6666666666666666,\"#ed7953\"],[0.7777777777777778,\"#fb9f3a\"],[0.8888888888888888,\"#fdca26\"],[1.0,\"#f0f921\"]],\"type\":\"contour\"}],\"contourcarpet\":[{\"colorbar\":{\"outlinewidth\":0,\"ticks\":\"\"},\"type\":\"contourcarpet\"}],\"heatmap\":[{\"colorbar\":{\"outlinewidth\":0,\"ticks\":\"\"},\"colorscale\":[[0.0,\"#0d0887\"],[0.1111111111111111,\"#46039f\"],[0.2222222222222222,\"#7201a8\"],[0.3333333333333333,\"#9c179e\"],[0.4444444444444444,\"#bd3786\"],[0.5555555555555556,\"#d8576b\"],[0.6666666666666666,\"#ed7953\"],[0.7777777777777778,\"#fb9f3a\"],[0.8888888888888888,\"#fdca26\"],[1.0,\"#f0f921\"]],\"type\":\"heatmap\"}],\"heatmapgl\":[{\"colorbar\":{\"outlinewidth\":0,\"ticks\":\"\"},\"colorscale\":[[0.0,\"#0d0887\"],[0.1111111111111111,\"#46039f\"],[0.2222222222222222,\"#7201a8\"],[0.3333333333333333,\"#9c179e\"],[0.4444444444444444,\"#bd3786\"],[0.5555555555555556,\"#d8576b\"],[0.6666666666666666,\"#ed7953\"],[0.7777777777777778,\"#fb9f3a\"],[0.8888888888888888,\"#fdca26\"],[1.0,\"#f0f921\"]],\"type\":\"heatmapgl\"}],\"histogram\":[{\"marker\":{\"pattern\":{\"fillmode\":\"overlay\",\"size\":10,\"solidity\":0.2}},\"type\":\"histogram\"}],\"histogram2d\":[{\"colorbar\":{\"outlinewidth\":0,\"ticks\":\"\"},\"colorscale\":[[0.0,\"#0d0887\"],[0.1111111111111111,\"#46039f\"],[0.2222222222222222,\"#7201a8\"],[0.3333333333333333,\"#9c179e\"],[0.4444444444444444,\"#bd3786\"],[0.5555555555555556,\"#d8576b\"],[0.6666666666666666,\"#ed7953\"],[0.7777777777777778,\"#fb9f3a\"],[0.8888888888888888,\"#fdca26\"],[1.0,\"#f0f921\"]],\"type\":\"histogram2d\"}],\"histogram2dcontour\":[{\"colorbar\":{\"outlinewidth\":0,\"ticks\":\"\"},\"colorscale\":[[0.0,\"#0d0887\"],[0.1111111111111111,\"#46039f\"],[0.2222222222222222,\"#7201a8\"],[0.3333333333333333,\"#9c179e\"],[0.4444444444444444,\"#bd3786\"],[0.5555555555555556,\"#d8576b\"],[0.6666666666666666,\"#ed7953\"],[0.7777777777777778,\"#fb9f3a\"],[0.8888888888888888,\"#fdca26\"],[1.0,\"#f0f921\"]],\"type\":\"histogram2dcontour\"}],\"mesh3d\":[{\"colorbar\":{\"outlinewidth\":0,\"ticks\":\"\"},\"type\":\"mesh3d\"}],\"parcoords\":[{\"line\":{\"colorbar\":{\"outlinewidth\":0,\"ticks\":\"\"}},\"type\":\"parcoords\"}],\"pie\":[{\"automargin\":true,\"type\":\"pie\"}],\"scatter\":[{\"marker\":{\"colorbar\":{\"outlinewidth\":0,\"ticks\":\"\"}},\"type\":\"scatter\"}],\"scatter3d\":[{\"line\":{\"colorbar\":{\"outlinewidth\":0,\"ticks\":\"\"}},\"marker\":{\"colorbar\":{\"outlinewidth\":0,\"ticks\":\"\"}},\"type\":\"scatter3d\"}],\"scattercarpet\":[{\"marker\":{\"colorbar\":{\"outlinewidth\":0,\"ticks\":\"\"}},\"type\":\"scattercarpet\"}],\"scattergeo\":[{\"marker\":{\"colorbar\":{\"outlinewidth\":0,\"ticks\":\"\"}},\"type\":\"scattergeo\"}],\"scattergl\":[{\"marker\":{\"colorbar\":{\"outlinewidth\":0,\"ticks\":\"\"}},\"type\":\"scattergl\"}],\"scattermapbox\":[{\"marker\":{\"colorbar\":{\"outlinewidth\":0,\"ticks\":\"\"}},\"type\":\"scattermapbox\"}],\"scatterpolar\":[{\"marker\":{\"colorbar\":{\"outlinewidth\":0,\"ticks\":\"\"}},\"type\":\"scatterpolar\"}],\"scatterpolargl\":[{\"marker\":{\"colorbar\":{\"outlinewidth\":0,\"ticks\":\"\"}},\"type\":\"scatterpolargl\"}],\"scatterternary\":[{\"marker\":{\"colorbar\":{\"outlinewidth\":0,\"ticks\":\"\"}},\"type\":\"scatterternary\"}],\"surface\":[{\"colorbar\":{\"outlinewidth\":0,\"ticks\":\"\"},\"colorscale\":[[0.0,\"#0d0887\"],[0.1111111111111111,\"#46039f\"],[0.2222222222222222,\"#7201a8\"],[0.3333333333333333,\"#9c179e\"],[0.4444444444444444,\"#bd3786\"],[0.5555555555555556,\"#d8576b\"],[0.6666666666666666,\"#ed7953\"],[0.7777777777777778,\"#fb9f3a\"],[0.8888888888888888,\"#fdca26\"],[1.0,\"#f0f921\"]],\"type\":\"surface\"}],\"table\":[{\"cells\":{\"fill\":{\"color\":\"#EBF0F8\"},\"line\":{\"color\":\"white\"}},\"header\":{\"fill\":{\"color\":\"#C8D4E3\"},\"line\":{\"color\":\"white\"}},\"type\":\"table\"}]},\"layout\":{\"annotationdefaults\":{\"arrowcolor\":\"#2a3f5f\",\"arrowhead\":0,\"arrowwidth\":1},\"autotypenumbers\":\"strict\",\"coloraxis\":{\"colorbar\":{\"outlinewidth\":0,\"ticks\":\"\"}},\"colorscale\":{\"diverging\":[[0,\"#8e0152\"],[0.1,\"#c51b7d\"],[0.2,\"#de77ae\"],[0.3,\"#f1b6da\"],[0.4,\"#fde0ef\"],[0.5,\"#f7f7f7\"],[0.6,\"#e6f5d0\"],[0.7,\"#b8e186\"],[0.8,\"#7fbc41\"],[0.9,\"#4d9221\"],[1,\"#276419\"]],\"sequential\":[[0.0,\"#0d0887\"],[0.1111111111111111,\"#46039f\"],[0.2222222222222222,\"#7201a8\"],[0.3333333333333333,\"#9c179e\"],[0.4444444444444444,\"#bd3786\"],[0.5555555555555556,\"#d8576b\"],[0.6666666666666666,\"#ed7953\"],[0.7777777777777778,\"#fb9f3a\"],[0.8888888888888888,\"#fdca26\"],[1.0,\"#f0f921\"]],\"sequentialminus\":[[0.0,\"#0d0887\"],[0.1111111111111111,\"#46039f\"],[0.2222222222222222,\"#7201a8\"],[0.3333333333333333,\"#9c179e\"],[0.4444444444444444,\"#bd3786\"],[0.5555555555555556,\"#d8576b\"],[0.6666666666666666,\"#ed7953\"],[0.7777777777777778,\"#fb9f3a\"],[0.8888888888888888,\"#fdca26\"],[1.0,\"#f0f921\"]]},\"colorway\":[\"#636efa\",\"#EF553B\",\"#00cc96\",\"#ab63fa\",\"#FFA15A\",\"#19d3f3\",\"#FF6692\",\"#B6E880\",\"#FF97FF\",\"#FECB52\"],\"font\":{\"color\":\"#2a3f5f\"},\"geo\":{\"bgcolor\":\"white\",\"lakecolor\":\"white\",\"landcolor\":\"#E5ECF6\",\"showlakes\":true,\"showland\":true,\"subunitcolor\":\"white\"},\"hoverlabel\":{\"align\":\"left\"},\"hovermode\":\"closest\",\"mapbox\":{\"style\":\"light\"},\"paper_bgcolor\":\"white\",\"plot_bgcolor\":\"#E5ECF6\",\"polar\":{\"angularaxis\":{\"gridcolor\":\"white\",\"linecolor\":\"white\",\"ticks\":\"\"},\"bgcolor\":\"#E5ECF6\",\"radialaxis\":{\"gridcolor\":\"white\",\"linecolor\":\"white\",\"ticks\":\"\"}},\"scene\":{\"xaxis\":{\"backgroundcolor\":\"#E5ECF6\",\"gridcolor\":\"white\",\"gridwidth\":2,\"linecolor\":\"white\",\"showbackground\":true,\"ticks\":\"\",\"zerolinecolor\":\"white\"},\"yaxis\":{\"backgroundcolor\":\"#E5ECF6\",\"gridcolor\":\"white\",\"gridwidth\":2,\"linecolor\":\"white\",\"showbackground\":true,\"ticks\":\"\",\"zerolinecolor\":\"white\"},\"zaxis\":{\"backgroundcolor\":\"#E5ECF6\",\"gridcolor\":\"white\",\"gridwidth\":2,\"linecolor\":\"white\",\"showbackground\":true,\"ticks\":\"\",\"zerolinecolor\":\"white\"}},\"shapedefaults\":{\"line\":{\"color\":\"#2a3f5f\"}},\"ternary\":{\"aaxis\":{\"gridcolor\":\"white\",\"linecolor\":\"white\",\"ticks\":\"\"},\"baxis\":{\"gridcolor\":\"white\",\"linecolor\":\"white\",\"ticks\":\"\"},\"bgcolor\":\"#E5ECF6\",\"caxis\":{\"gridcolor\":\"white\",\"linecolor\":\"white\",\"ticks\":\"\"}},\"title\":{\"x\":0.05},\"xaxis\":{\"automargin\":true,\"gridcolor\":\"white\",\"linecolor\":\"white\",\"ticks\":\"\",\"title\":{\"standoff\":15},\"zerolinecolor\":\"white\",\"zerolinewidth\":2},\"yaxis\":{\"automargin\":true,\"gridcolor\":\"white\",\"linecolor\":\"white\",\"ticks\":\"\",\"title\":{\"standoff\":15},\"zerolinecolor\":\"white\",\"zerolinewidth\":2}}}},                        {\"responsive\": true}                    ).then(function(){\n",
              "                            \n",
              "var gd = document.getElementById('10a506ed-d01a-422c-bbda-bd944106a350');\n",
              "var x = new MutationObserver(function (mutations, observer) {{\n",
              "        var display = window.getComputedStyle(gd).display;\n",
              "        if (!display || display === 'none') {{\n",
              "            console.log([gd, 'removed!']);\n",
              "            Plotly.purge(gd);\n",
              "            observer.disconnect();\n",
              "        }}\n",
              "}});\n",
              "\n",
              "// Listen for the removal of the full notebook cells\n",
              "var notebookContainer = gd.closest('#notebook-container');\n",
              "if (notebookContainer) {{\n",
              "    x.observe(notebookContainer, {childList: true});\n",
              "}}\n",
              "\n",
              "// Listen for the clearing of the current output cell\n",
              "var outputEl = gd.closest('.output');\n",
              "if (outputEl) {{\n",
              "    x.observe(outputEl, {childList: true});\n",
              "}}\n",
              "\n",
              "                        })                };                            </script>        </div>\n",
              "</body>\n",
              "</html>"
            ]
          },
          "metadata": {
            "tags": []
          }
        }
      ]
    },
    {
      "cell_type": "code",
      "metadata": {
        "colab": {
          "base_uri": "https://localhost:8080/",
          "height": 472
        },
        "id": "2uvjYec_r1So",
        "outputId": "855fadc5-5f1a-41b7-b8cd-fdba2249b81e"
      },
      "source": [
        "plt.rcdefaults()\n",
        "fig, ax = plt.subplots()\n",
        "\n",
        "# Example data\n",
        "room = df_listado_solucion2['room_type'].unique()\n",
        "y_pos = np.arange(len(room))\n",
        "performance = [5608, 636, 6]\n",
        "\n",
        "ax.barh(y_pos, performance, align='center')\n",
        "ax.set_yticks(y_pos)\n",
        "ax.set_yticklabels(room)\n",
        "ax.invert_yaxis()  # labels read top-to-bottom\n",
        "ax.set_xlabel('Cantidad')\n",
        "ax.set_title('Tipos de habitacion')\n",
        "for i in range(len(room)):\n",
        "    plt.annotate(performance[i], (performance[i] +2,-0.1 + i))\n",
        "plt.show()"
      ],
      "execution_count": 108,
      "outputs": [
        {
          "output_type": "display_data",
          "data": {
            "image/png": "[encoded data removed]",
            "text/plain": [
              "<Figure size 640x480 with 1 Axes>"
            ]
          },
          "metadata": {
            "tags": []
          }
        }
      ]
    },
    {
      "cell_type": "code",
      "metadata": {
        "colab": {
          "base_uri": "https://localhost:8080/",
          "height": 472
        },
        "id": "iNsdvNi8rrsZ",
        "outputId": "a6dff360-6370-4b87-f13f-9de0dda6d33d"
      },
      "source": [
        "plt.rcdefaults()\n",
        "fig, ax = plt.subplots()\n",
        "\n",
        "# Example data\n",
        "propiedad = df_listado_solucion2['property_type'].unique()\n",
        "propiedad = propiedad[:13]\n",
        "y_pos = np.arange(len(propiedad))\n",
        "performance = [2180, 1433, 1347, 365, 248, 160, 101, 61, 52, 45, 45, 41, 37]\n",
        "\n",
        "ax.barh(y_pos, performance, align='center')\n",
        "ax.set_yticks(y_pos)\n",
        "ax.set_yticklabels(propiedad)\n",
        "ax.invert_yaxis()  # labels read top-to-bottom\n",
        "ax.set_xlabel('Cantidad')\n",
        "ax.set_title('Tipos de propiedades')\n",
        "for i in range(len(propiedad)):\n",
        "    plt.annotate(performance[i], (performance[i] + 2, -0.1 + i))\n",
        "plt.show()"
      ],
      "execution_count": 107,
      "outputs": [
        {
          "output_type": "display_data",
          "data": {
            "image/png": "[encoded data removed]",
            "text/plain": [
              "<Figure size 640x480 with 1 Axes>"
            ]
          },
          "metadata": {
            "tags": []
          }
        }
      ]
    },
    {
      "cell_type": "code",
      "metadata": {
        "colab": {
          "base_uri": "https://localhost:8080/",
          "height": 467
        },
        "id": "zkmW47vRb-cR",
        "outputId": "4f69ea63-5cba-4def-8144-363f4ebf5452"
      },
      "source": [
        "sns.histplot(data= df_listado_solucion2, x=\"host_since\", kde=True)"
      ],
      "execution_count": 104,
      "outputs": [
        {
          "output_type": "execute_result",
          "data": {
            "text/plain": [
              "<matplotlib.axes._subplots.AxesSubplot at 0x7fcaab00bf50>"
            ]
          },
          "metadata": {
            "tags": []
          },
          "execution_count": 104
        },
        {
          "output_type": "display_data",
          "data": {
            "image/png": "[encoded data removed]",
            "text/plain": [
              "<Figure size 640x480 with 1 Axes>"
            ]
          },
          "metadata": {
            "tags": []
          }
        }
      ]
    },
    {
      "cell_type": "markdown",
      "metadata": {
        "id": "rFYw7lQMdjIe"
      },
      "source": [
        "## **CONCLUSIONES**"
      ]
    },
    {
      "cell_type": "markdown",
      "metadata": {
        "id": "yCmFsA7behep"
      },
      "source": [
        "En el primer gráfico podemos visualizar los diez barrios mas caros de Palma de Mallorca y cuantas propiedades se encuentran en esta área"
      ]
    },
    {
      "cell_type": "markdown",
      "metadata": {
        "id": "7917K1K9nz5-"
      },
      "source": [
        "Según los segundos graficos expuestos anteriormente, podemos indicar que el tipo de alquiler que mas se utilizó en este segmento de datos fue el alquiler de la casa o apartamento completo. A su vez, el tipo de propiedad mas utilizado es el de la casa."
      ]
    },
    {
      "cell_type": "markdown",
      "metadata": {
        "id": "iiq6fGqynz3l"
      },
      "source": [
        "En el histograma podemos visualizar que al comienzo de la empresas hay una fuerte subida de clientes, teniendo una baja y luego un repunte a mediados del año 2016. Luego de este período, podemos observar un decrecimiento en el ingreso de clientes nuevos."
      ]
    },
    {
      "cell_type": "markdown",
      "metadata": {
        "id": "BFIxqDoSdmC5"
      },
      "source": [
        "## **ALMACENAMIENTO DE DATOS**"
      ]
    },
    {
      "cell_type": "code",
      "metadata": {
        "id": "2ERLkHIDn1iX"
      },
      "source": [
        "df_listado_solucion2.to_csv(\"basededatos.csv\")"
      ],
      "execution_count": 86,
      "outputs": []
    },
    {
      "cell_type": "markdown",
      "metadata": {
        "id": "TFEQRyMykVsU"
      },
      "source": [
        "#### **Conclusión**"
      ]
    },
    {
      "cell_type": "markdown",
      "metadata": {
        "id": "xirCIJzrQzFR"
      },
      "source": [
        "Se guardó el DataFrame en el archivo basededatos.csv luego de la limpieza y transformación que se encontraban en el archivo original. El mismo puede ser utilizado para analisis posteriores."
      ]
    }
  ]
}