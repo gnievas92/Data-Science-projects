{
 "cells": [
  {
   "cell_type": "markdown",
   "metadata": {},
   "source": [
    "\n",
    "## Trabajo de investigación \n",
    "\n",
    "### Guillermo Manuel Nievas\n",
    "\n",
    "\n",
    "#### El dataset cuenta con la información de la suma de todos los vuelos que aterrizaron en el Aeropuerto Internacional de San Francisco (SFO) por mes y por aerolinea desde Julio de 2005 a Junio de 2020.\n",
    "\n",
    "\n",
    "\n",
    "\n"
   ]
  },
  {
   "cell_type": "code",
   "execution_count": 1,
   "metadata": {},
   "outputs": [],
   "source": [
    "#importa numpy\n",
    "import numpy as np\n",
    "#importa pandas\n",
    "import pandas as pd\n",
    "#importo matplot\n",
    "import matplotlib.pyplot as plt\n",
    "%matplotlib inline"
   ]
  },
  {
   "cell_type": "code",
   "execution_count": 2,
   "metadata": {},
   "outputs": [],
   "source": [
    "aeropuertosfo = pd.read_csv(\"Air_Traffic_Landings_Statistics.csv\" , delimiter=',')"
   ]
  },
  {
   "cell_type": "code",
   "execution_count": 3,
   "metadata": {
    "scrolled": true
   },
   "outputs": [
    {
     "data": {
      "text/html": [
       "<div>\n",
       "<style scoped>\n",
       "    .dataframe tbody tr th:only-of-type {\n",
       "        vertical-align: middle;\n",
       "    }\n",
       "\n",
       "    .dataframe tbody tr th {\n",
       "        vertical-align: top;\n",
       "    }\n",
       "\n",
       "    .dataframe thead th {\n",
       "        text-align: right;\n",
       "    }\n",
       "</style>\n",
       "<table border=\"1\" class=\"dataframe\">\n",
       "  <thead>\n",
       "    <tr style=\"text-align: right;\">\n",
       "      <th></th>\n",
       "      <th>Activity Period</th>\n",
       "      <th>Operating Airline</th>\n",
       "      <th>Operating Airline IATA Code</th>\n",
       "      <th>Published Airline</th>\n",
       "      <th>Published Airline IATA Code</th>\n",
       "      <th>GEO Summary</th>\n",
       "      <th>GEO Region</th>\n",
       "      <th>Landing Aircraft Type</th>\n",
       "      <th>Aircraft Body Type</th>\n",
       "      <th>Aircraft Manufacturer</th>\n",
       "      <th>Aircraft Model</th>\n",
       "      <th>Aircraft Version</th>\n",
       "      <th>Landing Count</th>\n",
       "      <th>Total Landed Weight</th>\n",
       "    </tr>\n",
       "  </thead>\n",
       "  <tbody>\n",
       "    <tr>\n",
       "      <th>0</th>\n",
       "      <td>200507</td>\n",
       "      <td>ABX Air</td>\n",
       "      <td>GB</td>\n",
       "      <td>ABX Air</td>\n",
       "      <td>GB</td>\n",
       "      <td>Domestic</td>\n",
       "      <td>US</td>\n",
       "      <td>Freighter</td>\n",
       "      <td>Narrow Body</td>\n",
       "      <td>McDonnell Douglas</td>\n",
       "      <td>DC-9</td>\n",
       "      <td>30</td>\n",
       "      <td>40</td>\n",
       "      <td>4066000</td>\n",
       "    </tr>\n",
       "    <tr>\n",
       "      <th>1</th>\n",
       "      <td>200507</td>\n",
       "      <td>ABX Air</td>\n",
       "      <td>GB</td>\n",
       "      <td>ABX Air</td>\n",
       "      <td>GB</td>\n",
       "      <td>Domestic</td>\n",
       "      <td>US</td>\n",
       "      <td>Freighter</td>\n",
       "      <td>Narrow Body</td>\n",
       "      <td>McDonnell Douglas</td>\n",
       "      <td>DC-9</td>\n",
       "      <td>41</td>\n",
       "      <td>1</td>\n",
       "      <td>102000</td>\n",
       "    </tr>\n",
       "    <tr>\n",
       "      <th>2</th>\n",
       "      <td>200507</td>\n",
       "      <td>ATA Airlines</td>\n",
       "      <td>TZ</td>\n",
       "      <td>ATA Airlines</td>\n",
       "      <td>TZ</td>\n",
       "      <td>Domestic</td>\n",
       "      <td>US</td>\n",
       "      <td>Passenger</td>\n",
       "      <td>Narrow Body</td>\n",
       "      <td>Boeing</td>\n",
       "      <td>757</td>\n",
       "      <td>200</td>\n",
       "      <td>2</td>\n",
       "      <td>396000</td>\n",
       "    </tr>\n",
       "    <tr>\n",
       "      <th>3</th>\n",
       "      <td>200507</td>\n",
       "      <td>ATA Airlines</td>\n",
       "      <td>TZ</td>\n",
       "      <td>ATA Airlines</td>\n",
       "      <td>TZ</td>\n",
       "      <td>Domestic</td>\n",
       "      <td>US</td>\n",
       "      <td>Passenger</td>\n",
       "      <td>Narrow Body</td>\n",
       "      <td>Boeing</td>\n",
       "      <td>757</td>\n",
       "      <td>300</td>\n",
       "      <td>167</td>\n",
       "      <td>37408000</td>\n",
       "    </tr>\n",
       "    <tr>\n",
       "      <th>4</th>\n",
       "      <td>200507</td>\n",
       "      <td>Air Canada</td>\n",
       "      <td>AC</td>\n",
       "      <td>Air Canada</td>\n",
       "      <td>AC</td>\n",
       "      <td>International</td>\n",
       "      <td>Canada</td>\n",
       "      <td>Passenger</td>\n",
       "      <td>Wide Body</td>\n",
       "      <td>Boeing</td>\n",
       "      <td>767</td>\n",
       "      <td>333</td>\n",
       "      <td>1</td>\n",
       "      <td>320000</td>\n",
       "    </tr>\n",
       "    <tr>\n",
       "      <th>...</th>\n",
       "      <td>...</td>\n",
       "      <td>...</td>\n",
       "      <td>...</td>\n",
       "      <td>...</td>\n",
       "      <td>...</td>\n",
       "      <td>...</td>\n",
       "      <td>...</td>\n",
       "      <td>...</td>\n",
       "      <td>...</td>\n",
       "      <td>...</td>\n",
       "      <td>...</td>\n",
       "      <td>...</td>\n",
       "      <td>...</td>\n",
       "      <td>...</td>\n",
       "    </tr>\n",
       "    <tr>\n",
       "      <th>25127</th>\n",
       "      <td>202006</td>\n",
       "      <td>United Airlines</td>\n",
       "      <td>UA</td>\n",
       "      <td>United Airlines</td>\n",
       "      <td>UA</td>\n",
       "      <td>Domestic</td>\n",
       "      <td>US</td>\n",
       "      <td>Passenger</td>\n",
       "      <td>Wide Body</td>\n",
       "      <td>Boeing</td>\n",
       "      <td>B789</td>\n",
       "      <td>-</td>\n",
       "      <td>24</td>\n",
       "      <td>10200000</td>\n",
       "    </tr>\n",
       "    <tr>\n",
       "      <th>25128</th>\n",
       "      <td>202006</td>\n",
       "      <td>United Airlines</td>\n",
       "      <td>UA</td>\n",
       "      <td>United Airlines</td>\n",
       "      <td>UA</td>\n",
       "      <td>International</td>\n",
       "      <td>Asia</td>\n",
       "      <td>Passenger</td>\n",
       "      <td>Wide Body</td>\n",
       "      <td>Boeing</td>\n",
       "      <td>B789</td>\n",
       "      <td>-</td>\n",
       "      <td>56</td>\n",
       "      <td>23800000</td>\n",
       "    </tr>\n",
       "    <tr>\n",
       "      <th>25129</th>\n",
       "      <td>202006</td>\n",
       "      <td>United Airlines</td>\n",
       "      <td>UA</td>\n",
       "      <td>United Airlines</td>\n",
       "      <td>UA</td>\n",
       "      <td>International</td>\n",
       "      <td>Australia / Oceania</td>\n",
       "      <td>Passenger</td>\n",
       "      <td>Wide Body</td>\n",
       "      <td>Boeing</td>\n",
       "      <td>B789</td>\n",
       "      <td>-</td>\n",
       "      <td>30</td>\n",
       "      <td>12750000</td>\n",
       "    </tr>\n",
       "    <tr>\n",
       "      <th>25130</th>\n",
       "      <td>202006</td>\n",
       "      <td>United Airlines</td>\n",
       "      <td>UA</td>\n",
       "      <td>United Airlines</td>\n",
       "      <td>UA</td>\n",
       "      <td>International</td>\n",
       "      <td>Europe</td>\n",
       "      <td>Passenger</td>\n",
       "      <td>Wide Body</td>\n",
       "      <td>Boeing</td>\n",
       "      <td>B789</td>\n",
       "      <td>-</td>\n",
       "      <td>12</td>\n",
       "      <td>5100000</td>\n",
       "    </tr>\n",
       "    <tr>\n",
       "      <th>25131</th>\n",
       "      <td>202006</td>\n",
       "      <td>United Airlines</td>\n",
       "      <td>UA</td>\n",
       "      <td>United Airlines</td>\n",
       "      <td>UA</td>\n",
       "      <td>Domestic</td>\n",
       "      <td>US</td>\n",
       "      <td>Passenger</td>\n",
       "      <td>Wide Body</td>\n",
       "      <td>Boeing</td>\n",
       "      <td>B78X</td>\n",
       "      <td>-</td>\n",
       "      <td>22</td>\n",
       "      <td>9790000</td>\n",
       "    </tr>\n",
       "  </tbody>\n",
       "</table>\n",
       "<p>25132 rows × 14 columns</p>\n",
       "</div>"
      ],
      "text/plain": [
       "       Activity Period Operating Airline Operating Airline IATA Code  \\\n",
       "0               200507           ABX Air                          GB   \n",
       "1               200507           ABX Air                          GB   \n",
       "2               200507      ATA Airlines                          TZ   \n",
       "3               200507      ATA Airlines                          TZ   \n",
       "4               200507        Air Canada                          AC   \n",
       "...                ...               ...                         ...   \n",
       "25127           202006   United Airlines                          UA   \n",
       "25128           202006   United Airlines                          UA   \n",
       "25129           202006   United Airlines                          UA   \n",
       "25130           202006   United Airlines                          UA   \n",
       "25131           202006   United Airlines                          UA   \n",
       "\n",
       "      Published Airline Published Airline IATA Code    GEO Summary  \\\n",
       "0               ABX Air                          GB       Domestic   \n",
       "1               ABX Air                          GB       Domestic   \n",
       "2          ATA Airlines                          TZ       Domestic   \n",
       "3          ATA Airlines                          TZ       Domestic   \n",
       "4            Air Canada                          AC  International   \n",
       "...                 ...                         ...            ...   \n",
       "25127   United Airlines                          UA       Domestic   \n",
       "25128   United Airlines                          UA  International   \n",
       "25129   United Airlines                          UA  International   \n",
       "25130   United Airlines                          UA  International   \n",
       "25131   United Airlines                          UA       Domestic   \n",
       "\n",
       "                GEO Region Landing Aircraft Type Aircraft Body Type  \\\n",
       "0                       US             Freighter        Narrow Body   \n",
       "1                       US             Freighter        Narrow Body   \n",
       "2                       US             Passenger        Narrow Body   \n",
       "3                       US             Passenger        Narrow Body   \n",
       "4                   Canada             Passenger          Wide Body   \n",
       "...                    ...                   ...                ...   \n",
       "25127                   US             Passenger          Wide Body   \n",
       "25128                 Asia             Passenger          Wide Body   \n",
       "25129  Australia / Oceania             Passenger          Wide Body   \n",
       "25130               Europe             Passenger          Wide Body   \n",
       "25131                   US             Passenger          Wide Body   \n",
       "\n",
       "      Aircraft Manufacturer Aircraft Model Aircraft Version  Landing Count  \\\n",
       "0         McDonnell Douglas           DC-9               30             40   \n",
       "1         McDonnell Douglas           DC-9               41              1   \n",
       "2                    Boeing            757              200              2   \n",
       "3                    Boeing            757              300            167   \n",
       "4                    Boeing            767              333              1   \n",
       "...                     ...            ...              ...            ...   \n",
       "25127                Boeing           B789                -             24   \n",
       "25128                Boeing           B789                -             56   \n",
       "25129                Boeing           B789                -             30   \n",
       "25130                Boeing           B789                -             12   \n",
       "25131                Boeing           B78X                -             22   \n",
       "\n",
       "       Total Landed Weight  \n",
       "0                  4066000  \n",
       "1                   102000  \n",
       "2                   396000  \n",
       "3                 37408000  \n",
       "4                   320000  \n",
       "...                    ...  \n",
       "25127             10200000  \n",
       "25128             23800000  \n",
       "25129             12750000  \n",
       "25130              5100000  \n",
       "25131              9790000  \n",
       "\n",
       "[25132 rows x 14 columns]"
      ]
     },
     "execution_count": 3,
     "metadata": {},
     "output_type": "execute_result"
    }
   ],
   "source": [
    "aeropuertosfo"
   ]
  },
  {
   "cell_type": "markdown",
   "metadata": {},
   "source": [
    "### 1) ¿Cual es la aerolinea con mas aterrizajes en SFO desde Julio 2005 a Junio 2020?"
   ]
  },
  {
   "cell_type": "code",
   "execution_count": 4,
   "metadata": {},
   "outputs": [],
   "source": [
    "aerolineas = aeropuertosfo['Operating Airline'].unique()\n",
    "listaAterrizajes = []\n",
    "for aero in aerolineas:\n",
    "    datosaerolinea = aeropuertosfo[aeropuertosfo['Operating Airline']==aero]['Landing Count']   \n",
    "    sumaAterrizajes = datosaerolinea.sum()\n",
    "    listaAterrizajes.append(sumaAterrizajes)\n",
    "\n",
    "df = pd.DataFrame(listaAterrizajes,index=[aerolineas],columns=['Cantidad de Aterrizajes'])    "
   ]
  },
  {
   "cell_type": "code",
   "execution_count": 5,
   "metadata": {},
   "outputs": [
    {
     "data": {
      "text/html": [
       "<div>\n",
       "<style scoped>\n",
       "    .dataframe tbody tr th:only-of-type {\n",
       "        vertical-align: middle;\n",
       "    }\n",
       "\n",
       "    .dataframe tbody tr th {\n",
       "        vertical-align: top;\n",
       "    }\n",
       "\n",
       "    .dataframe thead th {\n",
       "        text-align: right;\n",
       "    }\n",
       "</style>\n",
       "<table border=\"1\" class=\"dataframe\">\n",
       "  <thead>\n",
       "    <tr style=\"text-align: right;\">\n",
       "      <th></th>\n",
       "      <th>Cantidad de Aterrizajes</th>\n",
       "    </tr>\n",
       "  </thead>\n",
       "  <tbody>\n",
       "    <tr>\n",
       "      <th>ABX Air</th>\n",
       "      <td>6622</td>\n",
       "    </tr>\n",
       "    <tr>\n",
       "      <th>ATA Airlines</th>\n",
       "      <td>1396</td>\n",
       "    </tr>\n",
       "    <tr>\n",
       "      <th>Air Canada</th>\n",
       "      <td>45808</td>\n",
       "    </tr>\n",
       "    <tr>\n",
       "      <th>Air China</th>\n",
       "      <td>5165</td>\n",
       "    </tr>\n",
       "    <tr>\n",
       "      <th>Air France</th>\n",
       "      <td>6465</td>\n",
       "    </tr>\n",
       "    <tr>\n",
       "      <th>...</th>\n",
       "      <td>...</td>\n",
       "    </tr>\n",
       "    <tr>\n",
       "      <th>Air Italy S.P.A</th>\n",
       "      <td>115</td>\n",
       "    </tr>\n",
       "    <tr>\n",
       "      <th>El Al Israel Airlines LTD.</th>\n",
       "      <td>120</td>\n",
       "    </tr>\n",
       "    <tr>\n",
       "      <th>TAP Air Portugal</th>\n",
       "      <td>174</td>\n",
       "    </tr>\n",
       "    <tr>\n",
       "      <th>Norwegian Air Shuttle ASA</th>\n",
       "      <td>82</td>\n",
       "    </tr>\n",
       "    <tr>\n",
       "      <th>Air Transport International, Inc.</th>\n",
       "      <td>229</td>\n",
       "    </tr>\n",
       "  </tbody>\n",
       "</table>\n",
       "<p>113 rows × 1 columns</p>\n",
       "</div>"
      ],
      "text/plain": [
       "                                   Cantidad de Aterrizajes\n",
       "ABX Air                                               6622\n",
       "ATA Airlines                                          1396\n",
       "Air Canada                                           45808\n",
       "Air China                                             5165\n",
       "Air France                                            6465\n",
       "...                                                    ...\n",
       "Air Italy S.P.A                                        115\n",
       "El Al Israel Airlines LTD.                             120\n",
       "TAP Air Portugal                                       174\n",
       "Norwegian Air Shuttle ASA                               82\n",
       "Air Transport International, Inc.                      229\n",
       "\n",
       "[113 rows x 1 columns]"
      ]
     },
     "execution_count": 5,
     "metadata": {},
     "output_type": "execute_result"
    }
   ],
   "source": [
    "df"
   ]
  },
  {
   "cell_type": "code",
   "execution_count": 6,
   "metadata": {},
   "outputs": [
    {
     "data": {
      "text/html": [
       "<div>\n",
       "<style scoped>\n",
       "    .dataframe tbody tr th:only-of-type {\n",
       "        vertical-align: middle;\n",
       "    }\n",
       "\n",
       "    .dataframe tbody tr th {\n",
       "        vertical-align: top;\n",
       "    }\n",
       "\n",
       "    .dataframe thead th {\n",
       "        text-align: right;\n",
       "    }\n",
       "</style>\n",
       "<table border=\"1\" class=\"dataframe\">\n",
       "  <thead>\n",
       "    <tr style=\"text-align: right;\">\n",
       "      <th></th>\n",
       "      <th>Cantidad de Aterrizajes</th>\n",
       "    </tr>\n",
       "  </thead>\n",
       "  <tbody>\n",
       "    <tr>\n",
       "      <th>SkyWest Airlines</th>\n",
       "      <td>639144</td>\n",
       "    </tr>\n",
       "  </tbody>\n",
       "</table>\n",
       "</div>"
      ],
      "text/plain": [
       "                  Cantidad de Aterrizajes\n",
       "SkyWest Airlines                   639144"
      ]
     },
     "execution_count": 6,
     "metadata": {},
     "output_type": "execute_result"
    }
   ],
   "source": [
    "df[df['Cantidad de Aterrizajes'] == df['Cantidad de Aterrizajes'].max()]"
   ]
  },
  {
   "cell_type": "markdown",
   "metadata": {},
   "source": [
    "### 2) ¿Que tipo de avion mas opera en SFO (Pasajeros, carguero o combinado)?"
   ]
  },
  {
   "cell_type": "code",
   "execution_count": 7,
   "metadata": {},
   "outputs": [
    {
     "data": {
      "text/plain": [
       "Text(0, 0.5, 'Cantidad de vuelos')"
      ]
     },
     "execution_count": 7,
     "metadata": {},
     "output_type": "execute_result"
    },
    {
     "data": {
      "image/png": "[encoded data removed]",
      "text/plain": [
       "<Figure size 432x288 with 1 Axes>"
      ]
     },
     "metadata": {
      "needs_background": "light"
     },
     "output_type": "display_data"
    }
   ],
   "source": [
    "valores = aeropuertosfo['Landing Aircraft Type'].value_counts()\n",
    "\n",
    "valores.plot.bar()\n",
    "plt.title(\"¿Cuál es el tipo de vuelo que mas opera en SFO?\")\n",
    "plt.xlabel(\"Tipo de vuelo\")\n",
    "plt.ylabel(\"Cantidad de vuelos\")\n"
   ]
  },
  {
   "cell_type": "markdown",
   "metadata": {},
   "source": [
    "### 3) ¿Cuál es el fabricante de avion que mas opera en SFO?"
   ]
  },
  {
   "cell_type": "code",
   "execution_count": 8,
   "metadata": {},
   "outputs": [
    {
     "data": {
      "text/plain": [
       "<matplotlib.axes._subplots.AxesSubplot at 0x149d27aa248>"
      ]
     },
     "execution_count": 8,
     "metadata": {},
     "output_type": "execute_result"
    },
    {
     "data": {
      "image/png": "[encoded data removed]",
      "text/plain": [
       "<Figure size 432x288 with 1 Axes>"
      ]
     },
     "metadata": {
      "needs_background": "light"
     },
     "output_type": "display_data"
    }
   ],
   "source": [
    "fabricantesValores = aeropuertosfo['Aircraft Manufacturer'].value_counts()\n",
    "\n",
    "fabricantesValores.plot.barh()"
   ]
  },
  {
   "cell_type": "markdown",
   "metadata": {},
   "source": [
    "#### 4) ¿Qué modelo de avion realizó mas aterrizajes en SFO?"
   ]
  },
  {
   "cell_type": "code",
   "execution_count": 9,
   "metadata": {},
   "outputs": [
    {
     "data": {
      "text/html": [
       "<div>\n",
       "<style scoped>\n",
       "    .dataframe tbody tr th:only-of-type {\n",
       "        vertical-align: middle;\n",
       "    }\n",
       "\n",
       "    .dataframe tbody tr th {\n",
       "        vertical-align: top;\n",
       "    }\n",
       "\n",
       "    .dataframe thead th {\n",
       "        text-align: right;\n",
       "    }\n",
       "</style>\n",
       "<table border=\"1\" class=\"dataframe\">\n",
       "  <thead>\n",
       "    <tr style=\"text-align: right;\">\n",
       "      <th></th>\n",
       "      <th>Cantidad</th>\n",
       "    </tr>\n",
       "  </thead>\n",
       "  <tbody>\n",
       "    <tr>\n",
       "      <th>737</th>\n",
       "      <td>3134</td>\n",
       "    </tr>\n",
       "  </tbody>\n",
       "</table>\n",
       "</div>"
      ],
      "text/plain": [
       "     Cantidad\n",
       "737      3134"
      ]
     },
     "execution_count": 9,
     "metadata": {},
     "output_type": "execute_result"
    }
   ],
   "source": [
    "modelosValores = aeropuertosfo['Aircraft Model'].value_counts().to_frame('Cantidad')\n",
    "\n",
    "modelosValores.head(1)"
   ]
  },
  {
   "cell_type": "markdown",
   "metadata": {},
   "source": [
    "### 5) ¿Cuál es la zona que mas vuelos tiene al aeropuerto SFO?"
   ]
  },
  {
   "cell_type": "code",
   "execution_count": 10,
   "metadata": {},
   "outputs": [
    {
     "data": {
      "text/plain": [
       "<matplotlib.axes._subplots.AxesSubplot at 0x149d2f5f6c8>"
      ]
     },
     "execution_count": 10,
     "metadata": {},
     "output_type": "execute_result"
    },
    {
     "data": {
      "image/png": "[encoded data removed]",
      "text/plain": [
       "<Figure size 1800x936 with 1 Axes>"
      ]
     },
     "metadata": {},
     "output_type": "display_data"
    }
   ],
   "source": [
    "region = aeropuertosfo['GEO Region'].value_counts()\n",
    "\n",
    "#region.plot.barh()\n",
    "region.plot(figsize=(25,13))\n",
    "region.plot.pie()"
   ]
  },
  {
   "cell_type": "markdown",
   "metadata": {},
   "source": [
    "### 6) Información del vuelo que menos carga transportó a SFO"
   ]
  },
  {
   "cell_type": "code",
   "execution_count": 11,
   "metadata": {},
   "outputs": [
    {
     "data": {
      "text/html": [
       "<div>\n",
       "<style scoped>\n",
       "    .dataframe tbody tr th:only-of-type {\n",
       "        vertical-align: middle;\n",
       "    }\n",
       "\n",
       "    .dataframe tbody tr th {\n",
       "        vertical-align: top;\n",
       "    }\n",
       "\n",
       "    .dataframe thead th {\n",
       "        text-align: right;\n",
       "    }\n",
       "</style>\n",
       "<table border=\"1\" class=\"dataframe\">\n",
       "  <thead>\n",
       "    <tr style=\"text-align: right;\">\n",
       "      <th></th>\n",
       "      <th>Activity Period</th>\n",
       "      <th>Operating Airline</th>\n",
       "      <th>Operating Airline IATA Code</th>\n",
       "      <th>Published Airline</th>\n",
       "      <th>Published Airline IATA Code</th>\n",
       "      <th>GEO Summary</th>\n",
       "      <th>GEO Region</th>\n",
       "      <th>Landing Aircraft Type</th>\n",
       "      <th>Aircraft Body Type</th>\n",
       "      <th>Aircraft Manufacturer</th>\n",
       "      <th>Aircraft Model</th>\n",
       "      <th>Aircraft Version</th>\n",
       "      <th>Landing Count</th>\n",
       "      <th>Total Landed Weight</th>\n",
       "    </tr>\n",
       "  </thead>\n",
       "  <tbody>\n",
       "    <tr>\n",
       "      <th>20734</th>\n",
       "      <td>201801</td>\n",
       "      <td>Redding Aero Enterprises</td>\n",
       "      <td>bxr</td>\n",
       "      <td>Redding Aero Enterprises</td>\n",
       "      <td>bxr</td>\n",
       "      <td>Domestic</td>\n",
       "      <td>US</td>\n",
       "      <td>Freighter</td>\n",
       "      <td>Turbo Prop</td>\n",
       "      <td>Cessna</td>\n",
       "      <td>C402</td>\n",
       "      <td>-</td>\n",
       "      <td>1</td>\n",
       "      <td>6850</td>\n",
       "    </tr>\n",
       "  </tbody>\n",
       "</table>\n",
       "</div>"
      ],
      "text/plain": [
       "       Activity Period         Operating Airline Operating Airline IATA Code  \\\n",
       "20734           201801  Redding Aero Enterprises                         bxr   \n",
       "\n",
       "              Published Airline Published Airline IATA Code GEO Summary  \\\n",
       "20734  Redding Aero Enterprises                         bxr    Domestic   \n",
       "\n",
       "      GEO Region Landing Aircraft Type Aircraft Body Type  \\\n",
       "20734         US             Freighter         Turbo Prop   \n",
       "\n",
       "      Aircraft Manufacturer Aircraft Model Aircraft Version  Landing Count  \\\n",
       "20734                Cessna           C402                -              1   \n",
       "\n",
       "       Total Landed Weight  \n",
       "20734                 6850  "
      ]
     },
     "execution_count": 11,
     "metadata": {},
     "output_type": "execute_result"
    }
   ],
   "source": [
    "aeropuertosfo[aeropuertosfo['Total Landed Weight'] == aeropuertosfo['Total Landed Weight'].min()]"
   ]
  },
  {
   "cell_type": "code",
   "execution_count": 12,
   "metadata": {},
   "outputs": [
    {
     "name": "stdout",
     "output_type": "stream",
     "text": [
      "El peso de carga de este vuelo en toneladas fue de: 3.11\n"
     ]
    }
   ],
   "source": [
    "peso = aeropuertosfo['Total Landed Weight'].min()\n",
    "\n",
    "pesoTonelada = float(peso / 2205)\n",
    "\n",
    "print(\"El peso de carga de este vuelo en toneladas fue de:\", \"{:.2f}\".format(pesoTonelada))"
   ]
  },
  {
   "cell_type": "markdown",
   "metadata": {},
   "source": [
    "### 7) Información del mes y aerolinea que mas carga transportó a SFO"
   ]
  },
  {
   "cell_type": "code",
   "execution_count": 13,
   "metadata": {},
   "outputs": [
    {
     "data": {
      "text/html": [
       "<div>\n",
       "<style scoped>\n",
       "    .dataframe tbody tr th:only-of-type {\n",
       "        vertical-align: middle;\n",
       "    }\n",
       "\n",
       "    .dataframe tbody tr th {\n",
       "        vertical-align: top;\n",
       "    }\n",
       "\n",
       "    .dataframe thead th {\n",
       "        text-align: right;\n",
       "    }\n",
       "</style>\n",
       "<table border=\"1\" class=\"dataframe\">\n",
       "  <thead>\n",
       "    <tr style=\"text-align: right;\">\n",
       "      <th></th>\n",
       "      <th>Activity Period</th>\n",
       "      <th>Operating Airline</th>\n",
       "      <th>Operating Airline IATA Code</th>\n",
       "      <th>Published Airline</th>\n",
       "      <th>Published Airline IATA Code</th>\n",
       "      <th>GEO Summary</th>\n",
       "      <th>GEO Region</th>\n",
       "      <th>Landing Aircraft Type</th>\n",
       "      <th>Aircraft Body Type</th>\n",
       "      <th>Aircraft Manufacturer</th>\n",
       "      <th>Aircraft Model</th>\n",
       "      <th>Aircraft Version</th>\n",
       "      <th>Landing Count</th>\n",
       "      <th>Total Landed Weight</th>\n",
       "    </tr>\n",
       "  </thead>\n",
       "  <tbody>\n",
       "    <tr>\n",
       "      <th>23752</th>\n",
       "      <td>201908</td>\n",
       "      <td>United Airlines</td>\n",
       "      <td>UA</td>\n",
       "      <td>United Airlines</td>\n",
       "      <td>UA</td>\n",
       "      <td>Domestic</td>\n",
       "      <td>US</td>\n",
       "      <td>Passenger</td>\n",
       "      <td>Narrow Body</td>\n",
       "      <td>Airbus</td>\n",
       "      <td>A320</td>\n",
       "      <td>-</td>\n",
       "      <td>1958</td>\n",
       "      <td>275840010</td>\n",
       "    </tr>\n",
       "  </tbody>\n",
       "</table>\n",
       "</div>"
      ],
      "text/plain": [
       "       Activity Period Operating Airline Operating Airline IATA Code  \\\n",
       "23752           201908   United Airlines                          UA   \n",
       "\n",
       "      Published Airline Published Airline IATA Code GEO Summary GEO Region  \\\n",
       "23752   United Airlines                          UA    Domestic         US   \n",
       "\n",
       "      Landing Aircraft Type Aircraft Body Type Aircraft Manufacturer  \\\n",
       "23752             Passenger        Narrow Body                Airbus   \n",
       "\n",
       "      Aircraft Model Aircraft Version  Landing Count  Total Landed Weight  \n",
       "23752           A320                -           1958            275840010  "
      ]
     },
     "execution_count": 13,
     "metadata": {},
     "output_type": "execute_result"
    }
   ],
   "source": [
    "aeropuertosfo[aeropuertosfo['Total Landed Weight'] == aeropuertosfo['Total Landed Weight'].max()]"
   ]
  },
  {
   "cell_type": "code",
   "execution_count": 14,
   "metadata": {},
   "outputs": [
    {
     "name": "stdout",
     "output_type": "stream",
     "text": [
      "El peso de carga de estos vuelos en toneladas fue de: 125097.51\n"
     ]
    }
   ],
   "source": [
    "peso = aeropuertosfo['Total Landed Weight'].max()\n",
    "\n",
    "pesoTonelada = float(peso / 2205)\n",
    "\n",
    "print(\"El peso de carga de estos vuelos en toneladas fue de:\", \"{:.2f}\".format(pesoTonelada))"
   ]
  },
  {
   "cell_type": "code",
   "execution_count": null,
   "metadata": {},
   "outputs": [],
   "source": []
  },
  {
   "cell_type": "code",
   "execution_count": null,
   "metadata": {},
   "outputs": [],
   "source": []
  }
 ],
 "metadata": {
  "kernelspec": {
   "display_name": "Python 3",
   "language": "python",
   "name": "python3"
  },
  "language_info": {
   "codemirror_mode": {
    "name": "ipython",
    "version": 3
   },
   "file_extension": ".py",
   "mimetype": "text/x-python",
   "name": "python",
   "nbconvert_exporter": "python",
   "pygments_lexer": "ipython3",
   "version": "3.8.5"
  }
 },
 "nbformat": 4,
 "nbformat_minor": 4
}
